{
 "cells": [
  {
   "cell_type": "code",
   "execution_count": 1,
   "metadata": {
    "collapsed": true
   },
   "outputs": [],
   "source": [
    "import pandas as pd\n",
    "import numpy as np\n",
    "import matplotlib.pyplot as plt\n",
    "import seaborn as sns\n",
    "from sklearn.feature_selection import SelectKBest, SelectFromModel\n",
    "from sklearn.feature_selection import chi2\n",
    "from sklearn import preprocessing\n",
    "from sklearn.ensemble import ExtraTreesClassifier\n",
    "%matplotlib inline"
   ]
  },
  {
   "cell_type": "code",
   "execution_count": 198,
   "metadata": {
    "collapsed": true
   },
   "outputs": [],
   "source": [
    "sns.set_style('whitegrid')\n",
    "train_data = pd.read_csv('E:/pnk/kaggle_credit/application_train.csv')\n",
    "test_data = pd.read_csv('E:/pnk/kaggle_credit/application_test.csv')"
   ]
  },
  {
   "cell_type": "markdown",
   "metadata": {},
   "source": [
    "# 数据不平衡，重采样\n"
   ]
  },
  {
   "cell_type": "code",
   "execution_count": 199,
   "metadata": {},
   "outputs": [
    {
     "name": "stdout",
     "output_type": "stream",
     "text": [
      "24825 282686\n"
     ]
    }
   ],
   "source": [
    "print (train_data['TARGET'].sum(), len(train_data)-train_data['TARGET'].sum())"
   ]
  },
  {
   "cell_type": "code",
   "execution_count": 200,
   "metadata": {
    "collapsed": true
   },
   "outputs": [],
   "source": [
    "np.random.seed(1)\n",
    "safe_data = train_data[train_data['TARGET']==0]\n",
    "bad_data = train_data[train_data['TARGET']==1]\n",
    "safe_part_index = np.random.randint(low=0, high=len(safe_data),size=99300)\n",
    "safe_data.reset_index(drop=True,inplace=True)\n",
    "safe_data = safe_data.loc[safe_part_index]\n",
    "bad_data = pd.concat([bad_data,bad_data,bad_data,bad_data])\n",
    "bad_data.reset_index(drop=True,inplace=True)"
   ]
  },
  {
   "cell_type": "code",
   "execution_count": 201,
   "metadata": {},
   "outputs": [
    {
     "name": "stdout",
     "output_type": "stream",
     "text": [
      "99300 99300\n"
     ]
    }
   ],
   "source": [
    "print (len(safe_data),len(bad_data))"
   ]
  },
  {
   "cell_type": "code",
   "execution_count": 202,
   "metadata": {
    "collapsed": true
   },
   "outputs": [],
   "source": [
    "train_data = pd.concat([safe_data,bad_data])\n",
    "train_data.reset_index(drop=True,inplace=True)"
   ]
  },
  {
   "cell_type": "markdown",
   "metadata": {},
   "source": [
    "# drop掉50%以上缺失字段+label encoding"
   ]
  },
  {
   "cell_type": "code",
   "execution_count": 203,
   "metadata": {},
   "outputs": [
    {
     "data": {
      "text/plain": [
       "float64    65\n",
       "int64      41\n",
       "object     16\n",
       "dtype: int64"
      ]
     },
     "execution_count": 203,
     "metadata": {},
     "output_type": "execute_result"
    }
   ],
   "source": [
    "train_data.dtypes.value_counts()"
   ]
  },
  {
   "cell_type": "code",
   "execution_count": 204,
   "metadata": {},
   "outputs": [],
   "source": [
    "num_variables = []\n",
    "cat_variables = []\n",
    "for col in train_data.columns:\n",
    "    if train_data[col].dtype=='object':\n",
    "        cat_variables.append(col)\n",
    "    else:\n",
    "        num_variables.append(col)"
   ]
  },
  {
   "cell_type": "code",
   "execution_count": 205,
   "metadata": {},
   "outputs": [],
   "source": [
    "num_dict = {}\n",
    "for col in num_variables:\n",
    "    num_dict[col] = train_data[col].count()/len(train_data)\n",
    "for k, v in num_dict.items():\n",
    "    if v < 0.5:\n",
    "        train_data.drop(labels=k,axis=1,inplace=True)\n",
    "        test_data.drop(labels=k,axis=1,inplace=True)"
   ]
  },
  {
   "cell_type": "code",
   "execution_count": 206,
   "metadata": {},
   "outputs": [
    {
     "name": "stdout",
     "output_type": "stream",
     "text": [
      "['NAME_CONTRACT_TYPE', 'CODE_GENDER', 'FLAG_OWN_CAR', 'FLAG_OWN_REALTY', 'EMERGENCYSTATE_MODE']\n"
     ]
    }
   ],
   "source": [
    "lb_cols = []\n",
    "for col in cat_variables:\n",
    "    if train_data[col].nunique() <= 2:\n",
    "        lb_cols.append(col)\n",
    "print(lb_cols)"
   ]
  },
  {
   "cell_type": "code",
   "execution_count": 207,
   "metadata": {},
   "outputs": [
    {
     "name": "stdout",
     "output_type": "stream",
     "text": [
      "5 columns were label encoded.\n"
     ]
    }
   ],
   "source": [
    "# Create a label encoder objectcat_variables\n",
    "le = preprocessing.LabelEncoder()\n",
    "le_count = 0\n",
    "\n",
    "# Iterate through the columns\n",
    "for col in lb_cols:\n",
    "    # Train on the training data\n",
    "    train_data[col] = train_data[col].fillna('NAN')\n",
    "    test_data[col] = test_data[col].fillna('NAN')\n",
    "    le.fit(train_data[col])\n",
    "    # Transform both training and testing data\n",
    "    train_data[col] = le.transform(train_data[col])\n",
    "    test_data[col] = le.transform(test_data[col])\n",
    "    # Keep track of how many columns were label encoded\n",
    "    le_count += 1\n",
    "            \n",
    "print('%d columns were label encoded.' % le_count)"
   ]
  },
  {
   "cell_type": "markdown",
   "metadata": {},
   "source": [
    "# 独热编码方法"
   ]
  },
  {
   "cell_type": "code",
   "execution_count": 97,
   "metadata": {
    "collapsed": true
   },
   "outputs": [],
   "source": [
    "first_chi2cols = ['NAME_CONTRACT_TYPE','CODE_GENDER','FLAG_OWN_CAR','FLAG_OWN_REALTY','NAME_TYPE_SUITE','NAME_INCOME_TYPE'\n",
    "                 ,'NAME_EDUCATION_TYPE','NAME_FAMILY_STATUS','NAME_HOUSING_TYPE','OCCUPATION_TYPE','WEEKDAY_APPR_PROCESS_START'\n",
    "                 ,'ORGANIZATION_TYPE','FLAG_MOBIL','FLAG_EMP_PHONE','FLAG_WORK_PHONE','FLAG_CONT_MOBILE','FLAG_PHONE'\n",
    "                 ,'FLAG_EMAIL','REGION_RATING_CLIENT','REGION_RATING_CLIENT_W_CITY','REG_REGION_NOT_LIVE_REGION'\n",
    "                 ,'REG_REGION_NOT_WORK_REGION','LIVE_REGION_NOT_WORK_REGION','REG_CITY_NOT_LIVE_CITY'\n",
    "                 ,'REG_CITY_NOT_WORK_CITY','LIVE_CITY_NOT_WORK_CITY','FLAG_DOCUMENT_2','FLAG_DOCUMENT_3'\n",
    "                 ,'FLAG_DOCUMENT_4','FLAG_DOCUMENT_5','FLAG_DOCUMENT_6','FLAG_DOCUMENT_7'\n",
    "                 ,'FLAG_DOCUMENT_8','FLAG_DOCUMENT_9','FLAG_DOCUMENT_10','FLAG_DOCUMENT_11'\n",
    "                 ,'FLAG_DOCUMENT_12','FLAG_DOCUMENT_13','FLAG_DOCUMENT_14','FLAG_DOCUMENT_15'\n",
    "                 ,'FLAG_DOCUMENT_16','FLAG_DOCUMENT_17','FLAG_DOCUMENT_18','FLAG_DOCUMENT_19'\n",
    "                 ,'FLAG_DOCUMENT_20','FLAG_DOCUMENT_21']\n",
    "dummy_features = ['NAME_CONTRACT_TYPE','CODE_GENDER','FLAG_OWN_CAR','FLAG_OWN_REALTY','NAME_TYPE_SUITE',\n",
    "                  'NAME_INCOME_TYPE','NAME_EDUCATION_TYPE','NAME_FAMILY_STATUS','NAME_HOUSING_TYPE','OCCUPATION_TYPE',\n",
    "                 'WEEKDAY_APPR_PROCESS_START','ORGANIZATION_TYPE']\n",
    "def get_cat_dummy(origin_data, dummy_features):\n",
    "    return pd.get_dummies(origin_data, prefix=dummy_features, columns=dummy_features)\n",
    "def get_cat_features(origin_data, cat_features, dummy_features, k=15):\n",
    "    model_chi = SelectKBest(chi2, k=k)\n",
    "    chi_data = origin_data[cat_features]\n",
    "    chi_target = origin_data['TARGET']\n",
    "    chi_matrix = get_cat_dummy(chi_data, dummy_features)\n",
    "    model_chi.fit(chi_matrix, chi_target)\n",
    "    return chi_matrix.columns[model_chi.pvalues_.argsort()[0:k]]"
   ]
  },
  {
   "cell_type": "markdown",
   "metadata": {},
   "source": [
    "# 分类变量单独做卡方检验"
   ]
  },
  {
   "cell_type": "code",
   "execution_count": 98,
   "metadata": {},
   "outputs": [
    {
     "data": {
      "text/plain": [
       "Index(['NAME_EDUCATION_TYPE_Higher education', 'NAME_INCOME_TYPE_Pensioner',\n",
       "       'ORGANIZATION_TYPE_XNA', 'REG_CITY_NOT_WORK_CITY', 'CODE_GENDER_M',\n",
       "       'NAME_INCOME_TYPE_Working', 'REG_CITY_NOT_LIVE_CITY',\n",
       "       'OCCUPATION_TYPE_Laborers', 'CODE_GENDER_F',\n",
       "       'NAME_CONTRACT_TYPE_Revolving loans', 'FLAG_DOCUMENT_6',\n",
       "       'LIVE_CITY_NOT_WORK_CITY', 'OCCUPATION_TYPE_Drivers',\n",
       "       'NAME_EDUCATION_TYPE_Secondary / secondary special',\n",
       "       'NAME_HOUSING_TYPE_With parents', 'NAME_INCOME_TYPE_State servant',\n",
       "       'ORGANIZATION_TYPE_Self-employed', 'FLAG_WORK_PHONE', 'FLAG_DOCUMENT_3',\n",
       "       'NAME_FAMILY_STATUS_Single / not married',\n",
       "       'OCCUPATION_TYPE_Accountants', 'NAME_FAMILY_STATUS_Civil marriage',\n",
       "       'OCCUPATION_TYPE_Low-skill Laborers', 'OCCUPATION_TYPE_Managers',\n",
       "       'REGION_RATING_CLIENT_W_CITY', 'REGION_RATING_CLIENT',\n",
       "       'ORGANIZATION_TYPE_Construction', 'FLAG_EMP_PHONE',\n",
       "       'OCCUPATION_TYPE_Core staff',\n",
       "       'ORGANIZATION_TYPE_Business Entity Type 3'],\n",
       "      dtype='object')"
      ]
     },
     "execution_count": 98,
     "metadata": {},
     "output_type": "execute_result"
    }
   ],
   "source": [
    "get_cat_features(train_data, first_chi2cols, dummy_features, k=30)"
   ]
  },
  {
   "cell_type": "markdown",
   "metadata": {},
   "source": [
    "# 连续变量补缺"
   ]
  },
  {
   "cell_type": "code",
   "execution_count": 99,
   "metadata": {
    "collapsed": true
   },
   "outputs": [],
   "source": [
    "first_ctcols = ['CNT_CHILDREN','AMT_INCOME_TOTAL','AMT_CREDIT','AMT_ANNUITY','AMT_GOODS_PRICE',\n",
    "                'REGION_POPULATION_RELATIVE','DAYS_BIRTH','DAYS_EMPLOYED','DAYS_REGISTRATION','DAYS_ID_PUBLISH',\n",
    "                'CNT_FAM_MEMBERS','HOUR_APPR_PROCESS_START','EXT_SOURCE_2','OBS_30_CNT_SOCIAL_CIRCLE',\n",
    "                'DEF_30_CNT_SOCIAL_CIRCLE','OBS_60_CNT_SOCIAL_CIRCLE','DEF_60_CNT_SOCIAL_CIRCLE','DAYS_LAST_PHONE_CHANGE',\n",
    "                'AMT_REQ_CREDIT_BUREAU_HOUR','AMT_REQ_CREDIT_BUREAU_DAY','AMT_REQ_CREDIT_BUREAU_WEEK',\n",
    "                'AMT_REQ_CREDIT_BUREAU_MON','AMT_REQ_CREDIT_BUREAU_QRT']\n",
    "features = []\n",
    "features.extend(first_chi2cols)\n",
    "features.extend(first_ctcols)\n",
    "features = list(set(features))"
   ]
  },
  {
   "cell_type": "code",
   "execution_count": 100,
   "metadata": {
    "collapsed": true
   },
   "outputs": [],
   "source": [
    "train_data['NAME_TYPE_SUITE'] = train_data['NAME_TYPE_SUITE'].fillna('Nodata')\n",
    "train_data['OCCUPATION_TYPE'] = train_data['OCCUPATION_TYPE'].fillna('Nodata')\n",
    "train_data['OWN_CAR_AGE'] = train_data['OWN_CAR_AGE'].fillna(-100)\n",
    "fillmid_cols = ['AMT_ANNUITY','AMT_GOODS_PRICE','CNT_FAM_MEMBERS','EXT_SOURCE_2',\n",
    "               'OBS_30_CNT_SOCIAL_CIRCLE','DEF_30_CNT_SOCIAL_CIRCLE','OBS_60_CNT_SOCIAL_CIRCLE','DEF_60_CNT_SOCIAL_CIRCLE',\n",
    "               'DAYS_LAST_PHONE_CHANGE','AMT_REQ_CREDIT_BUREAU_HOUR','AMT_REQ_CREDIT_BUREAU_DAY','AMT_REQ_CREDIT_BUREAU_WEEK',\n",
    "               'AMT_REQ_CREDIT_BUREAU_MON','AMT_REQ_CREDIT_BUREAU_QRT']\n",
    "def fill_withmid(origin_data, fillmid_cols):\n",
    "    for i in fillmid_cols:\n",
    "        mid_value = origin_data[i].quantile(.5)\n",
    "        origin_data[i].fillna(mid_value,inplace=True)\n",
    "    return\n",
    "fill_withmid(train_data, fillmid_cols)"
   ]
  },
  {
   "cell_type": "code",
   "execution_count": 101,
   "metadata": {
    "collapsed": true
   },
   "outputs": [],
   "source": [
    "test_data['NAME_TYPE_SUITE'] = test_data['NAME_TYPE_SUITE'].fillna('Nodata')\n",
    "test_data['OCCUPATION_TYPE'] = test_data['OCCUPATION_TYPE'].fillna('Nodata')\n",
    "test_data['OWN_CAR_AGE'] = test_data['OWN_CAR_AGE'].fillna(-100)\n",
    "fill_withmid(test_data, fillmid_cols)"
   ]
  },
  {
   "cell_type": "code",
   "execution_count": 102,
   "metadata": {
    "collapsed": true
   },
   "outputs": [],
   "source": [
    "train_x=train_data[features]\n",
    "train_y=train_data['TARGET']"
   ]
  },
  {
   "cell_type": "code",
   "execution_count": 103,
   "metadata": {
    "collapsed": true
   },
   "outputs": [],
   "source": [
    "test_x=test_data[features]"
   ]
  },
  {
   "cell_type": "markdown",
   "metadata": {},
   "source": [
    "# 独热编码"
   ]
  },
  {
   "cell_type": "code",
   "execution_count": 104,
   "metadata": {
    "collapsed": true
   },
   "outputs": [],
   "source": [
    "train_x = get_cat_dummy(train_x, dummy_features)"
   ]
  },
  {
   "cell_type": "code",
   "execution_count": 105,
   "metadata": {
    "collapsed": true
   },
   "outputs": [],
   "source": [
    "test_x = get_cat_dummy(test_x, dummy_features)"
   ]
  },
  {
   "cell_type": "code",
   "execution_count": 106,
   "metadata": {},
   "outputs": [
    {
     "name": "stdout",
     "output_type": "stream",
     "text": [
      "Feature ranking:\n",
      "1. feature 37 (0.058736)\n",
      "2. feature 48 (0.031231)\n",
      "3. feature 18 (0.029571)\n",
      "4. feature 23 (0.028970)\n",
      "5. feature 42 (0.027448)\n",
      "6. feature 19 (0.027382)\n",
      "7. feature 21 (0.026920)\n",
      "8. feature 43 (0.026312)\n",
      "9. feature 26 (0.026061)\n",
      "10. feature 45 (0.025721)\n",
      "11. feature 6 (0.025395)\n",
      "12. feature 7 (0.024745)\n",
      "13. feature 27 (0.020267)\n",
      "14. feature 54 (0.019988)\n",
      "15. feature 50 (0.016485)\n",
      "16. feature 1 (0.014179)\n",
      "17. feature 14 (0.013644)\n",
      "18. feature 31 (0.013502)\n",
      "19. feature 10 (0.012142)\n",
      "20. feature 121 (0.011725)\n",
      "21. feature 122 (0.011675)\n",
      "22. feature 63 (0.011500)\n",
      "23. feature 64 (0.011481)\n",
      "24. feature 120 (0.011359)\n",
      "25. feature 117 (0.011355)\n",
      "26. feature 116 (0.011326)\n",
      "27. feature 53 (0.011139)\n",
      "28. feature 4 (0.011125)\n",
      "29. feature 128 (0.010859)\n",
      "30. feature 87 (0.010816)\n",
      "31. feature 29 (0.010756)\n",
      "32. feature 72 (0.010402)\n",
      "33. feature 20 (0.010026)\n",
      "34. feature 118 (0.009463)\n",
      "35. feature 0 (0.009077)\n",
      "36. feature 66 (0.008957)\n",
      "37. feature 80 (0.008771)\n",
      "38. feature 165 (0.008573)\n",
      "39. feature 105 (0.008504)\n",
      "40. feature 109 (0.008332)\n",
      "41. feature 85 (0.008287)\n",
      "42. feature 46 (0.008117)\n",
      "43. feature 82 (0.008049)\n",
      "44. feature 89 (0.007909)\n",
      "45. feature 25 (0.007632)\n",
      "46. feature 61 (0.007615)\n",
      "47. feature 62 (0.007537)\n",
      "48. feature 92 (0.007244)\n",
      "49. feature 86 (0.007190)\n",
      "50. feature 60 (0.006605)\n",
      "51. feature 17 (0.006573)\n",
      "52. feature 38 (0.006565)\n",
      "53. feature 112 (0.006551)\n",
      "54. feature 74 (0.006496)\n",
      "55. feature 119 (0.006326)\n",
      "56. feature 24 (0.006054)\n",
      "57. feature 59 (0.005885)\n",
      "58. feature 156 (0.005807)\n",
      "59. feature 88 (0.005753)\n",
      "60. feature 100 (0.005566)\n",
      "61. feature 107 (0.005044)\n",
      "62. feature 127 (0.004633)\n",
      "63. feature 52 (0.004539)\n",
      "64. feature 96 (0.004388)\n",
      "65. feature 101 (0.004378)\n",
      "66. feature 71 (0.004309)\n",
      "67. feature 39 (0.004257)\n",
      "68. feature 134 (0.004130)\n",
      "69. feature 103 (0.004105)\n",
      "70. feature 93 (0.003873)\n",
      "71. feature 11 (0.003816)\n",
      "72. feature 90 (0.003725)\n",
      "73. feature 77 (0.003716)\n",
      "74. feature 174 (0.003588)\n",
      "75. feature 58 (0.003550)\n",
      "76. feature 153 (0.003519)\n",
      "77. feature 130 (0.003472)\n",
      "78. feature 57 (0.003416)\n",
      "79. feature 35 (0.003397)\n",
      "80. feature 49 (0.003165)\n",
      "81. feature 162 (0.003135)\n",
      "82. feature 126 (0.003106)\n",
      "83. feature 178 (0.003092)\n",
      "84. feature 114 (0.002906)\n",
      "85. feature 83 (0.002902)\n",
      "86. feature 99 (0.002871)\n",
      "87. feature 97 (0.002806)\n",
      "88. feature 151 (0.002680)\n",
      "89. feature 108 (0.002605)\n",
      "90. feature 95 (0.002337)\n",
      "91. feature 98 (0.002251)\n",
      "92. feature 170 (0.002212)\n",
      "93. feature 143 (0.002129)\n",
      "94. feature 12 (0.002046)\n",
      "95. feature 84 (0.001934)\n",
      "96. feature 149 (0.001913)\n",
      "97. feature 139 (0.001902)\n",
      "98. feature 163 (0.001779)\n",
      "99. feature 136 (0.001776)\n",
      "100. feature 180 (0.001773)\n",
      "101. feature 65 (0.001751)\n",
      "102. feature 55 (0.001726)\n",
      "103. feature 124 (0.001704)\n",
      "104. feature 2 (0.001697)\n",
      "105. feature 110 (0.001578)\n",
      "106. feature 28 (0.001570)\n",
      "107. feature 106 (0.001529)\n",
      "108. feature 76 (0.001528)\n",
      "109. feature 176 (0.001433)\n",
      "110. feature 94 (0.001430)\n",
      "111. feature 158 (0.001397)\n",
      "112. feature 34 (0.001346)\n",
      "113. feature 161 (0.001327)\n",
      "114. feature 154 (0.001317)\n",
      "115. feature 70 (0.001247)\n",
      "116. feature 32 (0.001121)\n",
      "117. feature 125 (0.001120)\n",
      "118. feature 36 (0.001091)\n",
      "119. feature 157 (0.001083)\n",
      "120. feature 115 (0.001045)\n",
      "121. feature 164 (0.001003)\n",
      "122. feature 169 (0.000990)\n",
      "123. feature 177 (0.000982)\n",
      "124. feature 147 (0.000940)\n",
      "125. feature 166 (0.000890)\n",
      "126. feature 137 (0.000868)\n",
      "127. feature 113 (0.000836)\n",
      "128. feature 91 (0.000802)\n",
      "129. feature 144 (0.000774)\n",
      "130. feature 135 (0.000745)\n",
      "131. feature 68 (0.000745)\n",
      "132. feature 179 (0.000667)\n",
      "133. feature 69 (0.000637)\n",
      "134. feature 56 (0.000611)\n",
      "135. feature 132 (0.000598)\n",
      "136. feature 44 (0.000594)\n",
      "137. feature 111 (0.000506)\n",
      "138. feature 167 (0.000466)\n",
      "139. feature 47 (0.000456)\n",
      "140. feature 150 (0.000427)\n",
      "141. feature 145 (0.000425)\n",
      "142. feature 142 (0.000397)\n",
      "143. feature 51 (0.000387)\n",
      "144. feature 133 (0.000385)\n",
      "145. feature 173 (0.000371)\n",
      "146. feature 159 (0.000332)\n",
      "147. feature 131 (0.000330)\n",
      "148. feature 123 (0.000327)\n",
      "149. feature 22 (0.000320)\n",
      "150. feature 168 (0.000319)\n",
      "151. feature 102 (0.000313)\n",
      "152. feature 104 (0.000310)\n",
      "153. feature 155 (0.000293)\n",
      "154. feature 129 (0.000229)\n",
      "155. feature 152 (0.000218)\n",
      "156. feature 140 (0.000179)\n",
      "157. feature 41 (0.000175)\n",
      "158. feature 67 (0.000174)\n",
      "159. feature 175 (0.000132)\n",
      "160. feature 13 (0.000130)\n",
      "161. feature 33 (0.000108)\n",
      "162. feature 138 (0.000100)\n",
      "163. feature 8 (0.000098)\n",
      "164. feature 79 (0.000081)\n",
      "165. feature 146 (0.000075)\n",
      "166. feature 81 (0.000064)\n",
      "167. feature 160 (0.000062)\n",
      "168. feature 141 (0.000055)\n",
      "169. feature 40 (0.000041)\n",
      "170. feature 16 (0.000032)\n",
      "171. feature 148 (0.000026)\n",
      "172. feature 171 (0.000026)\n",
      "173. feature 5 (0.000020)\n",
      "174. feature 172 (0.000019)\n",
      "175. feature 75 (0.000008)\n",
      "176. feature 9 (0.000004)\n",
      "177. feature 78 (0.000002)\n",
      "178. feature 30 (0.000001)\n",
      "179. feature 73 (0.000000)\n",
      "180. feature 15 (0.000000)\n",
      "181. feature 3 (0.000000)\n"
     ]
    }
   ],
   "source": [
    "forest = ExtraTreesClassifier(n_estimators=150,\n",
    "                              random_state=0,n_jobs=6)\n",
    "\n",
    "forest.fit(train_x, train_y)\n",
    "importances = forest.feature_importances_\n",
    "std = np.std([tree.feature_importances_ for tree in forest.estimators_],\n",
    "             axis=0)\n",
    "indices = np.argsort(importances)[::-1]\n",
    "\n",
    "# Print the feature ranking\n",
    "print(\"Feature ranking:\")\n",
    "\n",
    "for f in range(train_x.shape[1]):\n",
    "    print(\"%d. feature %d (%f)\" % (f + 1, indices[f], importances[indices[f]]))"
   ]
  },
  {
   "cell_type": "code",
   "execution_count": 107,
   "metadata": {},
   "outputs": [
    {
     "name": "stdout",
     "output_type": "stream",
     "text": [
      "EXT_SOURCE_2\n",
      "DAYS_BIRTH\n",
      "DAYS_LAST_PHONE_CHANGE\n",
      "DAYS_ID_PUBLISH\n",
      "DAYS_REGISTRATION\n",
      "AMT_GOODS_PRICE\n",
      "AMT_CREDIT\n",
      "AMT_ANNUITY\n",
      "REGION_POPULATION_RELATIVE\n",
      "HOUR_APPR_PROCESS_START\n",
      "AMT_INCOME_TOTAL\n",
      "DAYS_EMPLOYED\n",
      "OBS_30_CNT_SOCIAL_CIRCLE\n",
      "OBS_60_CNT_SOCIAL_CIRCLE\n",
      "CNT_FAM_MEMBERS\n",
      "CNT_CHILDREN\n",
      "AMT_REQ_CREDIT_BUREAU_QRT\n",
      "FLAG_PHONE\n",
      "AMT_REQ_CREDIT_BUREAU_MON\n",
      "WEEKDAY_APPR_PROCESS_START_TUESDAY\n",
      "WEEKDAY_APPR_PROCESS_START_WEDNESDAY\n",
      "FLAG_OWN_REALTY_N\n",
      "FLAG_OWN_REALTY_Y\n",
      "WEEKDAY_APPR_PROCESS_START_THURSDAY\n",
      "WEEKDAY_APPR_PROCESS_START_MONDAY\n",
      "WEEKDAY_APPR_PROCESS_START_FRIDAY\n",
      "REGION_RATING_CLIENT\n",
      "REGION_RATING_CLIENT_W_CITY\n",
      "ORGANIZATION_TYPE_Business Entity Type 3\n",
      "NAME_FAMILY_STATUS_Married\n",
      "FLAG_WORK_PHONE\n",
      "NAME_TYPE_SUITE_Unaccompanied\n",
      "DEF_30_CNT_SOCIAL_CIRCLE\n",
      "WEEKDAY_APPR_PROCESS_START_SATURDAY\n",
      "FLAG_DOCUMENT_3\n",
      "NAME_TYPE_SUITE_Family\n",
      "NAME_INCOME_TYPE_Working\n",
      "ORGANIZATION_TYPE_Self-employed\n",
      "OCCUPATION_TYPE_Laborers\n",
      "OCCUPATION_TYPE_Nodata\n",
      "NAME_EDUCATION_TYPE_Secondary / secondary special\n",
      "DEF_60_CNT_SOCIAL_CIRCLE\n",
      "NAME_EDUCATION_TYPE_Higher education\n",
      "NAME_FAMILY_STATUS_Single / not married\n",
      "REG_CITY_NOT_WORK_CITY\n",
      "FLAG_OWN_CAR_N\n",
      "FLAG_OWN_CAR_Y\n",
      "NAME_HOUSING_TYPE_House / apartment\n",
      "NAME_FAMILY_STATUS_Civil marriage\n",
      "CODE_GENDER_M\n",
      "FLAG_EMAIL\n",
      "LIVE_CITY_NOT_WORK_CITY\n",
      "OCCUPATION_TYPE_Sales staff\n",
      "NAME_INCOME_TYPE_Commercial associate\n",
      "WEEKDAY_APPR_PROCESS_START_SUNDAY\n",
      "REG_CITY_NOT_LIVE_CITY\n",
      "CODE_GENDER_F\n",
      "ORGANIZATION_TYPE_Other\n",
      "NAME_FAMILY_STATUS_Separated\n",
      "OCCUPATION_TYPE_Core staff\n",
      "OCCUPATION_TYPE_Managers\n",
      "ORGANIZATION_TYPE_Business Entity Type 2\n",
      "AMT_REQ_CREDIT_BUREAU_WEEK\n",
      "NAME_HOUSING_TYPE_With parents\n",
      "OCCUPATION_TYPE_Drivers\n",
      "NAME_TYPE_SUITE_Spouse, partner\n",
      "FLAG_DOCUMENT_8\n",
      "ORGANIZATION_TYPE_Government\n",
      "OCCUPATION_TYPE_High skill tech staff\n",
      "NAME_HOUSING_TYPE_Municipal apartment\n",
      "REG_REGION_NOT_WORK_REGION\n",
      "NAME_FAMILY_STATUS_Widow\n",
      "NAME_INCOME_TYPE_State servant\n",
      "ORGANIZATION_TYPE_Trade: type 7\n",
      "NAME_CONTRACT_TYPE_Revolving loans\n",
      "ORGANIZATION_TYPE_Medicine\n",
      "ORGANIZATION_TYPE_Construction\n",
      "NAME_CONTRACT_TYPE_Cash loans\n",
      "LIVE_REGION_NOT_WORK_REGION\n",
      "FLAG_DOCUMENT_6\n",
      "ORGANIZATION_TYPE_School\n",
      "ORGANIZATION_TYPE_Business Entity Type 1\n",
      "ORGANIZATION_TYPE_Transport: type 4\n",
      "OCCUPATION_TYPE_Security staff\n",
      "NAME_EDUCATION_TYPE_Incomplete higher\n",
      "OCCUPATION_TYPE_Cooking staff\n",
      "OCCUPATION_TYPE_Accountants\n",
      "ORGANIZATION_TYPE_Kindergarten\n",
      "OCCUPATION_TYPE_Medicine staff\n",
      "NAME_HOUSING_TYPE_Rented apartment\n",
      "OCCUPATION_TYPE_Cleaning staff\n",
      "ORGANIZATION_TYPE_Trade: type 3\n",
      "ORGANIZATION_TYPE_Industry: type 3\n",
      "FLAG_DOCUMENT_5\n",
      "NAME_EDUCATION_TYPE_Lower secondary\n",
      "ORGANIZATION_TYPE_Industry: type 9\n",
      "ORGANIZATION_TYPE_Industry: type 11\n",
      "ORGANIZATION_TYPE_Security\n",
      "ORGANIZATION_TYPE_Housing\n",
      "ORGANIZATION_TYPE_XNA\n",
      "NAME_TYPE_SUITE_Children\n",
      "FLAG_EMP_PHONE\n",
      "ORGANIZATION_TYPE_Agriculture\n",
      "REG_REGION_NOT_LIVE_REGION\n",
      "OCCUPATION_TYPE_Private service staff\n",
      "FLAG_DOCUMENT_16\n",
      "OCCUPATION_TYPE_Low-skill Laborers\n",
      "NAME_INCOME_TYPE_Pensioner\n",
      "ORGANIZATION_TYPE_Transport: type 2\n",
      "NAME_HOUSING_TYPE_Office apartment\n",
      "ORGANIZATION_TYPE_Postal\n",
      "FLAG_DOCUMENT_18\n",
      "ORGANIZATION_TYPE_Restaurant\n",
      "ORGANIZATION_TYPE_Military\n",
      "NAME_TYPE_SUITE_Other_B\n",
      "AMT_REQ_CREDIT_BUREAU_DAY\n",
      "ORGANIZATION_TYPE_Bank\n",
      "AMT_REQ_CREDIT_BUREAU_HOUR\n",
      "ORGANIZATION_TYPE_Police\n",
      "OCCUPATION_TYPE_Waiters/barmen staff\n",
      "ORGANIZATION_TYPE_Security Ministries\n",
      "ORGANIZATION_TYPE_Trade: type 2\n",
      "ORGANIZATION_TYPE_Transport: type 3\n",
      "ORGANIZATION_TYPE_Industry: type 7\n",
      "ORGANIZATION_TYPE_Services\n",
      "ORGANIZATION_TYPE_Industry: type 1\n",
      "OCCUPATION_TYPE_Secretaries\n",
      "NAME_HOUSING_TYPE_Co-op apartment\n",
      "ORGANIZATION_TYPE_Industry: type 4\n",
      "ORGANIZATION_TYPE_Hotel\n",
      "NAME_TYPE_SUITE_Nodata\n",
      "ORGANIZATION_TYPE_University\n",
      "NAME_TYPE_SUITE_Other_A\n",
      "FLAG_DOCUMENT_9\n",
      "ORGANIZATION_TYPE_Electricity\n",
      "FLAG_DOCUMENT_13\n",
      "OCCUPATION_TYPE_Realty agents\n",
      "ORGANIZATION_TYPE_Telecom\n",
      "FLAG_DOCUMENT_11\n",
      "ORGANIZATION_TYPE_Insurance\n",
      "ORGANIZATION_TYPE_Industry: type 5\n",
      "ORGANIZATION_TYPE_Industry: type 2\n",
      "FLAG_DOCUMENT_14\n",
      "ORGANIZATION_TYPE_Emergency\n",
      "ORGANIZATION_TYPE_Trade: type 6\n",
      "ORGANIZATION_TYPE_Realtor\n",
      "ORGANIZATION_TYPE_Culture\n",
      "ORGANIZATION_TYPE_Advertising\n",
      "FLAG_CONT_MOBILE\n",
      "ORGANIZATION_TYPE_Trade: type 1\n",
      "OCCUPATION_TYPE_HR staff\n",
      "OCCUPATION_TYPE_IT staff\n",
      "ORGANIZATION_TYPE_Mobile\n",
      "ORGANIZATION_TYPE_Cleaning\n",
      "ORGANIZATION_TYPE_Legal Services\n",
      "ORGANIZATION_TYPE_Industry: type 12\n",
      "FLAG_DOCUMENT_15\n",
      "NAME_TYPE_SUITE_Group of people\n",
      "ORGANIZATION_TYPE_Transport: type 1\n",
      "FLAG_DOCUMENT_20\n",
      "FLAG_DOCUMENT_19\n",
      "ORGANIZATION_TYPE_Industry: type 10\n",
      "FLAG_DOCUMENT_21\n",
      "NAME_INCOME_TYPE_Unemployed\n",
      "ORGANIZATION_TYPE_Industry: type 6\n",
      "NAME_EDUCATION_TYPE_Academic degree\n",
      "ORGANIZATION_TYPE_Religion\n",
      "ORGANIZATION_TYPE_Industry: type 13\n",
      "FLAG_DOCUMENT_2\n",
      "FLAG_DOCUMENT_17\n",
      "ORGANIZATION_TYPE_Industry: type 8\n",
      "ORGANIZATION_TYPE_Trade: type 4\n",
      "FLAG_DOCUMENT_7\n",
      "ORGANIZATION_TYPE_Trade: type 5\n",
      "NAME_INCOME_TYPE_Maternity leave\n",
      "FLAG_DOCUMENT_4\n",
      "NAME_INCOME_TYPE_Student\n",
      "FLAG_DOCUMENT_10\n",
      "NAME_INCOME_TYPE_Businessman\n",
      "FLAG_DOCUMENT_12\n",
      "FLAG_MOBIL\n"
     ]
    }
   ],
   "source": [
    "for f in range(train_x.shape[1]):\n",
    "    print(train_x.columns[indices[f]])"
   ]
  },
  {
   "cell_type": "code",
   "execution_count": 108,
   "metadata": {
    "collapsed": true
   },
   "outputs": [],
   "source": [
    "critical_features = list(train_x.columns[indices[0:80]])"
   ]
  },
  {
   "cell_type": "code",
   "execution_count": 109,
   "metadata": {
    "collapsed": true
   },
   "outputs": [],
   "source": [
    "train_matrix = train_x[critical_features]\n",
    "test_matrix = test_x[critical_features]"
   ]
  },
  {
   "cell_type": "code",
   "execution_count": 110,
   "metadata": {},
   "outputs": [
    {
     "data": {
      "text/plain": [
       "ExtraTreesClassifier(bootstrap=False, class_weight=None, criterion='gini',\n",
       "           max_depth=None, max_features='auto', max_leaf_nodes=None,\n",
       "           min_impurity_decrease=0.0, min_impurity_split=None,\n",
       "           min_samples_leaf=1, min_samples_split=2,\n",
       "           min_weight_fraction_leaf=0.0, n_estimators=150, n_jobs=6,\n",
       "           oob_score=False, random_state=0, verbose=0, warm_start=False)"
      ]
     },
     "execution_count": 110,
     "metadata": {},
     "output_type": "execute_result"
    }
   ],
   "source": [
    "forest = ExtraTreesClassifier(n_estimators=150,\n",
    "                              random_state=0,n_jobs=6)\n",
    "\n",
    "forest.fit(train_matrix, train_y)"
   ]
  },
  {
   "cell_type": "code",
   "execution_count": 111,
   "metadata": {
    "collapsed": true
   },
   "outputs": [],
   "source": [
    "r_result = forest.predict_proba(test_matrix)"
   ]
  },
  {
   "cell_type": "code",
   "execution_count": 112,
   "metadata": {},
   "outputs": [
    {
     "data": {
      "text/plain": [
       "array([0, 1], dtype=int64)"
      ]
     },
     "execution_count": 112,
     "metadata": {},
     "output_type": "execute_result"
    }
   ],
   "source": [
    "forest.classes_"
   ]
  },
  {
   "cell_type": "code",
   "execution_count": 113,
   "metadata": {},
   "outputs": [],
   "source": [
    "r_result=pd.DataFrame(list(r_result[:,1]),columns=['TARGET'])\n",
    "r_result['SK_ID_CURR'] = test_data['SK_ID_CURR']"
   ]
  },
  {
   "cell_type": "code",
   "execution_count": 114,
   "metadata": {
    "collapsed": true
   },
   "outputs": [],
   "source": [
    "r_result.to_csv('E:/pnk/kaggle_credit/test_result6.csv')"
   ]
  },
  {
   "cell_type": "code",
   "execution_count": null,
   "metadata": {
    "collapsed": true
   },
   "outputs": [],
   "source": []
  }
 ],
 "metadata": {
  "kernelspec": {
   "display_name": "Python 3",
   "language": "python",
   "name": "python3"
  },
  "language_info": {
   "codemirror_mode": {
    "name": "ipython",
    "version": 3
   },
   "file_extension": ".py",
   "mimetype": "text/x-python",
   "name": "python",
   "nbconvert_exporter": "python",
   "pygments_lexer": "ipython3",
   "version": "3.6.2"
  }
 },
 "nbformat": 4,
 "nbformat_minor": 2
}

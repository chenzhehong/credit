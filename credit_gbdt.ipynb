{
 "cells": [
  {
   "cell_type": "code",
   "execution_count": 1,
   "metadata": {
    "collapsed": true
   },
   "outputs": [],
   "source": [
    "import pandas as pd\n",
    "import numpy as np\n",
    "import matplotlib.pyplot as plt\n",
    "import seaborn as sns\n",
    "from sklearn import preprocessing\n",
    "from sklearn.decomposition import PCA\n",
    "from sklearn.ensemble import ExtraTreesClassifier, GradientBoostingClassifier\n",
    "from sklearn.model_selection import GridSearchCV, cross_val_score, StratifiedKFold\n",
    "from sklearn.metrics import roc_auc_score\n",
    "%matplotlib inline"
   ]
  },
  {
   "cell_type": "code",
   "execution_count": 2,
   "metadata": {
    "collapsed": true
   },
   "outputs": [],
   "source": [
    "sns.set_style('whitegrid')\n",
    "train_data = pd.read_csv('E:/pnk/kaggle_credit/application_train.csv')\n",
    "test_data = pd.read_csv('E:/pnk/kaggle_credit/application_test.csv')\n",
    "bureau_data = pd.read_csv('E:/pnk/kaggle_credit/bureau.csv')"
   ]
  },
  {
   "cell_type": "markdown",
   "metadata": {},
   "source": [
    "# 数据不平衡，重采样\n"
   ]
  },
  {
   "cell_type": "code",
   "execution_count": 82,
   "metadata": {},
   "outputs": [
    {
     "name": "stdout",
     "output_type": "stream",
     "text": [
      "24825 282686\n"
     ]
    }
   ],
   "source": [
    "print (train_data['TARGET'].sum(), len(train_data)-train_data['TARGET'].sum())"
   ]
  },
  {
   "cell_type": "code",
   "execution_count": 50,
   "metadata": {
    "collapsed": true
   },
   "outputs": [],
   "source": [
    "np.random.seed(1)\n",
    "safe_data = train_data[train_data['TARGET']==0]\n",
    "bad_data = train_data[train_data['TARGET']==1]\n",
    "safe_part_index = np.random.randint(low=0, high=len(safe_data),size=99300)\n",
    "safe_data.reset_index(drop=True,inplace=True)\n",
    "safe_data = safe_data.loc[safe_part_index]\n",
    "bad_data = pd.concat([bad_data,bad_data,bad_data,bad_data])\n",
    "bad_data.reset_index(drop=True,inplace=True)"
   ]
  },
  {
   "cell_type": "code",
   "execution_count": 51,
   "metadata": {
    "collapsed": true
   },
   "outputs": [],
   "source": [
    "train_data = pd.concat([safe_data,bad_data])\n",
    "train_data.reset_index(drop=True,inplace=True)"
   ]
  },
  {
   "cell_type": "code",
   "execution_count": 5,
   "metadata": {},
   "outputs": [
    {
     "name": "stdout",
     "output_type": "stream",
     "text": [
      "99300 99300\n"
     ]
    }
   ],
   "source": [
    "print (len(safe_data),len(bad_data))"
   ]
  },
  {
   "cell_type": "markdown",
   "metadata": {
    "collapsed": true
   },
   "source": [
    "# 探索bureau文件特征"
   ]
  },
  {
   "cell_type": "code",
   "execution_count": 3,
   "metadata": {
    "collapsed": true
   },
   "outputs": [],
   "source": [
    "bureau_data.drop(labels=['DAYS_ENDDATE_FACT','AMT_ANNUITY'], axis=1, inplace=True)"
   ]
  },
  {
   "cell_type": "code",
   "execution_count": 4,
   "metadata": {
    "collapsed": true
   },
   "outputs": [],
   "source": [
    "num_variables = []\n",
    "cat_variables = []\n",
    "for col in bureau_data.columns:\n",
    "    if bureau_data[col].dtype=='object':\n",
    "        cat_variables.append(col)\n",
    "    else:\n",
    "        num_variables.append(col)"
   ]
  },
  {
   "cell_type": "code",
   "execution_count": 5,
   "metadata": {},
   "outputs": [
    {
     "name": "stdout",
     "output_type": "stream",
     "text": [
      "{'SK_ID_CURR': 1.0, 'SK_ID_BUREAU': 1.0, 'DAYS_CREDIT': 1.0, 'CREDIT_DAY_OVERDUE': 1.0, 'DAYS_CREDIT_ENDDATE': 0.93850426583579383, 'AMT_CREDIT_MAX_OVERDUE': 0.34486736408401636, 'CNT_CREDIT_PROLONG': 1.0, 'AMT_CREDIT_SUM': 0.99999242613147765, 'AMT_CREDIT_SUM_DEBT': 0.84988068244051018, 'AMT_CREDIT_SUM_LIMIT': 0.65522585275933509, 'AMT_CREDIT_SUM_OVERDUE': 1.0, 'DAYS_CREDIT_UPDATE': 1.0}\n"
     ]
    }
   ],
   "source": [
    "num_dict = {}\n",
    "for col in num_variables:\n",
    "    num_dict[col] = bureau_data[col].count()/len(bureau_data)\n",
    "print(num_dict)"
   ]
  },
  {
   "cell_type": "code",
   "execution_count": 6,
   "metadata": {
    "collapsed": true
   },
   "outputs": [],
   "source": [
    "def fill_with0(origin_data, fillmid_cols):\n",
    "    for i in fillmid_cols:\n",
    "        origin_data[i].fillna(0,inplace=True)\n",
    "    return\n",
    "fill_with0(bureau_data, list(num_dict.keys()))"
   ]
  },
  {
   "cell_type": "code",
   "execution_count": 7,
   "metadata": {
    "collapsed": true
   },
   "outputs": [],
   "source": [
    "bureau_data = pd.get_dummies(bureau_data)"
   ]
  },
  {
   "cell_type": "code",
   "execution_count": 8,
   "metadata": {
    "scrolled": true
   },
   "outputs": [
    {
     "data": {
      "text/plain": [
       "Index(['SK_ID_CURR', 'SK_ID_BUREAU', 'DAYS_CREDIT', 'CREDIT_DAY_OVERDUE',\n",
       "       'DAYS_CREDIT_ENDDATE', 'AMT_CREDIT_MAX_OVERDUE', 'CNT_CREDIT_PROLONG',\n",
       "       'AMT_CREDIT_SUM', 'AMT_CREDIT_SUM_DEBT', 'AMT_CREDIT_SUM_LIMIT',\n",
       "       'AMT_CREDIT_SUM_OVERDUE', 'DAYS_CREDIT_UPDATE', 'CREDIT_ACTIVE_Active',\n",
       "       'CREDIT_ACTIVE_Bad debt', 'CREDIT_ACTIVE_Closed', 'CREDIT_ACTIVE_Sold',\n",
       "       'CREDIT_CURRENCY_currency 1', 'CREDIT_CURRENCY_currency 2',\n",
       "       'CREDIT_CURRENCY_currency 3', 'CREDIT_CURRENCY_currency 4',\n",
       "       'CREDIT_TYPE_Another type of loan', 'CREDIT_TYPE_Car loan',\n",
       "       'CREDIT_TYPE_Cash loan (non-earmarked)', 'CREDIT_TYPE_Consumer credit',\n",
       "       'CREDIT_TYPE_Credit card', 'CREDIT_TYPE_Interbank credit',\n",
       "       'CREDIT_TYPE_Loan for business development',\n",
       "       'CREDIT_TYPE_Loan for purchase of shares (margin lending)',\n",
       "       'CREDIT_TYPE_Loan for the purchase of equipment',\n",
       "       'CREDIT_TYPE_Loan for working capital replenishment',\n",
       "       'CREDIT_TYPE_Microloan', 'CREDIT_TYPE_Mobile operator loan',\n",
       "       'CREDIT_TYPE_Mortgage', 'CREDIT_TYPE_Real estate loan',\n",
       "       'CREDIT_TYPE_Unknown type of loan'],\n",
       "      dtype='object')"
      ]
     },
     "execution_count": 8,
     "metadata": {},
     "output_type": "execute_result"
    }
   ],
   "source": [
    "bureau_data.columns"
   ]
  },
  {
   "cell_type": "code",
   "execution_count": 9,
   "metadata": {},
   "outputs": [
    {
     "name": "stdout",
     "output_type": "stream",
     "text": [
      "['CREDIT_DAY_OVERDUE', 'AMT_CREDIT_MAX_OVERDUE', 'CNT_CREDIT_PROLONG', 'AMT_CREDIT_SUM', 'AMT_CREDIT_SUM_DEBT', 'AMT_CREDIT_SUM_LIMIT', 'AMT_CREDIT_SUM_OVERDUE', 'CREDIT_ACTIVE_Active', 'CREDIT_ACTIVE_Bad debt', 'CREDIT_ACTIVE_Closed', 'CREDIT_ACTIVE_Sold', 'CREDIT_CURRENCY_currency 1', 'CREDIT_CURRENCY_currency 2', 'CREDIT_CURRENCY_currency 3', 'CREDIT_CURRENCY_currency 4', 'CREDIT_TYPE_Another type of loan', 'CREDIT_TYPE_Car loan', 'CREDIT_TYPE_Cash loan (non-earmarked)', 'CREDIT_TYPE_Consumer credit', 'CREDIT_TYPE_Credit card', 'CREDIT_TYPE_Interbank credit', 'CREDIT_TYPE_Loan for business development', 'CREDIT_TYPE_Loan for purchase of shares (margin lending)', 'CREDIT_TYPE_Loan for the purchase of equipment', 'CREDIT_TYPE_Loan for working capital replenishment', 'CREDIT_TYPE_Microloan', 'CREDIT_TYPE_Mobile operator loan', 'CREDIT_TYPE_Mortgage', 'CREDIT_TYPE_Real estate loan', 'CREDIT_TYPE_Unknown type of loan', 'SK_ID_CURR']\n",
      "['DAYS_CREDIT', 'DAYS_CREDIT_ENDDATE', 'DAYS_CREDIT_UPDATE', 'SK_ID_CURR']\n"
     ]
    }
   ],
   "source": [
    "sum_features = ['CREDIT_DAY_OVERDUE','AMT_CREDIT_MAX_OVERDUE','CNT_CREDIT_PROLONG','AMT_CREDIT_SUM',\n",
    "               'AMT_CREDIT_SUM_DEBT','AMT_CREDIT_SUM_LIMIT','AMT_CREDIT_SUM_OVERDUE']\n",
    "for col in bureau_data.columns:\n",
    "    if col.startswith('CREDIT_ACTIVE') or col.startswith('CREDIT_CURRENCY') or col.startswith('CREDIT_TYPE'):\n",
    "        sum_features.append(col)\n",
    "minmax_features = []\n",
    "for col in bureau_data.columns:\n",
    "    if col not in ['SK_ID_CURR','SK_ID_BUREAU'] and col not in sum_features:\n",
    "        minmax_features.append(col)\n",
    "sum_features.append('SK_ID_CURR')\n",
    "minmax_features.append('SK_ID_CURR')\n",
    "print(sum_features)\n",
    "print(minmax_features)"
   ]
  },
  {
   "cell_type": "code",
   "execution_count": 10,
   "metadata": {
    "collapsed": true
   },
   "outputs": [],
   "source": [
    "bureau_sum = bureau_data[sum_features].groupby(by=['SK_ID_CURR']).agg('sum')\n",
    "bureau_sum.reset_index(inplace=True)"
   ]
  },
  {
   "cell_type": "code",
   "execution_count": 11,
   "metadata": {
    "collapsed": true
   },
   "outputs": [],
   "source": [
    "bureau_min = bureau_data[minmax_features].groupby(by=['SK_ID_CURR']).agg('min')\n",
    "bureau_min.columns=['DAYS_CREDIT_MIN','DAYS_CREDIT_ENDDATE_MIN','DAYS_CREDIT_UPDATE_MIN']\n",
    "bureau_min.reset_index(inplace=True)"
   ]
  },
  {
   "cell_type": "code",
   "execution_count": 12,
   "metadata": {
    "collapsed": true
   },
   "outputs": [],
   "source": [
    "bureau_max = bureau_data[minmax_features].groupby(by=['SK_ID_CURR']).agg('max')\n",
    "bureau_max.columns=['DAYS_CREDIT_MAX','DAYS_CREDIT_ENDDATE_MAX','DAYS_CREDIT_UPDATE_MAX']\n",
    "bureau_max.reset_index(inplace=True)"
   ]
  },
  {
   "cell_type": "code",
   "execution_count": 13,
   "metadata": {
    "collapsed": true
   },
   "outputs": [],
   "source": [
    "bureau_sum = bureau_sum.merge(bureau_min, on='SK_ID_CURR', how='inner')\n",
    "bureau_sum = bureau_sum.merge(bureau_max, on='SK_ID_CURR', how='inner')"
   ]
  },
  {
   "cell_type": "code",
   "execution_count": 14,
   "metadata": {
    "scrolled": true
   },
   "outputs": [
    {
     "data": {
      "text/html": [
       "<div>\n",
       "<style>\n",
       "    .dataframe thead tr:only-child th {\n",
       "        text-align: right;\n",
       "    }\n",
       "\n",
       "    .dataframe thead th {\n",
       "        text-align: left;\n",
       "    }\n",
       "\n",
       "    .dataframe tbody tr th {\n",
       "        vertical-align: top;\n",
       "    }\n",
       "</style>\n",
       "<table border=\"1\" class=\"dataframe\">\n",
       "  <thead>\n",
       "    <tr style=\"text-align: right;\">\n",
       "      <th></th>\n",
       "      <th>SK_ID_CURR</th>\n",
       "      <th>SK_ID_BUREAU</th>\n",
       "      <th>DAYS_CREDIT</th>\n",
       "      <th>CREDIT_DAY_OVERDUE</th>\n",
       "      <th>DAYS_CREDIT_ENDDATE</th>\n",
       "      <th>AMT_CREDIT_MAX_OVERDUE</th>\n",
       "      <th>CNT_CREDIT_PROLONG</th>\n",
       "      <th>AMT_CREDIT_SUM</th>\n",
       "      <th>AMT_CREDIT_SUM_DEBT</th>\n",
       "      <th>AMT_CREDIT_SUM_LIMIT</th>\n",
       "      <th>...</th>\n",
       "      <th>CREDIT_TYPE_Interbank credit</th>\n",
       "      <th>CREDIT_TYPE_Loan for business development</th>\n",
       "      <th>CREDIT_TYPE_Loan for purchase of shares (margin lending)</th>\n",
       "      <th>CREDIT_TYPE_Loan for the purchase of equipment</th>\n",
       "      <th>CREDIT_TYPE_Loan for working capital replenishment</th>\n",
       "      <th>CREDIT_TYPE_Microloan</th>\n",
       "      <th>CREDIT_TYPE_Mobile operator loan</th>\n",
       "      <th>CREDIT_TYPE_Mortgage</th>\n",
       "      <th>CREDIT_TYPE_Real estate loan</th>\n",
       "      <th>CREDIT_TYPE_Unknown type of loan</th>\n",
       "    </tr>\n",
       "  </thead>\n",
       "  <tbody>\n",
       "    <tr>\n",
       "      <th>count</th>\n",
       "      <td>1.716428e+06</td>\n",
       "      <td>1.716428e+06</td>\n",
       "      <td>1.716428e+06</td>\n",
       "      <td>1.716428e+06</td>\n",
       "      <td>1.716428e+06</td>\n",
       "      <td>1.716428e+06</td>\n",
       "      <td>1.716428e+06</td>\n",
       "      <td>1.716428e+06</td>\n",
       "      <td>1.716428e+06</td>\n",
       "      <td>1.716428e+06</td>\n",
       "      <td>...</td>\n",
       "      <td>1.716428e+06</td>\n",
       "      <td>1.716428e+06</td>\n",
       "      <td>1.716428e+06</td>\n",
       "      <td>1.716428e+06</td>\n",
       "      <td>1.716428e+06</td>\n",
       "      <td>1.716428e+06</td>\n",
       "      <td>1.716428e+06</td>\n",
       "      <td>1.716428e+06</td>\n",
       "      <td>1.716428e+06</td>\n",
       "      <td>1.716428e+06</td>\n",
       "    </tr>\n",
       "    <tr>\n",
       "      <th>mean</th>\n",
       "      <td>2.782149e+05</td>\n",
       "      <td>5.924434e+06</td>\n",
       "      <td>-1.142108e+03</td>\n",
       "      <td>8.181666e-01</td>\n",
       "      <td>4.791227e+02</td>\n",
       "      <td>1.319262e+03</td>\n",
       "      <td>6.410406e-03</td>\n",
       "      <td>3.549919e+05</td>\n",
       "      <td>1.165060e+05</td>\n",
       "      <td>4.081739e+03</td>\n",
       "      <td>...</td>\n",
       "      <td>5.826053e-07</td>\n",
       "      <td>1.150645e-03</td>\n",
       "      <td>2.330421e-06</td>\n",
       "      <td>1.106950e-05</td>\n",
       "      <td>2.732419e-04</td>\n",
       "      <td>7.231879e-03</td>\n",
       "      <td>5.826053e-07</td>\n",
       "      <td>1.071469e-02</td>\n",
       "      <td>1.573034e-05</td>\n",
       "      <td>3.233459e-04</td>\n",
       "    </tr>\n",
       "    <tr>\n",
       "      <th>std</th>\n",
       "      <td>1.029386e+05</td>\n",
       "      <td>5.322657e+05</td>\n",
       "      <td>7.951649e+02</td>\n",
       "      <td>3.654443e+01</td>\n",
       "      <td>4.839776e+03</td>\n",
       "      <td>1.210065e+05</td>\n",
       "      <td>9.622391e-02</td>\n",
       "      <td>1.149807e+06</td>\n",
       "      <td>6.264058e+05</td>\n",
       "      <td>3.657169e+04</td>\n",
       "      <td>...</td>\n",
       "      <td>7.632858e-04</td>\n",
       "      <td>3.390165e-02</td>\n",
       "      <td>1.526570e-03</td>\n",
       "      <td>3.327068e-03</td>\n",
       "      <td>1.652778e-02</td>\n",
       "      <td>8.473242e-02</td>\n",
       "      <td>7.632858e-04</td>\n",
       "      <td>1.029558e-01</td>\n",
       "      <td>3.966120e-03</td>\n",
       "      <td>1.797892e-02</td>\n",
       "    </tr>\n",
       "    <tr>\n",
       "      <th>min</th>\n",
       "      <td>1.000010e+05</td>\n",
       "      <td>5.000000e+06</td>\n",
       "      <td>-2.922000e+03</td>\n",
       "      <td>0.000000e+00</td>\n",
       "      <td>-4.206000e+04</td>\n",
       "      <td>0.000000e+00</td>\n",
       "      <td>0.000000e+00</td>\n",
       "      <td>0.000000e+00</td>\n",
       "      <td>-4.705600e+06</td>\n",
       "      <td>-5.864061e+05</td>\n",
       "      <td>...</td>\n",
       "      <td>0.000000e+00</td>\n",
       "      <td>0.000000e+00</td>\n",
       "      <td>0.000000e+00</td>\n",
       "      <td>0.000000e+00</td>\n",
       "      <td>0.000000e+00</td>\n",
       "      <td>0.000000e+00</td>\n",
       "      <td>0.000000e+00</td>\n",
       "      <td>0.000000e+00</td>\n",
       "      <td>0.000000e+00</td>\n",
       "      <td>0.000000e+00</td>\n",
       "    </tr>\n",
       "    <tr>\n",
       "      <th>25%</th>\n",
       "      <td>1.888668e+05</td>\n",
       "      <td>5.463954e+06</td>\n",
       "      <td>-1.666000e+03</td>\n",
       "      <td>0.000000e+00</td>\n",
       "      <td>-1.074000e+03</td>\n",
       "      <td>0.000000e+00</td>\n",
       "      <td>0.000000e+00</td>\n",
       "      <td>5.130000e+04</td>\n",
       "      <td>0.000000e+00</td>\n",
       "      <td>0.000000e+00</td>\n",
       "      <td>...</td>\n",
       "      <td>0.000000e+00</td>\n",
       "      <td>0.000000e+00</td>\n",
       "      <td>0.000000e+00</td>\n",
       "      <td>0.000000e+00</td>\n",
       "      <td>0.000000e+00</td>\n",
       "      <td>0.000000e+00</td>\n",
       "      <td>0.000000e+00</td>\n",
       "      <td>0.000000e+00</td>\n",
       "      <td>0.000000e+00</td>\n",
       "      <td>0.000000e+00</td>\n",
       "    </tr>\n",
       "    <tr>\n",
       "      <th>50%</th>\n",
       "      <td>2.780550e+05</td>\n",
       "      <td>5.926304e+06</td>\n",
       "      <td>-9.870000e+02</td>\n",
       "      <td>0.000000e+00</td>\n",
       "      <td>-2.370000e+02</td>\n",
       "      <td>0.000000e+00</td>\n",
       "      <td>0.000000e+00</td>\n",
       "      <td>1.255185e+05</td>\n",
       "      <td>0.000000e+00</td>\n",
       "      <td>0.000000e+00</td>\n",
       "      <td>...</td>\n",
       "      <td>0.000000e+00</td>\n",
       "      <td>0.000000e+00</td>\n",
       "      <td>0.000000e+00</td>\n",
       "      <td>0.000000e+00</td>\n",
       "      <td>0.000000e+00</td>\n",
       "      <td>0.000000e+00</td>\n",
       "      <td>0.000000e+00</td>\n",
       "      <td>0.000000e+00</td>\n",
       "      <td>0.000000e+00</td>\n",
       "      <td>0.000000e+00</td>\n",
       "    </tr>\n",
       "    <tr>\n",
       "      <th>75%</th>\n",
       "      <td>3.674260e+05</td>\n",
       "      <td>6.385681e+06</td>\n",
       "      <td>-4.740000e+02</td>\n",
       "      <td>0.000000e+00</td>\n",
       "      <td>3.890000e+02</td>\n",
       "      <td>0.000000e+00</td>\n",
       "      <td>0.000000e+00</td>\n",
       "      <td>3.150000e+05</td>\n",
       "      <td>1.975500e+03</td>\n",
       "      <td>0.000000e+00</td>\n",
       "      <td>...</td>\n",
       "      <td>0.000000e+00</td>\n",
       "      <td>0.000000e+00</td>\n",
       "      <td>0.000000e+00</td>\n",
       "      <td>0.000000e+00</td>\n",
       "      <td>0.000000e+00</td>\n",
       "      <td>0.000000e+00</td>\n",
       "      <td>0.000000e+00</td>\n",
       "      <td>0.000000e+00</td>\n",
       "      <td>0.000000e+00</td>\n",
       "      <td>0.000000e+00</td>\n",
       "    </tr>\n",
       "    <tr>\n",
       "      <th>max</th>\n",
       "      <td>4.562550e+05</td>\n",
       "      <td>6.843457e+06</td>\n",
       "      <td>0.000000e+00</td>\n",
       "      <td>2.792000e+03</td>\n",
       "      <td>3.119900e+04</td>\n",
       "      <td>1.159872e+08</td>\n",
       "      <td>9.000000e+00</td>\n",
       "      <td>5.850000e+08</td>\n",
       "      <td>1.701000e+08</td>\n",
       "      <td>4.705600e+06</td>\n",
       "      <td>...</td>\n",
       "      <td>1.000000e+00</td>\n",
       "      <td>1.000000e+00</td>\n",
       "      <td>1.000000e+00</td>\n",
       "      <td>1.000000e+00</td>\n",
       "      <td>1.000000e+00</td>\n",
       "      <td>1.000000e+00</td>\n",
       "      <td>1.000000e+00</td>\n",
       "      <td>1.000000e+00</td>\n",
       "      <td>1.000000e+00</td>\n",
       "      <td>1.000000e+00</td>\n",
       "    </tr>\n",
       "  </tbody>\n",
       "</table>\n",
       "<p>8 rows × 35 columns</p>\n",
       "</div>"
      ],
      "text/plain": [
       "         SK_ID_CURR  SK_ID_BUREAU   DAYS_CREDIT  CREDIT_DAY_OVERDUE  \\\n",
       "count  1.716428e+06  1.716428e+06  1.716428e+06        1.716428e+06   \n",
       "mean   2.782149e+05  5.924434e+06 -1.142108e+03        8.181666e-01   \n",
       "std    1.029386e+05  5.322657e+05  7.951649e+02        3.654443e+01   \n",
       "min    1.000010e+05  5.000000e+06 -2.922000e+03        0.000000e+00   \n",
       "25%    1.888668e+05  5.463954e+06 -1.666000e+03        0.000000e+00   \n",
       "50%    2.780550e+05  5.926304e+06 -9.870000e+02        0.000000e+00   \n",
       "75%    3.674260e+05  6.385681e+06 -4.740000e+02        0.000000e+00   \n",
       "max    4.562550e+05  6.843457e+06  0.000000e+00        2.792000e+03   \n",
       "\n",
       "       DAYS_CREDIT_ENDDATE  AMT_CREDIT_MAX_OVERDUE  CNT_CREDIT_PROLONG  \\\n",
       "count         1.716428e+06            1.716428e+06        1.716428e+06   \n",
       "mean          4.791227e+02            1.319262e+03        6.410406e-03   \n",
       "std           4.839776e+03            1.210065e+05        9.622391e-02   \n",
       "min          -4.206000e+04            0.000000e+00        0.000000e+00   \n",
       "25%          -1.074000e+03            0.000000e+00        0.000000e+00   \n",
       "50%          -2.370000e+02            0.000000e+00        0.000000e+00   \n",
       "75%           3.890000e+02            0.000000e+00        0.000000e+00   \n",
       "max           3.119900e+04            1.159872e+08        9.000000e+00   \n",
       "\n",
       "       AMT_CREDIT_SUM  AMT_CREDIT_SUM_DEBT  AMT_CREDIT_SUM_LIMIT  \\\n",
       "count    1.716428e+06         1.716428e+06          1.716428e+06   \n",
       "mean     3.549919e+05         1.165060e+05          4.081739e+03   \n",
       "std      1.149807e+06         6.264058e+05          3.657169e+04   \n",
       "min      0.000000e+00        -4.705600e+06         -5.864061e+05   \n",
       "25%      5.130000e+04         0.000000e+00          0.000000e+00   \n",
       "50%      1.255185e+05         0.000000e+00          0.000000e+00   \n",
       "75%      3.150000e+05         1.975500e+03          0.000000e+00   \n",
       "max      5.850000e+08         1.701000e+08          4.705600e+06   \n",
       "\n",
       "                     ...                 CREDIT_TYPE_Interbank credit  \\\n",
       "count                ...                                 1.716428e+06   \n",
       "mean                 ...                                 5.826053e-07   \n",
       "std                  ...                                 7.632858e-04   \n",
       "min                  ...                                 0.000000e+00   \n",
       "25%                  ...                                 0.000000e+00   \n",
       "50%                  ...                                 0.000000e+00   \n",
       "75%                  ...                                 0.000000e+00   \n",
       "max                  ...                                 1.000000e+00   \n",
       "\n",
       "       CREDIT_TYPE_Loan for business development  \\\n",
       "count                               1.716428e+06   \n",
       "mean                                1.150645e-03   \n",
       "std                                 3.390165e-02   \n",
       "min                                 0.000000e+00   \n",
       "25%                                 0.000000e+00   \n",
       "50%                                 0.000000e+00   \n",
       "75%                                 0.000000e+00   \n",
       "max                                 1.000000e+00   \n",
       "\n",
       "       CREDIT_TYPE_Loan for purchase of shares (margin lending)  \\\n",
       "count                                       1.716428e+06          \n",
       "mean                                        2.330421e-06          \n",
       "std                                         1.526570e-03          \n",
       "min                                         0.000000e+00          \n",
       "25%                                         0.000000e+00          \n",
       "50%                                         0.000000e+00          \n",
       "75%                                         0.000000e+00          \n",
       "max                                         1.000000e+00          \n",
       "\n",
       "       CREDIT_TYPE_Loan for the purchase of equipment  \\\n",
       "count                                    1.716428e+06   \n",
       "mean                                     1.106950e-05   \n",
       "std                                      3.327068e-03   \n",
       "min                                      0.000000e+00   \n",
       "25%                                      0.000000e+00   \n",
       "50%                                      0.000000e+00   \n",
       "75%                                      0.000000e+00   \n",
       "max                                      1.000000e+00   \n",
       "\n",
       "       CREDIT_TYPE_Loan for working capital replenishment  \\\n",
       "count                                       1.716428e+06    \n",
       "mean                                        2.732419e-04    \n",
       "std                                         1.652778e-02    \n",
       "min                                         0.000000e+00    \n",
       "25%                                         0.000000e+00    \n",
       "50%                                         0.000000e+00    \n",
       "75%                                         0.000000e+00    \n",
       "max                                         1.000000e+00    \n",
       "\n",
       "       CREDIT_TYPE_Microloan  CREDIT_TYPE_Mobile operator loan  \\\n",
       "count           1.716428e+06                      1.716428e+06   \n",
       "mean            7.231879e-03                      5.826053e-07   \n",
       "std             8.473242e-02                      7.632858e-04   \n",
       "min             0.000000e+00                      0.000000e+00   \n",
       "25%             0.000000e+00                      0.000000e+00   \n",
       "50%             0.000000e+00                      0.000000e+00   \n",
       "75%             0.000000e+00                      0.000000e+00   \n",
       "max             1.000000e+00                      1.000000e+00   \n",
       "\n",
       "       CREDIT_TYPE_Mortgage  CREDIT_TYPE_Real estate loan  \\\n",
       "count          1.716428e+06                  1.716428e+06   \n",
       "mean           1.071469e-02                  1.573034e-05   \n",
       "std            1.029558e-01                  3.966120e-03   \n",
       "min            0.000000e+00                  0.000000e+00   \n",
       "25%            0.000000e+00                  0.000000e+00   \n",
       "50%            0.000000e+00                  0.000000e+00   \n",
       "75%            0.000000e+00                  0.000000e+00   \n",
       "max            1.000000e+00                  1.000000e+00   \n",
       "\n",
       "       CREDIT_TYPE_Unknown type of loan  \n",
       "count                      1.716428e+06  \n",
       "mean                       3.233459e-04  \n",
       "std                        1.797892e-02  \n",
       "min                        0.000000e+00  \n",
       "25%                        0.000000e+00  \n",
       "50%                        0.000000e+00  \n",
       "75%                        0.000000e+00  \n",
       "max                        1.000000e+00  \n",
       "\n",
       "[8 rows x 35 columns]"
      ]
     },
     "execution_count": 14,
     "metadata": {},
     "output_type": "execute_result"
    }
   ],
   "source": [
    "bureau_data.describe()"
   ]
  },
  {
   "cell_type": "code",
   "execution_count": 15,
   "metadata": {
    "scrolled": true
   },
   "outputs": [
    {
     "data": {
      "text/plain": [
       "uint8      23\n",
       "int64       6\n",
       "float64     6\n",
       "dtype: int64"
      ]
     },
     "execution_count": 15,
     "metadata": {},
     "output_type": "execute_result"
    }
   ],
   "source": [
    "bureau_data.dtypes.value_counts()"
   ]
  },
  {
   "cell_type": "markdown",
   "metadata": {},
   "source": [
    "# 百分比特征"
   ]
  },
  {
   "cell_type": "code",
   "execution_count": 16,
   "metadata": {
    "collapsed": true
   },
   "outputs": [],
   "source": [
    "bureau_sum['AMT_OVERDUE_PERCENT'] = bureau_sum['AMT_CREDIT_MAX_OVERDUE'] / bureau_sum['AMT_CREDIT_SUM']\n",
    "bureau_sum['AMT_DEBT_PERCENT'] = bureau_sum['AMT_CREDIT_SUM_DEBT'] / bureau_sum['AMT_CREDIT_SUM']\n",
    "train_data = train_data.merge(bureau_sum, on='SK_ID_CURR', how='left')\n",
    "test_data = test_data.merge(bureau_sum, on='SK_ID_CURR', how='left')\n",
    "train_data['HAS_BUREAU'] = train_data['CNT_CREDIT_PROLONG'].notnull().astype(int)\n",
    "test_data['HAS_BUREAU'] = test_data['CNT_CREDIT_PROLONG'].notnull().astype(int)"
   ]
  },
  {
   "cell_type": "markdown",
   "metadata": {},
   "source": [
    "# drop掉50%以上缺失字段+label encoding"
   ]
  },
  {
   "cell_type": "code",
   "execution_count": 17,
   "metadata": {},
   "outputs": [
    {
     "data": {
      "text/plain": [
       "float64    103\n",
       "int64       41\n",
       "object      16\n",
       "int32        1\n",
       "dtype: int64"
      ]
     },
     "execution_count": 17,
     "metadata": {},
     "output_type": "execute_result"
    }
   ],
   "source": [
    "train_data.dtypes.value_counts()"
   ]
  },
  {
   "cell_type": "code",
   "execution_count": 18,
   "metadata": {
    "collapsed": true
   },
   "outputs": [],
   "source": [
    "num_variables = []\n",
    "cat_variables = []\n",
    "for col in train_data.columns:\n",
    "    if train_data[col].dtype=='object':\n",
    "        cat_variables.append(col)\n",
    "    else:\n",
    "        num_variables.append(col)"
   ]
  },
  {
   "cell_type": "code",
   "execution_count": 19,
   "metadata": {
    "collapsed": true
   },
   "outputs": [],
   "source": [
    "num_dict = {}\n",
    "for col in num_variables:\n",
    "    num_dict[col] = train_data[col].count()/len(train_data)\n",
    "for k, v in num_dict.items():\n",
    "    if v < 0.5:\n",
    "        train_data.drop(labels=k,axis=1,inplace=True)\n",
    "        test_data.drop(labels=k,axis=1,inplace=True)"
   ]
  },
  {
   "cell_type": "code",
   "execution_count": 20,
   "metadata": {},
   "outputs": [
    {
     "name": "stdout",
     "output_type": "stream",
     "text": [
      "['NAME_CONTRACT_TYPE', 'FLAG_OWN_CAR', 'FLAG_OWN_REALTY', 'EMERGENCYSTATE_MODE']\n"
     ]
    }
   ],
   "source": [
    "lb_cols = []\n",
    "for col in cat_variables:\n",
    "    if train_data[col].nunique() <= 2:\n",
    "        lb_cols.append(col)\n",
    "print(lb_cols)"
   ]
  },
  {
   "cell_type": "code",
   "execution_count": 21,
   "metadata": {},
   "outputs": [
    {
     "name": "stdout",
     "output_type": "stream",
     "text": [
      "4 columns were label encoded.\n"
     ]
    }
   ],
   "source": [
    "# Create a label encoder objectcat_variables\n",
    "le = preprocessing.LabelEncoder()\n",
    "le_count = 0\n",
    "\n",
    "# Iterate through the columns\n",
    "for col in lb_cols:\n",
    "    # Train on the training data\n",
    "    train_data[col] = train_data[col].fillna('NAN')\n",
    "    test_data[col] = test_data[col].fillna('NAN')\n",
    "    le.fit(train_data[col])\n",
    "    # Transform both training and testing data\n",
    "    train_data[col] = le.transform(train_data[col])\n",
    "    test_data[col] = le.transform(test_data[col])\n",
    "    # Keep track of how many columns were label encoded\n",
    "    le_count += 1\n",
    "            \n",
    "print('%d columns were label encoded.' % le_count)"
   ]
  },
  {
   "cell_type": "markdown",
   "metadata": {},
   "source": [
    "# 独热编码"
   ]
  },
  {
   "cell_type": "code",
   "execution_count": 22,
   "metadata": {
    "collapsed": true
   },
   "outputs": [],
   "source": [
    "train_data = pd.get_dummies(train_data)\n",
    "test_data = pd.get_dummies(test_data)"
   ]
  },
  {
   "cell_type": "code",
   "execution_count": 23,
   "metadata": {},
   "outputs": [
    {
     "name": "stdout",
     "output_type": "stream",
     "text": [
      "(307511, 239) (48744, 239)\n"
     ]
    }
   ],
   "source": [
    "train_target = train_data['TARGET']\n",
    "train_data, test_data = train_data.align(test_data, join = 'inner', axis = 1)\n",
    "print(train_data.shape, test_data.shape)"
   ]
  },
  {
   "cell_type": "markdown",
   "metadata": {},
   "source": [
    "# 连续变量补缺"
   ]
  },
  {
   "cell_type": "code",
   "execution_count": 24,
   "metadata": {},
   "outputs": [
    {
     "data": {
      "text/plain": [
       "1.0"
      ]
     },
     "execution_count": 24,
     "metadata": {},
     "output_type": "execute_result"
    }
   ],
   "source": [
    "pop_item = []\n",
    "for k, v in num_dict.items():\n",
    "    if v < 0.5:\n",
    "        pop_item.append(k)\n",
    "for i in pop_item:\n",
    "    num_dict.pop(i)\n",
    "num_dict.pop('TARGET')"
   ]
  },
  {
   "cell_type": "code",
   "execution_count": 25,
   "metadata": {
    "collapsed": true
   },
   "outputs": [],
   "source": [
    "def fill_withmid(origin_data, fillmid_cols):\n",
    "    for i in fillmid_cols:\n",
    "        mid_value = origin_data[i].quantile(.5)\n",
    "        origin_data[i].fillna(mid_value,inplace=True)\n",
    "    return\n",
    "fill_withmid(train_data, list(num_dict.keys()))\n",
    "fill_withmid(test_data, list(num_dict.keys()))"
   ]
  },
  {
   "cell_type": "markdown",
   "metadata": {},
   "source": [
    "# 连续变量与TARGET的相关系数"
   ]
  },
  {
   "cell_type": "code",
   "execution_count": 26,
   "metadata": {
    "collapsed": true
   },
   "outputs": [],
   "source": [
    "train_num = train_data[list(num_dict.keys())].copy()\n",
    "train_num['TARGET'] = train_target\n",
    "train_corr = train_num.corr()"
   ]
  },
  {
   "cell_type": "code",
   "execution_count": 27,
   "metadata": {},
   "outputs": [
    {
     "name": "stdout",
     "output_type": "stream",
     "text": [
      "Most Positive Correlations:\n",
      " DAYS_REGISTRATION              0.041975\n",
      "FLAG_DOCUMENT_3                0.044346\n",
      "REG_CITY_NOT_LIVE_CITY         0.044395\n",
      "FLAG_EMP_PHONE                 0.045982\n",
      "DAYS_CREDIT_MAX                0.048847\n",
      "REG_CITY_NOT_WORK_CITY         0.050994\n",
      "DAYS_ID_PUBLISH                0.051457\n",
      "AMT_DEBT_PERCENT               0.052563\n",
      "DAYS_LAST_PHONE_CHANGE         0.055218\n",
      "REGION_RATING_CLIENT           0.058899\n",
      "CREDIT_ACTIVE_Active           0.060544\n",
      "REGION_RATING_CLIENT_W_CITY    0.060893\n",
      "DAYS_CREDIT_MIN                0.067388\n",
      "DAYS_BIRTH                     0.078239\n",
      "TARGET                         1.000000\n",
      "Name: TARGET, dtype: float64\n",
      "\n",
      "Most Negative Correlations:\n",
      " EXT_SOURCE_2                 -0.160295\n",
      "EXT_SOURCE_3                 -0.155892\n",
      "DAYS_EMPLOYED                -0.044932\n",
      "AMT_GOODS_PRICE              -0.039623\n",
      "FLOORSMAX_AVG                -0.039385\n",
      "FLOORSMAX_MEDI               -0.039157\n",
      "FLOORSMAX_MODE               -0.038377\n",
      "REGION_POPULATION_RELATIVE   -0.037227\n",
      "HAS_BUREAU                   -0.030789\n",
      "AMT_CREDIT                   -0.030369\n",
      "TOTALAREA_MODE               -0.030214\n",
      "CREDIT_ACTIVE_Closed         -0.029582\n",
      "FLAG_DOCUMENT_6              -0.028602\n",
      "HOUR_APPR_PROCESS_START      -0.024166\n",
      "FLAG_PHONE                   -0.023806\n",
      "Name: TARGET, dtype: float64\n"
     ]
    }
   ],
   "source": [
    "train_corr = train_corr['TARGET'].sort_values()\n",
    "print('Most Positive Correlations:\\n', train_corr.tail(15))\n",
    "print('\\nMost Negative Correlations:\\n', train_corr.head(15))"
   ]
  },
  {
   "cell_type": "code",
   "execution_count": 28,
   "metadata": {
    "collapsed": true
   },
   "outputs": [],
   "source": [
    "#特殊列，新建分类变量\n",
    "train_data['DAYS_EMPLOYED_NEW'] = (train_data['DAYS_EMPLOYED']==365243).astype(int)\n",
    "train_data.loc[train_data['DAYS_EMPLOYED']==365243,'DAYS_EMPLOYED'] = -20000"
   ]
  },
  {
   "cell_type": "code",
   "execution_count": 29,
   "metadata": {
    "collapsed": true
   },
   "outputs": [],
   "source": [
    "test_data['DAYS_EMPLOYED_NEW'] = (test_data['DAYS_EMPLOYED']==365243).astype(int)\n",
    "test_data.loc[test_data['DAYS_EMPLOYED']==365243,'DAYS_EMPLOYED'] = -20000"
   ]
  },
  {
   "cell_type": "markdown",
   "metadata": {},
   "source": [
    "# 找出可以转为分类变量的连续变量（unique值少的）"
   ]
  },
  {
   "cell_type": "code",
   "execution_count": 30,
   "metadata": {},
   "outputs": [
    {
     "name": "stdout",
     "output_type": "stream",
     "text": [
      "['AMT_REQ_CREDIT_BUREAU_HOUR', 'AMT_REQ_CREDIT_BUREAU_WEEK', 'AMT_REQ_CREDIT_BUREAU_DAY', 'CREDIT_TYPE_Another type of loan', 'CNT_CREDIT_PROLONG', 'CREDIT_CURRENCY_currency 3', 'CREDIT_TYPE_Unknown type of loan', 'CREDIT_TYPE_Loan for business development', 'CREDIT_TYPE_Loan for working capital replenishment', 'AMT_REQ_CREDIT_BUREAU_QRT', 'CREDIT_CURRENCY_currency 2', 'CNT_FAM_MEMBERS', 'CREDIT_ACTIVE_Sold', 'CNT_CHILDREN', 'CREDIT_TYPE_Car loan', 'CREDIT_TYPE_Mortgage', 'DEF_60_CNT_SOCIAL_CIRCLE', 'DEF_30_CNT_SOCIAL_CIRCLE']\n"
     ]
    }
   ],
   "source": [
    "maybe_cat = []\n",
    "for col in abs(train_corr).sort_values().index:\n",
    "    if train_num[col].nunique()>3 and train_num[col].nunique()<20:\n",
    "        maybe_cat.append(col)\n",
    "print(maybe_cat)"
   ]
  },
  {
   "cell_type": "code",
   "execution_count": 31,
   "metadata": {
    "collapsed": true
   },
   "outputs": [],
   "source": [
    "new_cat = []\n",
    "for col in maybe_cat:\n",
    "    s_point = train_num[col].min()-1\n",
    "    e_point = train_num[col].max()\n",
    "    split_num = train_num[col].nunique()//2 + 1\n",
    "    labels = []\n",
    "    for i in range(split_num-1):\n",
    "        labels.append(str(i))\n",
    "    col_name = col + '_CUT'\n",
    "    new_cat.append(col_name)\n",
    "    train_data[col_name] = pd.cut(train_data[col], bins = np.linspace(s_point, e_point, num = split_num), labels=labels)\n",
    "    test_data[col_name] = pd.cut(test_data[col], bins = np.linspace(s_point, e_point, num = split_num), labels=labels)"
   ]
  },
  {
   "cell_type": "code",
   "execution_count": 32,
   "metadata": {
    "collapsed": true
   },
   "outputs": [],
   "source": [
    "#对新建的分类变量进行独热编码\n",
    "train_data = pd.get_dummies(train_data, columns=new_cat)\n",
    "test_data = pd.get_dummies(test_data, columns=new_cat)"
   ]
  },
  {
   "cell_type": "code",
   "execution_count": 33,
   "metadata": {},
   "outputs": [
    {
     "name": "stdout",
     "output_type": "stream",
     "text": [
      "(307511, 312) (48744, 312)\n"
     ]
    }
   ],
   "source": [
    "train_data, test_data = train_data.align(test_data, join = 'inner', axis = 1)\n",
    "print(train_data.shape, test_data.shape)"
   ]
  },
  {
   "cell_type": "code",
   "execution_count": 34,
   "metadata": {},
   "outputs": [
    {
     "data": {
      "text/html": [
       "<div>\n",
       "<style>\n",
       "    .dataframe thead tr:only-child th {\n",
       "        text-align: right;\n",
       "    }\n",
       "\n",
       "    .dataframe thead th {\n",
       "        text-align: left;\n",
       "    }\n",
       "\n",
       "    .dataframe tbody tr th {\n",
       "        vertical-align: top;\n",
       "    }\n",
       "</style>\n",
       "<table border=\"1\" class=\"dataframe\">\n",
       "  <thead>\n",
       "    <tr style=\"text-align: right;\">\n",
       "      <th></th>\n",
       "      <th>SK_ID_CURR</th>\n",
       "      <th>NAME_CONTRACT_TYPE</th>\n",
       "      <th>FLAG_OWN_CAR</th>\n",
       "      <th>FLAG_OWN_REALTY</th>\n",
       "      <th>CNT_CHILDREN</th>\n",
       "      <th>AMT_INCOME_TOTAL</th>\n",
       "      <th>AMT_CREDIT</th>\n",
       "      <th>AMT_ANNUITY</th>\n",
       "      <th>AMT_GOODS_PRICE</th>\n",
       "      <th>REGION_POPULATION_RELATIVE</th>\n",
       "      <th>...</th>\n",
       "      <th>CREDIT_TYPE_Mortgage_CUT_3</th>\n",
       "      <th>DEF_60_CNT_SOCIAL_CIRCLE_CUT_0</th>\n",
       "      <th>DEF_60_CNT_SOCIAL_CIRCLE_CUT_1</th>\n",
       "      <th>DEF_60_CNT_SOCIAL_CIRCLE_CUT_2</th>\n",
       "      <th>DEF_60_CNT_SOCIAL_CIRCLE_CUT_3</th>\n",
       "      <th>DEF_30_CNT_SOCIAL_CIRCLE_CUT_0</th>\n",
       "      <th>DEF_30_CNT_SOCIAL_CIRCLE_CUT_1</th>\n",
       "      <th>DEF_30_CNT_SOCIAL_CIRCLE_CUT_2</th>\n",
       "      <th>DEF_30_CNT_SOCIAL_CIRCLE_CUT_3</th>\n",
       "      <th>DEF_30_CNT_SOCIAL_CIRCLE_CUT_4</th>\n",
       "    </tr>\n",
       "  </thead>\n",
       "  <tbody>\n",
       "    <tr>\n",
       "      <th>count</th>\n",
       "      <td>307511.000000</td>\n",
       "      <td>307511.000000</td>\n",
       "      <td>307511.000000</td>\n",
       "      <td>307511.000000</td>\n",
       "      <td>307511.000000</td>\n",
       "      <td>3.075110e+05</td>\n",
       "      <td>3.075110e+05</td>\n",
       "      <td>307511.000000</td>\n",
       "      <td>3.075110e+05</td>\n",
       "      <td>307511.000000</td>\n",
       "      <td>...</td>\n",
       "      <td>307511.000000</td>\n",
       "      <td>307511.000000</td>\n",
       "      <td>307511.000000</td>\n",
       "      <td>307511.0</td>\n",
       "      <td>307511.000000</td>\n",
       "      <td>307511.000000</td>\n",
       "      <td>307511.000000</td>\n",
       "      <td>307511.0</td>\n",
       "      <td>307511.0</td>\n",
       "      <td>307511.000000</td>\n",
       "    </tr>\n",
       "    <tr>\n",
       "      <th>mean</th>\n",
       "      <td>278180.518577</td>\n",
       "      <td>0.095213</td>\n",
       "      <td>0.340108</td>\n",
       "      <td>0.693673</td>\n",
       "      <td>0.417052</td>\n",
       "      <td>1.687979e+05</td>\n",
       "      <td>5.990260e+05</td>\n",
       "      <td>27108.487841</td>\n",
       "      <td>5.383163e+05</td>\n",
       "      <td>0.020868</td>\n",
       "      <td>...</td>\n",
       "      <td>0.000003</td>\n",
       "      <td>0.999984</td>\n",
       "      <td>0.000013</td>\n",
       "      <td>0.0</td>\n",
       "      <td>0.000003</td>\n",
       "      <td>0.999990</td>\n",
       "      <td>0.000007</td>\n",
       "      <td>0.0</td>\n",
       "      <td>0.0</td>\n",
       "      <td>0.000003</td>\n",
       "    </tr>\n",
       "    <tr>\n",
       "      <th>std</th>\n",
       "      <td>102790.175348</td>\n",
       "      <td>0.293509</td>\n",
       "      <td>0.473746</td>\n",
       "      <td>0.460968</td>\n",
       "      <td>0.722121</td>\n",
       "      <td>2.371231e+05</td>\n",
       "      <td>4.024908e+05</td>\n",
       "      <td>14493.461065</td>\n",
       "      <td>3.692890e+05</td>\n",
       "      <td>0.013831</td>\n",
       "      <td>...</td>\n",
       "      <td>0.001803</td>\n",
       "      <td>0.004032</td>\n",
       "      <td>0.003607</td>\n",
       "      <td>0.0</td>\n",
       "      <td>0.001803</td>\n",
       "      <td>0.003123</td>\n",
       "      <td>0.002550</td>\n",
       "      <td>0.0</td>\n",
       "      <td>0.0</td>\n",
       "      <td>0.001803</td>\n",
       "    </tr>\n",
       "    <tr>\n",
       "      <th>min</th>\n",
       "      <td>100002.000000</td>\n",
       "      <td>0.000000</td>\n",
       "      <td>0.000000</td>\n",
       "      <td>0.000000</td>\n",
       "      <td>0.000000</td>\n",
       "      <td>2.565000e+04</td>\n",
       "      <td>4.500000e+04</td>\n",
       "      <td>1615.500000</td>\n",
       "      <td>4.050000e+04</td>\n",
       "      <td>0.000290</td>\n",
       "      <td>...</td>\n",
       "      <td>0.000000</td>\n",
       "      <td>0.000000</td>\n",
       "      <td>0.000000</td>\n",
       "      <td>0.0</td>\n",
       "      <td>0.000000</td>\n",
       "      <td>0.000000</td>\n",
       "      <td>0.000000</td>\n",
       "      <td>0.0</td>\n",
       "      <td>0.0</td>\n",
       "      <td>0.000000</td>\n",
       "    </tr>\n",
       "    <tr>\n",
       "      <th>25%</th>\n",
       "      <td>189145.500000</td>\n",
       "      <td>0.000000</td>\n",
       "      <td>0.000000</td>\n",
       "      <td>0.000000</td>\n",
       "      <td>0.000000</td>\n",
       "      <td>1.125000e+05</td>\n",
       "      <td>2.700000e+05</td>\n",
       "      <td>16524.000000</td>\n",
       "      <td>2.385000e+05</td>\n",
       "      <td>0.010006</td>\n",
       "      <td>...</td>\n",
       "      <td>0.000000</td>\n",
       "      <td>1.000000</td>\n",
       "      <td>0.000000</td>\n",
       "      <td>0.0</td>\n",
       "      <td>0.000000</td>\n",
       "      <td>1.000000</td>\n",
       "      <td>0.000000</td>\n",
       "      <td>0.0</td>\n",
       "      <td>0.0</td>\n",
       "      <td>0.000000</td>\n",
       "    </tr>\n",
       "    <tr>\n",
       "      <th>50%</th>\n",
       "      <td>278202.000000</td>\n",
       "      <td>0.000000</td>\n",
       "      <td>0.000000</td>\n",
       "      <td>1.000000</td>\n",
       "      <td>0.000000</td>\n",
       "      <td>1.471500e+05</td>\n",
       "      <td>5.135310e+05</td>\n",
       "      <td>24903.000000</td>\n",
       "      <td>4.500000e+05</td>\n",
       "      <td>0.018850</td>\n",
       "      <td>...</td>\n",
       "      <td>0.000000</td>\n",
       "      <td>1.000000</td>\n",
       "      <td>0.000000</td>\n",
       "      <td>0.0</td>\n",
       "      <td>0.000000</td>\n",
       "      <td>1.000000</td>\n",
       "      <td>0.000000</td>\n",
       "      <td>0.0</td>\n",
       "      <td>0.0</td>\n",
       "      <td>0.000000</td>\n",
       "    </tr>\n",
       "    <tr>\n",
       "      <th>75%</th>\n",
       "      <td>367142.500000</td>\n",
       "      <td>0.000000</td>\n",
       "      <td>1.000000</td>\n",
       "      <td>1.000000</td>\n",
       "      <td>1.000000</td>\n",
       "      <td>2.025000e+05</td>\n",
       "      <td>8.086500e+05</td>\n",
       "      <td>34596.000000</td>\n",
       "      <td>6.795000e+05</td>\n",
       "      <td>0.028663</td>\n",
       "      <td>...</td>\n",
       "      <td>0.000000</td>\n",
       "      <td>1.000000</td>\n",
       "      <td>0.000000</td>\n",
       "      <td>0.0</td>\n",
       "      <td>0.000000</td>\n",
       "      <td>1.000000</td>\n",
       "      <td>0.000000</td>\n",
       "      <td>0.0</td>\n",
       "      <td>0.0</td>\n",
       "      <td>0.000000</td>\n",
       "    </tr>\n",
       "    <tr>\n",
       "      <th>max</th>\n",
       "      <td>456255.000000</td>\n",
       "      <td>1.000000</td>\n",
       "      <td>1.000000</td>\n",
       "      <td>1.000000</td>\n",
       "      <td>19.000000</td>\n",
       "      <td>1.170000e+08</td>\n",
       "      <td>4.050000e+06</td>\n",
       "      <td>258025.500000</td>\n",
       "      <td>4.050000e+06</td>\n",
       "      <td>0.072508</td>\n",
       "      <td>...</td>\n",
       "      <td>1.000000</td>\n",
       "      <td>1.000000</td>\n",
       "      <td>1.000000</td>\n",
       "      <td>0.0</td>\n",
       "      <td>1.000000</td>\n",
       "      <td>1.000000</td>\n",
       "      <td>1.000000</td>\n",
       "      <td>0.0</td>\n",
       "      <td>0.0</td>\n",
       "      <td>1.000000</td>\n",
       "    </tr>\n",
       "  </tbody>\n",
       "</table>\n",
       "<p>8 rows × 312 columns</p>\n",
       "</div>"
      ],
      "text/plain": [
       "          SK_ID_CURR  NAME_CONTRACT_TYPE   FLAG_OWN_CAR  FLAG_OWN_REALTY  \\\n",
       "count  307511.000000       307511.000000  307511.000000    307511.000000   \n",
       "mean   278180.518577            0.095213       0.340108         0.693673   \n",
       "std    102790.175348            0.293509       0.473746         0.460968   \n",
       "min    100002.000000            0.000000       0.000000         0.000000   \n",
       "25%    189145.500000            0.000000       0.000000         0.000000   \n",
       "50%    278202.000000            0.000000       0.000000         1.000000   \n",
       "75%    367142.500000            0.000000       1.000000         1.000000   \n",
       "max    456255.000000            1.000000       1.000000         1.000000   \n",
       "\n",
       "        CNT_CHILDREN  AMT_INCOME_TOTAL    AMT_CREDIT    AMT_ANNUITY  \\\n",
       "count  307511.000000      3.075110e+05  3.075110e+05  307511.000000   \n",
       "mean        0.417052      1.687979e+05  5.990260e+05   27108.487841   \n",
       "std         0.722121      2.371231e+05  4.024908e+05   14493.461065   \n",
       "min         0.000000      2.565000e+04  4.500000e+04    1615.500000   \n",
       "25%         0.000000      1.125000e+05  2.700000e+05   16524.000000   \n",
       "50%         0.000000      1.471500e+05  5.135310e+05   24903.000000   \n",
       "75%         1.000000      2.025000e+05  8.086500e+05   34596.000000   \n",
       "max        19.000000      1.170000e+08  4.050000e+06  258025.500000   \n",
       "\n",
       "       AMT_GOODS_PRICE  REGION_POPULATION_RELATIVE  \\\n",
       "count     3.075110e+05               307511.000000   \n",
       "mean      5.383163e+05                    0.020868   \n",
       "std       3.692890e+05                    0.013831   \n",
       "min       4.050000e+04                    0.000290   \n",
       "25%       2.385000e+05                    0.010006   \n",
       "50%       4.500000e+05                    0.018850   \n",
       "75%       6.795000e+05                    0.028663   \n",
       "max       4.050000e+06                    0.072508   \n",
       "\n",
       "                    ...                CREDIT_TYPE_Mortgage_CUT_3  \\\n",
       "count               ...                             307511.000000   \n",
       "mean                ...                                  0.000003   \n",
       "std                 ...                                  0.001803   \n",
       "min                 ...                                  0.000000   \n",
       "25%                 ...                                  0.000000   \n",
       "50%                 ...                                  0.000000   \n",
       "75%                 ...                                  0.000000   \n",
       "max                 ...                                  1.000000   \n",
       "\n",
       "       DEF_60_CNT_SOCIAL_CIRCLE_CUT_0  DEF_60_CNT_SOCIAL_CIRCLE_CUT_1  \\\n",
       "count                   307511.000000                   307511.000000   \n",
       "mean                         0.999984                        0.000013   \n",
       "std                          0.004032                        0.003607   \n",
       "min                          0.000000                        0.000000   \n",
       "25%                          1.000000                        0.000000   \n",
       "50%                          1.000000                        0.000000   \n",
       "75%                          1.000000                        0.000000   \n",
       "max                          1.000000                        1.000000   \n",
       "\n",
       "       DEF_60_CNT_SOCIAL_CIRCLE_CUT_2  DEF_60_CNT_SOCIAL_CIRCLE_CUT_3  \\\n",
       "count                        307511.0                   307511.000000   \n",
       "mean                              0.0                        0.000003   \n",
       "std                               0.0                        0.001803   \n",
       "min                               0.0                        0.000000   \n",
       "25%                               0.0                        0.000000   \n",
       "50%                               0.0                        0.000000   \n",
       "75%                               0.0                        0.000000   \n",
       "max                               0.0                        1.000000   \n",
       "\n",
       "       DEF_30_CNT_SOCIAL_CIRCLE_CUT_0  DEF_30_CNT_SOCIAL_CIRCLE_CUT_1  \\\n",
       "count                   307511.000000                   307511.000000   \n",
       "mean                         0.999990                        0.000007   \n",
       "std                          0.003123                        0.002550   \n",
       "min                          0.000000                        0.000000   \n",
       "25%                          1.000000                        0.000000   \n",
       "50%                          1.000000                        0.000000   \n",
       "75%                          1.000000                        0.000000   \n",
       "max                          1.000000                        1.000000   \n",
       "\n",
       "       DEF_30_CNT_SOCIAL_CIRCLE_CUT_2  DEF_30_CNT_SOCIAL_CIRCLE_CUT_3  \\\n",
       "count                        307511.0                        307511.0   \n",
       "mean                              0.0                             0.0   \n",
       "std                               0.0                             0.0   \n",
       "min                               0.0                             0.0   \n",
       "25%                               0.0                             0.0   \n",
       "50%                               0.0                             0.0   \n",
       "75%                               0.0                             0.0   \n",
       "max                               0.0                             0.0   \n",
       "\n",
       "       DEF_30_CNT_SOCIAL_CIRCLE_CUT_4  \n",
       "count                   307511.000000  \n",
       "mean                         0.000003  \n",
       "std                          0.001803  \n",
       "min                          0.000000  \n",
       "25%                          0.000000  \n",
       "50%                          0.000000  \n",
       "75%                          0.000000  \n",
       "max                          1.000000  \n",
       "\n",
       "[8 rows x 312 columns]"
      ]
     },
     "execution_count": 34,
     "metadata": {},
     "output_type": "execute_result"
    }
   ],
   "source": [
    "train_data.describe()"
   ]
  },
  {
   "cell_type": "markdown",
   "metadata": {
    "collapsed": true
   },
   "source": [
    "# Polynomial features(随机森林筛选重要特征进行poly化)"
   ]
  },
  {
   "cell_type": "code",
   "execution_count": 35,
   "metadata": {
    "collapsed": true
   },
   "outputs": [],
   "source": [
    "#部分百分比inf，转为1\n",
    "train_data['AMT_OVERDUE_PERCENT'] = train_data['AMT_OVERDUE_PERCENT'].apply(lambda x:1 if x==np.inf else x)\n",
    "train_data['AMT_DEBT_PERCENT'] = train_data['AMT_DEBT_PERCENT'].apply(lambda x:1 if x==np.inf else x)\n",
    "train_data['AMT_OVERDUE_PERCENT'] = train_data['AMT_OVERDUE_PERCENT'].apply(lambda x:0 if x==-np.inf else x)\n",
    "train_data['AMT_DEBT_PERCENT'] = train_data['AMT_DEBT_PERCENT'].apply(lambda x:0 if x==-np.inf else x)\n",
    "test_data['AMT_OVERDUE_PERCENT'] = test_data['AMT_OVERDUE_PERCENT'].apply(lambda x:1 if x==np.inf else x)\n",
    "test_data['AMT_DEBT_PERCENT'] = test_data['AMT_DEBT_PERCENT'].apply(lambda x:1 if x==np.inf else x)\n",
    "test_data['AMT_OVERDUE_PERCENT'] = test_data['AMT_OVERDUE_PERCENT'].apply(lambda x:0 if x==-np.inf else x)\n",
    "test_data['AMT_DEBT_PERCENT'] = test_data['AMT_DEBT_PERCENT'].apply(lambda x:0 if x==-np.inf else x)"
   ]
  },
  {
   "cell_type": "code",
   "execution_count": 36,
   "metadata": {},
   "outputs": [
    {
     "data": {
      "text/plain": [
       "ExtraTreesClassifier(bootstrap=False, class_weight=None, criterion='gini',\n",
       "           max_depth=None, max_features='auto', max_leaf_nodes=None,\n",
       "           min_impurity_decrease=0.0, min_impurity_split=None,\n",
       "           min_samples_leaf=1, min_samples_split=2,\n",
       "           min_weight_fraction_leaf=0.0, n_estimators=150, n_jobs=6,\n",
       "           oob_score=False, random_state=0, verbose=0, warm_start=False)"
      ]
     },
     "execution_count": 36,
     "metadata": {},
     "output_type": "execute_result"
    }
   ],
   "source": [
    "forest = ExtraTreesClassifier(n_estimators=150,\n",
    "                              random_state=0,n_jobs=6)\n",
    "\n",
    "forest.fit(train_data, train_target)"
   ]
  },
  {
   "cell_type": "code",
   "execution_count": 37,
   "metadata": {},
   "outputs": [
    {
     "name": "stdout",
     "output_type": "stream",
     "text": [
      "Feature ranking:\n",
      "1. feature EXT_SOURCE_2 (0.028730)\n",
      "2. feature EXT_SOURCE_3 (0.024233)\n",
      "3. feature DAYS_BIRTH (0.016934)\n",
      "4. feature DAYS_ID_PUBLISH (0.016559)\n",
      "5. feature DAYS_REGISTRATION (0.016075)\n",
      "6. feature DAYS_LAST_PHONE_CHANGE (0.016053)\n",
      "7. feature SK_ID_CURR (0.015724)\n",
      "8. feature HOUR_APPR_PROCESS_START (0.015578)\n",
      "9. feature AMT_INCOME_TOTAL (0.015365)\n",
      "10. feature REGION_POPULATION_RELATIVE (0.015364)\n",
      "11. feature AMT_ANNUITY (0.015235)\n",
      "12. feature AMT_CREDIT (0.015201)\n",
      "13. feature AMT_GOODS_PRICE (0.014812)\n",
      "14. feature DAYS_CREDIT_MIN (0.014300)\n",
      "15. feature AMT_DEBT_PERCENT (0.014258)\n",
      "16. feature DAYS_EMPLOYED (0.013951)\n",
      "17. feature DAYS_CREDIT_MAX (0.013284)\n",
      "18. feature DAYS_CREDIT_ENDDATE_MAX (0.013053)\n",
      "19. feature DAYS_CREDIT_UPDATE_MIN (0.013007)\n",
      "20. feature DAYS_CREDIT_ENDDATE_MIN (0.012978)\n",
      "21. feature OBS_60_CNT_SOCIAL_CIRCLE (0.012798)\n",
      "22. feature CREDIT_ACTIVE_Active (0.012797)\n",
      "23. feature OBS_30_CNT_SOCIAL_CIRCLE (0.012765)\n",
      "24. feature AMT_REQ_CREDIT_BUREAU_YEAR (0.012652)\n",
      "25. feature DAYS_CREDIT_UPDATE_MAX (0.012499)\n",
      "26. feature AMT_CREDIT_SUM (0.012184)\n",
      "27. feature AMT_CREDIT_SUM_DEBT (0.012104)\n",
      "28. feature CREDIT_CURRENCY_currency 1 (0.011770)\n",
      "29. feature CREDIT_TYPE_Consumer credit (0.011628)\n",
      "30. feature CREDIT_TYPE_Credit card (0.011517)\n",
      "31. feature CREDIT_ACTIVE_Closed (0.011494)\n",
      "32. feature AMT_OVERDUE_PERCENT (0.010653)\n",
      "33. feature AMT_CREDIT_MAX_OVERDUE (0.010062)\n",
      "34. feature FLAG_OWN_REALTY (0.009373)\n",
      "35. feature CNT_FAM_MEMBERS (0.008992)\n",
      "36. feature TOTALAREA_MODE (0.008708)\n",
      "37. feature YEARS_BEGINEXPLUATATION_MEDI (0.008352)\n",
      "38. feature YEARS_BEGINEXPLUATATION_AVG (0.008325)\n",
      "39. feature YEARS_BEGINEXPLUATATION_MODE (0.008285)\n",
      "40. feature FLAG_PHONE (0.008064)\n",
      "41. feature WEEKDAY_APPR_PROCESS_START_TUESDAY (0.007618)\n",
      "42. feature DEF_30_CNT_SOCIAL_CIRCLE (0.007607)\n",
      "43. feature FLAG_OWN_CAR (0.007508)\n",
      "44. feature WEEKDAY_APPR_PROCESS_START_WEDNESDAY (0.007400)\n",
      "45. feature AMT_REQ_CREDIT_BUREAU_QRT (0.007360)\n",
      "46. feature WEEKDAY_APPR_PROCESS_START_THURSDAY (0.007321)\n",
      "47. feature ORGANIZATION_TYPE_Business Entity Type 3 (0.007315)\n",
      "48. feature AMT_CREDIT_SUM_LIMIT (0.007290)\n",
      "49. feature WEEKDAY_APPR_PROCESS_START_FRIDAY (0.007284)\n",
      "50. feature FLAG_WORK_PHONE (0.007210)\n",
      "51. feature CNT_CHILDREN (0.007146)\n",
      "52. feature WEEKDAY_APPR_PROCESS_START_MONDAY (0.007087)\n",
      "53. feature NAME_FAMILY_STATUS_Married (0.006738)\n",
      "54. feature REGION_RATING_CLIENT (0.006615)\n",
      "55. feature AMT_REQ_CREDIT_BUREAU_MON (0.006571)\n",
      "56. feature REGION_RATING_CLIENT_W_CITY (0.006529)\n",
      "57. feature NAME_TYPE_SUITE_Unaccompanied (0.006493)\n",
      "58. feature DEF_60_CNT_SOCIAL_CIRCLE (0.006428)\n",
      "59. feature FLOORSMAX_AVG (0.006411)\n",
      "60. feature FLOORSMAX_MEDI (0.006321)\n",
      "61. feature FLOORSMAX_MODE (0.006226)\n",
      "62. feature ORGANIZATION_TYPE_Self-employed (0.006135)\n",
      "63. feature WEEKDAY_APPR_PROCESS_START_SATURDAY (0.005891)\n",
      "64. feature OCCUPATION_TYPE_Laborers (0.005868)\n",
      "65. feature NAME_TYPE_SUITE_Family (0.005601)\n",
      "66. feature FLAG_DOCUMENT_3 (0.005411)\n",
      "67. feature FONDKAPREMONT_MODE_reg oper account (0.005344)\n",
      "68. feature EMERGENCYSTATE_MODE (0.005214)\n",
      "69. feature NAME_INCOME_TYPE_Working (0.005203)\n",
      "70. feature NAME_FAMILY_STATUS_Single / not married (0.005141)\n",
      "71. feature WALLSMATERIAL_MODE_Stone, brick (0.005128)\n",
      "72. feature REG_CITY_NOT_WORK_CITY (0.005124)\n",
      "73. feature LIVE_CITY_NOT_WORK_CITY (0.005123)\n",
      "74. feature NAME_FAMILY_STATUS_Civil marriage (0.004931)\n",
      "75. feature CNT_FAM_MEMBERS_CUT_0 (0.004904)\n",
      "76. feature CNT_FAM_MEMBERS_CUT_1 (0.004886)\n",
      "77. feature NAME_HOUSING_TYPE_House / apartment (0.004811)\n",
      "78. feature OCCUPATION_TYPE_Sales staff (0.004686)\n",
      "79. feature HOUSETYPE_MODE_block of flats (0.004658)\n",
      "80. feature NAME_INCOME_TYPE_Commercial associate (0.004550)\n",
      "81. feature NAME_EDUCATION_TYPE_Secondary / secondary special (0.004366)\n",
      "82. feature REG_CITY_NOT_LIVE_CITY (0.004304)\n",
      "83. feature WALLSMATERIAL_MODE_Panel (0.004249)\n",
      "84. feature FLAG_EMAIL (0.004113)\n",
      "85. feature WEEKDAY_APPR_PROCESS_START_SUNDAY (0.004065)\n",
      "86. feature CREDIT_TYPE_Microloan (0.004011)\n",
      "87. feature HAS_BUREAU (0.003990)\n",
      "88. feature NAME_FAMILY_STATUS_Separated (0.003873)\n",
      "89. feature ORGANIZATION_TYPE_Other (0.003816)\n",
      "90. feature CODE_GENDER_M (0.003688)\n",
      "91. feature CODE_GENDER_F (0.003654)\n",
      "92. feature NAME_EDUCATION_TYPE_Higher education (0.003574)\n",
      "93. feature OCCUPATION_TYPE_Drivers (0.003439)\n",
      "94. feature NAME_HOUSING_TYPE_With parents (0.003333)\n",
      "95. feature AMT_CREDIT_SUM_OVERDUE (0.003310)\n",
      "96. feature OCCUPATION_TYPE_Core staff (0.003217)\n",
      "97. feature CNT_CHILDREN_CUT_0 (0.003197)\n",
      "98. feature CNT_CHILDREN_CUT_1 (0.003176)\n",
      "99. feature OCCUPATION_TYPE_Managers (0.003105)\n",
      "100. feature ORGANIZATION_TYPE_Business Entity Type 2 (0.003035)\n",
      "101. feature NAME_TYPE_SUITE_Spouse, partner (0.003016)\n",
      "102. feature NAME_CONTRACT_TYPE (0.002993)\n",
      "103. feature ORGANIZATION_TYPE_Construction (0.002875)\n",
      "104. feature REG_REGION_NOT_WORK_REGION (0.002817)\n",
      "105. feature ORGANIZATION_TYPE_Trade: type 7 (0.002787)\n",
      "106. feature CREDIT_TYPE_Car loan (0.002739)\n",
      "107. feature AMT_REQ_CREDIT_BUREAU_WEEK (0.002738)\n",
      "108. feature NAME_HOUSING_TYPE_Municipal apartment (0.002733)\n",
      "109. feature FLAG_DOCUMENT_8 (0.002705)\n",
      "110. feature ORGANIZATION_TYPE_Government (0.002642)\n",
      "111. feature CNT_CREDIT_PROLONG (0.002450)\n",
      "112. feature LIVE_REGION_NOT_WORK_REGION (0.002445)\n",
      "113. feature FONDKAPREMONT_MODE_reg oper spec account (0.002426)\n",
      "114. feature OCCUPATION_TYPE_Security staff (0.002399)\n",
      "115. feature CREDIT_DAY_OVERDUE (0.002369)\n",
      "116. feature OCCUPATION_TYPE_High skill tech staff (0.002279)\n",
      "117. feature OCCUPATION_TYPE_Cooking staff (0.002261)\n",
      "118. feature CREDIT_ACTIVE_Sold (0.002261)\n",
      "119. feature NAME_FAMILY_STATUS_Widow (0.002259)\n",
      "120. feature ORGANIZATION_TYPE_Transport: type 4 (0.002245)\n",
      "121. feature ORGANIZATION_TYPE_Business Entity Type 1 (0.002178)\n",
      "122. feature ORGANIZATION_TYPE_Medicine (0.002169)\n",
      "123. feature NAME_INCOME_TYPE_State servant (0.002158)\n",
      "124. feature CREDIT_TYPE_Mortgage (0.002152)\n",
      "125. feature WALLSMATERIAL_MODE_Block (0.002102)\n",
      "126. feature NAME_HOUSING_TYPE_Rented apartment (0.002089)\n",
      "127. feature ORGANIZATION_TYPE_School (0.002017)\n",
      "128. feature NAME_EDUCATION_TYPE_Incomplete higher (0.001983)\n",
      "129. feature FLAG_DOCUMENT_6 (0.001889)\n",
      "130. feature ORGANIZATION_TYPE_Industry: type 3 (0.001844)\n",
      "131. feature ORGANIZATION_TYPE_Trade: type 3 (0.001825)\n",
      "132. feature OCCUPATION_TYPE_Cleaning staff (0.001819)\n",
      "133. feature ORGANIZATION_TYPE_Kindergarten (0.001735)\n",
      "134. feature OCCUPATION_TYPE_Low-skill Laborers (0.001703)\n",
      "135. feature FONDKAPREMONT_MODE_not specified (0.001700)\n",
      "136. feature WALLSMATERIAL_MODE_Wooden (0.001668)\n",
      "137. feature NAME_EDUCATION_TYPE_Lower secondary (0.001655)\n",
      "138. feature OCCUPATION_TYPE_Medicine staff (0.001639)\n",
      "139. feature FLAG_DOCUMENT_5 (0.001555)\n",
      "140. feature OCCUPATION_TYPE_Accountants (0.001535)\n",
      "141. feature ORGANIZATION_TYPE_Agriculture (0.001527)\n",
      "142. feature ORGANIZATION_TYPE_Industry: type 11 (0.001464)\n",
      "143. feature ORGANIZATION_TYPE_Housing (0.001444)\n",
      "144. feature NAME_TYPE_SUITE_Children (0.001438)\n",
      "145. feature ORGANIZATION_TYPE_Security (0.001423)\n",
      "146. feature FONDKAPREMONT_MODE_org spec account (0.001395)\n",
      "147. feature REG_REGION_NOT_LIVE_REGION (0.001349)\n",
      "148. feature ORGANIZATION_TYPE_Restaurant (0.001276)\n",
      "149. feature NAME_TYPE_SUITE_Other_B (0.001259)\n",
      "150. feature ORGANIZATION_TYPE_Transport: type 3 (0.001254)\n",
      "151. feature ORGANIZATION_TYPE_Industry: type 9 (0.001159)\n",
      "152. feature ORGANIZATION_TYPE_Postal (0.001155)\n",
      "153. feature ORGANIZATION_TYPE_Transport: type 2 (0.001045)\n",
      "154. feature NAME_HOUSING_TYPE_Office apartment (0.001019)\n",
      "155. feature OCCUPATION_TYPE_Waiters/barmen staff (0.001005)\n",
      "156. feature WALLSMATERIAL_MODE_Mixed (0.000986)\n",
      "157. feature AMT_REQ_CREDIT_BUREAU_DAY (0.000982)\n",
      "158. feature OCCUPATION_TYPE_Private service staff (0.000969)\n",
      "159. feature ORGANIZATION_TYPE_Industry: type 1 (0.000940)\n",
      "160. feature HOUSETYPE_MODE_specific housing (0.000924)\n",
      "161. feature AMT_REQ_CREDIT_BUREAU_HOUR (0.000901)\n",
      "162. feature FLAG_DOCUMENT_16 (0.000885)\n",
      "163. feature ORGANIZATION_TYPE_Industry: type 7 (0.000850)\n",
      "164. feature WALLSMATERIAL_MODE_Others (0.000848)\n",
      "165. feature ORGANIZATION_TYPE_Industry: type 4 (0.000816)\n",
      "166. feature FLAG_DOCUMENT_18 (0.000793)\n",
      "167. feature ORGANIZATION_TYPE_Trade: type 2 (0.000781)\n",
      "168. feature ORGANIZATION_TYPE_Bank (0.000763)\n",
      "169. feature ORGANIZATION_TYPE_Military (0.000754)\n",
      "170. feature ORGANIZATION_TYPE_Services (0.000707)\n",
      "171. feature NAME_TYPE_SUITE_Other_A (0.000692)\n",
      "172. feature NAME_INCOME_TYPE_Pensioner (0.000666)\n",
      "173. feature NAME_HOUSING_TYPE_Co-op apartment (0.000661)\n",
      "174. feature CREDIT_TYPE_Loan for business development (0.000658)\n",
      "175. feature OCCUPATION_TYPE_Secretaries (0.000653)\n",
      "176. feature ORGANIZATION_TYPE_Police (0.000650)\n",
      "177. feature ORGANIZATION_TYPE_Security Ministries (0.000613)\n",
      "178. feature FLAG_EMP_PHONE (0.000583)\n",
      "179. feature HOUSETYPE_MODE_terraced house (0.000575)\n",
      "180. feature ORGANIZATION_TYPE_XNA (0.000575)\n",
      "181. feature DAYS_EMPLOYED_NEW (0.000570)\n",
      "182. feature ORGANIZATION_TYPE_Hotel (0.000568)\n",
      "183. feature CREDIT_TYPE_Car loan_CUT_0 (0.000551)\n",
      "184. feature ORGANIZATION_TYPE_University (0.000547)\n",
      "185. feature CREDIT_TYPE_Car loan_CUT_1 (0.000544)\n",
      "186. feature CNT_CREDIT_PROLONG_CUT_1 (0.000543)\n",
      "187. feature ORGANIZATION_TYPE_Electricity (0.000541)\n",
      "188. feature CNT_CREDIT_PROLONG_CUT_0 (0.000535)\n",
      "189. feature FLAG_DOCUMENT_9 (0.000529)\n",
      "190. feature CREDIT_TYPE_Another type of loan (0.000509)\n",
      "191. feature OCCUPATION_TYPE_Realty agents (0.000500)\n",
      "192. feature ORGANIZATION_TYPE_Telecom (0.000475)\n",
      "193. feature WALLSMATERIAL_MODE_Monolithic (0.000457)\n",
      "194. feature ORGANIZATION_TYPE_Realtor (0.000438)\n",
      "195. feature CREDIT_TYPE_Loan for working capital replenishment (0.000432)\n",
      "196. feature CNT_FAM_MEMBERS_CUT_2 (0.000428)\n",
      "197. feature ORGANIZATION_TYPE_Industry: type 5 (0.000419)\n",
      "198. feature ORGANIZATION_TYPE_Advertising (0.000398)\n",
      "199. feature ORGANIZATION_TYPE_Industry: type 2 (0.000379)\n",
      "200. feature FLAG_CONT_MOBILE (0.000376)\n",
      "201. feature ORGANIZATION_TYPE_Cleaning (0.000363)\n",
      "202. feature ORGANIZATION_TYPE_Emergency (0.000354)\n",
      "203. feature ORGANIZATION_TYPE_Trade: type 1 (0.000353)\n",
      "204. feature FLAG_DOCUMENT_11 (0.000353)\n",
      "205. feature CREDIT_CURRENCY_currency 2 (0.000342)\n",
      "206. feature ORGANIZATION_TYPE_Insurance (0.000342)\n",
      "207. feature OCCUPATION_TYPE_IT staff (0.000320)\n",
      "208. feature ORGANIZATION_TYPE_Mobile (0.000320)\n",
      "209. feature OCCUPATION_TYPE_HR staff (0.000314)\n",
      "210. feature CREDIT_TYPE_Unknown type of loan (0.000314)\n",
      "211. feature NAME_TYPE_SUITE_Group of people (0.000304)\n",
      "212. feature ORGANIZATION_TYPE_Trade: type 6 (0.000297)\n",
      "213. feature ORGANIZATION_TYPE_Culture (0.000269)\n",
      "214. feature ORGANIZATION_TYPE_Legal Services (0.000265)\n",
      "215. feature CREDIT_ACTIVE_Sold_CUT_0 (0.000221)\n",
      "216. feature CREDIT_ACTIVE_Sold_CUT_1 (0.000217)\n",
      "217. feature FLAG_DOCUMENT_13 (0.000215)\n",
      "218. feature FLAG_DOCUMENT_14 (0.000204)\n",
      "219. feature AMT_REQ_CREDIT_BUREAU_WEEK_CUT_0 (0.000177)\n",
      "220. feature ORGANIZATION_TYPE_Industry: type 12 (0.000175)\n",
      "221. feature CREDIT_CURRENCY_currency 3 (0.000174)\n",
      "222. feature AMT_REQ_CREDIT_BUREAU_WEEK_CUT_1 (0.000158)\n",
      "223. feature FLAG_DOCUMENT_19 (0.000155)\n",
      "224. feature FLAG_DOCUMENT_20 (0.000132)\n",
      "225. feature FLAG_DOCUMENT_21 (0.000124)\n",
      "226. feature ORGANIZATION_TYPE_Industry: type 13 (0.000115)\n",
      "227. feature ORGANIZATION_TYPE_Transport: type 1 (0.000111)\n",
      "228. feature CNT_CHILDREN_CUT_2 (0.000108)\n",
      "229. feature ORGANIZATION_TYPE_Industry: type 6 (0.000108)\n",
      "230. feature NAME_INCOME_TYPE_Unemployed (0.000108)\n",
      "231. feature AMT_REQ_CREDIT_BUREAU_DAY_CUT_1 (0.000101)\n",
      "232. feature CREDIT_TYPE_Loan for business development_CUT_1 (0.000100)\n",
      "233. feature FLAG_DOCUMENT_15 (0.000099)\n",
      "234. feature ORGANIZATION_TYPE_Industry: type 10 (0.000098)\n",
      "235. feature CREDIT_TYPE_Loan for business development_CUT_0 (0.000098)\n",
      "236. feature AMT_REQ_CREDIT_BUREAU_DAY_CUT_0 (0.000089)\n",
      "237. feature FLAG_DOCUMENT_2 (0.000086)\n",
      "238. feature CNT_FAM_MEMBERS_CUT_3 (0.000082)\n",
      "239. feature ORGANIZATION_TYPE_Religion (0.000075)\n",
      "240. feature ORGANIZATION_TYPE_Industry: type 8 (0.000054)\n",
      "241. feature ORGANIZATION_TYPE_Trade: type 5 (0.000053)\n",
      "242. feature AMT_REQ_CREDIT_BUREAU_HOUR_CUT_1 (0.000045)\n",
      "243. feature CREDIT_TYPE_Loan for the purchase of equipment (0.000045)\n",
      "244. feature CREDIT_ACTIVE_Bad debt (0.000042)\n",
      "245. feature FLAG_DOCUMENT_7 (0.000041)\n",
      "246. feature AMT_REQ_CREDIT_BUREAU_WEEK_CUT_2 (0.000040)\n",
      "247. feature NAME_EDUCATION_TYPE_Academic degree (0.000038)\n",
      "248. feature AMT_REQ_CREDIT_BUREAU_HOUR_CUT_0 (0.000038)\n",
      "249. feature ORGANIZATION_TYPE_Trade: type 4 (0.000035)\n",
      "250. feature CREDIT_CURRENCY_currency 2_CUT_0 (0.000034)\n",
      "251. feature FLAG_DOCUMENT_17 (0.000032)\n",
      "252. feature CREDIT_CURRENCY_currency 2_CUT_1 (0.000032)\n",
      "253. feature CNT_CREDIT_PROLONG_CUT_2 (0.000027)\n",
      "254. feature CREDIT_TYPE_Cash loan (non-earmarked) (0.000026)\n",
      "255. feature CREDIT_CURRENCY_currency 3_CUT_0 (0.000026)\n",
      "256. feature CREDIT_CURRENCY_currency 3_CUT_1 (0.000025)\n",
      "257. feature CREDIT_TYPE_Mortgage_CUT_1 (0.000023)\n",
      "258. feature CNT_CHILDREN_CUT_3 (0.000022)\n",
      "259. feature CREDIT_TYPE_Mortgage_CUT_0 (0.000022)\n",
      "260. feature AMT_REQ_CREDIT_BUREAU_WEEK_CUT_3 (0.000018)\n",
      "261. feature CREDIT_TYPE_Car loan_CUT_2 (0.000016)\n",
      "262. feature CNT_CREDIT_PROLONG_CUT_3 (0.000015)\n",
      "263. feature CREDIT_TYPE_Unknown type of loan_CUT_1 (0.000010)\n",
      "264. feature CNT_FAM_MEMBERS_CUT_4 (0.000009)\n",
      "265. feature CNT_FAM_MEMBERS_CUT_5 (0.000009)\n",
      "266. feature CREDIT_TYPE_Another type of loan_CUT_0 (0.000009)\n",
      "267. feature CREDIT_TYPE_Another type of loan_CUT_1 (0.000008)\n",
      "268. feature CREDIT_TYPE_Unknown type of loan_CUT_0 (0.000007)\n",
      "269. feature CNT_CHILDREN_CUT_4 (0.000006)\n",
      "270. feature NAME_INCOME_TYPE_Student (0.000001)\n",
      "271. feature CREDIT_TYPE_Loan for working capital replenishment_CUT_1 (0.000001)\n",
      "272. feature AMT_REQ_CREDIT_BUREAU_DAY_CUT_2 (0.000001)\n",
      "273. feature FLAG_DOCUMENT_4 (0.000001)\n",
      "274. feature DEF_60_CNT_SOCIAL_CIRCLE_CUT_0 (0.000001)\n",
      "275. feature FLAG_DOCUMENT_10 (0.000000)\n",
      "276. feature CREDIT_CURRENCY_currency 2_CUT_2 (0.000000)\n",
      "277. feature CREDIT_TYPE_Loan for business development_CUT_2 (0.000000)\n",
      "278. feature CREDIT_CURRENCY_currency 4 (0.000000)\n",
      "279. feature CREDIT_TYPE_Mobile operator loan (0.000000)\n",
      "280. feature CREDIT_TYPE_Real estate loan (0.000000)\n",
      "281. feature DEF_60_CNT_SOCIAL_CIRCLE_CUT_1 (0.000000)\n",
      "282. feature NAME_INCOME_TYPE_Businessman (0.000000)\n",
      "283. feature DEF_30_CNT_SOCIAL_CIRCLE_CUT_0 (0.000000)\n",
      "284. feature CREDIT_TYPE_Car loan_CUT_4 (0.000000)\n",
      "285. feature CREDIT_TYPE_Loan for working capital replenishment_CUT_0 (0.000000)\n",
      "286. feature CNT_FAM_MEMBERS_CUT_7 (0.000000)\n",
      "287. feature CREDIT_ACTIVE_Sold_CUT_3 (0.000000)\n",
      "288. feature CNT_CHILDREN_CUT_6 (0.000000)\n",
      "289. feature CNT_CHILDREN_CUT_5 (0.000000)\n",
      "290. feature DEF_30_CNT_SOCIAL_CIRCLE_CUT_4 (0.000000)\n",
      "291. feature CREDIT_TYPE_Mortgage_CUT_3 (0.000000)\n",
      "292. feature CREDIT_TYPE_Car loan_CUT_3 (0.000000)\n",
      "293. feature AMT_REQ_CREDIT_BUREAU_DAY_CUT_3 (0.000000)\n",
      "294. feature CREDIT_TYPE_Mortgage_CUT_2 (0.000000)\n",
      "295. feature DEF_30_CNT_SOCIAL_CIRCLE_CUT_2 (0.000000)\n",
      "296. feature DEF_30_CNT_SOCIAL_CIRCLE_CUT_1 (0.000000)\n",
      "297. feature AMT_REQ_CREDIT_BUREAU_QRT_CUT_0 (0.000000)\n",
      "298. feature DEF_60_CNT_SOCIAL_CIRCLE_CUT_3 (0.000000)\n",
      "299. feature DEF_60_CNT_SOCIAL_CIRCLE_CUT_2 (0.000000)\n",
      "300. feature AMT_REQ_CREDIT_BUREAU_QRT_CUT_1 (0.000000)\n",
      "301. feature AMT_REQ_CREDIT_BUREAU_QRT_CUT_2 (0.000000)\n",
      "302. feature CNT_CREDIT_PROLONG_CUT_4 (0.000000)\n",
      "303. feature FLAG_DOCUMENT_12 (0.000000)\n",
      "304. feature AMT_REQ_CREDIT_BUREAU_QRT_CUT_3 (0.000000)\n",
      "305. feature AMT_REQ_CREDIT_BUREAU_QRT_CUT_4 (0.000000)\n",
      "306. feature CNT_FAM_MEMBERS_CUT_6 (0.000000)\n",
      "307. feature FLAG_MOBIL (0.000000)\n",
      "308. feature CREDIT_TYPE_Loan for business development_CUT_3 (0.000000)\n",
      "309. feature CREDIT_TYPE_Loan for purchase of shares (margin lending) (0.000000)\n",
      "310. feature CREDIT_ACTIVE_Sold_CUT_2 (0.000000)\n",
      "311. feature CREDIT_TYPE_Interbank credit (0.000000)\n",
      "312. feature DEF_30_CNT_SOCIAL_CIRCLE_CUT_3 (0.000000)\n"
     ]
    }
   ],
   "source": [
    "importances = forest.feature_importances_\n",
    "std = np.std([tree.feature_importances_ for tree in forest.estimators_],\n",
    "             axis=0)\n",
    "indices = np.argsort(importances)[::-1]\n",
    "\n",
    "# Print the feature ranking\n",
    "print(\"Feature ranking:\")\n",
    "\n",
    "for f in range(train_data.shape[1]):\n",
    "    print(\"%d. feature %s (%f)\" % (f + 1, train_data.columns[indices[f]], importances[indices[f]]))"
   ]
  },
  {
   "cell_type": "code",
   "execution_count": 38,
   "metadata": {},
   "outputs": [
    {
     "name": "stdout",
     "output_type": "stream",
     "text": [
      "Polynomial Features shape:  (307511, 8435)\n"
     ]
    }
   ],
   "source": [
    "pf = preprocessing.PolynomialFeatures(degree=3, interaction_only=False, include_bias=False)\n",
    "train_poly = train_data[train_data.columns[indices[0:35]]]\n",
    "test_poly = test_data[test_data.columns[indices[0:35]]]\n",
    "train_poly = pf.fit_transform(train_poly)\n",
    "test_poly = pf.fit_transform(test_poly)\n",
    "print('Polynomial Features shape: ', train_poly.shape)"
   ]
  },
  {
   "cell_type": "markdown",
   "metadata": {},
   "source": [
    "# 对Poly特征进行PCA降维"
   ]
  },
  {
   "cell_type": "code",
   "execution_count": 39,
   "metadata": {},
   "outputs": [
    {
     "data": {
      "text/plain": [
       "PCA(copy=True, iterated_power='auto', n_components=40, random_state=None,\n",
       "  svd_solver='auto', tol=0.0, whiten=False)"
      ]
     },
     "execution_count": 39,
     "metadata": {},
     "output_type": "execute_result"
    }
   ],
   "source": [
    "scaler = preprocessing.MinMaxScaler(feature_range = (0, 1))\n",
    "train_poly = scaler.fit_transform(train_poly)\n",
    "test_poly = scaler.transform(test_poly)\n",
    "pca = PCA(n_components=40)\n",
    "pca.fit(train_poly)"
   ]
  },
  {
   "cell_type": "code",
   "execution_count": 40,
   "metadata": {},
   "outputs": [
    {
     "name": "stdout",
     "output_type": "stream",
     "text": [
      "[ 0.22932364  0.12531627  0.09240243  0.05367791  0.04974506  0.04581404\n",
      "  0.03522546  0.03387151  0.02758265  0.02633302  0.02453296  0.02342226\n",
      "  0.0209767   0.0158931   0.01237814  0.01154838  0.01013906  0.00713305\n",
      "  0.00626972  0.00596654  0.0046552   0.00375413  0.0033979   0.00330717\n",
      "  0.00302226  0.00287486  0.00283576  0.00266432  0.00251222  0.00233027\n",
      "  0.00221429  0.00220502  0.00200829  0.00196667  0.00187039  0.00182345\n",
      "  0.001743    0.00169192  0.00167019  0.00160733]\n",
      "0.907706497661\n"
     ]
    }
   ],
   "source": [
    "print(pca.explained_variance_ratio_)\n",
    "print(pca.explained_variance_ratio_.sum())"
   ]
  },
  {
   "cell_type": "code",
   "execution_count": 41,
   "metadata": {
    "collapsed": true
   },
   "outputs": [],
   "source": [
    "train_poly = pca.transform(train_poly)\n",
    "test_poly = pca.transform(test_poly)"
   ]
  },
  {
   "cell_type": "code",
   "execution_count": 42,
   "metadata": {},
   "outputs": [
    {
     "name": "stdout",
     "output_type": "stream",
     "text": [
      "Training data with polynomial features shape:  (307511, 352)\n",
      "Testing data with polynomial features shape:   (48744, 352)\n"
     ]
    }
   ],
   "source": [
    "# Create a dataframe of the features \n",
    "train_poly= pd.DataFrame(train_poly)\n",
    "# Add in the target\n",
    "train_poly['TARGET'] = train_target\n",
    "# Find the correlations with the target\n",
    "poly_corrs = train_poly.corr()['TARGET'].sort_values()\n",
    "\n",
    "# Put test features into dataframe\n",
    "test_poly= pd.DataFrame(test_poly)\n",
    "\n",
    "# Merge polynomial features into training dataframe\n",
    "\n",
    "train_data_poly = train_data.merge(train_poly, left_index=True, right_index=True, how = 'left')\n",
    "\n",
    "# Merge polnomial features into testing dataframe\n",
    "test_poly['SK_ID_CURR'] = test_data['SK_ID_CURR']\n",
    "test_data_poly = test_data.merge(test_poly, on = 'SK_ID_CURR', how = 'left')\n",
    "\n",
    "# Align the dataframes\n",
    "train_data_poly, test_data_poly = train_data_poly.align(test_data_poly, join = 'inner', axis = 1)\n",
    "\n",
    "# Print out the new shapes\n",
    "print('Training data with polynomial features shape: ', train_data_poly.shape)\n",
    "print('Testing data with polynomial features shape:  ', test_data_poly.shape)"
   ]
  },
  {
   "cell_type": "markdown",
   "metadata": {},
   "source": [
    "# 最后一次随机森林0.714"
   ]
  },
  {
   "cell_type": "code",
   "execution_count": 127,
   "metadata": {},
   "outputs": [
    {
     "data": {
      "text/plain": [
       "ExtraTreesClassifier(bootstrap=False, class_weight=None, criterion='gini',\n",
       "           max_depth=None, max_features='auto', max_leaf_nodes=None,\n",
       "           min_impurity_decrease=0.0, min_impurity_split=None,\n",
       "           min_samples_leaf=1, min_samples_split=2,\n",
       "           min_weight_fraction_leaf=0.0, n_estimators=150, n_jobs=6,\n",
       "           oob_score=False, random_state=0, verbose=0, warm_start=False)"
      ]
     },
     "execution_count": 127,
     "metadata": {},
     "output_type": "execute_result"
    }
   ],
   "source": [
    "forest = ExtraTreesClassifier(n_estimators=150,\n",
    "                              random_state=0,n_jobs=6)\n",
    "\n",
    "forest.fit(train_data_poly, train_target)"
   ]
  },
  {
   "cell_type": "code",
   "execution_count": 128,
   "metadata": {
    "collapsed": true
   },
   "outputs": [],
   "source": [
    "r_result = forest.predict_proba(test_data_poly)"
   ]
  },
  {
   "cell_type": "code",
   "execution_count": 129,
   "metadata": {},
   "outputs": [
    {
     "data": {
      "text/plain": [
       "array([0, 1], dtype=int64)"
      ]
     },
     "execution_count": 129,
     "metadata": {},
     "output_type": "execute_result"
    }
   ],
   "source": [
    "forest.classes_"
   ]
  },
  {
   "cell_type": "code",
   "execution_count": 130,
   "metadata": {
    "collapsed": true
   },
   "outputs": [],
   "source": [
    "r_result=pd.DataFrame(list(r_result[:,1]),columns=['TARGET'])\n",
    "r_result['SK_ID_CURR'] = test_data['SK_ID_CURR']"
   ]
  },
  {
   "cell_type": "code",
   "execution_count": 131,
   "metadata": {
    "collapsed": true
   },
   "outputs": [],
   "source": [
    "r_result.to_csv('E:/pnk/kaggle_credit/test_result7.csv')"
   ]
  },
  {
   "cell_type": "markdown",
   "metadata": {
    "collapsed": true
   },
   "source": [
    "# 普通GBDT、0.731、0.7466（StratifiedKFold应对不平衡数据，split后再做balance）"
   ]
  },
  {
   "cell_type": "code",
   "execution_count": 110,
   "metadata": {
    "collapsed": true
   },
   "outputs": [],
   "source": [
    "#train_data_poly['TARGET'] = train_target\n",
    "#train_data_poly = train_data_poly.sample(frac=1).reset_index(drop=True)\n",
    "#train_target = train_data_poly['TARGET']\n",
    "#train_data_poly.drop(labels='TARGET', axis=1, inplace=True)"
   ]
  },
  {
   "cell_type": "code",
   "execution_count": 46,
   "metadata": {},
   "outputs": [
    {
     "name": "stdout",
     "output_type": "stream",
     "text": [
      "fitting for 50 n_estimators, 3 max_depth...\n",
      "result for 50 n_estimators, 3 max_depth: 0.740760805849\n",
      "fitting for 50 n_estimators, 3 max_depth...\n",
      "result for 50 n_estimators, 3 max_depth: 0.743665760791\n",
      "fitting for 50 n_estimators, 3 max_depth...\n",
      "result for 50 n_estimators, 3 max_depth: 0.738185206843\n",
      "fitting for 50 n_estimators, 3 max_depth...\n",
      "result for 50 n_estimators, 3 max_depth: 0.745710467996\n",
      "fitting for 50 n_estimators, 3 max_depth...\n",
      "result for 50 n_estimators, 3 max_depth: 0.738876256761\n",
      "fitting for 50 n_estimators, 5 max_depth...\n",
      "result for 50 n_estimators, 5 max_depth: 0.745817638821\n",
      "fitting for 50 n_estimators, 5 max_depth...\n",
      "result for 50 n_estimators, 5 max_depth: 0.750674114952\n",
      "fitting for 50 n_estimators, 5 max_depth...\n",
      "result for 50 n_estimators, 5 max_depth: 0.745515556024\n",
      "fitting for 50 n_estimators, 5 max_depth...\n",
      "result for 50 n_estimators, 5 max_depth: 0.751304752953\n",
      "fitting for 50 n_estimators, 5 max_depth...\n",
      "result for 50 n_estimators, 5 max_depth: 0.740077469965\n",
      "fitting for 50 n_estimators, 7 max_depth...\n",
      "result for 50 n_estimators, 7 max_depth: 0.74457030691\n",
      "fitting for 50 n_estimators, 7 max_depth...\n",
      "result for 50 n_estimators, 7 max_depth: 0.751220967844\n",
      "fitting for 50 n_estimators, 7 max_depth...\n",
      "result for 50 n_estimators, 7 max_depth: 0.749573961146\n",
      "fitting for 50 n_estimators, 7 max_depth...\n",
      "result for 50 n_estimators, 7 max_depth: 0.751677088862\n",
      "fitting for 50 n_estimators, 7 max_depth...\n",
      "result for 50 n_estimators, 7 max_depth: 0.682734327159\n",
      "fitting for 100 n_estimators, 3 max_depth...\n",
      "result for 100 n_estimators, 3 max_depth: 0.747051422998\n",
      "fitting for 100 n_estimators, 3 max_depth...\n",
      "result for 100 n_estimators, 3 max_depth: 0.751821228889\n",
      "fitting for 100 n_estimators, 3 max_depth...\n",
      "result for 100 n_estimators, 3 max_depth: 0.746264867925\n",
      "fitting for 100 n_estimators, 3 max_depth...\n",
      "result for 100 n_estimators, 3 max_depth: 0.753520293575\n",
      "fitting for 100 n_estimators, 3 max_depth...\n",
      "result for 100 n_estimators, 3 max_depth: 0.748514850251\n",
      "fitting for 100 n_estimators, 5 max_depth...\n",
      "result for 100 n_estimators, 5 max_depth: 0.752088165925\n",
      "fitting for 100 n_estimators, 5 max_depth...\n",
      "result for 100 n_estimators, 5 max_depth: 0.755245777342\n",
      "fitting for 100 n_estimators, 5 max_depth...\n",
      "result for 100 n_estimators, 5 max_depth: 0.75071475887\n",
      "fitting for 100 n_estimators, 5 max_depth...\n",
      "result for 100 n_estimators, 5 max_depth: 0.757814854859\n",
      "fitting for 100 n_estimators, 5 max_depth...\n",
      "result for 100 n_estimators, 5 max_depth: 0.739746900144\n",
      "fitting for 100 n_estimators, 7 max_depth...\n",
      "result for 100 n_estimators, 7 max_depth: 0.74152758866\n",
      "fitting for 100 n_estimators, 7 max_depth...\n",
      "result for 100 n_estimators, 7 max_depth: 0.753055095451\n",
      "fitting for 100 n_estimators, 7 max_depth...\n",
      "result for 100 n_estimators, 7 max_depth: 0.74939139304\n",
      "fitting for 100 n_estimators, 7 max_depth...\n",
      "result for 100 n_estimators, 7 max_depth: 0.752701156\n",
      "fitting for 100 n_estimators, 7 max_depth...\n",
      "result for 100 n_estimators, 7 max_depth: 0.707794190014\n",
      "fitting for 200 n_estimators, 3 max_depth...\n",
      "result for 200 n_estimators, 3 max_depth: 0.751985562242\n",
      "fitting for 200 n_estimators, 3 max_depth...\n",
      "result for 200 n_estimators, 3 max_depth: 0.75665302803\n",
      "fitting for 200 n_estimators, 3 max_depth...\n",
      "result for 200 n_estimators, 3 max_depth: 0.751206176579\n",
      "fitting for 200 n_estimators, 3 max_depth...\n",
      "result for 200 n_estimators, 3 max_depth: 0.758474419901\n",
      "fitting for 200 n_estimators, 3 max_depth...\n",
      "result for 200 n_estimators, 3 max_depth: 0.753553894543\n",
      "fitting for 200 n_estimators, 5 max_depth...\n",
      "result for 200 n_estimators, 5 max_depth: 0.741952448846\n",
      "fitting for 200 n_estimators, 5 max_depth...\n",
      "result for 200 n_estimators, 5 max_depth: 0.758559872234\n",
      "fitting for 200 n_estimators, 5 max_depth...\n",
      "result for 200 n_estimators, 5 max_depth: 0.752564261983\n",
      "fitting for 200 n_estimators, 5 max_depth...\n",
      "result for 200 n_estimators, 5 max_depth: 0.757818517051\n",
      "fitting for 200 n_estimators, 5 max_depth...\n",
      "result for 200 n_estimators, 5 max_depth: 0.741725057342\n",
      "fitting for 200 n_estimators, 7 max_depth...\n",
      "result for 200 n_estimators, 7 max_depth: 0.736912001044\n",
      "fitting for 200 n_estimators, 7 max_depth...\n",
      "result for 200 n_estimators, 7 max_depth: 0.754497436207\n",
      "fitting for 200 n_estimators, 7 max_depth...\n",
      "result for 200 n_estimators, 7 max_depth: 0.746228263818\n",
      "fitting for 200 n_estimators, 7 max_depth...\n",
      "result for 200 n_estimators, 7 max_depth: 0.751089150309\n",
      "fitting for 200 n_estimators, 7 max_depth...\n",
      "result for 200 n_estimators, 7 max_depth: 0.706362693336\n",
      "fitting for 300 n_estimators, 3 max_depth...\n",
      "result for 300 n_estimators, 3 max_depth: 0.750661849331\n",
      "fitting for 300 n_estimators, 3 max_depth...\n",
      "result for 300 n_estimators, 3 max_depth: 0.758607405918\n",
      "fitting for 300 n_estimators, 3 max_depth...\n",
      "result for 300 n_estimators, 3 max_depth: 0.751982083902\n",
      "fitting for 300 n_estimators, 3 max_depth...\n",
      "result for 300 n_estimators, 3 max_depth: 0.75980860131\n",
      "fitting for 300 n_estimators, 3 max_depth...\n",
      "result for 300 n_estimators, 3 max_depth: 0.748731439692\n",
      "fitting for 300 n_estimators, 5 max_depth...\n",
      "result for 300 n_estimators, 5 max_depth: 0.743514745067\n",
      "fitting for 300 n_estimators, 5 max_depth...\n",
      "result for 300 n_estimators, 5 max_depth: 0.756966754618\n",
      "fitting for 300 n_estimators, 5 max_depth...\n",
      "result for 300 n_estimators, 5 max_depth: 0.752570902378\n",
      "fitting for 300 n_estimators, 5 max_depth...\n",
      "result for 300 n_estimators, 5 max_depth: 0.758375551406\n",
      "fitting for 300 n_estimators, 5 max_depth...\n",
      "result for 300 n_estimators, 5 max_depth: 0.738468075545\n",
      "fitting for 300 n_estimators, 7 max_depth...\n",
      "result for 300 n_estimators, 7 max_depth: 0.724276102016\n",
      "fitting for 300 n_estimators, 7 max_depth...\n",
      "result for 300 n_estimators, 7 max_depth: 0.749496004194\n",
      "fitting for 300 n_estimators, 7 max_depth...\n",
      "result for 300 n_estimators, 7 max_depth: 0.729031062922\n",
      "fitting for 300 n_estimators, 7 max_depth...\n",
      "result for 300 n_estimators, 7 max_depth: 0.748818901242\n",
      "fitting for 300 n_estimators, 7 max_depth...\n",
      "result for 300 n_estimators, 7 max_depth: 0.721547078021\n",
      "fitting for 500 n_estimators, 3 max_depth...\n",
      "result for 500 n_estimators, 3 max_depth: 0.755000087813\n",
      "fitting for 500 n_estimators, 3 max_depth...\n",
      "result for 500 n_estimators, 3 max_depth: 0.760422392515\n",
      "fitting for 500 n_estimators, 3 max_depth...\n",
      "result for 500 n_estimators, 3 max_depth: 0.754807347419\n",
      "fitting for 500 n_estimators, 3 max_depth...\n",
      "result for 500 n_estimators, 3 max_depth: 0.76102048047\n",
      "fitting for 500 n_estimators, 3 max_depth...\n",
      "result for 500 n_estimators, 3 max_depth: 0.754075368587\n",
      "fitting for 500 n_estimators, 5 max_depth...\n",
      "result for 500 n_estimators, 5 max_depth: 0.73519529344\n",
      "fitting for 500 n_estimators, 5 max_depth...\n",
      "result for 500 n_estimators, 5 max_depth: 0.754636677875\n",
      "fitting for 500 n_estimators, 5 max_depth...\n",
      "result for 500 n_estimators, 5 max_depth: 0.751381306302\n",
      "fitting for 500 n_estimators, 5 max_depth...\n",
      "result for 500 n_estimators, 5 max_depth: 0.757612604253\n",
      "fitting for 500 n_estimators, 5 max_depth...\n",
      "result for 500 n_estimators, 5 max_depth: 0.727593303468\n",
      "fitting for 500 n_estimators, 7 max_depth...\n",
      "result for 500 n_estimators, 7 max_depth: 0.720281893307\n",
      "fitting for 500 n_estimators, 7 max_depth...\n",
      "result for 500 n_estimators, 7 max_depth: 0.746996034519\n",
      "fitting for 500 n_estimators, 7 max_depth...\n",
      "result for 500 n_estimators, 7 max_depth: 0.741600115323\n",
      "fitting for 500 n_estimators, 7 max_depth...\n",
      "result for 500 n_estimators, 7 max_depth: 0.743107235553\n",
      "fitting for 500 n_estimators, 7 max_depth...\n",
      "result for 500 n_estimators, 7 max_depth: 0.710854054687\n"
     ]
    }
   ],
   "source": [
    "skf = StratifiedKFold(n_splits=5)\n",
    "np.random.seed(1)\n",
    "n_estimators = [500, 1000]\n",
    "max_depth = [2, 3]\n",
    "score_dict = {}\n",
    "for n_es in n_estimators:\n",
    "    for m_dep in max_depth:\n",
    "        gbc = GradientBoostingClassifier(n_estimators=n_es, max_depth=m_dep, random_state=1)\n",
    "        for train_index, valid_index in skf.split(train_data_poly, train_target):\n",
    "            train_x = train_data_poly.loc[train_index]\n",
    "            train_y = train_target[train_index]\n",
    "            valid_x = train_data_poly.loc[valid_index]\n",
    "            valid_y = train_target[valid_index]\n",
    "            train_x['TARGET'] = train_y\n",
    "            safe_data = train_x[train_x['TARGET']==0]\n",
    "            bad_data = train_x[train_x['TARGET']==1]\n",
    "            safe_part_index = np.random.randint(low=0, high=len(safe_data),size=79440)\n",
    "            safe_data.reset_index(drop=True,inplace=True)\n",
    "            safe_data = safe_data.loc[safe_part_index]\n",
    "            bad_data = pd.concat([bad_data,bad_data,bad_data,bad_data])\n",
    "            bad_data.reset_index(drop=True,inplace=True)\n",
    "            train_x = pd.concat([safe_data,bad_data])\n",
    "            train_x.reset_index(drop=True,inplace=True)\n",
    "            train_y = train_x['TARGET']\n",
    "            train_x.drop(labels='TARGET', axis=1, inplace=True)\n",
    "            print('fitting for %s n_estimators, %s max_depth...' % (n_es, m_dep))\n",
    "            gbc.fit(train_x, train_y)\n",
    "            valid_result = gbc.predict_proba(valid_x)\n",
    "            t_score = roc_auc_score(valid_y, valid_result[:,1])\n",
    "            print('result for %s n_estimators, %s max_depth: %s' % (n_es, m_dep, t_score))\n",
    "            score_dict[(n_es,m_dep)] = t_score"
   ]
  },
  {
   "cell_type": "code",
   "execution_count": 50,
   "metadata": {
    "collapsed": true
   },
   "outputs": [],
   "source": [
    "#确定参数后，对所有train数据做balance，训练模型\n",
    "np.random.seed(1)\n",
    "train_data_poly['TARGET'] = train_target\n",
    "safe_data = train_data_poly[train_data_poly['TARGET']==0]\n",
    "bad_data = train_data_poly[train_data_poly['TARGET']==1]\n",
    "safe_part_index = np.random.randint(low=0, high=len(safe_data),size=74475)\n",
    "safe_data.reset_index(drop=True,inplace=True)\n",
    "safe_data = safe_data.loc[safe_part_index]\n",
    "bad_data = pd.concat([bad_data,bad_data,bad_data])\n",
    "bad_data.reset_index(drop=True,inplace=True)\n",
    "gbdt_features = pd.concat([safe_data,bad_data])\n",
    "gbdt_features.reset_index(drop=True,inplace=True)\n",
    "gbdt_target = gbdt_features['TARGET']\n",
    "gbdt_features.drop(labels='TARGET', axis=1, inplace=True)\n",
    "train_data_poly.drop(labels='TARGET', axis=1, inplace=True)"
   ]
  },
  {
   "cell_type": "code",
   "execution_count": 51,
   "metadata": {},
   "outputs": [
    {
     "data": {
      "text/plain": [
       "GradientBoostingClassifier(criterion='friedman_mse', init=None,\n",
       "              learning_rate=0.1, loss='deviance', max_depth=3,\n",
       "              max_features=None, max_leaf_nodes=None,\n",
       "              min_impurity_decrease=0.0, min_impurity_split=None,\n",
       "              min_samples_leaf=1, min_samples_split=2,\n",
       "              min_weight_fraction_leaf=0.0, n_estimators=500,\n",
       "              presort='auto', random_state=1, subsample=1.0, verbose=0,\n",
       "              warm_start=False)"
      ]
     },
     "execution_count": 51,
     "metadata": {},
     "output_type": "execute_result"
    }
   ],
   "source": [
    "gbc = GradientBoostingClassifier(n_estimators=500, max_depth=3, random_state=1)\n",
    "gbc.fit(gbdt_features, gbdt_target)"
   ]
  },
  {
   "cell_type": "code",
   "execution_count": 52,
   "metadata": {
    "collapsed": true
   },
   "outputs": [],
   "source": [
    "r_result = gbc.predict_proba(test_data_poly)"
   ]
  },
  {
   "cell_type": "code",
   "execution_count": 53,
   "metadata": {
    "collapsed": true
   },
   "outputs": [],
   "source": [
    "r_result=pd.DataFrame(list(r_result[:,1]),columns=['TARGET'])\n",
    "r_result['SK_ID_CURR'] = test_data['SK_ID_CURR']"
   ]
  },
  {
   "cell_type": "code",
   "execution_count": 54,
   "metadata": {
    "collapsed": true
   },
   "outputs": [],
   "source": [
    "r_result.to_csv('E:/pnk/kaggle_credit/test_result12.csv')"
   ]
  },
  {
   "cell_type": "code",
   "execution_count": null,
   "metadata": {},
   "outputs": [
    {
     "name": "stdout",
     "output_type": "stream",
     "text": [
      "# Tuning hyper-parameters for roc_auc\n",
      "\n"
     ]
    }
   ],
   "source": [
    "tuned_parameters = [{'n_estimators': [10,50,100,150,250], 'max_depth': [3, 5, 10, 18],\n",
    "                     'random_state': [1, 10]}]\n",
    "\n",
    "scores = ['roc_auc']\n",
    "\n",
    "for score in scores:\n",
    "    print(\"# Tuning hyper-parameters for %s\" % score)\n",
    "    print()\n",
    "\n",
    "    clf = GridSearchCV(GradientBoostingClassifier(), tuned_parameters, cv=5, n_jobs=6,\n",
    "                       scoring='%s' % score)\n",
    "    clf.fit(train_data_poly, train_target)\n",
    "\n",
    "    print(\"Best parameters set found on development set:\")\n",
    "    print()\n",
    "    print(clf.best_params_)\n",
    "    print()\n",
    "    print(\"Grid scores on development set:\")\n",
    "    print()\n",
    "    means = clf.cv_results_['mean_test_score']\n",
    "    stds = clf.cv_results_['std_test_score']\n",
    "    for mean, std, params in zip(means, stds, clf.cv_results_['params']):\n",
    "        print(\"%0.3f (+/-%0.03f) for %r\"\n",
    "              % (mean, std * 2, params))\n",
    "    print()"
   ]
  },
  {
   "cell_type": "code",
   "execution_count": 31,
   "metadata": {
    "collapsed": true
   },
   "outputs": [],
   "source": []
  },
  {
   "cell_type": "code",
   "execution_count": 42,
   "metadata": {
    "collapsed": true
   },
   "outputs": [],
   "source": []
  },
  {
   "cell_type": "code",
   "execution_count": null,
   "metadata": {
    "collapsed": true
   },
   "outputs": [],
   "source": []
  }
 ],
 "metadata": {
  "kernelspec": {
   "display_name": "Python 3",
   "language": "python",
   "name": "python3"
  },
  "language_info": {
   "codemirror_mode": {
    "name": "ipython",
    "version": 3
   },
   "file_extension": ".py",
   "mimetype": "text/x-python",
   "name": "python",
   "nbconvert_exporter": "python",
   "pygments_lexer": "ipython3",
   "version": "3.6.2"
  }
 },
 "nbformat": 4,
 "nbformat_minor": 2
}

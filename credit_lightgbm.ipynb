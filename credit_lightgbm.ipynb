{
 "cells": [
  {
   "cell_type": "code",
   "execution_count": 1,
   "metadata": {
    "collapsed": true
   },
   "outputs": [],
   "source": [
    "import pandas as pd\n",
    "import numpy as np\n",
    "import matplotlib.pyplot as plt\n",
    "import seaborn as sns\n",
    "from sklearn import preprocessing\n",
    "from sklearn.decomposition import PCA\n",
    "from sklearn.ensemble import ExtraTreesClassifier\n",
    "from sklearn.model_selection import StratifiedKFold\n",
    "from sklearn.metrics import roc_auc_score\n",
    "from bayes_opt import BayesianOptimization\n",
    "import lightgbm as lgb\n",
    "import gc\n",
    "%matplotlib inline"
   ]
  },
  {
   "cell_type": "code",
   "execution_count": 2,
   "metadata": {
    "collapsed": true
   },
   "outputs": [],
   "source": [
    "sns.set_style('whitegrid')\n",
    "train_data = pd.read_csv('E:/pnk/kaggle_credit/application_train.csv')\n",
    "test_data = pd.read_csv('E:/pnk/kaggle_credit/application_test.csv')\n",
    "bureau_data = pd.read_csv('E:/pnk/kaggle_credit/bureau.csv')\n",
    "previous_data = pd.read_csv('E:/pnk/kaggle_credit/previous_application.csv')"
   ]
  },
  {
   "cell_type": "markdown",
   "metadata": {
    "collapsed": true
   },
   "source": [
    "# 探索bureau文件特征"
   ]
  },
  {
   "cell_type": "code",
   "execution_count": 3,
   "metadata": {
    "collapsed": true
   },
   "outputs": [],
   "source": [
    "bureau_data.drop(labels=['DAYS_ENDDATE_FACT','AMT_ANNUITY'], axis=1, inplace=True)"
   ]
  },
  {
   "cell_type": "code",
   "execution_count": 4,
   "metadata": {
    "collapsed": true
   },
   "outputs": [],
   "source": [
    "num_variables = []\n",
    "cat_variables = []\n",
    "for col in bureau_data.columns:\n",
    "    if bureau_data[col].dtype=='object':\n",
    "        cat_variables.append(col)\n",
    "    else:\n",
    "        num_variables.append(col)"
   ]
  },
  {
   "cell_type": "code",
   "execution_count": 5,
   "metadata": {},
   "outputs": [
    {
     "name": "stdout",
     "output_type": "stream",
     "text": [
      "{'SK_ID_CURR': 1.0, 'SK_ID_BUREAU': 1.0, 'DAYS_CREDIT': 1.0, 'CREDIT_DAY_OVERDUE': 1.0, 'DAYS_CREDIT_ENDDATE': 0.93850426583579383, 'AMT_CREDIT_MAX_OVERDUE': 0.34486736408401636, 'CNT_CREDIT_PROLONG': 1.0, 'AMT_CREDIT_SUM': 0.99999242613147765, 'AMT_CREDIT_SUM_DEBT': 0.84988068244051018, 'AMT_CREDIT_SUM_LIMIT': 0.65522585275933509, 'AMT_CREDIT_SUM_OVERDUE': 1.0, 'DAYS_CREDIT_UPDATE': 1.0}\n"
     ]
    }
   ],
   "source": [
    "num_dict = {}\n",
    "for col in num_variables:\n",
    "    num_dict[col] = bureau_data[col].count()/len(bureau_data)\n",
    "print(num_dict)"
   ]
  },
  {
   "cell_type": "code",
   "execution_count": 6,
   "metadata": {
    "collapsed": true
   },
   "outputs": [],
   "source": [
    "def fill_with0(origin_data, fillmid_cols):\n",
    "    for i in fillmid_cols:\n",
    "        origin_data[i].fillna(0,inplace=True)\n",
    "    return\n",
    "fill_with0(bureau_data, list(num_dict.keys()))"
   ]
  },
  {
   "cell_type": "code",
   "execution_count": 7,
   "metadata": {
    "collapsed": true
   },
   "outputs": [],
   "source": [
    "bureau_data = pd.get_dummies(bureau_data)"
   ]
  },
  {
   "cell_type": "code",
   "execution_count": 8,
   "metadata": {
    "scrolled": true
   },
   "outputs": [
    {
     "data": {
      "text/plain": [
       "Index(['SK_ID_CURR', 'SK_ID_BUREAU', 'DAYS_CREDIT', 'CREDIT_DAY_OVERDUE',\n",
       "       'DAYS_CREDIT_ENDDATE', 'AMT_CREDIT_MAX_OVERDUE', 'CNT_CREDIT_PROLONG',\n",
       "       'AMT_CREDIT_SUM', 'AMT_CREDIT_SUM_DEBT', 'AMT_CREDIT_SUM_LIMIT',\n",
       "       'AMT_CREDIT_SUM_OVERDUE', 'DAYS_CREDIT_UPDATE', 'CREDIT_ACTIVE_Active',\n",
       "       'CREDIT_ACTIVE_Bad debt', 'CREDIT_ACTIVE_Closed', 'CREDIT_ACTIVE_Sold',\n",
       "       'CREDIT_CURRENCY_currency 1', 'CREDIT_CURRENCY_currency 2',\n",
       "       'CREDIT_CURRENCY_currency 3', 'CREDIT_CURRENCY_currency 4',\n",
       "       'CREDIT_TYPE_Another type of loan', 'CREDIT_TYPE_Car loan',\n",
       "       'CREDIT_TYPE_Cash loan (non-earmarked)', 'CREDIT_TYPE_Consumer credit',\n",
       "       'CREDIT_TYPE_Credit card', 'CREDIT_TYPE_Interbank credit',\n",
       "       'CREDIT_TYPE_Loan for business development',\n",
       "       'CREDIT_TYPE_Loan for purchase of shares (margin lending)',\n",
       "       'CREDIT_TYPE_Loan for the purchase of equipment',\n",
       "       'CREDIT_TYPE_Loan for working capital replenishment',\n",
       "       'CREDIT_TYPE_Microloan', 'CREDIT_TYPE_Mobile operator loan',\n",
       "       'CREDIT_TYPE_Mortgage', 'CREDIT_TYPE_Real estate loan',\n",
       "       'CREDIT_TYPE_Unknown type of loan'],\n",
       "      dtype='object')"
      ]
     },
     "execution_count": 8,
     "metadata": {},
     "output_type": "execute_result"
    }
   ],
   "source": [
    "bureau_data.columns"
   ]
  },
  {
   "cell_type": "code",
   "execution_count": 9,
   "metadata": {},
   "outputs": [
    {
     "name": "stdout",
     "output_type": "stream",
     "text": [
      "['CREDIT_DAY_OVERDUE', 'AMT_CREDIT_MAX_OVERDUE', 'CNT_CREDIT_PROLONG', 'AMT_CREDIT_SUM', 'AMT_CREDIT_SUM_DEBT', 'AMT_CREDIT_SUM_LIMIT', 'AMT_CREDIT_SUM_OVERDUE', 'CREDIT_ACTIVE_Active', 'CREDIT_ACTIVE_Bad debt', 'CREDIT_ACTIVE_Closed', 'CREDIT_ACTIVE_Sold', 'CREDIT_CURRENCY_currency 1', 'CREDIT_CURRENCY_currency 2', 'CREDIT_CURRENCY_currency 3', 'CREDIT_CURRENCY_currency 4', 'CREDIT_TYPE_Another type of loan', 'CREDIT_TYPE_Car loan', 'CREDIT_TYPE_Cash loan (non-earmarked)', 'CREDIT_TYPE_Consumer credit', 'CREDIT_TYPE_Credit card', 'CREDIT_TYPE_Interbank credit', 'CREDIT_TYPE_Loan for business development', 'CREDIT_TYPE_Loan for purchase of shares (margin lending)', 'CREDIT_TYPE_Loan for the purchase of equipment', 'CREDIT_TYPE_Loan for working capital replenishment', 'CREDIT_TYPE_Microloan', 'CREDIT_TYPE_Mobile operator loan', 'CREDIT_TYPE_Mortgage', 'CREDIT_TYPE_Real estate loan', 'CREDIT_TYPE_Unknown type of loan', 'SK_ID_CURR']\n",
      "['DAYS_CREDIT', 'DAYS_CREDIT_ENDDATE', 'DAYS_CREDIT_UPDATE', 'SK_ID_CURR']\n"
     ]
    }
   ],
   "source": [
    "sum_features = ['CREDIT_DAY_OVERDUE','AMT_CREDIT_MAX_OVERDUE','CNT_CREDIT_PROLONG','AMT_CREDIT_SUM',\n",
    "               'AMT_CREDIT_SUM_DEBT','AMT_CREDIT_SUM_LIMIT','AMT_CREDIT_SUM_OVERDUE']\n",
    "for col in bureau_data.columns:\n",
    "    if col.startswith('CREDIT_ACTIVE') or col.startswith('CREDIT_CURRENCY') or col.startswith('CREDIT_TYPE'):\n",
    "        sum_features.append(col)\n",
    "minmax_features = []\n",
    "for col in bureau_data.columns:\n",
    "    if col not in ['SK_ID_CURR','SK_ID_BUREAU'] and col not in sum_features:\n",
    "        minmax_features.append(col)\n",
    "sum_features.append('SK_ID_CURR')\n",
    "minmax_features.append('SK_ID_CURR')\n",
    "print(sum_features)\n",
    "print(minmax_features)"
   ]
  },
  {
   "cell_type": "code",
   "execution_count": 10,
   "metadata": {
    "collapsed": true
   },
   "outputs": [],
   "source": [
    "bureau_sum = bureau_data[sum_features].groupby(by=['SK_ID_CURR']).agg('sum')\n",
    "bureau_sum.reset_index(inplace=True)"
   ]
  },
  {
   "cell_type": "code",
   "execution_count": 11,
   "metadata": {
    "collapsed": true
   },
   "outputs": [],
   "source": [
    "bureau_min = bureau_data[minmax_features].groupby(by=['SK_ID_CURR']).agg('min')\n",
    "bureau_min.columns=['DAYS_CREDIT_MIN','DAYS_CREDIT_ENDDATE_MIN','DAYS_CREDIT_UPDATE_MIN']\n",
    "bureau_min.reset_index(inplace=True)"
   ]
  },
  {
   "cell_type": "code",
   "execution_count": 12,
   "metadata": {
    "collapsed": true
   },
   "outputs": [],
   "source": [
    "bureau_max = bureau_data[minmax_features].groupby(by=['SK_ID_CURR']).agg('max')\n",
    "bureau_max.columns=['DAYS_CREDIT_MAX','DAYS_CREDIT_ENDDATE_MAX','DAYS_CREDIT_UPDATE_MAX']\n",
    "bureau_max.reset_index(inplace=True)"
   ]
  },
  {
   "cell_type": "code",
   "execution_count": 13,
   "metadata": {
    "collapsed": true
   },
   "outputs": [],
   "source": [
    "bureau_sum = bureau_sum.merge(bureau_min, on='SK_ID_CURR', how='inner')\n",
    "bureau_sum = bureau_sum.merge(bureau_max, on='SK_ID_CURR', how='inner')"
   ]
  },
  {
   "cell_type": "code",
   "execution_count": 427,
   "metadata": {
    "scrolled": true
   },
   "outputs": [
    {
     "data": {
      "text/html": [
       "<div>\n",
       "<style>\n",
       "    .dataframe thead tr:only-child th {\n",
       "        text-align: right;\n",
       "    }\n",
       "\n",
       "    .dataframe thead th {\n",
       "        text-align: left;\n",
       "    }\n",
       "\n",
       "    .dataframe tbody tr th {\n",
       "        vertical-align: top;\n",
       "    }\n",
       "</style>\n",
       "<table border=\"1\" class=\"dataframe\">\n",
       "  <thead>\n",
       "    <tr style=\"text-align: right;\">\n",
       "      <th></th>\n",
       "      <th>SK_ID_CURR</th>\n",
       "      <th>SK_ID_BUREAU</th>\n",
       "      <th>DAYS_CREDIT</th>\n",
       "      <th>CREDIT_DAY_OVERDUE</th>\n",
       "      <th>DAYS_CREDIT_ENDDATE</th>\n",
       "      <th>AMT_CREDIT_MAX_OVERDUE</th>\n",
       "      <th>CNT_CREDIT_PROLONG</th>\n",
       "      <th>AMT_CREDIT_SUM</th>\n",
       "      <th>AMT_CREDIT_SUM_DEBT</th>\n",
       "      <th>AMT_CREDIT_SUM_LIMIT</th>\n",
       "      <th>...</th>\n",
       "      <th>CREDIT_TYPE_Interbank credit</th>\n",
       "      <th>CREDIT_TYPE_Loan for business development</th>\n",
       "      <th>CREDIT_TYPE_Loan for purchase of shares (margin lending)</th>\n",
       "      <th>CREDIT_TYPE_Loan for the purchase of equipment</th>\n",
       "      <th>CREDIT_TYPE_Loan for working capital replenishment</th>\n",
       "      <th>CREDIT_TYPE_Microloan</th>\n",
       "      <th>CREDIT_TYPE_Mobile operator loan</th>\n",
       "      <th>CREDIT_TYPE_Mortgage</th>\n",
       "      <th>CREDIT_TYPE_Real estate loan</th>\n",
       "      <th>CREDIT_TYPE_Unknown type of loan</th>\n",
       "    </tr>\n",
       "  </thead>\n",
       "  <tbody>\n",
       "    <tr>\n",
       "      <th>count</th>\n",
       "      <td>1.716428e+06</td>\n",
       "      <td>1.716428e+06</td>\n",
       "      <td>1.716428e+06</td>\n",
       "      <td>1.716428e+06</td>\n",
       "      <td>1.716428e+06</td>\n",
       "      <td>1.716428e+06</td>\n",
       "      <td>1.716428e+06</td>\n",
       "      <td>1.716428e+06</td>\n",
       "      <td>1.716428e+06</td>\n",
       "      <td>1.716428e+06</td>\n",
       "      <td>...</td>\n",
       "      <td>1.716428e+06</td>\n",
       "      <td>1.716428e+06</td>\n",
       "      <td>1.716428e+06</td>\n",
       "      <td>1.716428e+06</td>\n",
       "      <td>1.716428e+06</td>\n",
       "      <td>1.716428e+06</td>\n",
       "      <td>1.716428e+06</td>\n",
       "      <td>1.716428e+06</td>\n",
       "      <td>1.716428e+06</td>\n",
       "      <td>1.716428e+06</td>\n",
       "    </tr>\n",
       "    <tr>\n",
       "      <th>mean</th>\n",
       "      <td>2.782149e+05</td>\n",
       "      <td>5.924434e+06</td>\n",
       "      <td>-1.142108e+03</td>\n",
       "      <td>8.181666e-01</td>\n",
       "      <td>4.791227e+02</td>\n",
       "      <td>1.319262e+03</td>\n",
       "      <td>6.410406e-03</td>\n",
       "      <td>3.549919e+05</td>\n",
       "      <td>1.165060e+05</td>\n",
       "      <td>4.081739e+03</td>\n",
       "      <td>...</td>\n",
       "      <td>5.826053e-07</td>\n",
       "      <td>1.150645e-03</td>\n",
       "      <td>2.330421e-06</td>\n",
       "      <td>1.106950e-05</td>\n",
       "      <td>2.732419e-04</td>\n",
       "      <td>7.231879e-03</td>\n",
       "      <td>5.826053e-07</td>\n",
       "      <td>1.071469e-02</td>\n",
       "      <td>1.573034e-05</td>\n",
       "      <td>3.233459e-04</td>\n",
       "    </tr>\n",
       "    <tr>\n",
       "      <th>std</th>\n",
       "      <td>1.029386e+05</td>\n",
       "      <td>5.322657e+05</td>\n",
       "      <td>7.951649e+02</td>\n",
       "      <td>3.654443e+01</td>\n",
       "      <td>4.839776e+03</td>\n",
       "      <td>1.210065e+05</td>\n",
       "      <td>9.622391e-02</td>\n",
       "      <td>1.149807e+06</td>\n",
       "      <td>6.264058e+05</td>\n",
       "      <td>3.657169e+04</td>\n",
       "      <td>...</td>\n",
       "      <td>7.632858e-04</td>\n",
       "      <td>3.390165e-02</td>\n",
       "      <td>1.526570e-03</td>\n",
       "      <td>3.327068e-03</td>\n",
       "      <td>1.652778e-02</td>\n",
       "      <td>8.473242e-02</td>\n",
       "      <td>7.632858e-04</td>\n",
       "      <td>1.029558e-01</td>\n",
       "      <td>3.966120e-03</td>\n",
       "      <td>1.797892e-02</td>\n",
       "    </tr>\n",
       "    <tr>\n",
       "      <th>min</th>\n",
       "      <td>1.000010e+05</td>\n",
       "      <td>5.000000e+06</td>\n",
       "      <td>-2.922000e+03</td>\n",
       "      <td>0.000000e+00</td>\n",
       "      <td>-4.206000e+04</td>\n",
       "      <td>0.000000e+00</td>\n",
       "      <td>0.000000e+00</td>\n",
       "      <td>0.000000e+00</td>\n",
       "      <td>-4.705600e+06</td>\n",
       "      <td>-5.864061e+05</td>\n",
       "      <td>...</td>\n",
       "      <td>0.000000e+00</td>\n",
       "      <td>0.000000e+00</td>\n",
       "      <td>0.000000e+00</td>\n",
       "      <td>0.000000e+00</td>\n",
       "      <td>0.000000e+00</td>\n",
       "      <td>0.000000e+00</td>\n",
       "      <td>0.000000e+00</td>\n",
       "      <td>0.000000e+00</td>\n",
       "      <td>0.000000e+00</td>\n",
       "      <td>0.000000e+00</td>\n",
       "    </tr>\n",
       "    <tr>\n",
       "      <th>25%</th>\n",
       "      <td>1.888668e+05</td>\n",
       "      <td>5.463954e+06</td>\n",
       "      <td>-1.666000e+03</td>\n",
       "      <td>0.000000e+00</td>\n",
       "      <td>-1.074000e+03</td>\n",
       "      <td>0.000000e+00</td>\n",
       "      <td>0.000000e+00</td>\n",
       "      <td>5.130000e+04</td>\n",
       "      <td>0.000000e+00</td>\n",
       "      <td>0.000000e+00</td>\n",
       "      <td>...</td>\n",
       "      <td>0.000000e+00</td>\n",
       "      <td>0.000000e+00</td>\n",
       "      <td>0.000000e+00</td>\n",
       "      <td>0.000000e+00</td>\n",
       "      <td>0.000000e+00</td>\n",
       "      <td>0.000000e+00</td>\n",
       "      <td>0.000000e+00</td>\n",
       "      <td>0.000000e+00</td>\n",
       "      <td>0.000000e+00</td>\n",
       "      <td>0.000000e+00</td>\n",
       "    </tr>\n",
       "    <tr>\n",
       "      <th>50%</th>\n",
       "      <td>2.780550e+05</td>\n",
       "      <td>5.926304e+06</td>\n",
       "      <td>-9.870000e+02</td>\n",
       "      <td>0.000000e+00</td>\n",
       "      <td>-2.370000e+02</td>\n",
       "      <td>0.000000e+00</td>\n",
       "      <td>0.000000e+00</td>\n",
       "      <td>1.255185e+05</td>\n",
       "      <td>0.000000e+00</td>\n",
       "      <td>0.000000e+00</td>\n",
       "      <td>...</td>\n",
       "      <td>0.000000e+00</td>\n",
       "      <td>0.000000e+00</td>\n",
       "      <td>0.000000e+00</td>\n",
       "      <td>0.000000e+00</td>\n",
       "      <td>0.000000e+00</td>\n",
       "      <td>0.000000e+00</td>\n",
       "      <td>0.000000e+00</td>\n",
       "      <td>0.000000e+00</td>\n",
       "      <td>0.000000e+00</td>\n",
       "      <td>0.000000e+00</td>\n",
       "    </tr>\n",
       "    <tr>\n",
       "      <th>75%</th>\n",
       "      <td>3.674260e+05</td>\n",
       "      <td>6.385681e+06</td>\n",
       "      <td>-4.740000e+02</td>\n",
       "      <td>0.000000e+00</td>\n",
       "      <td>3.890000e+02</td>\n",
       "      <td>0.000000e+00</td>\n",
       "      <td>0.000000e+00</td>\n",
       "      <td>3.150000e+05</td>\n",
       "      <td>1.975500e+03</td>\n",
       "      <td>0.000000e+00</td>\n",
       "      <td>...</td>\n",
       "      <td>0.000000e+00</td>\n",
       "      <td>0.000000e+00</td>\n",
       "      <td>0.000000e+00</td>\n",
       "      <td>0.000000e+00</td>\n",
       "      <td>0.000000e+00</td>\n",
       "      <td>0.000000e+00</td>\n",
       "      <td>0.000000e+00</td>\n",
       "      <td>0.000000e+00</td>\n",
       "      <td>0.000000e+00</td>\n",
       "      <td>0.000000e+00</td>\n",
       "    </tr>\n",
       "    <tr>\n",
       "      <th>max</th>\n",
       "      <td>4.562550e+05</td>\n",
       "      <td>6.843457e+06</td>\n",
       "      <td>0.000000e+00</td>\n",
       "      <td>2.792000e+03</td>\n",
       "      <td>3.119900e+04</td>\n",
       "      <td>1.159872e+08</td>\n",
       "      <td>9.000000e+00</td>\n",
       "      <td>5.850000e+08</td>\n",
       "      <td>1.701000e+08</td>\n",
       "      <td>4.705600e+06</td>\n",
       "      <td>...</td>\n",
       "      <td>1.000000e+00</td>\n",
       "      <td>1.000000e+00</td>\n",
       "      <td>1.000000e+00</td>\n",
       "      <td>1.000000e+00</td>\n",
       "      <td>1.000000e+00</td>\n",
       "      <td>1.000000e+00</td>\n",
       "      <td>1.000000e+00</td>\n",
       "      <td>1.000000e+00</td>\n",
       "      <td>1.000000e+00</td>\n",
       "      <td>1.000000e+00</td>\n",
       "    </tr>\n",
       "  </tbody>\n",
       "</table>\n",
       "<p>8 rows × 35 columns</p>\n",
       "</div>"
      ],
      "text/plain": [
       "         SK_ID_CURR  SK_ID_BUREAU   DAYS_CREDIT  CREDIT_DAY_OVERDUE  \\\n",
       "count  1.716428e+06  1.716428e+06  1.716428e+06        1.716428e+06   \n",
       "mean   2.782149e+05  5.924434e+06 -1.142108e+03        8.181666e-01   \n",
       "std    1.029386e+05  5.322657e+05  7.951649e+02        3.654443e+01   \n",
       "min    1.000010e+05  5.000000e+06 -2.922000e+03        0.000000e+00   \n",
       "25%    1.888668e+05  5.463954e+06 -1.666000e+03        0.000000e+00   \n",
       "50%    2.780550e+05  5.926304e+06 -9.870000e+02        0.000000e+00   \n",
       "75%    3.674260e+05  6.385681e+06 -4.740000e+02        0.000000e+00   \n",
       "max    4.562550e+05  6.843457e+06  0.000000e+00        2.792000e+03   \n",
       "\n",
       "       DAYS_CREDIT_ENDDATE  AMT_CREDIT_MAX_OVERDUE  CNT_CREDIT_PROLONG  \\\n",
       "count         1.716428e+06            1.716428e+06        1.716428e+06   \n",
       "mean          4.791227e+02            1.319262e+03        6.410406e-03   \n",
       "std           4.839776e+03            1.210065e+05        9.622391e-02   \n",
       "min          -4.206000e+04            0.000000e+00        0.000000e+00   \n",
       "25%          -1.074000e+03            0.000000e+00        0.000000e+00   \n",
       "50%          -2.370000e+02            0.000000e+00        0.000000e+00   \n",
       "75%           3.890000e+02            0.000000e+00        0.000000e+00   \n",
       "max           3.119900e+04            1.159872e+08        9.000000e+00   \n",
       "\n",
       "       AMT_CREDIT_SUM  AMT_CREDIT_SUM_DEBT  AMT_CREDIT_SUM_LIMIT  \\\n",
       "count    1.716428e+06         1.716428e+06          1.716428e+06   \n",
       "mean     3.549919e+05         1.165060e+05          4.081739e+03   \n",
       "std      1.149807e+06         6.264058e+05          3.657169e+04   \n",
       "min      0.000000e+00        -4.705600e+06         -5.864061e+05   \n",
       "25%      5.130000e+04         0.000000e+00          0.000000e+00   \n",
       "50%      1.255185e+05         0.000000e+00          0.000000e+00   \n",
       "75%      3.150000e+05         1.975500e+03          0.000000e+00   \n",
       "max      5.850000e+08         1.701000e+08          4.705600e+06   \n",
       "\n",
       "                     ...                 CREDIT_TYPE_Interbank credit  \\\n",
       "count                ...                                 1.716428e+06   \n",
       "mean                 ...                                 5.826053e-07   \n",
       "std                  ...                                 7.632858e-04   \n",
       "min                  ...                                 0.000000e+00   \n",
       "25%                  ...                                 0.000000e+00   \n",
       "50%                  ...                                 0.000000e+00   \n",
       "75%                  ...                                 0.000000e+00   \n",
       "max                  ...                                 1.000000e+00   \n",
       "\n",
       "       CREDIT_TYPE_Loan for business development  \\\n",
       "count                               1.716428e+06   \n",
       "mean                                1.150645e-03   \n",
       "std                                 3.390165e-02   \n",
       "min                                 0.000000e+00   \n",
       "25%                                 0.000000e+00   \n",
       "50%                                 0.000000e+00   \n",
       "75%                                 0.000000e+00   \n",
       "max                                 1.000000e+00   \n",
       "\n",
       "       CREDIT_TYPE_Loan for purchase of shares (margin lending)  \\\n",
       "count                                       1.716428e+06          \n",
       "mean                                        2.330421e-06          \n",
       "std                                         1.526570e-03          \n",
       "min                                         0.000000e+00          \n",
       "25%                                         0.000000e+00          \n",
       "50%                                         0.000000e+00          \n",
       "75%                                         0.000000e+00          \n",
       "max                                         1.000000e+00          \n",
       "\n",
       "       CREDIT_TYPE_Loan for the purchase of equipment  \\\n",
       "count                                    1.716428e+06   \n",
       "mean                                     1.106950e-05   \n",
       "std                                      3.327068e-03   \n",
       "min                                      0.000000e+00   \n",
       "25%                                      0.000000e+00   \n",
       "50%                                      0.000000e+00   \n",
       "75%                                      0.000000e+00   \n",
       "max                                      1.000000e+00   \n",
       "\n",
       "       CREDIT_TYPE_Loan for working capital replenishment  \\\n",
       "count                                       1.716428e+06    \n",
       "mean                                        2.732419e-04    \n",
       "std                                         1.652778e-02    \n",
       "min                                         0.000000e+00    \n",
       "25%                                         0.000000e+00    \n",
       "50%                                         0.000000e+00    \n",
       "75%                                         0.000000e+00    \n",
       "max                                         1.000000e+00    \n",
       "\n",
       "       CREDIT_TYPE_Microloan  CREDIT_TYPE_Mobile operator loan  \\\n",
       "count           1.716428e+06                      1.716428e+06   \n",
       "mean            7.231879e-03                      5.826053e-07   \n",
       "std             8.473242e-02                      7.632858e-04   \n",
       "min             0.000000e+00                      0.000000e+00   \n",
       "25%             0.000000e+00                      0.000000e+00   \n",
       "50%             0.000000e+00                      0.000000e+00   \n",
       "75%             0.000000e+00                      0.000000e+00   \n",
       "max             1.000000e+00                      1.000000e+00   \n",
       "\n",
       "       CREDIT_TYPE_Mortgage  CREDIT_TYPE_Real estate loan  \\\n",
       "count          1.716428e+06                  1.716428e+06   \n",
       "mean           1.071469e-02                  1.573034e-05   \n",
       "std            1.029558e-01                  3.966120e-03   \n",
       "min            0.000000e+00                  0.000000e+00   \n",
       "25%            0.000000e+00                  0.000000e+00   \n",
       "50%            0.000000e+00                  0.000000e+00   \n",
       "75%            0.000000e+00                  0.000000e+00   \n",
       "max            1.000000e+00                  1.000000e+00   \n",
       "\n",
       "       CREDIT_TYPE_Unknown type of loan  \n",
       "count                      1.716428e+06  \n",
       "mean                       3.233459e-04  \n",
       "std                        1.797892e-02  \n",
       "min                        0.000000e+00  \n",
       "25%                        0.000000e+00  \n",
       "50%                        0.000000e+00  \n",
       "75%                        0.000000e+00  \n",
       "max                        1.000000e+00  \n",
       "\n",
       "[8 rows x 35 columns]"
      ]
     },
     "execution_count": 427,
     "metadata": {},
     "output_type": "execute_result"
    }
   ],
   "source": [
    "bureau_data.describe()"
   ]
  },
  {
   "cell_type": "code",
   "execution_count": 15,
   "metadata": {
    "scrolled": true
   },
   "outputs": [
    {
     "data": {
      "text/plain": [
       "uint8      23\n",
       "float64     6\n",
       "int64       6\n",
       "dtype: int64"
      ]
     },
     "execution_count": 15,
     "metadata": {},
     "output_type": "execute_result"
    }
   ],
   "source": [
    "bureau_data.dtypes.value_counts()"
   ]
  },
  {
   "cell_type": "markdown",
   "metadata": {},
   "source": [
    "# 探索previous_application文件特征"
   ]
  },
  {
   "cell_type": "code",
   "execution_count": 14,
   "metadata": {
    "collapsed": true
   },
   "outputs": [],
   "source": [
    "previous_data.drop(labels=['WEEKDAY_APPR_PROCESS_START','HOUR_APPR_PROCESS_START',\n",
    "                          'FLAG_LAST_APPL_PER_CONTRACT','NFLAG_LAST_APPL_IN_DAY',\n",
    "                          'RATE_DOWN_PAYMENT','RATE_INTEREST_PRIMARY','RATE_INTEREST_PRIVILEGED',\n",
    "                          'DAYS_FIRST_DRAWING','DAYS_FIRST_DUE','DAYS_LAST_DUE_1ST_VERSION',\n",
    "                          'DAYS_LAST_DUE','DAYS_TERMINATION',], axis=1, inplace=True)"
   ]
  },
  {
   "cell_type": "code",
   "execution_count": 15,
   "metadata": {
    "collapsed": true
   },
   "outputs": [],
   "source": [
    "num_variables = []\n",
    "cat_variables = []\n",
    "for col in previous_data.columns:\n",
    "    if previous_data[col].dtype=='object':\n",
    "        cat_variables.append(col)\n",
    "    else:\n",
    "        num_variables.append(col)"
   ]
  },
  {
   "cell_type": "code",
   "execution_count": 16,
   "metadata": {},
   "outputs": [
    {
     "name": "stdout",
     "output_type": "stream",
     "text": [
      "{'SK_ID_PREV': 1.0, 'SK_ID_CURR': 1.0, 'AMT_ANNUITY': 0.77713334937918133, 'AMT_APPLICATION': 1.0, 'AMT_CREDIT': 0.99999940127432774, 'AMT_DOWN_PAYMENT': 0.46363519884278304, 'AMT_GOODS_PRICE': 0.76918227245131465, 'DAYS_DECISION': 1.0, 'SELLERPLACE_AREA': 1.0, 'CNT_PAYMENT': 0.77713634300754275, 'NFLAG_INSURED_ON_APPROVAL': 0.59701870538745339}\n"
     ]
    }
   ],
   "source": [
    "num_dict = {}\n",
    "for col in num_variables:\n",
    "    num_dict[col] = previous_data[col].count()/len(previous_data)\n",
    "print(num_dict)"
   ]
  },
  {
   "cell_type": "code",
   "execution_count": 17,
   "metadata": {},
   "outputs": [
    {
     "name": "stdout",
     "output_type": "stream",
     "text": [
      "{'SK_ID_PREV': 1.0, 'SK_ID_CURR': 1.0, 'AMT_ANNUITY': 0.95093415663696224, 'AMT_APPLICATION': 1.0, 'AMT_CREDIT': 0.99999926139028505, 'AMT_DOWN_PAYMENT': 0.57148227890641445, 'AMT_GOODS_PRICE': 0.94095184633963491, 'DAYS_DECISION': 1.0, 'SELLERPLACE_AREA': 1.0, 'CNT_PAYMENT': 0.95093784968553696, 'NFLAG_INSURED_ON_APPROVAL': 0.73650393863630492}\n"
     ]
    }
   ],
   "source": [
    "tt_data = previous_data[previous_data['NAME_CONTRACT_STATUS']!='Canceled']\n",
    "num_dict = {}\n",
    "for col in num_variables:\n",
    "    num_dict[col] = tt_data[col].count()/len(tt_data)\n",
    "print(num_dict)"
   ]
  },
  {
   "cell_type": "code",
   "execution_count": 18,
   "metadata": {
    "collapsed": true
   },
   "outputs": [],
   "source": [
    "def fill_with0(origin_data, fillmid_cols):\n",
    "    for i in fillmid_cols:\n",
    "        origin_data[i].fillna(0,inplace=True)\n",
    "    return\n",
    "fill_with0(previous_data, list(num_dict.keys()))"
   ]
  },
  {
   "cell_type": "code",
   "execution_count": 19,
   "metadata": {},
   "outputs": [
    {
     "data": {
      "text/plain": [
       "Index(['SK_ID_PREV', 'SK_ID_CURR', 'AMT_ANNUITY', 'AMT_APPLICATION',\n",
       "       'AMT_CREDIT', 'AMT_DOWN_PAYMENT', 'AMT_GOODS_PRICE', 'DAYS_DECISION',\n",
       "       'SELLERPLACE_AREA', 'CNT_PAYMENT',\n",
       "       ...\n",
       "       'PRODUCT_COMBINATION_Cash X-Sell: low',\n",
       "       'PRODUCT_COMBINATION_Cash X-Sell: middle',\n",
       "       'PRODUCT_COMBINATION_POS household with interest',\n",
       "       'PRODUCT_COMBINATION_POS household without interest',\n",
       "       'PRODUCT_COMBINATION_POS industry with interest',\n",
       "       'PRODUCT_COMBINATION_POS industry without interest',\n",
       "       'PRODUCT_COMBINATION_POS mobile with interest',\n",
       "       'PRODUCT_COMBINATION_POS mobile without interest',\n",
       "       'PRODUCT_COMBINATION_POS other with interest',\n",
       "       'PRODUCT_COMBINATION_POS others without interest'],\n",
       "      dtype='object', length=145)"
      ]
     },
     "execution_count": 19,
     "metadata": {},
     "output_type": "execute_result"
    }
   ],
   "source": [
    "previous_data = pd.get_dummies(previous_data)\n",
    "previous_data.columns"
   ]
  },
  {
   "cell_type": "code",
   "execution_count": 20,
   "metadata": {},
   "outputs": [
    {
     "name": "stdout",
     "output_type": "stream",
     "text": [
      "['NFLAG_INSURED_ON_APPROVAL', 'NAME_CONTRACT_TYPE_Cash loans', 'NAME_CONTRACT_TYPE_Consumer loans', 'NAME_CONTRACT_TYPE_Revolving loans', 'NAME_CONTRACT_TYPE_XNA', 'NAME_CASH_LOAN_PURPOSE_Building a house or an annex', 'NAME_CASH_LOAN_PURPOSE_Business development', 'NAME_CASH_LOAN_PURPOSE_Buying a garage', 'NAME_CASH_LOAN_PURPOSE_Buying a holiday home / land', 'NAME_CASH_LOAN_PURPOSE_Buying a home', 'NAME_CASH_LOAN_PURPOSE_Buying a new car', 'NAME_CASH_LOAN_PURPOSE_Buying a used car', 'NAME_CASH_LOAN_PURPOSE_Car repairs', 'NAME_CASH_LOAN_PURPOSE_Education', 'NAME_CASH_LOAN_PURPOSE_Everyday expenses', 'NAME_CASH_LOAN_PURPOSE_Furniture', 'NAME_CASH_LOAN_PURPOSE_Gasification / water supply', 'NAME_CASH_LOAN_PURPOSE_Hobby', 'NAME_CASH_LOAN_PURPOSE_Journey', 'NAME_CASH_LOAN_PURPOSE_Medicine', 'NAME_CASH_LOAN_PURPOSE_Money for a third person', 'NAME_CASH_LOAN_PURPOSE_Other', 'NAME_CASH_LOAN_PURPOSE_Payments on other loans', 'NAME_CASH_LOAN_PURPOSE_Purchase of electronic equipment', 'NAME_CASH_LOAN_PURPOSE_Refusal to name the goal', 'NAME_CASH_LOAN_PURPOSE_Repairs', 'NAME_CASH_LOAN_PURPOSE_Urgent needs', 'NAME_CASH_LOAN_PURPOSE_Wedding / gift / holiday', 'NAME_CASH_LOAN_PURPOSE_XAP', 'NAME_CASH_LOAN_PURPOSE_XNA', 'NAME_CONTRACT_STATUS_Approved', 'NAME_CONTRACT_STATUS_Canceled', 'NAME_CONTRACT_STATUS_Refused', 'NAME_CONTRACT_STATUS_Unused offer', 'NAME_PAYMENT_TYPE_Cash through the bank', 'NAME_PAYMENT_TYPE_Cashless from the account of the employer', 'NAME_PAYMENT_TYPE_Non-cash from your account', 'NAME_PAYMENT_TYPE_XNA', 'CODE_REJECT_REASON_CLIENT', 'CODE_REJECT_REASON_HC', 'CODE_REJECT_REASON_LIMIT', 'CODE_REJECT_REASON_SCO', 'CODE_REJECT_REASON_SCOFR', 'CODE_REJECT_REASON_SYSTEM', 'CODE_REJECT_REASON_VERIF', 'CODE_REJECT_REASON_XAP', 'CODE_REJECT_REASON_XNA', 'NAME_TYPE_SUITE_Children', 'NAME_TYPE_SUITE_Family', 'NAME_TYPE_SUITE_Group of people', 'NAME_TYPE_SUITE_Other_A', 'NAME_TYPE_SUITE_Other_B', 'NAME_TYPE_SUITE_Spouse, partner', 'NAME_TYPE_SUITE_Unaccompanied', 'NAME_CLIENT_TYPE_New', 'NAME_CLIENT_TYPE_Refreshed', 'NAME_CLIENT_TYPE_Repeater', 'NAME_CLIENT_TYPE_XNA', 'NAME_GOODS_CATEGORY_Additional Service', 'NAME_GOODS_CATEGORY_Animals', 'NAME_GOODS_CATEGORY_Audio/Video', 'NAME_GOODS_CATEGORY_Auto Accessories', 'NAME_GOODS_CATEGORY_Clothing and Accessories', 'NAME_GOODS_CATEGORY_Computers', 'NAME_GOODS_CATEGORY_Construction Materials', 'NAME_GOODS_CATEGORY_Consumer Electronics', 'NAME_GOODS_CATEGORY_Direct Sales', 'NAME_GOODS_CATEGORY_Education', 'NAME_GOODS_CATEGORY_Fitness', 'NAME_GOODS_CATEGORY_Furniture', 'NAME_GOODS_CATEGORY_Gardening', 'NAME_GOODS_CATEGORY_Homewares', 'NAME_GOODS_CATEGORY_House Construction', 'NAME_GOODS_CATEGORY_Insurance', 'NAME_GOODS_CATEGORY_Jewelry', 'NAME_GOODS_CATEGORY_Medical Supplies', 'NAME_GOODS_CATEGORY_Medicine', 'NAME_GOODS_CATEGORY_Mobile', 'NAME_GOODS_CATEGORY_Office Appliances', 'NAME_GOODS_CATEGORY_Other', 'NAME_GOODS_CATEGORY_Photo / Cinema Equipment', 'NAME_GOODS_CATEGORY_Sport and Leisure', 'NAME_GOODS_CATEGORY_Tourism', 'NAME_GOODS_CATEGORY_Vehicles', 'NAME_GOODS_CATEGORY_Weapon', 'NAME_GOODS_CATEGORY_XNA', 'NAME_PORTFOLIO_Cards', 'NAME_PORTFOLIO_Cars', 'NAME_PORTFOLIO_Cash', 'NAME_PORTFOLIO_POS', 'NAME_PORTFOLIO_XNA', 'NAME_PRODUCT_TYPE_XNA', 'NAME_PRODUCT_TYPE_walk-in', 'NAME_PRODUCT_TYPE_x-sell', 'CHANNEL_TYPE_AP+ (Cash loan)', 'CHANNEL_TYPE_Car dealer', 'CHANNEL_TYPE_Channel of corporate sales', 'CHANNEL_TYPE_Contact center', 'CHANNEL_TYPE_Country-wide', 'CHANNEL_TYPE_Credit and cash offices', 'CHANNEL_TYPE_Regional / Local', 'CHANNEL_TYPE_Stone', 'NAME_SELLER_INDUSTRY_Auto technology', 'NAME_SELLER_INDUSTRY_Clothing', 'NAME_SELLER_INDUSTRY_Connectivity', 'NAME_SELLER_INDUSTRY_Construction', 'NAME_SELLER_INDUSTRY_Consumer electronics', 'NAME_SELLER_INDUSTRY_Furniture', 'NAME_SELLER_INDUSTRY_Industry', 'NAME_SELLER_INDUSTRY_Jewelry', 'NAME_SELLER_INDUSTRY_MLM partners', 'NAME_SELLER_INDUSTRY_Tourism', 'NAME_SELLER_INDUSTRY_XNA', 'NAME_YIELD_GROUP_XNA', 'NAME_YIELD_GROUP_high', 'NAME_YIELD_GROUP_low_action', 'NAME_YIELD_GROUP_low_normal', 'NAME_YIELD_GROUP_middle', 'PRODUCT_COMBINATION_Card Street', 'PRODUCT_COMBINATION_Card X-Sell', 'PRODUCT_COMBINATION_Cash', 'PRODUCT_COMBINATION_Cash Street: high', 'PRODUCT_COMBINATION_Cash Street: low', 'PRODUCT_COMBINATION_Cash Street: middle', 'PRODUCT_COMBINATION_Cash X-Sell: high', 'PRODUCT_COMBINATION_Cash X-Sell: low', 'PRODUCT_COMBINATION_Cash X-Sell: middle', 'PRODUCT_COMBINATION_POS household with interest', 'PRODUCT_COMBINATION_POS household without interest', 'PRODUCT_COMBINATION_POS industry with interest', 'PRODUCT_COMBINATION_POS industry without interest', 'PRODUCT_COMBINATION_POS mobile with interest', 'PRODUCT_COMBINATION_POS mobile without interest', 'PRODUCT_COMBINATION_POS other with interest', 'PRODUCT_COMBINATION_POS others without interest', 'SK_ID_CURR']\n",
      "['SK_ID_PREV', 'AMT_ANNUITY', 'AMT_APPLICATION', 'AMT_CREDIT', 'AMT_DOWN_PAYMENT', 'AMT_GOODS_PRICE', 'DAYS_DECISION', 'SELLERPLACE_AREA', 'CNT_PAYMENT', 'SK_ID_CURR']\n"
     ]
    }
   ],
   "source": [
    "sum_features = ['NFLAG_INSURED_ON_APPROVAL']\n",
    "for col in previous_data.columns:\n",
    "    if col.startswith('NAME_CONTRACT_TYPE') or col.startswith('NAME_CASH_LOAN_PURPOSE') or col.startswith('NAME_CONTRACT_STATUS') \\\n",
    "    or col.startswith('NAME_PAYMENT_TYPE') or col.startswith('CODE_REJECT_REASON') or col.startswith('NAME_TYPE_SUITE') \\\n",
    "    or col.startswith('NAME_CLIENT_TYPE') or col.startswith('NAME_GOODS_CATEGORY') or col.startswith('NAME_PORTFOLIO') \\\n",
    "    or col.startswith('NAME_PRODUCT_TYPE') or col.startswith('CHANNEL_TYPE') or col.startswith('NAME_SELLER_INDUSTRY') \\\n",
    "    or col.startswith('NAME_YIELD_GROUP') or col.startswith('PRODUCT_COMBINATION'):\n",
    "        sum_features.append(col)\n",
    "minmax_features = []\n",
    "for col in previous_data.columns:\n",
    "    if col not in ['SK_ID_CURR','SK_ID_BUREAU'] and col not in sum_features:\n",
    "        minmax_features.append(col)\n",
    "sum_features.append('SK_ID_CURR')\n",
    "minmax_features.append('SK_ID_CURR')\n",
    "print(sum_features)\n",
    "print(minmax_features)"
   ]
  },
  {
   "cell_type": "code",
   "execution_count": 21,
   "metadata": {
    "collapsed": true
   },
   "outputs": [],
   "source": [
    "previous_sum = previous_data[sum_features].groupby(by=['SK_ID_CURR']).agg('sum')\n",
    "previous_sum.reset_index(inplace=True)"
   ]
  },
  {
   "cell_type": "code",
   "execution_count": 22,
   "metadata": {
    "collapsed": true
   },
   "outputs": [],
   "source": [
    "previous_min = previous_data[previous_data['NAME_CONTRACT_STATUS_Canceled']==0][minmax_features].groupby(by=['SK_ID_CURR']).agg('min')\n",
    "previous_min.columns=['SK_ID_PREV_MIN','AMT_ANNUITY_MIN','AMT_APPLICATION_MIN','AMT_CREDIT_MIN','AMT_DOWN_PAYMENT_MIN',\n",
    "                     'AMT_GOODS_PRICE_MIN','DAYS_DECISION_MIN','SELLERPLACE_AREA_MIN','CNT_PAYMENT_MIN']\n",
    "previous_min.reset_index(inplace=True)"
   ]
  },
  {
   "cell_type": "code",
   "execution_count": 23,
   "metadata": {
    "collapsed": true
   },
   "outputs": [],
   "source": [
    "previous_max = previous_data[previous_data['NAME_CONTRACT_STATUS_Canceled']==0][minmax_features].groupby(by=['SK_ID_CURR']).agg('max')\n",
    "previous_max.columns=['SK_ID_PREV_MAX','AMT_ANNUITY_MAX','AMT_APPLICATION_MAX','AMT_CREDIT_MAX','AMT_DOWN_PAYMENT_MAX',\n",
    "                     'AMT_GOODS_PRICE_MAX','DAYS_DECISION_MAX','SELLERPLACE_AREA_MAX','CNT_PAYMENT_MAX']\n",
    "previous_max.reset_index(inplace=True)"
   ]
  },
  {
   "cell_type": "code",
   "execution_count": 24,
   "metadata": {
    "collapsed": true
   },
   "outputs": [],
   "source": [
    "previous_sum = previous_sum.merge(previous_min, on='SK_ID_CURR', how='left')\n",
    "previous_sum = previous_sum.merge(previous_max, on='SK_ID_CURR', how='left')"
   ]
  },
  {
   "cell_type": "code",
   "execution_count": 410,
   "metadata": {},
   "outputs": [
    {
     "data": {
      "text/html": [
       "<div>\n",
       "<style>\n",
       "    .dataframe thead tr:only-child th {\n",
       "        text-align: right;\n",
       "    }\n",
       "\n",
       "    .dataframe thead th {\n",
       "        text-align: left;\n",
       "    }\n",
       "\n",
       "    .dataframe tbody tr th {\n",
       "        vertical-align: top;\n",
       "    }\n",
       "</style>\n",
       "<table border=\"1\" class=\"dataframe\">\n",
       "  <thead>\n",
       "    <tr style=\"text-align: right;\">\n",
       "      <th></th>\n",
       "      <th>SK_ID_CURR</th>\n",
       "      <th>NFLAG_INSURED_ON_APPROVAL</th>\n",
       "      <th>NAME_CONTRACT_TYPE_Cash loans</th>\n",
       "      <th>NAME_CONTRACT_TYPE_Consumer loans</th>\n",
       "      <th>NAME_CONTRACT_TYPE_Revolving loans</th>\n",
       "      <th>NAME_CONTRACT_TYPE_XNA</th>\n",
       "      <th>NAME_CASH_LOAN_PURPOSE_Building a house or an annex</th>\n",
       "      <th>NAME_CASH_LOAN_PURPOSE_Business development</th>\n",
       "      <th>NAME_CASH_LOAN_PURPOSE_Buying a garage</th>\n",
       "      <th>NAME_CASH_LOAN_PURPOSE_Buying a holiday home / land</th>\n",
       "      <th>...</th>\n",
       "      <th>CNT_PAYMENT_MIN</th>\n",
       "      <th>SK_ID_PREV_MAX</th>\n",
       "      <th>AMT_ANNUITY_MAX</th>\n",
       "      <th>AMT_APPLICATION_MAX</th>\n",
       "      <th>AMT_CREDIT_MAX</th>\n",
       "      <th>AMT_DOWN_PAYMENT_MAX</th>\n",
       "      <th>AMT_GOODS_PRICE_MAX</th>\n",
       "      <th>DAYS_DECISION_MAX</th>\n",
       "      <th>SELLERPLACE_AREA_MAX</th>\n",
       "      <th>CNT_PAYMENT_MAX</th>\n",
       "    </tr>\n",
       "  </thead>\n",
       "  <tbody>\n",
       "    <tr>\n",
       "      <th>count</th>\n",
       "      <td>338857.000000</td>\n",
       "      <td>338857.000000</td>\n",
       "      <td>338857.000000</td>\n",
       "      <td>338857.000000</td>\n",
       "      <td>338857.000000</td>\n",
       "      <td>338857.000000</td>\n",
       "      <td>338857.000000</td>\n",
       "      <td>338857.000000</td>\n",
       "      <td>338857.000000</td>\n",
       "      <td>338857.000000</td>\n",
       "      <td>...</td>\n",
       "      <td>338602.000000</td>\n",
       "      <td>3.386020e+05</td>\n",
       "      <td>338602.000000</td>\n",
       "      <td>3.386020e+05</td>\n",
       "      <td>3.386020e+05</td>\n",
       "      <td>3.386020e+05</td>\n",
       "      <td>3.386020e+05</td>\n",
       "      <td>338602.000000</td>\n",
       "      <td>3.386020e+05</td>\n",
       "      <td>338602.000000</td>\n",
       "    </tr>\n",
       "    <tr>\n",
       "      <th>mean</th>\n",
       "      <td>278149.909581</td>\n",
       "      <td>0.978649</td>\n",
       "      <td>2.206102</td>\n",
       "      <td>2.151796</td>\n",
       "      <td>0.570046</td>\n",
       "      <td>0.001021</td>\n",
       "      <td>0.007947</td>\n",
       "      <td>0.001257</td>\n",
       "      <td>0.000401</td>\n",
       "      <td>0.001573</td>\n",
       "      <td>...</td>\n",
       "      <td>6.072802</td>\n",
       "      <td>2.331918e+06</td>\n",
       "      <td>23712.249652</td>\n",
       "      <td>3.703040e+05</td>\n",
       "      <td>4.092005e+05</td>\n",
       "      <td>1.106404e+04</td>\n",
       "      <td>3.703320e+05</td>\n",
       "      <td>-544.780108</td>\n",
       "      <td>9.744344e+02</td>\n",
       "      <td>23.797373</td>\n",
       "    </tr>\n",
       "    <tr>\n",
       "      <th>std</th>\n",
       "      <td>102879.193103</td>\n",
       "      <td>1.321227</td>\n",
       "      <td>3.297706</td>\n",
       "      <td>1.820743</td>\n",
       "      <td>1.024132</td>\n",
       "      <td>0.034939</td>\n",
       "      <td>0.130419</td>\n",
       "      <td>0.044382</td>\n",
       "      <td>0.028947</td>\n",
       "      <td>0.057955</td>\n",
       "      <td>...</td>\n",
       "      <td>7.098769</td>\n",
       "      <td>4.614506e+05</td>\n",
       "      <td>19171.717738</td>\n",
       "      <td>4.158564e+05</td>\n",
       "      <td>4.514829e+05</td>\n",
       "      <td>2.788206e+04</td>\n",
       "      <td>4.158642e+05</td>\n",
       "      <td>542.642901</td>\n",
       "      <td>1.568619e+04</td>\n",
       "      <td>16.523802</td>\n",
       "    </tr>\n",
       "    <tr>\n",
       "      <th>min</th>\n",
       "      <td>100001.000000</td>\n",
       "      <td>0.000000</td>\n",
       "      <td>0.000000</td>\n",
       "      <td>0.000000</td>\n",
       "      <td>0.000000</td>\n",
       "      <td>0.000000</td>\n",
       "      <td>0.000000</td>\n",
       "      <td>0.000000</td>\n",
       "      <td>0.000000</td>\n",
       "      <td>0.000000</td>\n",
       "      <td>...</td>\n",
       "      <td>0.000000</td>\n",
       "      <td>1.000001e+06</td>\n",
       "      <td>0.000000</td>\n",
       "      <td>0.000000e+00</td>\n",
       "      <td>0.000000e+00</td>\n",
       "      <td>0.000000e+00</td>\n",
       "      <td>0.000000e+00</td>\n",
       "      <td>-2922.000000</td>\n",
       "      <td>-1.000000e+00</td>\n",
       "      <td>0.000000</td>\n",
       "    </tr>\n",
       "    <tr>\n",
       "      <th>25%</th>\n",
       "      <td>189061.000000</td>\n",
       "      <td>0.000000</td>\n",
       "      <td>0.000000</td>\n",
       "      <td>1.000000</td>\n",
       "      <td>0.000000</td>\n",
       "      <td>0.000000</td>\n",
       "      <td>0.000000</td>\n",
       "      <td>0.000000</td>\n",
       "      <td>0.000000</td>\n",
       "      <td>0.000000</td>\n",
       "      <td>...</td>\n",
       "      <td>0.000000</td>\n",
       "      <td>2.075677e+06</td>\n",
       "      <td>10417.736250</td>\n",
       "      <td>9.895050e+04</td>\n",
       "      <td>1.049265e+05</td>\n",
       "      <td>0.000000e+00</td>\n",
       "      <td>9.895050e+04</td>\n",
       "      <td>-671.000000</td>\n",
       "      <td>5.000000e+01</td>\n",
       "      <td>12.000000</td>\n",
       "    </tr>\n",
       "    <tr>\n",
       "      <th>50%</th>\n",
       "      <td>278221.000000</td>\n",
       "      <td>1.000000</td>\n",
       "      <td>1.000000</td>\n",
       "      <td>2.000000</td>\n",
       "      <td>0.000000</td>\n",
       "      <td>0.000000</td>\n",
       "      <td>0.000000</td>\n",
       "      <td>0.000000</td>\n",
       "      <td>0.000000</td>\n",
       "      <td>0.000000</td>\n",
       "      <td>...</td>\n",
       "      <td>6.000000</td>\n",
       "      <td>2.479420e+06</td>\n",
       "      <td>17909.505000</td>\n",
       "      <td>2.025000e+05</td>\n",
       "      <td>2.250000e+05</td>\n",
       "      <td>4.995000e+03</td>\n",
       "      <td>2.025000e+05</td>\n",
       "      <td>-370.000000</td>\n",
       "      <td>1.590000e+02</td>\n",
       "      <td>18.000000</td>\n",
       "    </tr>\n",
       "    <tr>\n",
       "      <th>75%</th>\n",
       "      <td>367302.000000</td>\n",
       "      <td>1.000000</td>\n",
       "      <td>3.000000</td>\n",
       "      <td>3.000000</td>\n",
       "      <td>1.000000</td>\n",
       "      <td>0.000000</td>\n",
       "      <td>0.000000</td>\n",
       "      <td>0.000000</td>\n",
       "      <td>0.000000</td>\n",
       "      <td>0.000000</td>\n",
       "      <td>...</td>\n",
       "      <td>10.000000</td>\n",
       "      <td>2.703941e+06</td>\n",
       "      <td>31452.018750</td>\n",
       "      <td>4.545000e+05</td>\n",
       "      <td>5.416290e+05</td>\n",
       "      <td>1.350000e+04</td>\n",
       "      <td>4.545000e+05</td>\n",
       "      <td>-205.000000</td>\n",
       "      <td>1.200000e+03</td>\n",
       "      <td>36.000000</td>\n",
       "    </tr>\n",
       "    <tr>\n",
       "      <th>max</th>\n",
       "      <td>456255.000000</td>\n",
       "      <td>23.000000</td>\n",
       "      <td>66.000000</td>\n",
       "      <td>48.000000</td>\n",
       "      <td>31.000000</td>\n",
       "      <td>3.000000</td>\n",
       "      <td>13.000000</td>\n",
       "      <td>5.000000</td>\n",
       "      <td>8.000000</td>\n",
       "      <td>7.000000</td>\n",
       "      <td>...</td>\n",
       "      <td>72.000000</td>\n",
       "      <td>2.845382e+06</td>\n",
       "      <td>418058.145000</td>\n",
       "      <td>6.905160e+06</td>\n",
       "      <td>6.905160e+06</td>\n",
       "      <td>3.060045e+06</td>\n",
       "      <td>6.905160e+06</td>\n",
       "      <td>-1.000000</td>\n",
       "      <td>4.000000e+06</td>\n",
       "      <td>84.000000</td>\n",
       "    </tr>\n",
       "  </tbody>\n",
       "</table>\n",
       "<p>8 rows × 154 columns</p>\n",
       "</div>"
      ],
      "text/plain": [
       "          SK_ID_CURR  NFLAG_INSURED_ON_APPROVAL  \\\n",
       "count  338857.000000              338857.000000   \n",
       "mean   278149.909581                   0.978649   \n",
       "std    102879.193103                   1.321227   \n",
       "min    100001.000000                   0.000000   \n",
       "25%    189061.000000                   0.000000   \n",
       "50%    278221.000000                   1.000000   \n",
       "75%    367302.000000                   1.000000   \n",
       "max    456255.000000                  23.000000   \n",
       "\n",
       "       NAME_CONTRACT_TYPE_Cash loans  NAME_CONTRACT_TYPE_Consumer loans  \\\n",
       "count                  338857.000000                      338857.000000   \n",
       "mean                        2.206102                           2.151796   \n",
       "std                         3.297706                           1.820743   \n",
       "min                         0.000000                           0.000000   \n",
       "25%                         0.000000                           1.000000   \n",
       "50%                         1.000000                           2.000000   \n",
       "75%                         3.000000                           3.000000   \n",
       "max                        66.000000                          48.000000   \n",
       "\n",
       "       NAME_CONTRACT_TYPE_Revolving loans  NAME_CONTRACT_TYPE_XNA  \\\n",
       "count                       338857.000000           338857.000000   \n",
       "mean                             0.570046                0.001021   \n",
       "std                              1.024132                0.034939   \n",
       "min                              0.000000                0.000000   \n",
       "25%                              0.000000                0.000000   \n",
       "50%                              0.000000                0.000000   \n",
       "75%                              1.000000                0.000000   \n",
       "max                             31.000000                3.000000   \n",
       "\n",
       "       NAME_CASH_LOAN_PURPOSE_Building a house or an annex  \\\n",
       "count                                      338857.000000     \n",
       "mean                                            0.007947     \n",
       "std                                             0.130419     \n",
       "min                                             0.000000     \n",
       "25%                                             0.000000     \n",
       "50%                                             0.000000     \n",
       "75%                                             0.000000     \n",
       "max                                            13.000000     \n",
       "\n",
       "       NAME_CASH_LOAN_PURPOSE_Business development  \\\n",
       "count                                338857.000000   \n",
       "mean                                      0.001257   \n",
       "std                                       0.044382   \n",
       "min                                       0.000000   \n",
       "25%                                       0.000000   \n",
       "50%                                       0.000000   \n",
       "75%                                       0.000000   \n",
       "max                                       5.000000   \n",
       "\n",
       "       NAME_CASH_LOAN_PURPOSE_Buying a garage  \\\n",
       "count                           338857.000000   \n",
       "mean                                 0.000401   \n",
       "std                                  0.028947   \n",
       "min                                  0.000000   \n",
       "25%                                  0.000000   \n",
       "50%                                  0.000000   \n",
       "75%                                  0.000000   \n",
       "max                                  8.000000   \n",
       "\n",
       "       NAME_CASH_LOAN_PURPOSE_Buying a holiday home / land       ...         \\\n",
       "count                                      338857.000000         ...          \n",
       "mean                                            0.001573         ...          \n",
       "std                                             0.057955         ...          \n",
       "min                                             0.000000         ...          \n",
       "25%                                             0.000000         ...          \n",
       "50%                                             0.000000         ...          \n",
       "75%                                             0.000000         ...          \n",
       "max                                             7.000000         ...          \n",
       "\n",
       "       CNT_PAYMENT_MIN  SK_ID_PREV_MAX  AMT_ANNUITY_MAX  AMT_APPLICATION_MAX  \\\n",
       "count    338602.000000    3.386020e+05    338602.000000         3.386020e+05   \n",
       "mean          6.072802    2.331918e+06     23712.249652         3.703040e+05   \n",
       "std           7.098769    4.614506e+05     19171.717738         4.158564e+05   \n",
       "min           0.000000    1.000001e+06         0.000000         0.000000e+00   \n",
       "25%           0.000000    2.075677e+06     10417.736250         9.895050e+04   \n",
       "50%           6.000000    2.479420e+06     17909.505000         2.025000e+05   \n",
       "75%          10.000000    2.703941e+06     31452.018750         4.545000e+05   \n",
       "max          72.000000    2.845382e+06    418058.145000         6.905160e+06   \n",
       "\n",
       "       AMT_CREDIT_MAX  AMT_DOWN_PAYMENT_MAX  AMT_GOODS_PRICE_MAX  \\\n",
       "count    3.386020e+05          3.386020e+05         3.386020e+05   \n",
       "mean     4.092005e+05          1.106404e+04         3.703320e+05   \n",
       "std      4.514829e+05          2.788206e+04         4.158642e+05   \n",
       "min      0.000000e+00          0.000000e+00         0.000000e+00   \n",
       "25%      1.049265e+05          0.000000e+00         9.895050e+04   \n",
       "50%      2.250000e+05          4.995000e+03         2.025000e+05   \n",
       "75%      5.416290e+05          1.350000e+04         4.545000e+05   \n",
       "max      6.905160e+06          3.060045e+06         6.905160e+06   \n",
       "\n",
       "       DAYS_DECISION_MAX  SELLERPLACE_AREA_MAX  CNT_PAYMENT_MAX  \n",
       "count      338602.000000          3.386020e+05    338602.000000  \n",
       "mean         -544.780108          9.744344e+02        23.797373  \n",
       "std           542.642901          1.568619e+04        16.523802  \n",
       "min         -2922.000000         -1.000000e+00         0.000000  \n",
       "25%          -671.000000          5.000000e+01        12.000000  \n",
       "50%          -370.000000          1.590000e+02        18.000000  \n",
       "75%          -205.000000          1.200000e+03        36.000000  \n",
       "max            -1.000000          4.000000e+06        84.000000  \n",
       "\n",
       "[8 rows x 154 columns]"
      ]
     },
     "execution_count": 410,
     "metadata": {},
     "output_type": "execute_result"
    }
   ],
   "source": [
    "previous_sum.describe()"
   ]
  },
  {
   "cell_type": "code",
   "execution_count": 25,
   "metadata": {
    "collapsed": true
   },
   "outputs": [],
   "source": [
    "previous_sum.columns = list(map(lambda x: 'PRE'+x if x!='SK_ID_CURR' else x, list(previous_sum.columns)))"
   ]
  },
  {
   "cell_type": "markdown",
   "metadata": {},
   "source": [
    "# 百分比特征"
   ]
  },
  {
   "cell_type": "code",
   "execution_count": 26,
   "metadata": {
    "collapsed": true
   },
   "outputs": [],
   "source": [
    "bureau_sum['AMT_OVERDUE_PERCENT'] = bureau_sum['AMT_CREDIT_MAX_OVERDUE'] / bureau_sum['AMT_CREDIT_SUM']\n",
    "bureau_sum['AMT_DEBT_PERCENT'] = bureau_sum['AMT_CREDIT_SUM_DEBT'] / bureau_sum['AMT_CREDIT_SUM']\n",
    "bureau_sum['AMT_OVERDUESUM_PERCENT'] = bureau_sum['AMT_CREDIT_SUM_OVERDUE'] / bureau_sum['AMT_CREDIT_SUM']\n",
    "previous_sum['AMT_ANUCREDIT_PERCENT'] = previous_sum['PREAMT_ANNUITY_MAX'] / previous_sum['PREAMT_CREDIT_MAX']\n",
    "\n",
    "train_data = train_data.merge(bureau_sum, on='SK_ID_CURR', how='left')\n",
    "train_data = train_data.merge(previous_sum, on='SK_ID_CURR', how='left')\n",
    "test_data = test_data.merge(bureau_sum, on='SK_ID_CURR', how='left')\n",
    "test_data = test_data.merge(previous_sum, on='SK_ID_CURR', how='left')\n",
    "train_data['HAS_BUREAU'] = train_data['CNT_CREDIT_PROLONG'].notnull().astype(int)\n",
    "train_data['HAS_PREVIOUS1'] = train_data['PRENFLAG_INSURED_ON_APPROVAL'].notnull().astype(int)\n",
    "train_data['HAS_PREVIOUS2'] = train_data['PRESK_ID_PREV_MAX'].notnull().astype(int)\n",
    "test_data['HAS_BUREAU'] = test_data['CNT_CREDIT_PROLONG'].notnull().astype(int)\n",
    "test_data['HAS_PREVIOUS1'] = test_data['PRENFLAG_INSURED_ON_APPROVAL'].notnull().astype(int)\n",
    "test_data['HAS_PREVIOUS2'] = test_data['PRESK_ID_PREV_MAX'].notnull().astype(int)"
   ]
  },
  {
   "cell_type": "markdown",
   "metadata": {},
   "source": [
    "# application文件+bureau文件交叉新特征"
   ]
  },
  {
   "cell_type": "code",
   "execution_count": 27,
   "metadata": {
    "collapsed": true
   },
   "outputs": [],
   "source": [
    "train_data['BUREAU_MAXOV_CREDIT_PERCENT'] = train_data['AMT_CREDIT_MAX_OVERDUE'] / train_data['AMT_CREDIT']\n",
    "train_data['BUREAU_MAXOV_INCOME_PERCENT'] = train_data['AMT_CREDIT_MAX_OVERDUE'] / train_data['AMT_INCOME_TOTAL']\n",
    "train_data['BUREAU_SUMOV_CREDIT_PERCENT'] = train_data['AMT_CREDIT_SUM_OVERDUE'] / train_data['AMT_CREDIT']\n",
    "train_data['BUREAU_SUMOV_INCOME_PERCENT'] = train_data['AMT_CREDIT_SUM_OVERDUE'] / train_data['AMT_INCOME_TOTAL']\n",
    "train_data['BUREAU_MAXOV_ANNUITY_PERCENT'] = train_data['AMT_CREDIT_MAX_OVERDUE'] / train_data['AMT_ANNUITY']\n",
    "train_data['BUREAU_SUMOV_ANNUITY_PERCENT'] = train_data['AMT_CREDIT_SUM_OVERDUE'] / train_data['AMT_ANNUITY']\n",
    "train_data['PRE_ANNUITY_PERCENT'] = train_data['PREAMT_ANNUITY_MAX'] / train_data['AMT_ANNUITY']\n",
    "train_data['PRE_CREDIT_PERCENT'] = train_data['PREAMT_CREDIT_MAX'] / train_data['AMT_CREDIT']\n",
    "test_data['BUREAU_MAXOV_CREDIT_PERCENT'] = test_data['AMT_CREDIT_MAX_OVERDUE'] / test_data['AMT_CREDIT']\n",
    "test_data['BUREAU_MAXOV_INCOME_PERCENT'] = test_data['AMT_CREDIT_MAX_OVERDUE'] / test_data['AMT_INCOME_TOTAL']\n",
    "test_data['BUREAU_SUMOV_CREDIT_PERCENT'] = test_data['AMT_CREDIT_SUM_OVERDUE'] / test_data['AMT_CREDIT']\n",
    "test_data['BUREAU_SUMOV_INCOME_PERCENT'] = test_data['AMT_CREDIT_SUM_OVERDUE'] / test_data['AMT_INCOME_TOTAL']\n",
    "test_data['BUREAU_MAXOV_ANNUITY_PERCENT'] = test_data['AMT_CREDIT_MAX_OVERDUE'] / test_data['AMT_ANNUITY']\n",
    "test_data['BUREAU_SUMOV_ANNUITY_PERCENT'] = test_data['AMT_CREDIT_SUM_OVERDUE'] / test_data['AMT_ANNUITY']\n",
    "test_data['PRE_ANNUITY_PERCENT'] = test_data['PREAMT_ANNUITY_MAX'] / test_data['AMT_ANNUITY']\n",
    "test_data['PRE_CREDIT_PERCENT'] = test_data['PREAMT_CREDIT_MAX'] / test_data['AMT_CREDIT']"
   ]
  },
  {
   "cell_type": "markdown",
   "metadata": {},
   "source": [
    "# drop掉50%以上缺失字段+label encoding"
   ]
  },
  {
   "cell_type": "code",
   "execution_count": 346,
   "metadata": {},
   "outputs": [
    {
     "data": {
      "text/plain": [
       "float64    266\n",
       "int64       41\n",
       "object      16\n",
       "int32        3\n",
       "dtype: int64"
      ]
     },
     "execution_count": 346,
     "metadata": {},
     "output_type": "execute_result"
    }
   ],
   "source": [
    "train_data.dtypes.value_counts()"
   ]
  },
  {
   "cell_type": "code",
   "execution_count": 28,
   "metadata": {
    "collapsed": true
   },
   "outputs": [],
   "source": [
    "num_variables = []\n",
    "cat_variables = []\n",
    "for col in train_data.columns:\n",
    "    if train_data[col].dtype=='object':\n",
    "        cat_variables.append(col)\n",
    "    else:\n",
    "        num_variables.append(col)"
   ]
  },
  {
   "cell_type": "code",
   "execution_count": 29,
   "metadata": {
    "collapsed": true
   },
   "outputs": [],
   "source": [
    "train_data['EXT_SOURCE_1_NEW'] = (train_data['EXT_SOURCE_1'].isnull()).astype(int)\n",
    "zero_cols = ['OWN_CAR_AGE','APARTMENTS_AVG', 'BASEMENTAREA_AVG', 'YEARS_BUILD_AVG', 'COMMONAREA_AVG', \n",
    "             'ELEVATORS_AVG', 'ENTRANCES_AVG', 'FLOORSMIN_AVG', 'LANDAREA_AVG', 'LIVINGAPARTMENTS_AVG', \n",
    "             'LIVINGAREA_AVG', 'NONLIVINGAPARTMENTS_AVG', 'NONLIVINGAREA_AVG', 'EXT_SOURCE_1']\n",
    "fill_with0(train_data, zero_cols)"
   ]
  },
  {
   "cell_type": "code",
   "execution_count": 30,
   "metadata": {
    "collapsed": true
   },
   "outputs": [],
   "source": [
    "num_dict = {}\n",
    "for col in num_variables:\n",
    "    num_dict[col] = train_data[col].count()/len(train_data)\n",
    "for k, v in num_dict.items():\n",
    "    if v < 0.5:\n",
    "        train_data.drop(labels=k,axis=1,inplace=True)\n",
    "        test_data.drop(labels=k,axis=1,inplace=True)"
   ]
  },
  {
   "cell_type": "code",
   "execution_count": 31,
   "metadata": {},
   "outputs": [
    {
     "name": "stdout",
     "output_type": "stream",
     "text": [
      "['NAME_CONTRACT_TYPE', 'FLAG_OWN_CAR', 'FLAG_OWN_REALTY', 'EMERGENCYSTATE_MODE']\n"
     ]
    }
   ],
   "source": [
    "lb_cols = []\n",
    "for col in cat_variables:\n",
    "    if train_data[col].nunique() <= 2:\n",
    "        lb_cols.append(col)\n",
    "print(lb_cols)"
   ]
  },
  {
   "cell_type": "code",
   "execution_count": 32,
   "metadata": {},
   "outputs": [
    {
     "name": "stdout",
     "output_type": "stream",
     "text": [
      "4 columns were label encoded.\n"
     ]
    }
   ],
   "source": [
    "# Create a label encoder objectcat_variables\n",
    "le = preprocessing.LabelEncoder()\n",
    "le_count = 0\n",
    "\n",
    "# Iterate through the columns\n",
    "for col in lb_cols:\n",
    "    # Train on the training data\n",
    "    train_data[col] = train_data[col].fillna('NAN')\n",
    "    test_data[col] = test_data[col].fillna('NAN')\n",
    "    le.fit(train_data[col])\n",
    "    # Transform both training and testing data\n",
    "    train_data[col] = le.transform(train_data[col])\n",
    "    test_data[col] = le.transform(test_data[col])\n",
    "    # Keep track of how many columns were label encoded\n",
    "    le_count += 1\n",
    "            \n",
    "print('%d columns were label encoded.' % le_count)"
   ]
  },
  {
   "cell_type": "markdown",
   "metadata": {},
   "source": [
    "# 独热编码"
   ]
  },
  {
   "cell_type": "code",
   "execution_count": 33,
   "metadata": {
    "collapsed": true
   },
   "outputs": [],
   "source": [
    "train_data = pd.get_dummies(train_data)\n",
    "test_data = pd.get_dummies(test_data)"
   ]
  },
  {
   "cell_type": "code",
   "execution_count": 34,
   "metadata": {},
   "outputs": [
    {
     "name": "stdout",
     "output_type": "stream",
     "text": [
      "(307511, 418) (48744, 418)\n"
     ]
    }
   ],
   "source": [
    "train_target = train_data['TARGET']\n",
    "train_data, test_data = train_data.align(test_data, join = 'inner', axis = 1)\n",
    "print(train_data.shape, test_data.shape)"
   ]
  },
  {
   "cell_type": "markdown",
   "metadata": {},
   "source": [
    "# 连续变量补缺"
   ]
  },
  {
   "cell_type": "code",
   "execution_count": 35,
   "metadata": {},
   "outputs": [
    {
     "data": {
      "text/plain": [
       "1.0"
      ]
     },
     "execution_count": 35,
     "metadata": {},
     "output_type": "execute_result"
    }
   ],
   "source": [
    "pop_item = []\n",
    "for k, v in num_dict.items():\n",
    "    if v < 0.5:\n",
    "        pop_item.append(k)\n",
    "for i in pop_item:\n",
    "    num_dict.pop(i)\n",
    "num_dict.pop('TARGET')"
   ]
  },
  {
   "cell_type": "code",
   "execution_count": 36,
   "metadata": {
    "collapsed": true
   },
   "outputs": [],
   "source": [
    "def fill_withmid(origin_data, fillmid_cols):\n",
    "    for i in fillmid_cols:\n",
    "        mid_value = origin_data[i].quantile(.5)\n",
    "        origin_data[i].fillna(mid_value,inplace=True)\n",
    "    return\n",
    "fill_withmid(train_data, list(num_dict.keys()))\n",
    "fill_withmid(test_data, list(num_dict.keys()))"
   ]
  },
  {
   "cell_type": "code",
   "execution_count": 37,
   "metadata": {
    "collapsed": true
   },
   "outputs": [],
   "source": [
    "#特殊列，新建分类变量\n",
    "train_data['DAYS_EMPLOYED_NEW'] = (train_data['DAYS_EMPLOYED']==365243).astype(int)\n",
    "train_data.loc[train_data['DAYS_EMPLOYED']==365243,'DAYS_EMPLOYED'] = -20000"
   ]
  },
  {
   "cell_type": "code",
   "execution_count": 38,
   "metadata": {
    "collapsed": true
   },
   "outputs": [],
   "source": [
    "test_data['DAYS_EMPLOYED_NEW'] = (test_data['DAYS_EMPLOYED']==365243).astype(int)\n",
    "test_data.loc[test_data['DAYS_EMPLOYED']==365243,'DAYS_EMPLOYED'] = -20000"
   ]
  },
  {
   "cell_type": "markdown",
   "metadata": {},
   "source": [
    "# application文件新特征"
   ]
  },
  {
   "cell_type": "code",
   "execution_count": 39,
   "metadata": {
    "collapsed": true
   },
   "outputs": [],
   "source": [
    "train_data['GOODS_CREDIT_PERCENT'] = train_data['AMT_GOODS_PRICE'] / train_data['AMT_CREDIT']\n",
    "train_data['CREDIT_INCOME_PERCENT'] = train_data['AMT_CREDIT'] / train_data['AMT_INCOME_TOTAL']\n",
    "train_data['ANNUITY_INCOME_PERCENT'] = train_data['AMT_ANNUITY'] / train_data['AMT_INCOME_TOTAL']\n",
    "train_data['CREDIT_TERM'] = train_data['AMT_ANNUITY'] / train_data['AMT_CREDIT']\n",
    "train_data['DAYS_EMPLOYED_PERCENT'] = train_data['DAYS_EMPLOYED'] / train_data['DAYS_BIRTH']\n",
    "\n",
    "test_data['GOODS_CREDIT_PERCENT'] = test_data['AMT_GOODS_PRICE'] / test_data['AMT_CREDIT']\n",
    "test_data['CREDIT_INCOME_PERCENT'] = test_data['AMT_CREDIT'] / test_data['AMT_INCOME_TOTAL']\n",
    "test_data['ANNUITY_INCOME_PERCENT'] = test_data['AMT_ANNUITY'] / test_data['AMT_INCOME_TOTAL']\n",
    "test_data['CREDIT_TERM'] = test_data['AMT_ANNUITY'] / test_data['AMT_CREDIT']\n",
    "test_data['DAYS_EMPLOYED_PERCENT'] = test_data['DAYS_EMPLOYED'] / test_data['DAYS_BIRTH']"
   ]
  },
  {
   "cell_type": "markdown",
   "metadata": {},
   "source": [
    "# 连续变量与TARGET的相关系数"
   ]
  },
  {
   "cell_type": "code",
   "execution_count": 40,
   "metadata": {
    "collapsed": true
   },
   "outputs": [],
   "source": [
    "train_num = train_data[list(num_dict.keys())].copy()\n",
    "train_num['TARGET'] = train_target\n",
    "train_corr = train_num.corr()"
   ]
  },
  {
   "cell_type": "code",
   "execution_count": 41,
   "metadata": {},
   "outputs": [
    {
     "name": "stdout",
     "output_type": "stream",
     "text": [
      "Most Positive Correlations:\n",
      " DAYS_ID_PUBLISH                              0.051457\n",
      "PREDAYS_DECISION_MIN                         0.052380\n",
      "AMT_DEBT_PERCENT                             0.052563\n",
      "DAYS_LAST_PHONE_CHANGE                       0.055218\n",
      "PRECODE_REJECT_REASON_SCOFR                  0.055622\n",
      "REGION_RATING_CLIENT                         0.058899\n",
      "CREDIT_ACTIVE_Active                         0.060544\n",
      "REGION_RATING_CLIENT_W_CITY                  0.060893\n",
      "PRENAME_PRODUCT_TYPE_walk-in                 0.062785\n",
      "PRENAME_CONTRACT_STATUS_Refused              0.064756\n",
      "DAYS_EMPLOYED                                0.064810\n",
      "DAYS_CREDIT_MIN                              0.067388\n",
      "DAYS_BIRTH                                   0.078239\n",
      "TARGET                                       1.000000\n",
      "PRENAME_GOODS_CATEGORY_House Construction         NaN\n",
      "Name: TARGET, dtype: float64\n",
      "\n",
      "Most Negative Correlations:\n",
      " EXT_SOURCE_2                 -0.160295\n",
      "EXT_SOURCE_3                 -0.155892\n",
      "EXT_SOURCE_1                 -0.064698\n",
      "LIVINGAREA_AVG               -0.040301\n",
      "APARTMENTS_AVG               -0.039924\n",
      "AMT_GOODS_PRICE              -0.039623\n",
      "FLOORSMAX_AVG                -0.039385\n",
      "FLOORSMAX_MEDI               -0.039157\n",
      "ENTRANCES_AVG                -0.038402\n",
      "FLOORSMAX_MODE               -0.038377\n",
      "REGION_POPULATION_RELATIVE   -0.037227\n",
      "PREAMT_ANNUITY_MIN           -0.037070\n",
      "ELEVATORS_AVG                -0.035853\n",
      "FLOORSMIN_AVG                -0.034177\n",
      "BASEMENTAREA_AVG             -0.033759\n",
      "Name: TARGET, dtype: float64\n"
     ]
    }
   ],
   "source": [
    "train_corr = train_corr['TARGET'].sort_values()\n",
    "print('Most Positive Correlations:\\n', train_corr.tail(15))\n",
    "print('\\nMost Negative Correlations:\\n', train_corr.head(15))"
   ]
  },
  {
   "cell_type": "markdown",
   "metadata": {
    "collapsed": true
   },
   "source": [
    "# Polynomial features(随机森林筛选重要特征进行poly化)"
   ]
  },
  {
   "cell_type": "code",
   "execution_count": 44,
   "metadata": {
    "collapsed": true
   },
   "outputs": [],
   "source": [
    "#部分百分比inf，转为1\n",
    "inf_features = ['AMT_OVERDUE_PERCENT','AMT_DEBT_PERCENT','AMT_OVERDUESUM_PERCENT','AMT_ANUCREDIT_PERCENT']\n",
    "for col in inf_features:\n",
    "    train_data[col] = train_data[col].apply(lambda x:1 if x==np.inf else x)\n",
    "    test_data[col] = test_data[col].apply(lambda x:1 if x==np.inf else x)\n",
    "    train_data[col] = train_data[col].apply(lambda x:0 if x==-np.inf else x)\n",
    "    test_data[col] = test_data[col].apply(lambda x:0 if x==-np.inf else x)"
   ]
  },
  {
   "cell_type": "code",
   "execution_count": 45,
   "metadata": {},
   "outputs": [
    {
     "data": {
      "text/plain": [
       "ExtraTreesClassifier(bootstrap=False, class_weight=None, criterion='gini',\n",
       "           max_depth=None, max_features='auto', max_leaf_nodes=None,\n",
       "           min_impurity_decrease=0.0, min_impurity_split=None,\n",
       "           min_samples_leaf=1, min_samples_split=2,\n",
       "           min_weight_fraction_leaf=0.0, n_estimators=200, n_jobs=6,\n",
       "           oob_score=False, random_state=0, verbose=0, warm_start=False)"
      ]
     },
     "execution_count": 45,
     "metadata": {},
     "output_type": "execute_result"
    }
   ],
   "source": [
    "forest = ExtraTreesClassifier(n_estimators=200,\n",
    "                              random_state=0,n_jobs=6)\n",
    "\n",
    "forest.fit(train_data, train_target)"
   ]
  },
  {
   "cell_type": "code",
   "execution_count": 46,
   "metadata": {},
   "outputs": [
    {
     "name": "stdout",
     "output_type": "stream",
     "text": [
      "Feature ranking:\n",
      "1. feature EXT_SOURCE_2 (0.016848)\n",
      "2. feature EXT_SOURCE_3 (0.014173)\n",
      "3. feature DAYS_BIRTH (0.007208)\n",
      "4. feature GOODS_CREDIT_PERCENT (0.007044)\n",
      "5. feature AMT_DEBT_PERCENT (0.006878)\n",
      "6. feature PREDAYS_DECISION_MIN (0.006557)\n",
      "7. feature ANNUITY_INCOME_PERCENT (0.006552)\n",
      "8. feature DAYS_CREDIT_MIN (0.006534)\n",
      "9. feature DAYS_ID_PUBLISH (0.006534)\n",
      "10. feature DAYS_EMPLOYED_PERCENT (0.006528)\n",
      "11. feature EXT_SOURCE_1 (0.006478)\n",
      "12. feature DAYS_LAST_PHONE_CHANGE (0.006387)\n",
      "13. feature CREDIT_INCOME_PERCENT (0.006300)\n",
      "14. feature HOUR_APPR_PROCESS_START (0.006206)\n",
      "15. feature DAYS_REGISTRATION (0.006184)\n",
      "16. feature CREDIT_ACTIVE_Active (0.006177)\n",
      "17. feature PREDAYS_DECISION_MAX (0.006175)\n",
      "18. feature PRESK_ID_PREV_MAX (0.006154)\n",
      "19. feature CREDIT_TERM (0.006134)\n",
      "20. feature SK_ID_CURR (0.006121)\n",
      "21. feature PRESK_ID_PREV_MIN (0.006100)\n",
      "22. feature AMT_INCOME_TOTAL (0.006013)\n",
      "23. feature DAYS_EMPLOYED (0.005971)\n",
      "24. feature REGION_POPULATION_RELATIVE (0.005960)\n",
      "25. feature DAYS_CREDIT_MAX (0.005935)\n",
      "26. feature AMT_ANNUITY (0.005853)\n",
      "27. feature AMT_CREDIT (0.005818)\n",
      "28. feature PRECNT_PAYMENT_MAX (0.005788)\n",
      "29. feature AMT_GOODS_PRICE (0.005756)\n",
      "30. feature DAYS_CREDIT_ENDDATE_MIN (0.005751)\n",
      "31. feature AMT_ANUCREDIT_PERCENT (0.005677)\n",
      "32. feature DAYS_CREDIT_ENDDATE_MAX (0.005656)\n",
      "33. feature PRESELLERPLACE_AREA_MAX (0.005596)\n",
      "34. feature PREAMT_CREDIT_MIN (0.005574)\n",
      "35. feature DAYS_CREDIT_UPDATE_MIN (0.005527)\n",
      "36. feature PRE_ANNUITY_PERCENT (0.005522)\n",
      "37. feature OBS_30_CNT_SOCIAL_CIRCLE (0.005445)\n",
      "38. feature DAYS_CREDIT_UPDATE_MAX (0.005416)\n",
      "39. feature PREAMT_ANNUITY_MIN (0.005406)\n",
      "40. feature OBS_60_CNT_SOCIAL_CIRCLE (0.005406)\n",
      "41. feature PRE_CREDIT_PERCENT (0.005356)\n",
      "42. feature PREAMT_APPLICATION_MIN (0.005338)\n",
      "43. feature PREAMT_GOODS_PRICE_MIN (0.005331)\n",
      "44. feature PREAMT_ANNUITY_MAX (0.005324)\n",
      "45. feature AMT_CREDIT_SUM_DEBT (0.005301)\n",
      "46. feature PREAMT_CREDIT_MAX (0.005259)\n",
      "47. feature CREDIT_TYPE_Credit card (0.005253)\n",
      "48. feature PREAMT_APPLICATION_MAX (0.005202)\n",
      "49. feature PREAMT_GOODS_PRICE_MAX (0.005188)\n",
      "50. feature CNT_FAM_MEMBERS (0.005176)\n",
      "51. feature PRESELLERPLACE_AREA_MIN (0.005166)\n",
      "52. feature CREDIT_CURRENCY_currency 1 (0.005106)\n",
      "53. feature AMT_CREDIT_SUM (0.005080)\n",
      "54. feature PREAMT_DOWN_PAYMENT_MAX (0.005068)\n",
      "55. feature PRECNT_PAYMENT_MIN (0.005043)\n",
      "56. feature CREDIT_TYPE_Consumer credit (0.005038)\n",
      "57. feature AMT_REQ_CREDIT_BUREAU_YEAR (0.004964)\n",
      "58. feature CREDIT_ACTIVE_Closed (0.004957)\n",
      "59. feature AMT_OVERDUE_PERCENT (0.004934)\n",
      "60. feature PRENAME_YIELD_GROUP_high (0.004906)\n",
      "61. feature PRENAME_SELLER_INDUSTRY_Connectivity (0.004750)\n",
      "62. feature PRECHANNEL_TYPE_Country-wide (0.004711)\n",
      "63. feature PRENAME_YIELD_GROUP_middle (0.004704)\n",
      "64. feature PRENAME_TYPE_SUITE_Unaccompanied (0.004664)\n",
      "65. feature PRENAME_PAYMENT_TYPE_XNA (0.004642)\n",
      "66. feature PRENAME_CONTRACT_STATUS_Approved (0.004621)\n",
      "67. feature CNT_CHILDREN (0.004597)\n",
      "68. feature PRENAME_PAYMENT_TYPE_Cash through the bank (0.004587)\n",
      "69. feature PRECODE_REJECT_REASON_XAP (0.004550)\n",
      "70. feature PRENAME_SELLER_INDUSTRY_Consumer electronics (0.004468)\n",
      "71. feature PRENAME_GOODS_CATEGORY_Mobile (0.004457)\n",
      "72. feature PREPRODUCT_COMBINATION_POS household with interest (0.004456)\n",
      "73. feature BUREAU_MAXOV_INCOME_PERCENT (0.004444)\n",
      "74. feature PRENAME_PRODUCT_TYPE_XNA (0.004438)\n",
      "75. feature PRENFLAG_INSURED_ON_APPROVAL (0.004430)\n",
      "76. feature PRENAME_CASH_LOAN_PURPOSE_XAP (0.004384)\n",
      "77. feature PREPRODUCT_COMBINATION_POS mobile with interest (0.004369)\n",
      "78. feature PRENAME_CLIENT_TYPE_Repeater (0.004366)\n",
      "79. feature PRENAME_TYPE_SUITE_Family (0.004292)\n",
      "80. feature PRENAME_PORTFOLIO_POS (0.004286)\n",
      "81. feature PRENAME_YIELD_GROUP_low_normal (0.004286)\n",
      "82. feature PRENAME_YIELD_GROUP_XNA (0.004286)\n",
      "83. feature AMT_CREDIT_MAX_OVERDUE (0.004278)\n",
      "84. feature PRENAME_CONTRACT_STATUS_Refused (0.004263)\n",
      "85. feature PRENAME_CONTRACT_TYPE_Consumer loans (0.004252)\n",
      "86. feature FLAG_OWN_REALTY (0.004237)\n",
      "87. feature BUREAU_MAXOV_ANNUITY_PERCENT (0.004225)\n",
      "88. feature BUREAU_MAXOV_CREDIT_PERCENT (0.004209)\n",
      "89. feature PRECHANNEL_TYPE_Stone (0.004209)\n",
      "90. feature PRENAME_GOODS_CATEGORY_XNA (0.004191)\n",
      "91. feature DEF_30_CNT_SOCIAL_CIRCLE (0.004164)\n",
      "92. feature OWN_CAR_AGE (0.004129)\n",
      "93. feature PRENAME_SELLER_INDUSTRY_XNA (0.004087)\n",
      "94. feature PRENAME_CONTRACT_TYPE_Cash loans (0.004029)\n",
      "95. feature PRENAME_CASH_LOAN_PURPOSE_XNA (0.004017)\n",
      "96. feature PRECHANNEL_TYPE_Credit and cash offices (0.004013)\n",
      "97. feature PRENAME_CONTRACT_TYPE_Revolving loans (0.004004)\n",
      "98. feature PRENAME_PRODUCT_TYPE_walk-in (0.003976)\n",
      "99. feature PRENAME_PORTFOLIO_XNA (0.003935)\n",
      "100. feature REGION_RATING_CLIENT_W_CITY (0.003876)\n",
      "101. feature REGION_RATING_CLIENT (0.003858)\n",
      "102. feature PRENAME_CLIENT_TYPE_Refreshed (0.003850)\n",
      "103. feature PRENAME_PRODUCT_TYPE_x-sell (0.003836)\n",
      "104. feature NAME_FAMILY_STATUS_Married (0.003835)\n",
      "105. feature PRENAME_CLIENT_TYPE_New (0.003828)\n",
      "106. feature FLAG_OWN_CAR (0.003810)\n",
      "107. feature PREPRODUCT_COMBINATION_Card Street (0.003806)\n",
      "108. feature PRECODE_REJECT_REASON_HC (0.003800)\n",
      "109. feature PRENAME_GOODS_CATEGORY_Computers (0.003790)\n",
      "110. feature PREPRODUCT_COMBINATION_Cash (0.003757)\n",
      "111. feature PRENAME_GOODS_CATEGORY_Consumer Electronics (0.003752)\n",
      "112. feature PRENAME_GOODS_CATEGORY_Audio/Video (0.003743)\n",
      "113. feature FLAG_PHONE (0.003736)\n",
      "114. feature PRENAME_PORTFOLIO_Cash (0.003735)\n",
      "115. feature PRENAME_CONTRACT_STATUS_Canceled (0.003722)\n",
      "116. feature YEARS_BEGINEXPLUATATION_MODE (0.003716)\n",
      "117. feature YEARS_BEGINEXPLUATATION_AVG (0.003712)\n",
      "118. feature YEARS_BEGINEXPLUATATION_MEDI (0.003708)\n",
      "119. feature PRENAME_PORTFOLIO_Cards (0.003674)\n",
      "120. feature PRECHANNEL_TYPE_Regional / Local (0.003672)\n",
      "121. feature WEEKDAY_APPR_PROCESS_START_TUESDAY (0.003671)\n",
      "122. feature ORGANIZATION_TYPE_Business Entity Type 3 (0.003641)\n",
      "123. feature DEF_60_CNT_SOCIAL_CIRCLE (0.003635)\n",
      "124. feature WEEKDAY_APPR_PROCESS_START_WEDNESDAY (0.003601)\n",
      "125. feature WEEKDAY_APPR_PROCESS_START_THURSDAY (0.003559)\n",
      "126. feature FLAG_WORK_PHONE (0.003529)\n",
      "127. feature TOTALAREA_MODE (0.003519)\n",
      "128. feature WEEKDAY_APPR_PROCESS_START_FRIDAY (0.003497)\n",
      "129. feature ENTRANCES_AVG (0.003494)\n",
      "130. feature PREPRODUCT_COMBINATION_Cash X-Sell: high (0.003493)\n",
      "131. feature AMT_CREDIT_SUM_LIMIT (0.003485)\n",
      "132. feature LIVINGAREA_AVG (0.003436)\n",
      "133. feature PRECHANNEL_TYPE_Contact center (0.003425)\n",
      "134. feature APARTMENTS_AVG (0.003398)\n",
      "135. feature WEEKDAY_APPR_PROCESS_START_MONDAY (0.003381)\n",
      "136. feature ORGANIZATION_TYPE_Self-employed (0.003332)\n",
      "137. feature AMT_REQ_CREDIT_BUREAU_QRT (0.003310)\n",
      "138. feature NAME_TYPE_SUITE_Unaccompanied (0.003288)\n",
      "139. feature OCCUPATION_TYPE_Laborers (0.003288)\n",
      "140. feature LANDAREA_AVG (0.003283)\n",
      "141. feature PRECHANNEL_TYPE_AP+ (Cash loan) (0.003249)\n",
      "142. feature PRENAME_TYPE_SUITE_Spouse, partner (0.003244)\n",
      "143. feature PREPRODUCT_COMBINATION_Card X-Sell (0.003237)\n",
      "144. feature PREPRODUCT_COMBINATION_Cash X-Sell: middle (0.003192)\n",
      "145. feature PRECODE_REJECT_REASON_LIMIT (0.003189)\n",
      "146. feature FLAG_DOCUMENT_3 (0.003121)\n",
      "147. feature PREPRODUCT_COMBINATION_Cash Street: high (0.003117)\n",
      "148. feature AMT_REQ_CREDIT_BUREAU_MON (0.003108)\n",
      "149. feature NAME_INCOME_TYPE_Working (0.003099)\n",
      "150. feature BASEMENTAREA_AVG (0.003093)\n",
      "151. feature NAME_FAMILY_STATUS_Single / not married (0.003065)\n",
      "152. feature PREPRODUCT_COMBINATION_POS household without interest (0.003042)\n",
      "153. feature REG_CITY_NOT_WORK_CITY (0.003041)\n",
      "154. feature NONLIVINGAREA_AVG (0.003011)\n",
      "155. feature FLOORSMAX_AVG (0.002965)\n",
      "156. feature FLOORSMAX_MEDI (0.002931)\n",
      "157. feature NAME_TYPE_SUITE_Family (0.002928)\n",
      "158. feature WEEKDAY_APPR_PROCESS_START_SATURDAY (0.002925)\n",
      "159. feature YEARS_BUILD_AVG (0.002887)\n",
      "160. feature LIVE_CITY_NOT_WORK_CITY (0.002881)\n",
      "161. feature FLOORSMAX_MODE (0.002876)\n",
      "162. feature PRENAME_YIELD_GROUP_low_action (0.002872)\n",
      "163. feature PREPRODUCT_COMBINATION_POS industry with interest (0.002867)\n",
      "164. feature PREAMT_DOWN_PAYMENT_MIN (0.002860)\n",
      "165. feature REG_CITY_NOT_LIVE_CITY (0.002845)\n",
      "166. feature COMMONAREA_AVG (0.002831)\n",
      "167. feature LIVINGAPARTMENTS_AVG (0.002824)\n",
      "168. feature NAME_FAMILY_STATUS_Civil marriage (0.002812)\n",
      "169. feature HAS_BUREAU (0.002810)\n",
      "170. feature NAME_EDUCATION_TYPE_Secondary / secondary special (0.002798)\n",
      "171. feature NAME_HOUSING_TYPE_House / apartment (0.002738)\n",
      "172. feature CREDIT_TYPE_Microloan (0.002722)\n",
      "173. feature FLOORSMIN_AVG (0.002707)\n",
      "174. feature EMERGENCYSTATE_MODE (0.002649)\n",
      "175. feature PRECODE_REJECT_REASON_SCOFR (0.002632)\n",
      "176. feature OCCUPATION_TYPE_Sales staff (0.002624)\n",
      "177. feature NAME_EDUCATION_TYPE_Higher education (0.002584)\n",
      "178. feature PREPRODUCT_COMBINATION_Cash X-Sell: low (0.002574)\n",
      "179. feature CODE_GENDER_M (0.002547)\n",
      "180. feature WALLSMATERIAL_MODE_Stone, brick (0.002520)\n",
      "181. feature NAME_INCOME_TYPE_Commercial associate (0.002485)\n",
      "182. feature CODE_GENDER_F (0.002472)\n",
      "183. feature PRENAME_SELLER_INDUSTRY_Furniture (0.002438)\n",
      "184. feature NONLIVINGAPARTMENTS_AVG (0.002433)\n",
      "185. feature PREPRODUCT_COMBINATION_Cash Street: middle (0.002405)\n",
      "186. feature HOUSETYPE_MODE_block of flats (0.002385)\n",
      "187. feature PRENAME_CASH_LOAN_PURPOSE_Repairs (0.002347)\n",
      "188. feature FONDKAPREMONT_MODE_reg oper account (0.002333)\n",
      "189. feature PRENAME_GOODS_CATEGORY_Furniture (0.002317)\n",
      "190. feature PRECODE_REJECT_REASON_SCO (0.002278)\n",
      "191. feature NAME_FAMILY_STATUS_Separated (0.002276)\n",
      "192. feature PRENAME_GOODS_CATEGORY_Photo / Cinema Equipment (0.002184)\n",
      "193. feature WEEKDAY_APPR_PROCESS_START_SUNDAY (0.002179)\n",
      "194. feature WALLSMATERIAL_MODE_Panel (0.002133)\n",
      "195. feature NAME_HOUSING_TYPE_With parents (0.002127)\n",
      "196. feature PREPRODUCT_COMBINATION_POS mobile without interest (0.002124)\n",
      "197. feature OCCUPATION_TYPE_Drivers (0.002080)\n",
      "198. feature PRENAME_TYPE_SUITE_Other_B (0.002051)\n",
      "199. feature ORGANIZATION_TYPE_Other (0.002041)\n",
      "200. feature ELEVATORS_AVG (0.002020)\n",
      "201. feature FLAG_EMAIL (0.002015)\n",
      "202. feature PRENAME_CASH_LOAN_PURPOSE_Other (0.002003)\n",
      "203. feature PRENAME_TYPE_SUITE_Children (0.002001)\n",
      "204. feature PRENAME_GOODS_CATEGORY_Construction Materials (0.001970)\n",
      "205. feature PREPRODUCT_COMBINATION_POS other with interest (0.001925)\n",
      "206. feature PRENAME_SELLER_INDUSTRY_Construction (0.001918)\n",
      "207. feature PRENAME_CONTRACT_STATUS_Unused offer (0.001838)\n",
      "208. feature PRECODE_REJECT_REASON_CLIENT (0.001838)\n",
      "209. feature OCCUPATION_TYPE_Core staff (0.001825)\n",
      "210. feature ORGANIZATION_TYPE_Construction (0.001804)\n",
      "211. feature PRENAME_CASH_LOAN_PURPOSE_Urgent needs (0.001803)\n",
      "212. feature NAME_TYPE_SUITE_Spouse, partner (0.001770)\n",
      "213. feature ORGANIZATION_TYPE_Business Entity Type 2 (0.001748)\n",
      "214. feature REG_REGION_NOT_WORK_REGION (0.001675)\n",
      "215. feature NAME_CONTRACT_TYPE (0.001662)\n",
      "216. feature NAME_HOUSING_TYPE_Municipal apartment (0.001655)\n",
      "217. feature OCCUPATION_TYPE_Managers (0.001654)\n",
      "218. feature ORGANIZATION_TYPE_Trade: type 7 (0.001637)\n",
      "219. feature AMT_REQ_CREDIT_BUREAU_WEEK (0.001632)\n",
      "220. feature CNT_CREDIT_PROLONG (0.001612)\n",
      "221. feature PREPRODUCT_COMBINATION_Cash Street: low (0.001596)\n",
      "222. feature PRENAME_SELLER_INDUSTRY_Industry (0.001579)\n",
      "223. feature CREDIT_TYPE_Car loan (0.001556)\n",
      "224. feature ORGANIZATION_TYPE_Government (0.001547)\n",
      "225. feature FLAG_DOCUMENT_8 (0.001521)\n",
      "226. feature OCCUPATION_TYPE_Security staff (0.001487)\n",
      "227. feature PRENAME_TYPE_SUITE_Other_A (0.001480)\n",
      "228. feature AMT_CREDIT_SUM_OVERDUE (0.001466)\n",
      "229. feature LIVE_REGION_NOT_WORK_REGION (0.001456)\n",
      "230. feature PRENAME_SELLER_INDUSTRY_Clothing (0.001452)\n",
      "231. feature PRENAME_GOODS_CATEGORY_Clothing and Accessories (0.001445)\n",
      "232. feature PRENAME_PAYMENT_TYPE_Non-cash from your account (0.001445)\n",
      "233. feature NAME_HOUSING_TYPE_Rented apartment (0.001442)\n",
      "234. feature BUREAU_SUMOV_INCOME_PERCENT (0.001437)\n",
      "235. feature CREDIT_ACTIVE_Sold (0.001436)\n",
      "236. feature AMT_OVERDUESUM_PERCENT (0.001400)\n",
      "237. feature BUREAU_SUMOV_ANNUITY_PERCENT (0.001387)\n",
      "238. feature OCCUPATION_TYPE_Cooking staff (0.001369)\n",
      "239. feature NAME_FAMILY_STATUS_Widow (0.001363)\n",
      "240. feature BUREAU_SUMOV_CREDIT_PERCENT (0.001360)\n",
      "241. feature ORGANIZATION_TYPE_Transport: type 4 (0.001346)\n",
      "242. feature OCCUPATION_TYPE_High skill tech staff (0.001322)\n",
      "243. feature NAME_INCOME_TYPE_State servant (0.001301)\n",
      "244. feature ORGANIZATION_TYPE_Business Entity Type 1 (0.001290)\n",
      "245. feature FONDKAPREMONT_MODE_reg oper spec account (0.001278)\n",
      "246. feature ORGANIZATION_TYPE_Medicine (0.001255)\n",
      "247. feature WALLSMATERIAL_MODE_Block (0.001250)\n",
      "248. feature NAME_EDUCATION_TYPE_Incomplete higher (0.001209)\n",
      "249. feature ORGANIZATION_TYPE_Industry: type 3 (0.001200)\n",
      "250. feature ORGANIZATION_TYPE_Trade: type 3 (0.001196)\n",
      "251. feature CREDIT_TYPE_Mortgage (0.001193)\n",
      "252. feature ORGANIZATION_TYPE_School (0.001186)\n",
      "253. feature OCCUPATION_TYPE_Low-skill Laborers (0.001180)\n",
      "254. feature CREDIT_DAY_OVERDUE (0.001173)\n",
      "255. feature OCCUPATION_TYPE_Cleaning staff (0.001172)\n",
      "256. feature PRENAME_GOODS_CATEGORY_Auto Accessories (0.001172)\n",
      "257. feature NAME_EDUCATION_TYPE_Lower secondary (0.001140)\n",
      "258. feature ORGANIZATION_TYPE_Kindergarten (0.001124)\n",
      "259. feature WALLSMATERIAL_MODE_Wooden (0.001088)\n",
      "260. feature FLAG_DOCUMENT_6 (0.001086)\n",
      "261. feature PRECODE_REJECT_REASON_XNA (0.001076)\n",
      "262. feature PRENAME_SELLER_INDUSTRY_Auto technology (0.001063)\n",
      "263. feature PRENAME_GOODS_CATEGORY_Jewelry (0.001033)\n",
      "264. feature FLAG_DOCUMENT_5 (0.001020)\n",
      "265. feature PREPRODUCT_COMBINATION_POS industry without interest (0.001016)\n",
      "266. feature OCCUPATION_TYPE_Medicine staff (0.000998)\n",
      "267. feature NAME_TYPE_SUITE_Children (0.000985)\n",
      "268. feature FONDKAPREMONT_MODE_not specified (0.000980)\n",
      "269. feature ORGANIZATION_TYPE_Agriculture (0.000975)\n",
      "270. feature PRENAME_GOODS_CATEGORY_Homewares (0.000971)\n",
      "271. feature HAS_PREVIOUS2 (0.000950)\n",
      "272. feature ORGANIZATION_TYPE_Security (0.000945)\n",
      "273. feature ORGANIZATION_TYPE_Industry: type 11 (0.000943)\n",
      "274. feature PRENAME_GOODS_CATEGORY_Vehicles (0.000922)\n",
      "275. feature NAME_TYPE_SUITE_Other_B (0.000921)\n",
      "276. feature REG_REGION_NOT_LIVE_REGION (0.000919)\n",
      "277. feature ORGANIZATION_TYPE_Transport: type 3 (0.000916)\n",
      "278. feature ORGANIZATION_TYPE_Restaurant (0.000903)\n",
      "279. feature HAS_PREVIOUS1 (0.000899)\n",
      "280. feature OCCUPATION_TYPE_Accountants (0.000890)\n",
      "281. feature ORGANIZATION_TYPE_Housing (0.000883)\n",
      "282. feature PRENAME_CASH_LOAN_PURPOSE_Medicine (0.000871)\n",
      "283. feature PRENAME_CASH_LOAN_PURPOSE_Buying a used car (0.000846)\n",
      "284. feature PRENAME_CASH_LOAN_PURPOSE_Building a house or an annex (0.000820)\n",
      "285. feature FONDKAPREMONT_MODE_org spec account (0.000817)\n",
      "286. feature PRENAME_CASH_LOAN_PURPOSE_Payments on other loans (0.000802)\n",
      "287. feature AMT_REQ_CREDIT_BUREAU_DAY (0.000792)\n",
      "288. feature PRENAME_GOODS_CATEGORY_Office Appliances (0.000781)\n",
      "289. feature ORGANIZATION_TYPE_Postal (0.000777)\n",
      "290. feature ORGANIZATION_TYPE_Industry: type 9 (0.000748)\n",
      "291. feature OCCUPATION_TYPE_Waiters/barmen staff (0.000742)\n",
      "292. feature PRENAME_TYPE_SUITE_Group of people (0.000731)\n",
      "293. feature PRENAME_CASH_LOAN_PURPOSE_Everyday expenses (0.000725)\n",
      "294. feature ORGANIZATION_TYPE_Transport: type 2 (0.000711)\n",
      "295. feature NAME_HOUSING_TYPE_Office apartment (0.000707)\n",
      "296. feature PRENAME_GOODS_CATEGORY_Sport and Leisure (0.000696)\n",
      "297. feature PRECODE_REJECT_REASON_VERIF (0.000692)\n",
      "298. feature WALLSMATERIAL_MODE_Mixed (0.000680)\n",
      "299. feature ORGANIZATION_TYPE_Industry: type 1 (0.000668)\n",
      "300. feature AMT_REQ_CREDIT_BUREAU_HOUR (0.000664)\n",
      "301. feature PRENAME_SELLER_INDUSTRY_Jewelry (0.000648)\n",
      "302. feature NAME_INCOME_TYPE_Pensioner (0.000647)\n",
      "303. feature OCCUPATION_TYPE_Private service staff (0.000644)\n",
      "304. feature PRENAME_CASH_LOAN_PURPOSE_Car repairs (0.000643)\n",
      "305. feature PRENAME_GOODS_CATEGORY_Medical Supplies (0.000634)\n",
      "306. feature WALLSMATERIAL_MODE_Others (0.000631)\n",
      "307. feature HOUSETYPE_MODE_specific housing (0.000631)\n",
      "308. feature PRENAME_CLIENT_TYPE_XNA (0.000622)\n",
      "309. feature PRENAME_GOODS_CATEGORY_Gardening (0.000614)\n",
      "310. feature DAYS_EMPLOYED_NEW (0.000601)\n",
      "311. feature ORGANIZATION_TYPE_Industry: type 4 (0.000596)\n",
      "312. feature ORGANIZATION_TYPE_Industry: type 7 (0.000588)\n",
      "313. feature PRENAME_CASH_LOAN_PURPOSE_Education (0.000584)\n",
      "314. feature PREPRODUCT_COMBINATION_POS others without interest (0.000577)\n",
      "315. feature PRENAME_GOODS_CATEGORY_Other (0.000574)\n",
      "316. feature NAME_TYPE_SUITE_Other_A (0.000550)\n",
      "317. feature PRENAME_CASH_LOAN_PURPOSE_Purchase of electronic equipment (0.000536)\n",
      "318. feature FLAG_DOCUMENT_16 (0.000523)\n",
      "319. feature FLAG_DOCUMENT_18 (0.000509)\n",
      "320. feature OCCUPATION_TYPE_Secretaries (0.000496)\n",
      "321. feature ORGANIZATION_TYPE_Bank (0.000491)\n",
      "322. feature PRENAME_CASH_LOAN_PURPOSE_Wedding / gift / holiday (0.000486)\n",
      "323. feature FLAG_EMP_PHONE (0.000484)\n",
      "324. feature PRENAME_CASH_LOAN_PURPOSE_Journey (0.000483)\n",
      "325. feature NAME_HOUSING_TYPE_Co-op apartment (0.000480)\n",
      "326. feature ORGANIZATION_TYPE_Military (0.000477)\n",
      "327. feature CREDIT_TYPE_Loan for business development (0.000476)\n",
      "328. feature ORGANIZATION_TYPE_Trade: type 2 (0.000476)\n",
      "329. feature ORGANIZATION_TYPE_XNA (0.000476)\n",
      "330. feature HOUSETYPE_MODE_terraced house (0.000469)\n",
      "331. feature ORGANIZATION_TYPE_Services (0.000464)\n",
      "332. feature ORGANIZATION_TYPE_Police (0.000452)\n",
      "333. feature PRENAME_GOODS_CATEGORY_Medicine (0.000448)\n",
      "334. feature PRENAME_PAYMENT_TYPE_Cashless from the account of the employer (0.000441)\n",
      "335. feature ORGANIZATION_TYPE_Security Ministries (0.000419)\n",
      "336. feature PRENAME_CONTRACT_TYPE_XNA (0.000413)\n",
      "337. feature PRECHANNEL_TYPE_Channel of corporate sales (0.000404)\n",
      "338. feature PRENAME_CASH_LOAN_PURPOSE_Furniture (0.000399)\n",
      "339. feature FLAG_DOCUMENT_9 (0.000392)\n",
      "340. feature ORGANIZATION_TYPE_Electricity (0.000388)\n",
      "341. feature ORGANIZATION_TYPE_University (0.000386)\n",
      "342. feature CREDIT_TYPE_Another type of loan (0.000383)\n",
      "343. feature OCCUPATION_TYPE_Realty agents (0.000377)\n",
      "344. feature ORGANIZATION_TYPE_Telecom (0.000371)\n",
      "345. feature ORGANIZATION_TYPE_Hotel (0.000369)\n",
      "346. feature ORGANIZATION_TYPE_Realtor (0.000347)\n",
      "347. feature CREDIT_TYPE_Loan for working capital replenishment (0.000313)\n",
      "348. feature PRENAME_CASH_LOAN_PURPOSE_Buying a home (0.000310)\n",
      "349. feature WALLSMATERIAL_MODE_Monolithic (0.000309)\n",
      "350. feature ORGANIZATION_TYPE_Advertising (0.000298)\n",
      "351. feature FLAG_CONT_MOBILE (0.000296)\n",
      "352. feature PRENAME_CASH_LOAN_PURPOSE_Buying a new car (0.000290)\n",
      "353. feature CREDIT_CURRENCY_currency 2 (0.000289)\n",
      "354. feature PRENAME_CASH_LOAN_PURPOSE_Gasification / water supply (0.000289)\n",
      "355. feature ORGANIZATION_TYPE_Trade: type 1 (0.000278)\n",
      "356. feature ORGANIZATION_TYPE_Emergency (0.000277)\n",
      "357. feature ORGANIZATION_TYPE_Industry: type 5 (0.000272)\n",
      "358. feature ORGANIZATION_TYPE_Cleaning (0.000263)\n",
      "359. feature PRECODE_REJECT_REASON_SYSTEM (0.000261)\n",
      "360. feature PRENAME_CASH_LOAN_PURPOSE_Business development (0.000254)\n",
      "361. feature ORGANIZATION_TYPE_Industry: type 2 (0.000254)\n",
      "362. feature PRENAME_SELLER_INDUSTRY_MLM partners (0.000252)\n",
      "363. feature OCCUPATION_TYPE_IT staff (0.000252)\n",
      "364. feature NAME_TYPE_SUITE_Group of people (0.000251)\n",
      "365. feature OCCUPATION_TYPE_HR staff (0.000247)\n",
      "366. feature FLAG_DOCUMENT_11 (0.000239)\n",
      "367. feature ORGANIZATION_TYPE_Mobile (0.000239)\n",
      "368. feature PRENAME_GOODS_CATEGORY_Tourism (0.000237)\n",
      "369. feature ORGANIZATION_TYPE_Insurance (0.000236)\n",
      "370. feature PRENAME_GOODS_CATEGORY_Direct Sales (0.000228)\n",
      "371. feature PRENAME_CASH_LOAN_PURPOSE_Buying a holiday home / land (0.000223)\n",
      "372. feature ORGANIZATION_TYPE_Legal Services (0.000223)\n",
      "373. feature CREDIT_TYPE_Unknown type of loan (0.000216)\n",
      "374. feature ORGANIZATION_TYPE_Culture (0.000210)\n",
      "375. feature ORGANIZATION_TYPE_Trade: type 6 (0.000205)\n",
      "376. feature CREDIT_CURRENCY_currency 3 (0.000171)\n",
      "377. feature FLAG_DOCUMENT_14 (0.000142)\n",
      "378. feature FLAG_DOCUMENT_13 (0.000135)\n",
      "379. feature ORGANIZATION_TYPE_Industry: type 12 (0.000131)\n",
      "380. feature FLAG_DOCUMENT_19 (0.000112)\n",
      "381. feature FLAG_DOCUMENT_20 (0.000112)\n",
      "382. feature FLAG_DOCUMENT_21 (0.000109)\n",
      "383. feature PRENAME_SELLER_INDUSTRY_Tourism (0.000104)\n",
      "384. feature PRENAME_GOODS_CATEGORY_Insurance (0.000096)\n",
      "385. feature ORGANIZATION_TYPE_Industry: type 6 (0.000095)\n",
      "386. feature ORGANIZATION_TYPE_Industry: type 13 (0.000095)\n",
      "387. feature ORGANIZATION_TYPE_Transport: type 1 (0.000091)\n",
      "388. feature PRENAME_CASH_LOAN_PURPOSE_Hobby (0.000088)\n",
      "389. feature NAME_INCOME_TYPE_Unemployed (0.000081)\n",
      "390. feature ORGANIZATION_TYPE_Industry: type 10 (0.000079)\n",
      "391. feature PRENAME_GOODS_CATEGORY_Fitness (0.000076)\n",
      "392. feature PRENAME_PORTFOLIO_Cars (0.000076)\n",
      "393. feature PRENAME_GOODS_CATEGORY_Additional Service (0.000075)\n",
      "394. feature FLAG_DOCUMENT_15 (0.000071)\n",
      "395. feature PRECHANNEL_TYPE_Car dealer (0.000070)\n",
      "396. feature PRENAME_CASH_LOAN_PURPOSE_Buying a garage (0.000070)\n",
      "397. feature ORGANIZATION_TYPE_Religion (0.000062)\n",
      "398. feature FLAG_DOCUMENT_2 (0.000053)\n",
      "399. feature ORGANIZATION_TYPE_Trade: type 5 (0.000046)\n",
      "400. feature PRENAME_GOODS_CATEGORY_Education (0.000044)\n",
      "401. feature ORGANIZATION_TYPE_Industry: type 8 (0.000041)\n",
      "402. feature PRENAME_CASH_LOAN_PURPOSE_Money for a third person (0.000036)\n",
      "403. feature NAME_EDUCATION_TYPE_Academic degree (0.000031)\n",
      "404. feature PRENAME_GOODS_CATEGORY_Weapon (0.000029)\n",
      "405. feature CREDIT_TYPE_Loan for the purchase of equipment (0.000028)\n",
      "406. feature FLAG_DOCUMENT_17 (0.000027)\n",
      "407. feature CREDIT_ACTIVE_Bad debt (0.000027)\n",
      "408. feature ORGANIZATION_TYPE_Trade: type 4 (0.000027)\n",
      "409. feature FLAG_DOCUMENT_7 (0.000026)\n",
      "410. feature CREDIT_TYPE_Cash loan (non-earmarked) (0.000020)\n",
      "411. feature PRENAME_CASH_LOAN_PURPOSE_Refusal to name the goal (0.000019)\n",
      "412. feature FLAG_DOCUMENT_10 (0.000000)\n",
      "413. feature NAME_INCOME_TYPE_Student (0.000000)\n",
      "414. feature CREDIT_TYPE_Real estate loan (0.000000)\n",
      "415. feature CREDIT_TYPE_Loan for purchase of shares (margin lending) (0.000000)\n",
      "416. feature CREDIT_TYPE_Interbank credit (0.000000)\n",
      "417. feature CREDIT_CURRENCY_currency 4 (0.000000)\n",
      "418. feature FLAG_MOBIL (0.000000)\n",
      "419. feature CREDIT_TYPE_Mobile operator loan (0.000000)\n",
      "420. feature FLAG_DOCUMENT_12 (0.000000)\n",
      "421. feature FLAG_DOCUMENT_4 (0.000000)\n",
      "422. feature PRENAME_GOODS_CATEGORY_House Construction (0.000000)\n",
      "423. feature NAME_INCOME_TYPE_Businessman (0.000000)\n",
      "424. feature PRENAME_GOODS_CATEGORY_Animals (0.000000)\n"
     ]
    }
   ],
   "source": [
    "importances = forest.feature_importances_\n",
    "std = np.std([tree.feature_importances_ for tree in forest.estimators_],\n",
    "             axis=0)\n",
    "indices = np.argsort(importances)[::-1]\n",
    "\n",
    "# Print the feature ranking\n",
    "print(\"Feature ranking:\")\n",
    "\n",
    "for f in range(train_data.shape[1]):\n",
    "    print(\"%d. feature %s (%f)\" % (f + 1, train_data.columns[indices[f]], importances[indices[f]]))"
   ]
  },
  {
   "cell_type": "code",
   "execution_count": 47,
   "metadata": {},
   "outputs": [
    {
     "name": "stdout",
     "output_type": "stream",
     "text": [
      "Polynomial Features shape:  (307511, 9138)\n"
     ]
    }
   ],
   "source": [
    "pf = preprocessing.PolynomialFeatures(degree=3, interaction_only=False, include_bias=False)\n",
    "train_poly = train_data[train_data.columns[indices[0:36]]]\n",
    "test_poly = test_data[test_data.columns[indices[0:36]]]\n",
    "train_poly = pf.fit_transform(train_poly)\n",
    "test_poly = pf.fit_transform(test_poly)\n",
    "print('Polynomial Features shape: ', train_poly.shape)"
   ]
  },
  {
   "cell_type": "code",
   "execution_count": 101,
   "metadata": {},
   "outputs": [
    {
     "name": "stdout",
     "output_type": "stream",
     "text": [
      "Polynomial Features shape:  (307511, 3653)\n"
     ]
    }
   ],
   "source": [
    "pf = preprocessing.PolynomialFeatures(degree=3, interaction_only=False, include_bias=False)\n",
    "train_poly = train_data[train_data.columns[indices[64:90]]]\n",
    "test_poly = test_data[test_data.columns[indices[64:90]]]\n",
    "train_poly = pf.fit_transform(train_poly)\n",
    "test_poly = pf.fit_transform(test_poly)\n",
    "print('Polynomial Features shape: ', train_poly.shape)"
   ]
  },
  {
   "cell_type": "markdown",
   "metadata": {},
   "source": [
    "# 对Poly特征进行PCA降维"
   ]
  },
  {
   "cell_type": "code",
   "execution_count": 48,
   "metadata": {},
   "outputs": [
    {
     "data": {
      "text/plain": [
       "PCA(copy=True, iterated_power='auto', n_components=60, random_state=None,\n",
       "  svd_solver='auto', tol=0.0, whiten=False)"
      ]
     },
     "execution_count": 48,
     "metadata": {},
     "output_type": "execute_result"
    }
   ],
   "source": [
    "scaler = preprocessing.MinMaxScaler(feature_range = (0, 1))\n",
    "train_poly = scaler.fit_transform(train_poly)\n",
    "test_poly = scaler.transform(test_poly)\n",
    "pca = PCA(n_components=60)\n",
    "pca.fit(train_poly)"
   ]
  },
  {
   "cell_type": "code",
   "execution_count": 49,
   "metadata": {},
   "outputs": [
    {
     "name": "stdout",
     "output_type": "stream",
     "text": [
      "[ 0.19402269  0.10744072  0.06227941  0.05669899  0.0460492   0.04342429\n",
      "  0.03802893  0.03527774  0.03383176  0.02899593  0.02487743  0.02251755\n",
      "  0.02167339  0.02035304  0.01986879  0.0193089   0.01642291  0.01545098\n",
      "  0.01308231  0.01002473  0.0077318   0.00741018  0.00587858  0.00541452\n",
      "  0.00427232  0.00390582  0.0032108   0.00271843  0.00266911  0.00250358\n",
      "  0.00213718  0.00208478  0.00200188  0.00190601  0.00177579  0.00164895\n",
      "  0.00162048  0.00156899  0.00154786  0.00150242  0.00142405  0.00137358\n",
      "  0.00136267  0.00132891  0.00128644  0.0012592   0.00124653  0.00123084\n",
      "  0.00122136  0.00117698  0.00114538  0.00112406  0.00109547  0.00107569\n",
      "  0.00106444  0.0010346   0.00100016  0.00098226  0.00096504  0.00095088]\n",
      "0.916487732769\n"
     ]
    }
   ],
   "source": [
    "print(pca.explained_variance_ratio_)\n",
    "print(pca.explained_variance_ratio_.sum())"
   ]
  },
  {
   "cell_type": "code",
   "execution_count": 50,
   "metadata": {
    "collapsed": true
   },
   "outputs": [],
   "source": [
    "train_poly = pca.transform(train_poly)\n",
    "test_poly = pca.transform(test_poly)"
   ]
  },
  {
   "cell_type": "code",
   "execution_count": 51,
   "metadata": {},
   "outputs": [
    {
     "name": "stdout",
     "output_type": "stream",
     "text": [
      "Training data with polynomial features shape:  (307511, 484)\n",
      "Testing data with polynomial features shape:   (48744, 484)\n"
     ]
    }
   ],
   "source": [
    "# Create a dataframe of the features \n",
    "train_poly= pd.DataFrame(train_poly)\n",
    "# Add in the target\n",
    "train_poly['TARGET'] = train_target\n",
    "# Find the correlations with the target\n",
    "poly_corrs = train_poly.corr()['TARGET'].sort_values()\n",
    "\n",
    "# Put test features into dataframe\n",
    "test_poly= pd.DataFrame(test_poly)\n",
    "\n",
    "# Merge polynomial features into training dataframe\n",
    "\n",
    "train_data_poly = train_data.merge(train_poly, left_index=True, right_index=True, how = 'left')\n",
    "\n",
    "# Merge polnomial features into testing dataframe\n",
    "test_poly['SK_ID_CURR'] = test_data['SK_ID_CURR']\n",
    "test_data_poly = test_data.merge(test_poly, on = 'SK_ID_CURR', how = 'left')\n",
    "\n",
    "# Align the dataframes\n",
    "train_data_poly, test_data_poly = train_data_poly.align(test_data_poly, join = 'inner', axis = 1)\n",
    "\n",
    "# Print out the new shapes\n",
    "print('Training data with polynomial features shape: ', train_data_poly.shape)\n",
    "print('Testing data with polynomial features shape:  ', test_data_poly.shape)"
   ]
  },
  {
   "cell_type": "code",
   "execution_count": 107,
   "metadata": {},
   "outputs": [
    {
     "name": "stdout",
     "output_type": "stream",
     "text": [
      "Training data with polynomial features shape:  (307511, 438)\n",
      "Testing data with polynomial features shape:   (48744, 438)\n"
     ]
    }
   ],
   "source": [
    "# Create a dataframe of the features \n",
    "train_poly= pd.DataFrame(train_poly)\n",
    "# Add in the target\n",
    "train_poly['TARGET'] = train_target\n",
    "# Find the correlations with the target\n",
    "poly_corrs = train_poly.corr()['TARGET'].sort_values()\n",
    "\n",
    "# Put test features into dataframe\n",
    "test_poly= pd.DataFrame(test_poly)\n",
    "\n",
    "# Merge polynomial features into training dataframe\n",
    "\n",
    "train_data_poly = train_data_poly.merge(train_poly, left_index=True, right_index=True, how = 'left')\n",
    "\n",
    "# Merge polnomial features into testing dataframe\n",
    "test_poly['SK_ID_CURR'] = test_data['SK_ID_CURR']\n",
    "test_data_poly = test_data_poly.merge(test_poly, on = 'SK_ID_CURR', how = 'left')\n",
    "\n",
    "# Align the dataframes\n",
    "train_data_poly, test_data_poly = train_data_poly.align(test_data_poly, join = 'inner', axis = 1)\n",
    "\n",
    "# Print out the new shapes\n",
    "print('Training data with polynomial features shape: ', train_data_poly.shape)\n",
    "print('Testing data with polynomial features shape:  ', test_data_poly.shape)"
   ]
  },
  {
   "cell_type": "markdown",
   "metadata": {},
   "source": [
    "# 贝叶斯优化选择参数"
   ]
  },
  {
   "cell_type": "code",
   "execution_count": 98,
   "metadata": {
    "collapsed": true
   },
   "outputs": [],
   "source": [
    "def base_select(num_leaves,learning_rate,reg_alpha,reg_lambda,subsample,min_split_gain,\n",
    "                min_child_weight,min_child_samples,\n",
    "                early_stopping_rounds,features=train_data_poly,n_folds = 5):\n",
    "    \n",
    "    num_leaves = num_leaves * 1000\n",
    "    min_split_gain = min_split_gain / 10\n",
    "    min_child_samples = min_child_samples * 100\n",
    "    reg_alpha = reg_alpha * 10\n",
    "    reg_lambda = reg_lambda * 10\n",
    "    subsample = subsample * 10\n",
    "    early_stopping_rounds = early_stopping_rounds * 1000\n",
    "    \n",
    "    # Extract the ids\n",
    "    train_ids = features['SK_ID_CURR']\n",
    "    \n",
    "    # Extract the labels for training\n",
    "    labels = features['TARGET']\n",
    "    \n",
    "    # Remove the ids and target\n",
    "    features = features.drop(labels = ['SK_ID_CURR', 'TARGET'], axis = 1)\n",
    "    \n",
    "    # Convert to np arrays\n",
    "    features = np.array(features)\n",
    "    \n",
    "    # Create the kfold object\n",
    "    k_fold = StratifiedKFold(n_splits = n_folds, shuffle = True, random_state = 30)\n",
    "    \n",
    "    # Empty array for out of fold validation predictions\n",
    "    out_of_fold = np.zeros(features.shape[0])\n",
    "    \n",
    "    cat_indices = 'auto'\n",
    "    best_iterations = 0\n",
    "    \n",
    "    # Iterate through each fold\n",
    "    for train_indices, valid_indices in k_fold.split(features, labels):\n",
    "        \n",
    "        # Training data for the fold\n",
    "        train_features, train_labels = features[train_indices], labels[train_indices]\n",
    "        # Validation data for the fold\n",
    "        valid_features, valid_labels = features[valid_indices], labels[valid_indices]\n",
    "        \n",
    "        # Create the model\n",
    "        model = lgb.LGBMClassifier(n_estimators=10000, objective = 'binary', num_leaves = int(num_leaves),\n",
    "                                   class_weight = 'balanced', learning_rate = learning_rate, \n",
    "                                   min_split_gain = min_split_gain, min_child_weight = min_child_weight,\n",
    "                                   min_child_samples = int(min_child_samples),\n",
    "                                   reg_alpha = reg_alpha, reg_lambda = reg_lambda, \n",
    "                                   subsample = subsample, n_jobs = -1, random_state = 50)\n",
    "        \n",
    "        # Train the model\n",
    "        model.fit(train_features, train_labels, eval_metric = 'auc',\n",
    "                  eval_set = [(valid_features, valid_labels)],\n",
    "                  eval_names = ['valid'], categorical_feature = cat_indices,\n",
    "                  early_stopping_rounds = int(early_stopping_rounds), verbose = False)\n",
    "        \n",
    "        # Record the best iteration\n",
    "        best_iteration = model.best_iteration_\n",
    "        best_iterations += best_iteration / k_fold.n_splits\n",
    "        \n",
    "        # Record the out of fold predictions\n",
    "        out_of_fold[valid_indices] = model.predict_proba(valid_features, num_iteration = best_iteration)[:, 1]\n",
    "        \n",
    "        # Clean up memory\n",
    "        gc.enable()\n",
    "        del model, train_features, valid_features\n",
    "        gc.collect()\n",
    "    \n",
    "    print('best iter: %s' % best_iterations)\n",
    "    # Overall validation score\n",
    "    valid_auc = roc_auc_score(labels, out_of_fold)\n",
    "    \n",
    "    return valid_auc"
   ]
  },
  {
   "cell_type": "code",
   "execution_count": 99,
   "metadata": {
    "collapsed": true
   },
   "outputs": [],
   "source": [
    "bys_selector = BayesianOptimization(\n",
    "    base_select,\n",
    "    {'num_leaves': (0.01, 0.05),\n",
    "     'learning_rate': (0.01, 0.05),\n",
    "     'min_split_gain': (0.05, 0.25),\n",
    "     'min_child_weight': (0.01, 0.05),\n",
    "     'min_child_samples': (0.05, 0.25),\n",
    "     'reg_alpha': (0.01, 0.05),\n",
    "     'reg_lambda': (0.01, 0.05),\n",
    "     'subsample': (0.05, 0.1),\n",
    "     'early_stopping_rounds': (0.05, 0.25)\n",
    "    }\n",
    ")"
   ]
  },
  {
   "cell_type": "code",
   "execution_count": 100,
   "metadata": {
    "collapsed": true
   },
   "outputs": [],
   "source": [
    "train_data_poly['TARGET'] = train_target"
   ]
  },
  {
   "cell_type": "code",
   "execution_count": 101,
   "metadata": {},
   "outputs": [
    {
     "name": "stdout",
     "output_type": "stream",
     "text": [
      "|   iter    |  target   | early_... | learni... | min_ch... | min_ch... | min_sp... | num_le... | reg_alpha | reg_la... | subsample |\n",
      "-------------------------------------------------------------------------------------------------------------------------------------\n",
      "best iter: 644.5999999999999\n",
      "| \u001b[0m 1       \u001b[0m | \u001b[0m 0.7774  \u001b[0m | \u001b[0m 0.1638  \u001b[0m | \u001b[0m 0.02352 \u001b[0m | \u001b[0m 0.2419  \u001b[0m | \u001b[0m 0.01152 \u001b[0m | \u001b[0m 0.1108  \u001b[0m | \u001b[0m 0.04868 \u001b[0m | \u001b[0m 0.01774 \u001b[0m | \u001b[0m 0.03176 \u001b[0m | \u001b[0m 0.07079 \u001b[0m |\n",
      "best iter: 462.4\n",
      "| \u001b[0m 2       \u001b[0m | \u001b[0m 0.7767  \u001b[0m | \u001b[0m 0.1644  \u001b[0m | \u001b[0m 0.04075 \u001b[0m | \u001b[0m 0.1305  \u001b[0m | \u001b[0m 0.0226  \u001b[0m | \u001b[0m 0.1587  \u001b[0m | \u001b[0m 0.03245 \u001b[0m | \u001b[0m 0.04501 \u001b[0m | \u001b[0m 0.03064 \u001b[0m | \u001b[0m 0.08067 \u001b[0m |\n",
      "best iter: 480.00000000000006\n",
      "| \u001b[0m 3       \u001b[0m | \u001b[0m 0.7768  \u001b[0m | \u001b[0m 0.06421 \u001b[0m | \u001b[0m 0.03111 \u001b[0m | \u001b[0m 0.05346 \u001b[0m | \u001b[0m 0.04324 \u001b[0m | \u001b[0m 0.2336  \u001b[0m | \u001b[0m 0.04049 \u001b[0m | \u001b[0m 0.04089 \u001b[0m | \u001b[0m 0.02771 \u001b[0m | \u001b[0m 0.07643 \u001b[0m |\n",
      "best iter: 471.6\n",
      "| \u001b[0m 4       \u001b[0m | \u001b[0m 0.7767  \u001b[0m | \u001b[0m 0.0626  \u001b[0m | \u001b[0m 0.04814 \u001b[0m | \u001b[0m 0.2496  \u001b[0m | \u001b[0m 0.02932 \u001b[0m | \u001b[0m 0.1988  \u001b[0m | \u001b[0m 0.02415 \u001b[0m | \u001b[0m 0.02553 \u001b[0m | \u001b[0m 0.02189 \u001b[0m | \u001b[0m 0.07565 \u001b[0m |\n",
      "best iter: 1377.6\n",
      "| \u001b[0m 5       \u001b[0m | \u001b[0m 0.7768  \u001b[0m | \u001b[0m 0.233   \u001b[0m | \u001b[0m 0.03089 \u001b[0m | \u001b[0m 0.15    \u001b[0m | \u001b[0m 0.01715 \u001b[0m | \u001b[0m 0.1105  \u001b[0m | \u001b[0m 0.01177 \u001b[0m | \u001b[0m 0.01752 \u001b[0m | \u001b[0m 0.0188  \u001b[0m | \u001b[0m 0.06266 \u001b[0m |\n",
      "best iter: 938.6\n",
      "| \u001b[0m 6       \u001b[0m | \u001b[0m 0.7773  \u001b[0m | \u001b[0m 0.2425  \u001b[0m | \u001b[0m 0.01867 \u001b[0m | \u001b[0m 0.0722  \u001b[0m | \u001b[0m 0.04393 \u001b[0m | \u001b[0m 0.2411  \u001b[0m | \u001b[0m 0.04326 \u001b[0m | \u001b[0m 0.02615 \u001b[0m | \u001b[0m 0.02962 \u001b[0m | \u001b[0m 0.08427 \u001b[0m |\n",
      "best iter: 3020.6\n",
      "| \u001b[0m 7       \u001b[0m | \u001b[0m 0.777   \u001b[0m | \u001b[0m 0.1871  \u001b[0m | \u001b[0m 0.01286 \u001b[0m | \u001b[0m 0.2078  \u001b[0m | \u001b[0m 0.04166 \u001b[0m | \u001b[0m 0.2272  \u001b[0m | \u001b[0m 0.01255 \u001b[0m | \u001b[0m 0.03436 \u001b[0m | \u001b[0m 0.04685 \u001b[0m | \u001b[0m 0.0843  \u001b[0m |\n",
      "best iter: 1901.0\n",
      "| \u001b[0m 8       \u001b[0m | \u001b[0m 0.7768  \u001b[0m | \u001b[0m 0.1604  \u001b[0m | \u001b[0m 0.02366 \u001b[0m | \u001b[0m 0.07652 \u001b[0m | \u001b[0m 0.03935 \u001b[0m | \u001b[0m 0.2262  \u001b[0m | \u001b[0m 0.01055 \u001b[0m | \u001b[0m 0.01719 \u001b[0m | \u001b[0m 0.04253 \u001b[0m | \u001b[0m 0.09523 \u001b[0m |\n",
      "best iter: 345.2\n",
      "| \u001b[0m 9       \u001b[0m | \u001b[0m 0.7768  \u001b[0m | \u001b[0m 0.07229 \u001b[0m | \u001b[0m 0.03896 \u001b[0m | \u001b[0m 0.06276 \u001b[0m | \u001b[0m 0.04781 \u001b[0m | \u001b[0m 0.2095  \u001b[0m | \u001b[0m 0.04595 \u001b[0m | \u001b[0m 0.0178  \u001b[0m | \u001b[0m 0.03162 \u001b[0m | \u001b[0m 0.0501  \u001b[0m |\n",
      "best iter: 875.4\n",
      "| \u001b[0m 10      \u001b[0m | \u001b[0m 0.7773  \u001b[0m | \u001b[0m 0.2102  \u001b[0m | \u001b[0m 0.03823 \u001b[0m | \u001b[0m 0.05496 \u001b[0m | \u001b[0m 0.01472 \u001b[0m | \u001b[0m 0.2175  \u001b[0m | \u001b[0m 0.01779 \u001b[0m | \u001b[0m 0.02624 \u001b[0m | \u001b[0m 0.03388 \u001b[0m | \u001b[0m 0.0505  \u001b[0m |\n",
      "best iter: 337.2\n",
      "| \u001b[0m 11      \u001b[0m | \u001b[0m 0.7766  \u001b[0m | \u001b[0m 0.066   \u001b[0m | \u001b[0m 0.04929 \u001b[0m | \u001b[0m 0.1449  \u001b[0m | \u001b[0m 0.04305 \u001b[0m | \u001b[0m 0.2167  \u001b[0m | \u001b[0m 0.03378 \u001b[0m | \u001b[0m 0.02282 \u001b[0m | \u001b[0m 0.04036 \u001b[0m | \u001b[0m 0.0845  \u001b[0m |\n",
      "best iter: 1125.6\n",
      "| \u001b[0m 12      \u001b[0m | \u001b[0m 0.7769  \u001b[0m | \u001b[0m 0.08096 \u001b[0m | \u001b[0m 0.03689 \u001b[0m | \u001b[0m 0.1915  \u001b[0m | \u001b[0m 0.01875 \u001b[0m | \u001b[0m 0.1222  \u001b[0m | \u001b[0m 0.01063 \u001b[0m | \u001b[0m 0.02421 \u001b[0m | \u001b[0m 0.03846 \u001b[0m | \u001b[0m 0.06023 \u001b[0m |\n",
      "best iter: 781.6\n",
      "| \u001b[0m 13      \u001b[0m | \u001b[0m 0.7768  \u001b[0m | \u001b[0m 0.07927 \u001b[0m | \u001b[0m 0.01767 \u001b[0m | \u001b[0m 0.08163 \u001b[0m | \u001b[0m 0.0459  \u001b[0m | \u001b[0m 0.1966  \u001b[0m | \u001b[0m 0.04991 \u001b[0m | \u001b[0m 0.0207  \u001b[0m | \u001b[0m 0.01247 \u001b[0m | \u001b[0m 0.07071 \u001b[0m |\n",
      "best iter: 387.6\n",
      "| \u001b[0m 14      \u001b[0m | \u001b[0m 0.7765  \u001b[0m | \u001b[0m 0.09416 \u001b[0m | \u001b[0m 0.04469 \u001b[0m | \u001b[0m 0.2193  \u001b[0m | \u001b[0m 0.04059 \u001b[0m | \u001b[0m 0.05915 \u001b[0m | \u001b[0m 0.03555 \u001b[0m | \u001b[0m 0.02863 \u001b[0m | \u001b[0m 0.01464 \u001b[0m | \u001b[0m 0.09776 \u001b[0m |\n",
      "best iter: 398.4\n",
      "| \u001b[0m 15      \u001b[0m | \u001b[0m 0.777   \u001b[0m | \u001b[0m 0.2073  \u001b[0m | \u001b[0m 0.04843 \u001b[0m | \u001b[0m 0.1991  \u001b[0m | \u001b[0m 0.02775 \u001b[0m | \u001b[0m 0.09895 \u001b[0m | \u001b[0m 0.02924 \u001b[0m | \u001b[0m 0.03243 \u001b[0m | \u001b[0m 0.03305 \u001b[0m | \u001b[0m 0.09358 \u001b[0m |\n",
      "best iter: 1043.6\n",
      "| \u001b[0m 16      \u001b[0m | \u001b[0m 0.7771  \u001b[0m | \u001b[0m 0.2101  \u001b[0m | \u001b[0m 0.02962 \u001b[0m | \u001b[0m 0.1752  \u001b[0m | \u001b[0m 0.04953 \u001b[0m | \u001b[0m 0.1789  \u001b[0m | \u001b[0m 0.01977 \u001b[0m | \u001b[0m 0.02886 \u001b[0m | \u001b[0m 0.03362 \u001b[0m | \u001b[0m 0.05914 \u001b[0m |\n",
      "best iter: 813.6\n",
      "| \u001b[0m 17      \u001b[0m | \u001b[0m 0.7773  \u001b[0m | \u001b[0m 0.0957  \u001b[0m | \u001b[0m 0.025   \u001b[0m | \u001b[0m 0.1671  \u001b[0m | \u001b[0m 0.03441 \u001b[0m | \u001b[0m 0.07943 \u001b[0m | \u001b[0m 0.02727 \u001b[0m | \u001b[0m 0.04767 \u001b[0m | \u001b[0m 0.01256 \u001b[0m | \u001b[0m 0.08989 \u001b[0m |\n",
      "=====================================================================================================================================\n"
     ]
    }
   ],
   "source": [
    "bys_selector.maximize(init_points=2, n_iter=15)"
   ]
  },
  {
   "cell_type": "code",
   "execution_count": 112,
   "metadata": {},
   "outputs": [
    {
     "name": "stdout",
     "output_type": "stream",
     "text": [
      "{'early_stopping_rounds': 0.16383309025308296, 'learning_rate': 0.023521951382605329, 'min_child_samples': 0.24188836046430912, 'min_child_weight': 0.011516188141620649, 'min_split_gain': 0.11075382554890222, 'num_leaves': 0.048683995401874958, 'reg_alpha': 0.017744359191618569, 'reg_lambda': 0.031757957360611766, 'subsample': 0.070789632920536347}\n"
     ]
    }
   ],
   "source": [
    "bys_params = bys_selector.max['params']\n",
    "print(bys_params)"
   ]
  },
  {
   "cell_type": "markdown",
   "metadata": {
    "collapsed": true
   },
   "source": [
    "# Lightgbm（StratifiedKFold应对不平衡数据，split后再做balance）"
   ]
  },
  {
   "cell_type": "code",
   "execution_count": 116,
   "metadata": {
    "collapsed": true
   },
   "outputs": [],
   "source": [
    "def lgbmmodel(features, test_features, n_folds = 5, **kw):\n",
    "    \n",
    "    kw['num_leaves'] = int(kw['num_leaves'] * 1000)\n",
    "    kw['min_split_gain'] = kw['min_split_gain'] / 10\n",
    "    kw['min_child_samples'] = int(kw['min_child_samples'] * 100)\n",
    "    kw['reg_alpha'] = kw['reg_alpha'] * 10\n",
    "    kw['reg_lambda'] = kw['reg_lambda'] * 10\n",
    "    kw['subsample'] = kw['subsample'] * 10\n",
    "    kw['early_stopping_rounds'] = kw['early_stopping_rounds'] * 1000\n",
    "    \n",
    "    # Extract the ids\n",
    "    train_ids = features['SK_ID_CURR']\n",
    "    test_ids = test_features['SK_ID_CURR']\n",
    "    \n",
    "    # Extract the labels for training\n",
    "    labels = features['TARGET']\n",
    "    \n",
    "    # Remove the ids and target\n",
    "    features = features.drop(labels = ['SK_ID_CURR', 'TARGET'], axis = 1)\n",
    "    test_features = test_features.drop(labels = ['SK_ID_CURR'], axis = 1)\n",
    "        \n",
    "    print('Training Data Shape: ', features.shape)\n",
    "    print('Testing Data Shape: ', test_features.shape)\n",
    "    \n",
    "    # Extract feature names\n",
    "    feature_names = list(features.columns)\n",
    "    \n",
    "    # Convert to np arrays\n",
    "    features = np.array(features)\n",
    "    test_features = np.array(test_features)\n",
    "    \n",
    "    # Create the kfold object\n",
    "    k_fold = StratifiedKFold(n_splits = n_folds, shuffle = True, random_state = 30)\n",
    "    \n",
    "    # Empty array for feature importances\n",
    "    feature_importance_values = np.zeros(len(feature_names))\n",
    "    \n",
    "    # Empty array for test predictions\n",
    "    test_predictions = np.zeros(test_features.shape[0])\n",
    "    \n",
    "    # Empty array for out of fold validation predictions\n",
    "    out_of_fold = np.zeros(features.shape[0])\n",
    "    \n",
    "    # Lists for recording validation and training scores\n",
    "    valid_scores = []\n",
    "    train_scores = []\n",
    "    \n",
    "    cat_indices = 'auto'\n",
    "    \n",
    "    # Iterate through each fold\n",
    "    for train_indices, valid_indices in k_fold.split(features, labels):\n",
    "        \n",
    "        # Training data for the fold\n",
    "        train_features, train_labels = features[train_indices], labels[train_indices]\n",
    "        # Validation data for the fold\n",
    "        valid_features, valid_labels = features[valid_indices], labels[valid_indices]\n",
    "        \n",
    "        # Create the model\n",
    "        model = lgb.LGBMClassifier(n_estimators=10000, objective = 'binary', num_leaves = int(kw['num_leaves']),\n",
    "                                   class_weight = 'balanced', learning_rate = kw['learning_rate'], \n",
    "                                   min_split_gain = kw['min_split_gain'], min_child_weight = kw['min_child_weight'],\n",
    "                                   min_child_samples = int(kw['min_child_samples']),\n",
    "                                   reg_alpha = kw['reg_alpha'], reg_lambda = kw['reg_lambda'], \n",
    "                                   subsample = kw['subsample'], n_jobs = -1, random_state = 50)\n",
    "        \n",
    "        # Train the model\n",
    "        model.fit(train_features, train_labels, eval_metric = 'auc',\n",
    "                  eval_set = [(valid_features, valid_labels), (train_features, train_labels)],\n",
    "                  eval_names = ['valid', 'train'], categorical_feature = cat_indices,\n",
    "                  early_stopping_rounds = kw['early_stopping_rounds'], verbose = 200)\n",
    "        \n",
    "        # Record the best iteration\n",
    "        best_iteration = model.best_iteration_\n",
    "        \n",
    "        # Record the feature importances\n",
    "        feature_importance_values += model.feature_importances_ / k_fold.n_splits\n",
    "        \n",
    "        # Make predictions\n",
    "        test_predictions += model.predict_proba(test_features, num_iteration = best_iteration)[:, 1] / k_fold.n_splits\n",
    "        \n",
    "        # Record the out of fold predictions\n",
    "        out_of_fold[valid_indices] = model.predict_proba(valid_features, num_iteration = best_iteration)[:, 1]\n",
    "        \n",
    "        # Record the best score\n",
    "        valid_score = model.best_score_['valid']['auc']\n",
    "        train_score = model.best_score_['train']['auc']\n",
    "        \n",
    "        valid_scores.append(valid_score)\n",
    "        train_scores.append(train_score)\n",
    "        \n",
    "        # Clean up memory\n",
    "        gc.enable()\n",
    "        del model, train_features, valid_features\n",
    "        gc.collect()\n",
    "        \n",
    "    # Make the submission dataframe\n",
    "    submission = pd.DataFrame({'SK_ID_CURR': test_ids, 'TARGET': test_predictions})\n",
    "    \n",
    "    # Make the feature importance dataframe\n",
    "    feature_importances = pd.DataFrame({'feature': feature_names, 'importance': feature_importance_values})\n",
    "    \n",
    "    # Overall validation score\n",
    "    valid_auc = roc_auc_score(labels, out_of_fold)\n",
    "    \n",
    "    # Add the overall scores to the metrics\n",
    "    valid_scores.append(valid_auc)\n",
    "    train_scores.append(np.mean(train_scores))\n",
    "    \n",
    "    # Needed for creating dataframe of validation scores\n",
    "    fold_names = list(range(n_folds))\n",
    "    fold_names.append('overall')\n",
    "    \n",
    "    # Dataframe of validation scores\n",
    "    metrics = pd.DataFrame({'fold': fold_names,\n",
    "                            'train': train_scores,\n",
    "                            'valid': valid_scores}) \n",
    "    \n",
    "    return submission, feature_importances, metrics"
   ]
  },
  {
   "cell_type": "code",
   "execution_count": 117,
   "metadata": {
    "collapsed": true
   },
   "outputs": [],
   "source": [
    "train_data_poly['TARGET'] = train_target"
   ]
  },
  {
   "cell_type": "code",
   "execution_count": 118,
   "metadata": {},
   "outputs": [
    {
     "name": "stdout",
     "output_type": "stream",
     "text": [
      "Training Data Shape:  (307511, 483)\n",
      "Testing Data Shape:  (48744, 483)\n",
      "Training until validation scores don't improve for 163.83309025308296 rounds.\n",
      "[200]\tvalid's auc: 0.7662\tvalid's binary_logloss: 0.556314\ttrain's auc: 0.80943\ttrain's binary_logloss: 0.546284\n",
      "[400]\tvalid's auc: 0.773386\tvalid's binary_logloss: 0.52965\ttrain's auc: 0.844763\ttrain's binary_logloss: 0.510441\n",
      "[600]\tvalid's auc: 0.774226\tvalid's binary_logloss: 0.511482\ttrain's auc: 0.870148\ttrain's binary_logloss: 0.484063\n",
      "Early stopping, best iteration is:\n",
      "[613]\tvalid's auc: 0.774297\tvalid's binary_logloss: 0.510433\ttrain's auc: 0.871573\ttrain's binary_logloss: 0.482499\n",
      "Training until validation scores don't improve for 163.83309025308296 rounds.\n",
      "[200]\tvalid's auc: 0.771994\tvalid's binary_logloss: 0.557262\ttrain's auc: 0.808364\ttrain's binary_logloss: 0.547089\n",
      "[400]\tvalid's auc: 0.779487\tvalid's binary_logloss: 0.530054\ttrain's auc: 0.844132\ttrain's binary_logloss: 0.51128\n",
      "[600]\tvalid's auc: 0.780382\tvalid's binary_logloss: 0.511509\ttrain's auc: 0.869743\ttrain's binary_logloss: 0.484832\n",
      "Early stopping, best iteration is:\n",
      "[605]\tvalid's auc: 0.780458\tvalid's binary_logloss: 0.511049\ttrain's auc: 0.870314\ttrain's binary_logloss: 0.484213\n",
      "Training until validation scores don't improve for 163.83309025308296 rounds.\n",
      "[200]\tvalid's auc: 0.769538\tvalid's binary_logloss: 0.555529\ttrain's auc: 0.809075\ttrain's binary_logloss: 0.546807\n",
      "[400]\tvalid's auc: 0.776781\tvalid's binary_logloss: 0.52875\ttrain's auc: 0.844309\ttrain's binary_logloss: 0.51104\n",
      "[600]\tvalid's auc: 0.777973\tvalid's binary_logloss: 0.510745\ttrain's auc: 0.869539\ttrain's binary_logloss: 0.484851\n",
      "[800]\tvalid's auc: 0.77823\tvalid's binary_logloss: 0.495349\ttrain's auc: 0.889464\ttrain's binary_logloss: 0.462369\n",
      "Early stopping, best iteration is:\n",
      "[754]\tvalid's auc: 0.778284\tvalid's binary_logloss: 0.498768\ttrain's auc: 0.885181\ttrain's binary_logloss: 0.467371\n",
      "Training until validation scores don't improve for 163.83309025308296 rounds.\n",
      "[200]\tvalid's auc: 0.768861\tvalid's binary_logloss: 0.555685\ttrain's auc: 0.809192\ttrain's binary_logloss: 0.546744\n",
      "[400]\tvalid's auc: 0.775105\tvalid's binary_logloss: 0.529027\ttrain's auc: 0.844299\ttrain's binary_logloss: 0.511333\n",
      "[600]\tvalid's auc: 0.776428\tvalid's binary_logloss: 0.510645\ttrain's auc: 0.869821\ttrain's binary_logloss: 0.484829\n",
      "Early stopping, best iteration is:\n",
      "[565]\tvalid's auc: 0.776544\tvalid's binary_logloss: 0.513474\ttrain's auc: 0.865947\ttrain's binary_logloss: 0.488991\n",
      "Training until validation scores don't improve for 163.83309025308296 rounds.\n",
      "[200]\tvalid's auc: 0.76883\tvalid's binary_logloss: 0.556441\ttrain's auc: 0.809084\ttrain's binary_logloss: 0.546715\n",
      "[400]\tvalid's auc: 0.775907\tvalid's binary_logloss: 0.5297\ttrain's auc: 0.844254\ttrain's binary_logloss: 0.510957\n",
      "[600]\tvalid's auc: 0.777083\tvalid's binary_logloss: 0.511368\ttrain's auc: 0.869497\ttrain's binary_logloss: 0.484664\n",
      "[800]\tvalid's auc: 0.777254\tvalid's binary_logloss: 0.495684\ttrain's auc: 0.889934\ttrain's binary_logloss: 0.461646\n",
      "Early stopping, best iteration is:\n",
      "[686]\tvalid's auc: 0.777582\tvalid's binary_logloss: 0.504285\ttrain's auc: 0.878802\ttrain's binary_logloss: 0.474421\n",
      "Baseline metrics\n",
      "      fold     train     valid\n",
      "0        0  0.871573  0.774297\n",
      "1        1  0.870314  0.780458\n",
      "2        2  0.885181  0.778284\n",
      "3        3  0.865947  0.776544\n",
      "4        4  0.878802  0.777582\n",
      "5  overall  0.874363  0.777394\n"
     ]
    }
   ],
   "source": [
    "submission, feature_importances, metrics = lgbmmodel(train_data_poly, test_data_poly, **bys_params)\n",
    "print('Baseline metrics')\n",
    "print(metrics)"
   ]
  },
  {
   "cell_type": "code",
   "execution_count": 119,
   "metadata": {
    "collapsed": true
   },
   "outputs": [],
   "source": [
    "submission.to_csv('E:/pnk/kaggle_credit/lgbm_result8.csv')"
   ]
  },
  {
   "cell_type": "code",
   "execution_count": 89,
   "metadata": {},
   "outputs": [
    {
     "name": "stdout",
     "output_type": "stream",
     "text": [
      "                                               feature  importance\n",
      "104                       CREDIT_TYPE_Interbank credit         0.0\n",
      "112                       CREDIT_TYPE_Real estate loan         0.0\n",
      "110                   CREDIT_TYPE_Mobile operator loan         0.0\n",
      "382                         ORGANIZATION_TYPE_Religion         0.0\n",
      "107     CREDIT_TYPE_Loan for the purchase of equipment         0.0\n",
      "106  CREDIT_TYPE_Loan for purchase of shares (margi...         0.0\n",
      "292                    NAME_TYPE_SUITE_Group of people         0.0\n",
      "101              CREDIT_TYPE_Cash loan (non-earmarked)         0.0\n",
      "98                          CREDIT_CURRENCY_currency 4         0.0\n",
      "96                          CREDIT_CURRENCY_currency 2         0.0\n",
      "92                              CREDIT_ACTIVE_Bad debt         0.0\n",
      "297                       NAME_INCOME_TYPE_Businessman         0.0\n",
      "299                         NAME_INCOME_TYPE_Pensioner         0.0\n",
      "301                           NAME_INCOME_TYPE_Student         0.0\n",
      "302                        NAME_INCOME_TYPE_Unemployed         0.0\n",
      "78                          AMT_REQ_CREDIT_BUREAU_HOUR         0.0\n",
      "77                                    FLAG_DOCUMENT_21         0.0\n",
      "76                                    FLAG_DOCUMENT_20         0.0\n",
      "75                                    FLAG_DOCUMENT_19         0.0\n",
      "73                                    FLAG_DOCUMENT_17         0.0\n",
      "68                                    FLAG_DOCUMENT_12         0.0\n",
      "66                                    FLAG_DOCUMENT_10         0.0\n",
      "65                                     FLAG_DOCUMENT_9         0.0\n",
      "345                      ORGANIZATION_TYPE_Advertising         0.0\n",
      "63                                     FLAG_DOCUMENT_7         0.0\n",
      "60                                     FLAG_DOCUMENT_4         0.0\n",
      "113                   CREDIT_TYPE_Unknown type of loan         0.0\n",
      "377                           ORGANIZATION_TYPE_Mobile         0.0\n",
      "351                         ORGANIZATION_TYPE_Cleaning         0.0\n",
      "353                          ORGANIZATION_TYPE_Culture         0.0\n",
      "..                                                 ...         ...\n",
      "442                                                 19       338.4\n",
      "273                               PREDAYS_DECISION_MAX       340.8\n",
      "426                                                  3       341.0\n",
      "466                                                 43       346.8\n",
      "425                                                  2       348.6\n",
      "472                                                 49       352.4\n",
      "434                                                 11       367.0\n",
      "444                                                 21       374.2\n",
      "276                              AMT_ANUCREDIT_PERCENT       380.0\n",
      "87                                      AMT_CREDIT_SUM       380.6\n",
      "7                                      AMT_GOODS_PRICE       381.2\n",
      "12                                     DAYS_ID_PUBLISH       381.4\n",
      "450                                                 27       382.0\n",
      "470                                                 47       383.4\n",
      "423                                                  0       420.6\n",
      "436                                                 13       461.8\n",
      "117                                    DAYS_CREDIT_MAX       464.4\n",
      "118                            DAYS_CREDIT_ENDDATE_MAX       466.4\n",
      "286                                PRE_ANNUITY_PERCENT       481.4\n",
      "446                                                 23       501.4\n",
      "6                                          AMT_ANNUITY       521.6\n",
      "121                                   AMT_DEBT_PERCENT       529.6\n",
      "271                            PREAMT_DOWN_PAYMENT_MAX       557.8\n",
      "418                               GOODS_CREDIT_PERCENT       734.4\n",
      "440                                                 17       764.2\n",
      "9                                           DAYS_BIRTH       857.4\n",
      "30                                        EXT_SOURCE_1      1025.8\n",
      "32                                        EXT_SOURCE_3      1081.2\n",
      "31                                        EXT_SOURCE_2      1259.0\n",
      "421                                        CREDIT_TERM      1582.2\n",
      "\n",
      "[483 rows x 2 columns]\n"
     ]
    }
   ],
   "source": [
    "print(feature_importances.sort_values(by='importance'))"
   ]
  },
  {
   "cell_type": "code",
   "execution_count": 110,
   "metadata": {},
   "outputs": [
    {
     "name": "stdout",
     "output_type": "stream",
     "text": [
      "Training Data Shape:  (307511, 483)\n",
      "Testing Data Shape:  (48744, 483)\n",
      "{'learning_rate': 0.023521951382605329, 'min_child_samples': 24, 'min_child_weight': 0.011516188141620649, 'min_split_gain': 0.011075382554890222, 'num_leaves': 48, 'reg_alpha': 0.17744359191618569, 'reg_lambda': 0.31757957360611766, 'subsample': 0.70789632920536349}\n"
     ]
    }
   ],
   "source": [
    "def lgbmmodel_final(features, test_features, **kw):\n",
    "    \n",
    "    kw['num_leaves'] = int(kw['num_leaves'] * 1000)\n",
    "    kw['min_split_gain'] = kw['min_split_gain'] / 10\n",
    "    kw['min_child_samples'] = int(kw['min_child_samples'] * 100)\n",
    "    kw['reg_alpha'] = kw['reg_alpha'] * 10\n",
    "    kw['reg_lambda'] = kw['reg_lambda'] * 10\n",
    "    kw['subsample'] = kw['subsample'] * 10\n",
    "    \n",
    "    # Extract the ids\n",
    "    train_ids = features['SK_ID_CURR']\n",
    "    test_ids = test_features['SK_ID_CURR']\n",
    "    \n",
    "    # Extract the labels for training\n",
    "    labels = features['TARGET']\n",
    "    \n",
    "    # Remove the ids and target\n",
    "    features = features.drop(labels = ['SK_ID_CURR', 'TARGET'], axis = 1)\n",
    "    test_features = test_features.drop(labels = ['SK_ID_CURR'], axis = 1)\n",
    "        \n",
    "    print('Training Data Shape: ', features.shape)\n",
    "    print('Testing Data Shape: ', test_features.shape)\n",
    "    print(kw)\n",
    "    # Convert to np arrays\n",
    "    features = np.array(features)\n",
    "    test_features = np.array(test_features)\n",
    "    \n",
    "    cat_indices = 'auto'\n",
    "    \n",
    "    model = lgb.LGBMClassifier(n_estimators = 645, class_weight = 'balanced', n_jobs = -1, random_state = 50, **kw)\n",
    "        \n",
    "    model.fit(features, labels, categorical_feature = cat_indices)\n",
    "    \n",
    "    test_predictions = model.predict_proba(test_features)[:, 1]\n",
    "    \n",
    "    # Make the submission dataframe\n",
    "    submission = pd.DataFrame({'SK_ID_CURR': test_ids, 'TARGET': test_predictions})\n",
    "    \n",
    "    return submission\n",
    "submission = lgbmmodel_final(train_data_poly, test_data_poly, **bys_params)"
   ]
  },
  {
   "cell_type": "code",
   "execution_count": null,
   "metadata": {
    "collapsed": true
   },
   "outputs": [],
   "source": []
  }
 ],
 "metadata": {
  "kernelspec": {
   "display_name": "Python 3",
   "language": "python",
   "name": "python3"
  },
  "language_info": {
   "codemirror_mode": {
    "name": "ipython",
    "version": 3
   },
   "file_extension": ".py",
   "mimetype": "text/x-python",
   "name": "python",
   "nbconvert_exporter": "python",
   "pygments_lexer": "ipython3",
   "version": "3.6.2"
  }
 },
 "nbformat": 4,
 "nbformat_minor": 2
}

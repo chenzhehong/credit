{
 "cells": [
  {
   "cell_type": "code",
   "execution_count": 1,
   "metadata": {
    "collapsed": true
   },
   "outputs": [],
   "source": [
    "import pandas as pd\n",
    "import numpy as np\n",
    "from __future__ import division\n",
    "import matplotlib.pyplot as plt\n",
    "import seaborn as sns\n",
    "from sklearn.feature_selection import SelectKBest, SelectFromModel\n",
    "from sklearn.feature_selection import chi2\n",
    "from sklearn import preprocessing\n",
    "from sklearn.svm import LinearSVC\n",
    "%matplotlib inline"
   ]
  },
  {
   "cell_type": "code",
   "execution_count": 2,
   "metadata": {
    "collapsed": true
   },
   "outputs": [],
   "source": [
    "sns.set_style('whitegrid')\n",
    "train_data = pd.read_csv('E:/pnk/kaggle_credit/application_train.csv')"
   ]
  },
  {
   "cell_type": "code",
   "execution_count": 3,
   "metadata": {},
   "outputs": [
    {
     "data": {
      "text/html": [
       "<div>\n",
       "<style>\n",
       "    .dataframe thead tr:only-child th {\n",
       "        text-align: right;\n",
       "    }\n",
       "\n",
       "    .dataframe thead th {\n",
       "        text-align: left;\n",
       "    }\n",
       "\n",
       "    .dataframe tbody tr th {\n",
       "        vertical-align: top;\n",
       "    }\n",
       "</style>\n",
       "<table border=\"1\" class=\"dataframe\">\n",
       "  <thead>\n",
       "    <tr style=\"text-align: right;\">\n",
       "      <th></th>\n",
       "      <th>SK_ID_CURR</th>\n",
       "      <th>TARGET</th>\n",
       "      <th>NAME_CONTRACT_TYPE</th>\n",
       "      <th>CODE_GENDER</th>\n",
       "      <th>FLAG_OWN_CAR</th>\n",
       "      <th>FLAG_OWN_REALTY</th>\n",
       "      <th>CNT_CHILDREN</th>\n",
       "      <th>AMT_INCOME_TOTAL</th>\n",
       "      <th>AMT_CREDIT</th>\n",
       "      <th>AMT_ANNUITY</th>\n",
       "      <th>...</th>\n",
       "      <th>FLAG_DOCUMENT_18</th>\n",
       "      <th>FLAG_DOCUMENT_19</th>\n",
       "      <th>FLAG_DOCUMENT_20</th>\n",
       "      <th>FLAG_DOCUMENT_21</th>\n",
       "      <th>AMT_REQ_CREDIT_BUREAU_HOUR</th>\n",
       "      <th>AMT_REQ_CREDIT_BUREAU_DAY</th>\n",
       "      <th>AMT_REQ_CREDIT_BUREAU_WEEK</th>\n",
       "      <th>AMT_REQ_CREDIT_BUREAU_MON</th>\n",
       "      <th>AMT_REQ_CREDIT_BUREAU_QRT</th>\n",
       "      <th>AMT_REQ_CREDIT_BUREAU_YEAR</th>\n",
       "    </tr>\n",
       "  </thead>\n",
       "  <tbody>\n",
       "    <tr>\n",
       "      <th>0</th>\n",
       "      <td>100002</td>\n",
       "      <td>1</td>\n",
       "      <td>Cash loans</td>\n",
       "      <td>M</td>\n",
       "      <td>N</td>\n",
       "      <td>Y</td>\n",
       "      <td>0</td>\n",
       "      <td>202500.0</td>\n",
       "      <td>406597.5</td>\n",
       "      <td>24700.5</td>\n",
       "      <td>...</td>\n",
       "      <td>0</td>\n",
       "      <td>0</td>\n",
       "      <td>0</td>\n",
       "      <td>0</td>\n",
       "      <td>0.0</td>\n",
       "      <td>0.0</td>\n",
       "      <td>0.0</td>\n",
       "      <td>0.0</td>\n",
       "      <td>0.0</td>\n",
       "      <td>1.0</td>\n",
       "    </tr>\n",
       "    <tr>\n",
       "      <th>1</th>\n",
       "      <td>100003</td>\n",
       "      <td>0</td>\n",
       "      <td>Cash loans</td>\n",
       "      <td>F</td>\n",
       "      <td>N</td>\n",
       "      <td>N</td>\n",
       "      <td>0</td>\n",
       "      <td>270000.0</td>\n",
       "      <td>1293502.5</td>\n",
       "      <td>35698.5</td>\n",
       "      <td>...</td>\n",
       "      <td>0</td>\n",
       "      <td>0</td>\n",
       "      <td>0</td>\n",
       "      <td>0</td>\n",
       "      <td>0.0</td>\n",
       "      <td>0.0</td>\n",
       "      <td>0.0</td>\n",
       "      <td>0.0</td>\n",
       "      <td>0.0</td>\n",
       "      <td>0.0</td>\n",
       "    </tr>\n",
       "    <tr>\n",
       "      <th>2</th>\n",
       "      <td>100004</td>\n",
       "      <td>0</td>\n",
       "      <td>Revolving loans</td>\n",
       "      <td>M</td>\n",
       "      <td>Y</td>\n",
       "      <td>Y</td>\n",
       "      <td>0</td>\n",
       "      <td>67500.0</td>\n",
       "      <td>135000.0</td>\n",
       "      <td>6750.0</td>\n",
       "      <td>...</td>\n",
       "      <td>0</td>\n",
       "      <td>0</td>\n",
       "      <td>0</td>\n",
       "      <td>0</td>\n",
       "      <td>0.0</td>\n",
       "      <td>0.0</td>\n",
       "      <td>0.0</td>\n",
       "      <td>0.0</td>\n",
       "      <td>0.0</td>\n",
       "      <td>0.0</td>\n",
       "    </tr>\n",
       "    <tr>\n",
       "      <th>3</th>\n",
       "      <td>100006</td>\n",
       "      <td>0</td>\n",
       "      <td>Cash loans</td>\n",
       "      <td>F</td>\n",
       "      <td>N</td>\n",
       "      <td>Y</td>\n",
       "      <td>0</td>\n",
       "      <td>135000.0</td>\n",
       "      <td>312682.5</td>\n",
       "      <td>29686.5</td>\n",
       "      <td>...</td>\n",
       "      <td>0</td>\n",
       "      <td>0</td>\n",
       "      <td>0</td>\n",
       "      <td>0</td>\n",
       "      <td>NaN</td>\n",
       "      <td>NaN</td>\n",
       "      <td>NaN</td>\n",
       "      <td>NaN</td>\n",
       "      <td>NaN</td>\n",
       "      <td>NaN</td>\n",
       "    </tr>\n",
       "    <tr>\n",
       "      <th>4</th>\n",
       "      <td>100007</td>\n",
       "      <td>0</td>\n",
       "      <td>Cash loans</td>\n",
       "      <td>M</td>\n",
       "      <td>N</td>\n",
       "      <td>Y</td>\n",
       "      <td>0</td>\n",
       "      <td>121500.0</td>\n",
       "      <td>513000.0</td>\n",
       "      <td>21865.5</td>\n",
       "      <td>...</td>\n",
       "      <td>0</td>\n",
       "      <td>0</td>\n",
       "      <td>0</td>\n",
       "      <td>0</td>\n",
       "      <td>0.0</td>\n",
       "      <td>0.0</td>\n",
       "      <td>0.0</td>\n",
       "      <td>0.0</td>\n",
       "      <td>0.0</td>\n",
       "      <td>0.0</td>\n",
       "    </tr>\n",
       "  </tbody>\n",
       "</table>\n",
       "<p>5 rows × 122 columns</p>\n",
       "</div>"
      ],
      "text/plain": [
       "   SK_ID_CURR  TARGET NAME_CONTRACT_TYPE CODE_GENDER FLAG_OWN_CAR  \\\n",
       "0      100002       1         Cash loans           M            N   \n",
       "1      100003       0         Cash loans           F            N   \n",
       "2      100004       0    Revolving loans           M            Y   \n",
       "3      100006       0         Cash loans           F            N   \n",
       "4      100007       0         Cash loans           M            N   \n",
       "\n",
       "  FLAG_OWN_REALTY  CNT_CHILDREN  AMT_INCOME_TOTAL  AMT_CREDIT  AMT_ANNUITY  \\\n",
       "0               Y             0          202500.0    406597.5      24700.5   \n",
       "1               N             0          270000.0   1293502.5      35698.5   \n",
       "2               Y             0           67500.0    135000.0       6750.0   \n",
       "3               Y             0          135000.0    312682.5      29686.5   \n",
       "4               Y             0          121500.0    513000.0      21865.5   \n",
       "\n",
       "              ...              FLAG_DOCUMENT_18 FLAG_DOCUMENT_19  \\\n",
       "0             ...                             0                0   \n",
       "1             ...                             0                0   \n",
       "2             ...                             0                0   \n",
       "3             ...                             0                0   \n",
       "4             ...                             0                0   \n",
       "\n",
       "  FLAG_DOCUMENT_20 FLAG_DOCUMENT_21 AMT_REQ_CREDIT_BUREAU_HOUR  \\\n",
       "0                0                0                        0.0   \n",
       "1                0                0                        0.0   \n",
       "2                0                0                        0.0   \n",
       "3                0                0                        NaN   \n",
       "4                0                0                        0.0   \n",
       "\n",
       "  AMT_REQ_CREDIT_BUREAU_DAY  AMT_REQ_CREDIT_BUREAU_WEEK  \\\n",
       "0                       0.0                         0.0   \n",
       "1                       0.0                         0.0   \n",
       "2                       0.0                         0.0   \n",
       "3                       NaN                         NaN   \n",
       "4                       0.0                         0.0   \n",
       "\n",
       "   AMT_REQ_CREDIT_BUREAU_MON  AMT_REQ_CREDIT_BUREAU_QRT  \\\n",
       "0                        0.0                        0.0   \n",
       "1                        0.0                        0.0   \n",
       "2                        0.0                        0.0   \n",
       "3                        NaN                        NaN   \n",
       "4                        0.0                        0.0   \n",
       "\n",
       "   AMT_REQ_CREDIT_BUREAU_YEAR  \n",
       "0                         1.0  \n",
       "1                         0.0  \n",
       "2                         0.0  \n",
       "3                         NaN  \n",
       "4                         0.0  \n",
       "\n",
       "[5 rows x 122 columns]"
      ]
     },
     "execution_count": 3,
     "metadata": {},
     "output_type": "execute_result"
    }
   ],
   "source": [
    "train_data.head()"
   ]
  },
  {
   "cell_type": "code",
   "execution_count": 4,
   "metadata": {
    "collapsed": true
   },
   "outputs": [],
   "source": [
    "td_des = train_data.describe()\n",
    "td_des.to_csv('E:/pnk/kaggle_credit/columns_detail.csv')"
   ]
  },
  {
   "cell_type": "markdown",
   "metadata": {},
   "source": [
    "# 初步探索feature"
   ]
  },
  {
   "cell_type": "code",
   "execution_count": 24,
   "metadata": {},
   "outputs": [
    {
     "name": "stdout",
     "output_type": "stream",
     "text": [
      "Cash bad rate: 0.083459\n",
      "Revolving bad rate: 0.054783\n"
     ]
    }
   ],
   "source": [
    "#sns.countplot(x='NAME_CONTRACT_TYPE', hue='TARGET', data=train_data)\n",
    "cash_data = train_data[train_data['NAME_CONTRACT_TYPE']=='Cash loans']\n",
    "revolving_data = train_data[train_data['NAME_CONTRACT_TYPE']=='Revolving loans']\n",
    "print ('Cash bad rate: %.6f' % (cash_data['TARGET'].sum() / len(cash_data)))\n",
    "print ('Revolving bad rate: %.6f' % (revolving_data['TARGET'].sum() / len(revolving_data)))"
   ]
  },
  {
   "cell_type": "code",
   "execution_count": 26,
   "metadata": {},
   "outputs": [
    {
     "name": "stdout",
     "output_type": "stream",
     "text": [
      "['M' 'F' 'XNA']\n",
      "Male bad rate: 0.101419\n",
      "Female bad rate: 0.069993\n"
     ]
    }
   ],
   "source": [
    "male_data = train_data[train_data['CODE_GENDER']=='M']\n",
    "female_data = train_data[train_data['CODE_GENDER']=='F']\n",
    "print (train_data['CODE_GENDER'].unique())\n",
    "print ('Male bad rate: %.6f' % (male_data['TARGET'].sum() / len(male_data)))\n",
    "print ('Female bad rate: %.6f' % (female_data['TARGET'].sum() / len(female_data)))"
   ]
  },
  {
   "cell_type": "code",
   "execution_count": 27,
   "metadata": {},
   "outputs": [
    {
     "name": "stdout",
     "output_type": "stream",
     "text": [
      "['N' 'Y']\n",
      "Car bad rate: 0.072437\n",
      "Nocar bad rate: 0.085002\n"
     ]
    }
   ],
   "source": [
    "car_data = train_data[train_data['FLAG_OWN_CAR']=='Y']\n",
    "nocar_data = train_data[train_data['FLAG_OWN_CAR']=='N']\n",
    "print (train_data['FLAG_OWN_CAR'].unique())\n",
    "print ('Car bad rate: %.6f' % (car_data['TARGET'].sum() / len(car_data)))\n",
    "print ('Nocar bad rate: %.6f' % (nocar_data['TARGET'].sum() / len(nocar_data)))"
   ]
  },
  {
   "cell_type": "code",
   "execution_count": 28,
   "metadata": {},
   "outputs": [
    {
     "name": "stdout",
     "output_type": "stream",
     "text": [
      "['Y' 'N']\n",
      "House bad rate: 0.079616\n",
      "Nohouse bad rate: 0.083249\n"
     ]
    }
   ],
   "source": [
    "house_data = train_data[train_data['FLAG_OWN_REALTY']=='Y']\n",
    "nohouse_data = train_data[(train_data['FLAG_OWN_REALTY']=='N')]\n",
    "print (train_data['FLAG_OWN_REALTY'].unique())\n",
    "print ('House bad rate: %.6f' % (house_data['TARGET'].sum() / len(house_data)))\n",
    "print ('Nohouse bad rate: %.6f' % (nohouse_data['TARGET'].sum() / len(nohouse_data)))"
   ]
  },
  {
   "cell_type": "code",
   "execution_count": 134,
   "metadata": {
    "collapsed": true
   },
   "outputs": [],
   "source": [
    "def children_redefinition(child_item):\n",
    "    if int(child_item)==0:\n",
    "        return '0'\n",
    "    elif int(child_item)<=3:\n",
    "        return '1'\n",
    "    elif int(child_item)<=5:\n",
    "        return '2'\n",
    "    else:\n",
    "        return '3'\n",
    "train_data['CNT_CHILDREN_NEW'] = train_data['CNT_CHILDREN'].apply(children_redefinition)"
   ]
  },
  {
   "cell_type": "code",
   "execution_count": 135,
   "metadata": {},
   "outputs": [
    {
     "name": "stdout",
     "output_type": "stream",
     "text": [
      "Bad rate: 0.333933, children 0\n",
      "Bad rate: 0.369505, children 1\n",
      "Bad rate: 0.432056, children 2\n",
      "Bad rate: 0.600000, children 3\n"
     ]
    }
   ],
   "source": [
    "children_types = train_data['CNT_CHILDREN_NEW'].unique()\n",
    "for children_type in children_types:\n",
    "    children_data = train_data[train_data['CNT_CHILDREN_NEW']==children_type]\n",
    "    print ('Bad rate: %.6f, children %s' % ((children_data['TARGET'].sum() / len(children_data)), children_type))"
   ]
  },
  {
   "cell_type": "code",
   "execution_count": 122,
   "metadata": {},
   "outputs": [
    {
     "name": "stdout",
     "output_type": "stream",
     "text": [
      "Income1 bad rate: 0.355483\n",
      "Income2 bad rate: 0.324646\n",
      "Income3 bad rate: 0.297659\n",
      "Income4 bad rate: 0.272237\n",
      "Income5 bad rate: 0.264526\n"
     ]
    }
   ],
   "source": [
    "income_3 = train_data['AMT_INCOME_TOTAL'].quantile(.75)\n",
    "income_4 = train_data['AMT_INCOME_TOTAL'].quantile(.9)\n",
    "income_5 = train_data['AMT_INCOME_TOTAL'].quantile(.95)\n",
    "income_6 = train_data['AMT_INCOME_TOTAL'].quantile(.99)\n",
    "income_data_1 = train_data[train_data['AMT_INCOME_TOTAL']<=income_3]\n",
    "income_data_2 = train_data[(train_data['AMT_INCOME_TOTAL']>income_3)&(train_data['AMT_INCOME_TOTAL']<=income_4)]\n",
    "income_data_3 = train_data[(train_data['AMT_INCOME_TOTAL']>income_4)&(train_data['AMT_INCOME_TOTAL']<=income_5)]\n",
    "income_data_4 = train_data[(train_data['AMT_INCOME_TOTAL']>income_5)&(train_data['AMT_INCOME_TOTAL']<=income_6)]\n",
    "income_data_5 = train_data[train_data['AMT_INCOME_TOTAL']>income_6]\n",
    "print ('Income1 bad rate: %.6f' % (income_data_1['TARGET'].sum() / len(income_data_1)))\n",
    "print ('Income2 bad rate: %.6f' % (income_data_2['TARGET'].sum() / len(income_data_2)))\n",
    "print ('Income3 bad rate: %.6f' % (income_data_3['TARGET'].sum() / len(income_data_3)))\n",
    "print ('Income4 bad rate: %.6f' % (income_data_4['TARGET'].sum() / len(income_data_4)))\n",
    "print ('Income5 bad rate: %.6f' % (income_data_5['TARGET'].sum() / len(income_data_5)))"
   ]
  },
  {
   "cell_type": "code",
   "execution_count": 124,
   "metadata": {},
   "outputs": [
    {
     "name": "stdout",
     "output_type": "stream",
     "text": [
      "GOODS_data_1 bad rate: 0.369947\n",
      "GOODS_data_2 bad rate: 0.284845\n",
      "GOODS_data_3 bad rate: 0.263070\n",
      "GOODS_data_4 bad rate: 0.222533\n",
      "GOODS_data_5 bad rate: 0.197634\n"
     ]
    }
   ],
   "source": [
    "GOODS_3 = train_data['AMT_GOODS_PRICE'].quantile(.75)\n",
    "GOODS_4 = train_data['AMT_GOODS_PRICE'].quantile(.9)\n",
    "GOODS_5 = train_data['AMT_GOODS_PRICE'].quantile(.95)\n",
    "GOODS_6 = train_data['AMT_GOODS_PRICE'].quantile(.99)\n",
    "GOODS_data_1 = train_data[train_data['AMT_GOODS_PRICE']<=GOODS_3]\n",
    "GOODS_data_2 = train_data[(train_data['AMT_GOODS_PRICE']>GOODS_3)&(train_data['AMT_GOODS_PRICE']<=GOODS_4)]\n",
    "GOODS_data_3 = train_data[(train_data['AMT_GOODS_PRICE']>GOODS_4)&(train_data['AMT_GOODS_PRICE']<=GOODS_5)]\n",
    "GOODS_data_4 = train_data[(train_data['AMT_GOODS_PRICE']>GOODS_5)&(train_data['AMT_GOODS_PRICE']<=GOODS_6)]\n",
    "GOODS_data_5 = train_data[train_data['AMT_GOODS_PRICE']>GOODS_6]\n",
    "print ('GOODS_data_1 bad rate: %.6f' % (GOODS_data_1['TARGET'].sum() / len(GOODS_data_1)))\n",
    "print ('GOODS_data_2 bad rate: %.6f' % (GOODS_data_2['TARGET'].sum() / len(GOODS_data_2)))\n",
    "print ('GOODS_data_3 bad rate: %.6f' % (GOODS_data_3['TARGET'].sum() / len(GOODS_data_3)))\n",
    "print ('GOODS_data_4 bad rate: %.6f' % (GOODS_data_4['TARGET'].sum() / len(GOODS_data_4)))\n",
    "print ('GOODS_data_5 bad rate: %.6f' % (GOODS_data_5['TARGET'].sum() / len(GOODS_data_5)))"
   ]
  },
  {
   "cell_type": "code",
   "execution_count": 77,
   "metadata": {},
   "outputs": [
    {
     "data": {
      "text/plain": [
       "(0, 2000000)"
      ]
     },
     "execution_count": 77,
     "metadata": {},
     "output_type": "execute_result"
    },
    {
     "data": {
      "image/png": "[encoded data removed]",
      "text/plain": [
       "<matplotlib.figure.Figure at 0x21a9aba8>"
      ]
     },
     "metadata": {},
     "output_type": "display_data"
    }
   ],
   "source": [
    "sns.kdeplot(train_data[(train_data['TARGET']==0)]['AMT_CREDIT'])\n",
    "plt.xlim(0,2000000)"
   ]
  },
  {
   "cell_type": "code",
   "execution_count": 78,
   "metadata": {},
   "outputs": [
    {
     "data": {
      "text/plain": [
       "(0, 2000000)"
      ]
     },
     "execution_count": 78,
     "metadata": {},
     "output_type": "execute_result"
    },
    {
     "data": {
      "image/png": "[encoded data removed]",
      "text/plain": [
       "<matplotlib.figure.Figure at 0x1b2fbda0>"
      ]
     },
     "metadata": {},
     "output_type": "display_data"
    }
   ],
   "source": [
    "sns.kdeplot(train_data[(train_data['TARGET']==1)]['AMT_CREDIT'])\n",
    "plt.xlim(0,2000000)"
   ]
  },
  {
   "cell_type": "code",
   "execution_count": 85,
   "metadata": {},
   "outputs": [
    {
     "name": "stdout",
     "output_type": "stream",
     "text": [
      "AMT_ANNUITY,AMT_GOODS_PRICE are depend on AMT_CREDIT\n"
     ]
    }
   ],
   "source": [
    "print 'AMT_ANNUITY,AMT_GOODS_PRICE are depend on AMT_CREDIT'"
   ]
  },
  {
   "cell_type": "code",
   "execution_count": 90,
   "metadata": {},
   "outputs": [
    {
     "data": {
      "text/plain": [
       "array(['Unaccompanied', 'Family', 'Spouse, partner', 'Children', 'Other_A',\n",
       "       'Nodata', 'Other_B', 'Group of people'], dtype=object)"
      ]
     },
     "execution_count": 90,
     "metadata": {},
     "output_type": "execute_result"
    }
   ],
   "source": [
    "train_data['NAME_TYPE_SUITE'] = train_data['NAME_TYPE_SUITE'].fillna('Nodata')\n",
    "train_data['NAME_TYPE_SUITE'].unique()"
   ]
  },
  {
   "cell_type": "code",
   "execution_count": 103,
   "metadata": {
    "collapsed": true
   },
   "outputs": [],
   "source": [
    "def acm_redefinition(acm_item):\n",
    "    acm_dict = {\n",
    "        'Unaccompanied': 1,\n",
    "        'Family': 2,\n",
    "        'Spouse, partner': 3,\n",
    "        'Children': 4,\n",
    "        'Other_A': 5,\n",
    "        'Nodata': 6,\n",
    "        'Other_B': 7,\n",
    "        'Group of people': 8\n",
    "    }\n",
    "    if acm_item in acm_dict:\n",
    "        return acm_dict[acm_item]\n",
    "    else:\n",
    "        return 6\n",
    "train_data['NAME_TYPE_SUITE_NEW'] = train_data['NAME_TYPE_SUITE'].apply(acm_redefinition)"
   ]
  },
  {
   "cell_type": "code",
   "execution_count": 91,
   "metadata": {},
   "outputs": [
    {
     "name": "stdout",
     "output_type": "stream",
     "text": [
      "Bad rate: 0.081830, NAME_TYPE_SUITE Unaccompanied\n",
      "Bad rate: 0.074946, NAME_TYPE_SUITE Family\n",
      "Bad rate: 0.078716, NAME_TYPE_SUITE Spouse, partner\n",
      "Bad rate: 0.073768, NAME_TYPE_SUITE Children\n",
      "Bad rate: 0.087760, NAME_TYPE_SUITE Other_A\n",
      "Bad rate: 0.054180, NAME_TYPE_SUITE Nodata\n",
      "Bad rate: 0.098305, NAME_TYPE_SUITE Other_B\n",
      "Bad rate: 0.084871, NAME_TYPE_SUITE Group of people\n"
     ]
    }
   ],
   "source": [
    "acm_types = train_data['NAME_TYPE_SUITE'].unique()\n",
    "for acm_type in acm_types:\n",
    "    acm_data = train_data[train_data['NAME_TYPE_SUITE']==acm_type]\n",
    "    print 'Bad rate: %.6f, NAME_TYPE_SUITE %s' % ((acm_data['TARGET'].sum() / len(acm_data)), acm_type)"
   ]
  },
  {
   "cell_type": "code",
   "execution_count": 107,
   "metadata": {
    "collapsed": true
   },
   "outputs": [],
   "source": [
    "def intype_redefinition(in_item):\n",
    "    in_dict = {\n",
    "        'Working': 1,\n",
    "        'State servant': 2,\n",
    "        'Commercial associate': 3,\n",
    "        'Pensioner': 4,\n",
    "        'Unemployed': 5,\n",
    "        'Student': 6,\n",
    "        'Businessman': 7,\n",
    "        'Maternity leave': 8\n",
    "    }\n",
    "    if in_item in in_dict:\n",
    "        return in_dict[in_item]\n",
    "    else:\n",
    "        return 1\n",
    "train_data['NAME_INCOME_TYPE_NEW'] = train_data['NAME_INCOME_TYPE'].apply(intype_redefinition)"
   ]
  },
  {
   "cell_type": "code",
   "execution_count": 92,
   "metadata": {},
   "outputs": [
    {
     "name": "stdout",
     "output_type": "stream",
     "text": [
      "Bad rate: 0.095885, NAME_INCOME_TYPE Working\n",
      "Bad rate: 0.057550, NAME_INCOME_TYPE State servant\n",
      "Bad rate: 0.074843, NAME_INCOME_TYPE Commercial associate\n",
      "Bad rate: 0.053864, NAME_INCOME_TYPE Pensioner\n",
      "Bad rate: 0.363636, NAME_INCOME_TYPE Unemployed\n",
      "Bad rate: 0.000000, NAME_INCOME_TYPE Student\n",
      "Bad rate: 0.000000, NAME_INCOME_TYPE Businessman\n",
      "Bad rate: 0.400000, NAME_INCOME_TYPE Maternity leave\n"
     ]
    }
   ],
   "source": [
    "income_types = train_data['NAME_INCOME_TYPE'].unique()\n",
    "for income_type in income_types:\n",
    "    income_data = train_data[train_data['NAME_INCOME_TYPE']==income_type]\n",
    "    print 'Bad rate: %.6f, NAME_INCOME_TYPE %s' % ((income_data['TARGET'].sum() / len(income_data)), income_type)"
   ]
  },
  {
   "cell_type": "code",
   "execution_count": 7,
   "metadata": {
    "collapsed": true
   },
   "outputs": [],
   "source": [
    "def edu_redefinition(edu_item):\n",
    "    edu_dict = {\n",
    "        'Secondary / secondary special': 1,\n",
    "        'Higher education': 2,\n",
    "        'Incomplete higher': 3,\n",
    "        'Lower secondary': 4,\n",
    "        'Academic degree': 5\n",
    "    }\n",
    "    if edu_item in edu_dict:\n",
    "        return edu_dict[edu_item]\n",
    "    else:\n",
    "        return 1\n",
    "train_data['NAME_EDUCATION_TYPE_NEW'] = train_data['NAME_EDUCATION_TYPE'].apply(edu_redefinition)"
   ]
  },
  {
   "cell_type": "code",
   "execution_count": 6,
   "metadata": {},
   "outputs": [
    {
     "name": "stdout",
     "output_type": "stream",
     "text": [
      "Bad rate: 0.089399, NAME_EDUCATION_TYPE Secondary / secondary special\n",
      "Bad rate: 0.053551, NAME_EDUCATION_TYPE Higher education\n",
      "Bad rate: 0.084850, NAME_EDUCATION_TYPE Incomplete higher\n",
      "Bad rate: 0.109277, NAME_EDUCATION_TYPE Lower secondary\n",
      "Bad rate: 0.018293, NAME_EDUCATION_TYPE Academic degree\n"
     ]
    }
   ],
   "source": [
    "edu_types = train_data['NAME_EDUCATION_TYPE'].unique()\n",
    "for edu_type in edu_types:\n",
    "    edu_data = train_data[train_data['NAME_EDUCATION_TYPE']==edu_type]\n",
    "    print 'Bad rate: %.6f, NAME_EDUCATION_TYPE %s' % ((edu_data['TARGET'].sum() / len(edu_data)), edu_type)"
   ]
  },
  {
   "cell_type": "code",
   "execution_count": 11,
   "metadata": {
    "collapsed": true
   },
   "outputs": [],
   "source": [
    "def fms_redefinition(fms_item):\n",
    "    fms_dict = {\n",
    "        'Single / not married': 1,\n",
    "        'Married': 2,\n",
    "        'Civil marriage': 3,\n",
    "        'Widow': 4,\n",
    "        'Separated': 5,\n",
    "        'Unknown': 6\n",
    "    }\n",
    "    if fms_item in fms_dict:\n",
    "        return fms_dict[fms_item]\n",
    "    else:\n",
    "        return 1\n",
    "train_data['NAME_FAMILY_STATUS_NEW'] = train_data['NAME_FAMILY_STATUS'].apply(fms_redefinition)"
   ]
  },
  {
   "cell_type": "code",
   "execution_count": 10,
   "metadata": {},
   "outputs": [
    {
     "name": "stdout",
     "output_type": "stream",
     "text": [
      "Bad rate: 0.098077, NAME_FAMILY_STATUS Single / not married\n",
      "Bad rate: 0.075599, NAME_FAMILY_STATUS Married\n",
      "Bad rate: 0.099446, NAME_FAMILY_STATUS Civil marriage\n",
      "Bad rate: 0.058242, NAME_FAMILY_STATUS Widow\n",
      "Bad rate: 0.081942, NAME_FAMILY_STATUS Separated\n",
      "Bad rate: 0.000000, NAME_FAMILY_STATUS Unknown\n"
     ]
    }
   ],
   "source": [
    "fms_types = train_data['NAME_FAMILY_STATUS'].unique()\n",
    "for fms_type in fms_types:\n",
    "    fms_data = train_data[train_data['NAME_FAMILY_STATUS']==fms_type]\n",
    "    print 'Bad rate: %.6f, NAME_FAMILY_STATUS %s' % ((fms_data['TARGET'].sum() / len(fms_data)), fms_type)"
   ]
  },
  {
   "cell_type": "code",
   "execution_count": 14,
   "metadata": {
    "collapsed": true
   },
   "outputs": [],
   "source": [
    "def house_redefinition(house_item):\n",
    "    house_dict = {\n",
    "        'House / apartment': 1,\n",
    "        'Rented apartment': 2,\n",
    "        'With parents': 3,\n",
    "        'Municipal apartment': 4,\n",
    "        'Office apartment': 5,\n",
    "        'Co-op apartment': 6\n",
    "    }\n",
    "    if house_item in house_dict:\n",
    "        return house_dict[house_item]\n",
    "    else:\n",
    "        return 1\n",
    "train_data['NAME_HOUSING_TYPE_NEW'] = train_data['NAME_HOUSING_TYPE'].apply(house_redefinition)"
   ]
  },
  {
   "cell_type": "code",
   "execution_count": 13,
   "metadata": {},
   "outputs": [
    {
     "name": "stdout",
     "output_type": "stream",
     "text": [
      "Bad rate: 0.077957, NAME_HOUSING_TYPE House / apartment\n",
      "Bad rate: 0.123131, NAME_HOUSING_TYPE Rented apartment\n",
      "Bad rate: 0.116981, NAME_HOUSING_TYPE With parents\n",
      "Bad rate: 0.085397, NAME_HOUSING_TYPE Municipal apartment\n",
      "Bad rate: 0.065724, NAME_HOUSING_TYPE Office apartment\n",
      "Bad rate: 0.079323, NAME_HOUSING_TYPE Co-op apartment\n"
     ]
    }
   ],
   "source": [
    "house_types = train_data['NAME_HOUSING_TYPE'].unique()\n",
    "for house_type in house_types:\n",
    "    house_data = train_data[train_data['NAME_HOUSING_TYPE']==house_type]\n",
    "    print 'Bad rate: %.6f, NAME_HOUSING_TYPE %s' % ((house_data['TARGET'].sum() / len(house_data)), house_type)"
   ]
  },
  {
   "cell_type": "code",
   "execution_count": 16,
   "metadata": {},
   "outputs": [
    {
     "data": {
      "text/plain": [
       "<matplotlib.axes._subplots.AxesSubplot at 0x19b31940>"
      ]
     },
     "execution_count": 16,
     "metadata": {},
     "output_type": "execute_result"
    },
    {
     "data": {
      "image/png": "[encoded data removed]",
      "text/plain": [
       "<matplotlib.figure.Figure at 0xa4ba4a8>"
      ]
     },
     "metadata": {},
     "output_type": "display_data"
    }
   ],
   "source": [
    "sns.kdeplot(train_data[(train_data['TARGET']==0)]['REGION_POPULATION_RELATIVE'])"
   ]
  },
  {
   "cell_type": "code",
   "execution_count": 17,
   "metadata": {},
   "outputs": [
    {
     "data": {
      "text/plain": [
       "<matplotlib.axes._subplots.AxesSubplot at 0x18699a90>"
      ]
     },
     "execution_count": 17,
     "metadata": {},
     "output_type": "execute_result"
    },
    {
     "data": {
      "image/png": "[encoded data removed]",
      "text/plain": [
       "<matplotlib.figure.Figure at 0xa50ae48>"
      ]
     },
     "metadata": {},
     "output_type": "display_data"
    }
   ],
   "source": [
    "sns.kdeplot(train_data[(train_data['TARGET']==1)]['REGION_POPULATION_RELATIVE'])"
   ]
  },
  {
   "cell_type": "code",
   "execution_count": 18,
   "metadata": {},
   "outputs": [
    {
     "data": {
      "text/plain": [
       "<matplotlib.axes._subplots.AxesSubplot at 0x11d31550>"
      ]
     },
     "execution_count": 18,
     "metadata": {},
     "output_type": "execute_result"
    },
    {
     "data": {
      "image/png": "[encoded data removed]",
      "text/plain": [
       "<matplotlib.figure.Figure at 0x1868e438>"
      ]
     },
     "metadata": {},
     "output_type": "display_data"
    }
   ],
   "source": [
    "sns.kdeplot(train_data[(train_data['TARGET']==0)]['DAYS_BIRTH'])"
   ]
  },
  {
   "cell_type": "code",
   "execution_count": 19,
   "metadata": {},
   "outputs": [
    {
     "data": {
      "text/plain": [
       "<matplotlib.axes._subplots.AxesSubplot at 0x1532ea58>"
      ]
     },
     "execution_count": 19,
     "metadata": {},
     "output_type": "execute_result"
    },
    {
     "data": {
      "image/png": "[encoded data removed]",
      "text/plain": [
       "<matplotlib.figure.Figure at 0x16a13780>"
      ]
     },
     "metadata": {},
     "output_type": "display_data"
    }
   ],
   "source": [
    "sns.kdeplot(train_data[(train_data['TARGET']==1)]['DAYS_BIRTH'])"
   ]
  },
  {
   "cell_type": "code",
   "execution_count": 31,
   "metadata": {
    "collapsed": true
   },
   "outputs": [],
   "source": [
    "train_data['OWN_CAR_AGE'] = train_data['OWN_CAR_AGE'].fillna(-100)"
   ]
  },
  {
   "cell_type": "code",
   "execution_count": 45,
   "metadata": {},
   "outputs": [
    {
     "name": "stdout",
     "output_type": "stream",
     "text": [
      "Bad rate: 0.086600, FLAG_EMP_PHONE 1\n",
      "Bad rate: 0.054003, FLAG_EMP_PHONE 0\n"
     ]
    }
   ],
   "source": [
    "mobile_types = train_data['FLAG_EMP_PHONE'].unique()\n",
    "for mobile_type in mobile_types:\n",
    "    mobile_data = train_data[train_data['FLAG_EMP_PHONE']==mobile_type]\n",
    "    print 'Bad rate: %.6f, FLAG_EMP_PHONE %s' % ((mobile_data['TARGET'].sum() / len(mobile_data)), mobile_type)"
   ]
  },
  {
   "cell_type": "code",
   "execution_count": 60,
   "metadata": {
    "collapsed": true
   },
   "outputs": [],
   "source": [
    "def ocp_redefinition(ocp_item):\n",
    "    ocp_dict = {\n",
    "        'Laborers': 1,\n",
    "        'Core staff': 2,\n",
    "        'Accountants': 3,\n",
    "        'Managers': 4,\n",
    "        'Nodata': 5,\n",
    "        'Drivers': 6,\n",
    "        'Sales staff': 7,\n",
    "        'Cleaning staff': 8,\n",
    "        'Cooking staff': 9,\n",
    "        'Private service staff': 10,\n",
    "        'Medicine staff': 11,\n",
    "        'Security staff': 12,\n",
    "        'High skill tech staff': 13,\n",
    "        'Waiters/barmen staff': 14,\n",
    "        'Low-skill Laborers': 15,\n",
    "        'Realty agents': 16,\n",
    "        'Secretaries': 17,\n",
    "        'IT staff': 18,\n",
    "        'HR staff': 19,\n",
    "    }\n",
    "    if ocp_item in ocp_dict:\n",
    "        return ocp_dict[ocp_item]\n",
    "    else:\n",
    "        return 5\n",
    "train_data['OCCUPATION_TYPE_NEW'] = train_data['OCCUPATION_TYPE'].apply(ocp_redefinition)"
   ]
  },
  {
   "cell_type": "code",
   "execution_count": 58,
   "metadata": {},
   "outputs": [
    {
     "name": "stdout",
     "output_type": "stream",
     "text": [
      "Bad rate: 0.105788, OCCUPATION_TYPE Laborers\n",
      "Bad rate: 0.063040, OCCUPATION_TYPE Core staff\n",
      "Bad rate: 0.048303, OCCUPATION_TYPE Accountants\n",
      "Bad rate: 0.062140, OCCUPATION_TYPE Managers\n",
      "Bad rate: 0.065131, OCCUPATION_TYPE Nodata\n",
      "Bad rate: 0.113261, OCCUPATION_TYPE Drivers\n",
      "Bad rate: 0.096318, OCCUPATION_TYPE Sales staff\n",
      "Bad rate: 0.096067, OCCUPATION_TYPE Cleaning staff\n",
      "Bad rate: 0.104440, OCCUPATION_TYPE Cooking staff\n",
      "Bad rate: 0.065988, OCCUPATION_TYPE Private service staff\n",
      "Bad rate: 0.067002, OCCUPATION_TYPE Medicine staff\n",
      "Bad rate: 0.107424, OCCUPATION_TYPE Security staff\n",
      "Bad rate: 0.061599, OCCUPATION_TYPE High skill tech staff\n",
      "Bad rate: 0.112760, OCCUPATION_TYPE Waiters/barmen staff\n",
      "Bad rate: 0.171524, OCCUPATION_TYPE Low-skill Laborers\n",
      "Bad rate: 0.078562, OCCUPATION_TYPE Realty agents\n",
      "Bad rate: 0.070498, OCCUPATION_TYPE Secretaries\n",
      "Bad rate: 0.064639, OCCUPATION_TYPE IT staff\n",
      "Bad rate: 0.063943, OCCUPATION_TYPE HR staff\n"
     ]
    }
   ],
   "source": [
    "train_data['OCCUPATION_TYPE'] = train_data['OCCUPATION_TYPE'].fillna('Nodata')\n",
    "mobile_types = train_data['OCCUPATION_TYPE'].unique()\n",
    "for mobile_type in mobile_types:\n",
    "    mobile_data = train_data[train_data['OCCUPATION_TYPE']==mobile_type]\n",
    "    print 'Bad rate: %.6f, OCCUPATION_TYPE %s' % ((mobile_data['TARGET'].sum() / len(mobile_data)), mobile_type)"
   ]
  },
  {
   "cell_type": "code",
   "execution_count": 131,
   "metadata": {
    "collapsed": true
   },
   "outputs": [],
   "source": [
    "cnt_mid = train_data['CNT_FAM_MEMBERS'].quantile(0.5)\n",
    "train_data['CNT_FAM_MEMBERS'] = train_data['CNT_FAM_MEMBERS'].fillna(cnt_mid)"
   ]
  },
  {
   "cell_type": "code",
   "execution_count": 132,
   "metadata": {
    "collapsed": true
   },
   "outputs": [],
   "source": [
    "def mem_redefinition(mem_item):\n",
    "    if int(mem_item)==2:\n",
    "        return '2'\n",
    "    else:\n",
    "        return '1'\n",
    "train_data['CNT_FAM_MEMBERS_NEW'] = train_data['CNT_FAM_MEMBERS'].apply(mem_redefinition)"
   ]
  },
  {
   "cell_type": "code",
   "execution_count": 133,
   "metadata": {},
   "outputs": [
    {
     "name": "stdout",
     "output_type": "stream",
     "text": [
      "Bad rate: 0.328856, CNT_FAM_MEMBERS_NEW 2\n",
      "Bad rate: 0.361814, CNT_FAM_MEMBERS_NEW 1\n"
     ]
    }
   ],
   "source": [
    "children_types = train_data['CNT_FAM_MEMBERS_NEW'].unique()\n",
    "for children_type in children_types:\n",
    "    children_data = train_data[train_data['CNT_FAM_MEMBERS_NEW']==children_type]\n",
    "    print ('Bad rate: %.6f, CNT_FAM_MEMBERS_NEW %s' % ((children_data['TARGET'].sum() / len(children_data)), children_type))"
   ]
  },
  {
   "cell_type": "code",
   "execution_count": 150,
   "metadata": {},
   "outputs": [
    {
     "name": "stdout",
     "output_type": "stream",
     "text": [
      "Bad rate: 0.079178, REGION_RATING_CLIENT_W_CITY 2\n",
      "Bad rate: 0.048409, REGION_RATING_CLIENT_W_CITY 1\n",
      "Bad rate: 0.114022, REGION_RATING_CLIENT_W_CITY 3\n"
     ]
    }
   ],
   "source": [
    "children_types = train_data['REGION_RATING_CLIENT_W_CITY'].unique()\n",
    "for children_type in children_types:\n",
    "    children_data = train_data[train_data['REGION_RATING_CLIENT_W_CITY']==children_type]\n",
    "    print 'Bad rate: %.6f, REGION_RATING_CLIENT_W_CITY %s' % ((children_data['TARGET'].sum() / len(children_data)), children_type)"
   ]
  },
  {
   "cell_type": "code",
   "execution_count": 153,
   "metadata": {},
   "outputs": [
    {
     "name": "stdout",
     "output_type": "stream",
     "text": [
      "Bad rate: 0.080218, HOUR_APPR_PROCESS_START 10\n",
      "Bad rate: 0.080744, HOUR_APPR_PROCESS_START 11\n",
      "Bad rate: 0.082055, HOUR_APPR_PROCESS_START 9\n",
      "Bad rate: 0.064899, HOUR_APPR_PROCESS_START 17\n",
      "Bad rate: 0.074614, HOUR_APPR_PROCESS_START 16\n",
      "Bad rate: 0.079077, HOUR_APPR_PROCESS_START 14\n",
      "Bad rate: 0.090765, HOUR_APPR_PROCESS_START 8\n",
      "Bad rate: 0.075929, HOUR_APPR_PROCESS_START 15\n",
      "Bad rate: 0.100427, HOUR_APPR_PROCESS_START 7\n",
      "Bad rate: 0.080267, HOUR_APPR_PROCESS_START 13\n",
      "Bad rate: 0.110407, HOUR_APPR_PROCESS_START 6\n",
      "Bad rate: 0.082581, HOUR_APPR_PROCESS_START 12\n",
      "Bad rate: 0.068607, HOUR_APPR_PROCESS_START 19\n",
      "Bad rate: 0.086992, HOUR_APPR_PROCESS_START 3\n",
      "Bad rate: 0.070173, HOUR_APPR_PROCESS_START 18\n",
      "Bad rate: 0.061728, HOUR_APPR_PROCESS_START 21\n",
      "Bad rate: 0.082775, HOUR_APPR_PROCESS_START 4\n",
      "Bad rate: 0.105827, HOUR_APPR_PROCESS_START 5\n",
      "Bad rate: 0.070234, HOUR_APPR_PROCESS_START 20\n",
      "Bad rate: 0.100000, HOUR_APPR_PROCESS_START 22\n",
      "Bad rate: 0.081395, HOUR_APPR_PROCESS_START 1\n",
      "Bad rate: 0.098361, HOUR_APPR_PROCESS_START 2\n",
      "Bad rate: 0.121951, HOUR_APPR_PROCESS_START 23\n",
      "Bad rate: 0.150000, HOUR_APPR_PROCESS_START 0\n"
     ]
    }
   ],
   "source": [
    "children_types = train_data['HOUR_APPR_PROCESS_START'].unique()\n",
    "for children_type in children_types:\n",
    "    children_data = train_data[train_data['HOUR_APPR_PROCESS_START']==children_type]\n",
    "    print 'Bad rate: %.6f, HOUR_APPR_PROCESS_START %s' % ((children_data['TARGET'].sum() / len(children_data)), children_type)"
   ]
  },
  {
   "cell_type": "code",
   "execution_count": 24,
   "metadata": {
    "collapsed": true
   },
   "outputs": [],
   "source": [
    "og_dict = {item:i for i, item in enumerate(sorted(train_data['ORGANIZATION_TYPE'].unique()))}"
   ]
  },
  {
   "cell_type": "code",
   "execution_count": 25,
   "metadata": {
    "collapsed": true
   },
   "outputs": [],
   "source": [
    "def og_redefinition(og_item):\n",
    "    global og_dict\n",
    "    if og_item in og_dict:\n",
    "        return og_dict[og_item]\n",
    "    else:\n",
    "        return 57\n",
    "train_data['ORGANIZATION_TYPE_NEW'] = train_data['ORGANIZATION_TYPE'].apply(og_redefinition)"
   ]
  },
  {
   "cell_type": "code",
   "execution_count": 13,
   "metadata": {},
   "outputs": [
    {
     "name": "stdout",
     "output_type": "stream",
     "text": [
      "Bad rate: 0.092996, ORGANIZATION_TYPE Business Entity Type 3\n",
      "Bad rate: 0.059148, ORGANIZATION_TYPE School\n",
      "Bad rate: 0.069781, ORGANIZATION_TYPE Government\n",
      "Bad rate: 0.058824, ORGANIZATION_TYPE Religion\n",
      "Bad rate: 0.076425, ORGANIZATION_TYPE Other\n",
      "Bad rate: 0.053996, ORGANIZATION_TYPE XNA\n",
      "Bad rate: 0.066316, ORGANIZATION_TYPE Electricity\n",
      "Bad rate: 0.065845, ORGANIZATION_TYPE Medicine\n",
      "Bad rate: 0.085284, ORGANIZATION_TYPE Business Entity Type 2\n",
      "Bad rate: 0.101739, ORGANIZATION_TYPE Self-employed\n",
      "Bad rate: 0.078040, ORGANIZATION_TYPE Transport: type 2\n",
      "Bad rate: 0.116798, ORGANIZATION_TYPE Construction\n",
      "Bad rate: 0.079446, ORGANIZATION_TYPE Housing\n",
      "Bad rate: 0.070349, ORGANIZATION_TYPE Kindergarten\n",
      "Bad rate: 0.094496, ORGANIZATION_TYPE Trade: type 7\n",
      "Bad rate: 0.086538, ORGANIZATION_TYPE Industry: type 11\n",
      "Bad rate: 0.051253, ORGANIZATION_TYPE Military\n",
      "Bad rate: 0.066032, ORGANIZATION_TYPE Services\n",
      "Bad rate: 0.048632, ORGANIZATION_TYPE Security Ministries\n",
      "Bad rate: 0.092812, ORGANIZATION_TYPE Transport: type 4\n",
      "Bad rate: 0.110683, ORGANIZATION_TYPE Industry: type 1\n",
      "Bad rate: 0.071429, ORGANIZATION_TYPE Emergency\n",
      "Bad rate: 0.099784, ORGANIZATION_TYPE Security\n",
      "Bad rate: 0.070000, ORGANIZATION_TYPE Trade: type 2\n",
      "Bad rate: 0.048983, ORGANIZATION_TYPE University\n",
      "Bad rate: 0.157540, ORGANIZATION_TYPE Transport: type 3\n",
      "Bad rate: 0.049979, ORGANIZATION_TYPE Police\n",
      "Bad rate: 0.081384, ORGANIZATION_TYPE Business Entity Type 1\n",
      "Bad rate: 0.084376, ORGANIZATION_TYPE Postal\n",
      "Bad rate: 0.101482, ORGANIZATION_TYPE Industry: type 4\n",
      "Bad rate: 0.104727, ORGANIZATION_TYPE Agriculture\n",
      "Bad rate: 0.117062, ORGANIZATION_TYPE Restaurant\n",
      "Bad rate: 0.055409, ORGANIZATION_TYPE Culture\n",
      "Bad rate: 0.064182, ORGANIZATION_TYPE Hotel\n",
      "Bad rate: 0.080337, ORGANIZATION_TYPE Industry: type 7\n",
      "Bad rate: 0.103379, ORGANIZATION_TYPE Trade: type 3\n",
      "Bad rate: 0.106162, ORGANIZATION_TYPE Industry: type 3\n",
      "Bad rate: 0.051855, ORGANIZATION_TYPE Bank\n",
      "Bad rate: 0.066805, ORGANIZATION_TYPE Industry: type 9\n",
      "Bad rate: 0.056951, ORGANIZATION_TYPE Insurance\n",
      "Bad rate: 0.045959, ORGANIZATION_TYPE Trade: type 6\n",
      "Bad rate: 0.072052, ORGANIZATION_TYPE Industry: type 2\n",
      "Bad rate: 0.044776, ORGANIZATION_TYPE Transport: type 1\n",
      "Bad rate: 0.037940, ORGANIZATION_TYPE Industry: type 12\n",
      "Bad rate: 0.091483, ORGANIZATION_TYPE Mobile\n",
      "Bad rate: 0.089080, ORGANIZATION_TYPE Trade: type 1\n",
      "Bad rate: 0.068447, ORGANIZATION_TYPE Industry: type 5\n",
      "Bad rate: 0.064220, ORGANIZATION_TYPE Industry: type 10\n",
      "Bad rate: 0.078689, ORGANIZATION_TYPE Legal Services\n",
      "Bad rate: 0.081585, ORGANIZATION_TYPE Advertising\n",
      "Bad rate: 0.061224, ORGANIZATION_TYPE Trade: type 5\n",
      "Bad rate: 0.111538, ORGANIZATION_TYPE Cleaning\n",
      "Bad rate: 0.134328, ORGANIZATION_TYPE Industry: type 13\n",
      "Bad rate: 0.031250, ORGANIZATION_TYPE Trade: type 4\n",
      "Bad rate: 0.076256, ORGANIZATION_TYPE Telecom\n",
      "Bad rate: 0.125000, ORGANIZATION_TYPE Industry: type 8\n",
      "Bad rate: 0.106061, ORGANIZATION_TYPE Realtor\n",
      "Bad rate: 0.071429, ORGANIZATION_TYPE Industry: type 6\n"
     ]
    }
   ],
   "source": [
    "children_types = train_data['ORGANIZATION_TYPE'].unique()\n",
    "for children_type in children_types:\n",
    "    children_data = train_data[train_data['ORGANIZATION_TYPE']==children_type]\n",
    "    print 'Bad rate: %.6f, ORGANIZATION_TYPE %s' % ((children_data['TARGET'].sum() / len(children_data)), children_type)"
   ]
  },
  {
   "cell_type": "code",
   "execution_count": 28,
   "metadata": {
    "collapsed": true
   },
   "outputs": [],
   "source": [
    "#train_data[train_data['EXT_SOURCE_2'].isnull()]\n",
    "source_mid = train_data['EXT_SOURCE_2'].quantile(0.5)\n",
    "train_data['EXT_SOURCE_2'] = train_data['EXT_SOURCE_2'].fillna(source_mid)"
   ]
  },
  {
   "cell_type": "code",
   "execution_count": 57,
   "metadata": {
    "collapsed": true
   },
   "outputs": [],
   "source": [
    "obs30_mid = train_data['OBS_30_CNT_SOCIAL_CIRCLE'].quantile(0.5)\n",
    "train_data['OBS_30_CNT_SOCIAL_CIRCLE'] = train_data['OBS_30_CNT_SOCIAL_CIRCLE'].fillna(obs30_mid)"
   ]
  },
  {
   "cell_type": "code",
   "execution_count": 62,
   "metadata": {
    "collapsed": true
   },
   "outputs": [],
   "source": [
    "phone_mid = train_data['DAYS_LAST_PHONE_CHANGE'].quantile(0.5)\n",
    "train_data['DAYS_LAST_PHONE_CHANGE'] = train_data['DAYS_LAST_PHONE_CHANGE'].fillna(phone_mid)"
   ]
  },
  {
   "cell_type": "code",
   "execution_count": 139,
   "metadata": {},
   "outputs": [
    {
     "data": {
      "text/plain": [
       "103"
      ]
     },
     "execution_count": 139,
     "metadata": {},
     "output_type": "execute_result"
    }
   ],
   "source": [
    "len(train_data[train_data['FLAG_DOCUMENT_21']==1])"
   ]
  },
  {
   "cell_type": "code",
   "execution_count": 114,
   "metadata": {},
   "outputs": [
    {
     "name": "stdout",
     "output_type": "stream",
     "text": [
      "Bad rate: 0.080710, FLAG_DOCUMENT_21 0\n",
      "Bad rate: 0.135922, FLAG_DOCUMENT_21 1\n"
     ]
    }
   ],
   "source": [
    "children_types = train_data['FLAG_DOCUMENT_21'].unique()\n",
    "for children_type in children_types:\n",
    "    children_data = train_data[train_data['FLAG_DOCUMENT_21']==children_type]\n",
    "    print 'Bad rate: %.6f, FLAG_DOCUMENT_21 %s' % ((children_data['TARGET'].sum() / len(children_data)), children_type)"
   ]
  },
  {
   "cell_type": "code",
   "execution_count": 133,
   "metadata": {
    "collapsed": true
   },
   "outputs": [],
   "source": [
    "train_data['AMT_REQ_CREDIT_BUREAU_HOUR'] = train_data['AMT_REQ_CREDIT_BUREAU_HOUR'].fillna(0)"
   ]
  },
  {
   "cell_type": "code",
   "execution_count": 131,
   "metadata": {},
   "outputs": [
    {
     "name": "stdout",
     "output_type": "stream",
     "text": [
      "Bad rate: 0.077173, AMT_REQ_CREDIT_BUREAU_HOUR 0.0\n",
      "Bad rate: 0.080128, AMT_REQ_CREDIT_BUREAU_HOUR 1.0\n",
      "Bad rate: 0.107143, AMT_REQ_CREDIT_BUREAU_HOUR 2.0\n",
      "Bad rate: 0.000000, AMT_REQ_CREDIT_BUREAU_HOUR 3.0\n",
      "Bad rate: 0.000000, AMT_REQ_CREDIT_BUREAU_HOUR 4.0\n"
     ]
    }
   ],
   "source": [
    "children_types = train_data['AMT_REQ_CREDIT_BUREAU_HOUR'].unique()\n",
    "for children_type in children_types:\n",
    "    children_data = train_data[train_data['AMT_REQ_CREDIT_BUREAU_HOUR']==children_type]\n",
    "    if len(children_data)==0:\n",
    "        continue\n",
    "    print 'Bad rate: %.6f, AMT_REQ_CREDIT_BUREAU_HOUR %s' % ((children_data['TARGET'].sum() / len(children_data)), children_type)"
   ]
  },
  {
   "cell_type": "code",
   "execution_count": 136,
   "metadata": {},
   "outputs": [
    {
     "data": {
      "text/plain": [
       "(-5, 25)"
      ]
     },
     "execution_count": 136,
     "metadata": {},
     "output_type": "execute_result"
    },
    {
     "data": {
      "image/png": "[encoded data removed]",
      "text/plain": [
       "<matplotlib.figure.Figure at 0x143f76a0>"
      ]
     },
     "metadata": {},
     "output_type": "display_data"
    }
   ],
   "source": [
    "sns.kdeplot(train_data[train_data['TARGET']==0]['AMT_REQ_CREDIT_BUREAU_YEAR'])\n",
    "plt.xlim(-5,25)"
   ]
  },
  {
   "cell_type": "code",
   "execution_count": 134,
   "metadata": {},
   "outputs": [
    {
     "data": {
      "text/plain": [
       "<matplotlib.axes._subplots.AxesSubplot at 0x1270ef98>"
      ]
     },
     "execution_count": 134,
     "metadata": {},
     "output_type": "execute_result"
    },
    {
     "data": {
      "image/png": "[encoded data removed]",
      "text/plain": [
       "<matplotlib.figure.Figure at 0x13220b00>"
      ]
     },
     "metadata": {},
     "output_type": "display_data"
    }
   ],
   "source": [
    "sns.kdeplot(train_data[train_data['TARGET']==1]['AMT_REQ_CREDIT_BUREAU_YEAR'])"
   ]
  },
  {
   "cell_type": "code",
   "execution_count": 43,
   "metadata": {
    "collapsed": true
   },
   "outputs": [],
   "source": [
    "features = ['NAME_CONTRACT_TYPE_NEW','CODE_GENDER_NEW','FLAG_OWN_REALTY_NEW','CNT_CHILDREN_NEW','AMT_INCOME_TOTAL',\n",
    "           'AMT_CREDIT','NAME_TYPE_SUITE_NEW','NAME_INCOME_TYPE_NEW','NAME_EDUCATION_TYPE_NEW','NAME_FAMILY_STATUS_NEW',\n",
    "           'NAME_HOUSING_TYPE_NEW','REGION_POPULATION_RELATIVE','DAYS_BIRTH','DAYS_EMPLOYED','DAYS_REGISTRATION',\n",
    "           'DAYS_ID_PUBLISH','OWN_CAR_AGE','FLAG_EMP_PHONE','FLAG_WORK_PHONE','FLAG_PHONE','OCCUPATION_TYPE_NEW',\n",
    "            'CNT_FAM_MEMBERS_NEW','REGION_RATING_CLIENT','REGION_RATING_CLIENT_W_CITY','HOUR_APPR_PROCESS_START',\n",
    "           'REG_REGION_NOT_LIVE_REGION','REG_CITY_NOT_LIVE_CITY','REG_CITY_NOT_WORK_CITY','LIVE_CITY_NOT_WORK_CITY',\n",
    "           'ORGANIZATION_TYPE_NEW','EXT_SOURCE_2','OBS_30_CNT_SOCIAL_CIRCLE','DAYS_LAST_PHONE_CHANGE','FLAG_DOCUMENT_2',\n",
    "           'FLAG_DOCUMENT_3','FLAG_DOCUMENT_6','FLAG_DOCUMENT_7','FLAG_DOCUMENT_9','FLAG_DOCUMENT_11','FLAG_DOCUMENT_13',\n",
    "           'FLAG_DOCUMENT_14','FLAG_DOCUMENT_15','FLAG_DOCUMENT_16','FLAG_DOCUMENT_17','FLAG_DOCUMENT_18','FLAG_DOCUMENT_21',\n",
    "           'AMT_REQ_CREDIT_BUREAU_HOUR','AMT_REQ_CREDIT_BUREAU_DAY','AMT_REQ_CREDIT_BUREAU_WEEK']"
   ]
  },
  {
   "cell_type": "code",
   "execution_count": 38,
   "metadata": {
    "collapsed": true
   },
   "outputs": [],
   "source": [
    "first_ctcols = ['CNT_CHILDREN','AMT_INCOME_TOTAL','AMT_CREDIT','AMT_ANNUITY','AMT_GOODS_PRICE',\n",
    "                'REGION_POPULATION_RELATIVE','DAYS_BIRTH','DAYS_EMPLOYED','DAYS_REGISTRATION','DAYS_ID_PUBLISH',\n",
    "                'CNT_FAM_MEMBERS','HOUR_APPR_PROCESS_START','EXT_SOURCE_2','OBS_30_CNT_SOCIAL_CIRCLE',\n",
    "                'DEF_30_CNT_SOCIAL_CIRCLE','OBS_60_CNT_SOCIAL_CIRCLE','DEF_60_CNT_SOCIAL_CIRCLE','DAYS_LAST_PHONE_CHANGE',\n",
    "                'AMT_REQ_CREDIT_BUREAU_HOUR','AMT_REQ_CREDIT_BUREAU_DAY','AMT_REQ_CREDIT_BUREAU_WEEK',\n",
    "                'AMT_REQ_CREDIT_BUREAU_MON','AMT_REQ_CREDIT_BUREAU_QRT']\n",
    "fillmid_cols = ['AMT_ANNUITY','AMT_GOODS_PRICE','CNT_FAM_MEMBERS','EXT_SOURCE_2',\n",
    "               'OBS_30_CNT_SOCIAL_CIRCLE','DEF_30_CNT_SOCIAL_CIRCLE','OBS_60_CNT_SOCIAL_CIRCLE','DEF_60_CNT_SOCIAL_CIRCLE',\n",
    "               'DAYS_LAST_PHONE_CHANGE','AMT_REQ_CREDIT_BUREAU_HOUR','AMT_REQ_CREDIT_BUREAU_DAY','AMT_REQ_CREDIT_BUREAU_WEEK',\n",
    "               'AMT_REQ_CREDIT_BUREAU_MON','AMT_REQ_CREDIT_BUREAU_QRT']\n",
    "def fill_withmid(origin_data, fillmid_cols):\n",
    "    for i in fillmid_cols:\n",
    "        mid_value = origin_data[i].quantile(.5)\n",
    "        origin_data[i].fillna(mid_value,inplace=True)\n",
    "    return"
   ]
  },
  {
   "cell_type": "code",
   "execution_count": 88,
   "metadata": {
    "collapsed": true
   },
   "outputs": [],
   "source": [
    "svc_data = train_data[first_ctcols].copy()\n",
    "svc_target = train_data['TARGET'].as_matrix()\n",
    "svc_target = np.array(list(map(lambda x:1 if x>0 else -1, svc_target)))\n",
    "fill_withmid(svc_data, fillmid_cols)\n",
    "svc_matrix = preprocessing.scale(svc_data)"
   ]
  },
  {
   "cell_type": "code",
   "execution_count": 144,
   "metadata": {
    "collapsed": true
   },
   "outputs": [],
   "source": [
    "lsvc = LinearSVC(penalty=\"l2\", dual=True).fit(svc_matrix, svc_target)\n",
    "#model = SelectFromModel(lsvc, prefit=True)\n",
    "#svc_new = model.transform(svc_matrix)\n",
    "#svc_new.shape"
   ]
  },
  {
   "cell_type": "code",
   "execution_count": 155,
   "metadata": {},
   "outputs": [
    {
     "data": {
      "text/plain": [
       "array([[ 0.02048633, -0.02811969,  0.44182685,  0.05727355, -0.50212435,\n",
       "        -0.00903545,  0.06365194, -0.02455176,  0.02200121,  0.03711006,\n",
       "        -0.02950827, -0.00616669, -0.21775068,  0.09794829,  0.03198087,\n",
       "        -0.09541422,  0.01109715,  0.0308493 ,  0.00434979,  0.0137986 ,\n",
       "        -0.00201565, -0.00648457, -0.00747209]])"
      ]
     },
     "execution_count": 155,
     "metadata": {},
     "output_type": "execute_result"
    }
   ],
   "source": [
    "lsvc.coef_"
   ]
  },
  {
   "cell_type": "code",
   "execution_count": 148,
   "metadata": {},
   "outputs": [
    {
     "data": {
      "text/plain": [
       "Index(['AMT_REQ_CREDIT_BUREAU_WEEK', 'AMT_REQ_CREDIT_BUREAU_HOUR',\n",
       "       'HOUR_APPR_PROCESS_START', 'AMT_REQ_CREDIT_BUREAU_MON',\n",
       "       'AMT_REQ_CREDIT_BUREAU_QRT', 'REGION_POPULATION_RELATIVE',\n",
       "       'DEF_60_CNT_SOCIAL_CIRCLE', 'AMT_REQ_CREDIT_BUREAU_DAY', 'CNT_CHILDREN',\n",
       "       'DAYS_REGISTRATION', 'DAYS_EMPLOYED', 'AMT_INCOME_TOTAL',\n",
       "       'CNT_FAM_MEMBERS', 'DAYS_LAST_PHONE_CHANGE', 'DEF_30_CNT_SOCIAL_CIRCLE',\n",
       "       'DAYS_ID_PUBLISH', 'AMT_ANNUITY', 'DAYS_BIRTH',\n",
       "       'OBS_60_CNT_SOCIAL_CIRCLE', 'OBS_30_CNT_SOCIAL_CIRCLE', 'EXT_SOURCE_2',\n",
       "       'AMT_CREDIT', 'AMT_GOODS_PRICE'],\n",
       "      dtype='object')"
      ]
     },
     "execution_count": 148,
     "metadata": {},
     "output_type": "execute_result"
    }
   ],
   "source": [
    "svc_data.columns[[20, 18, 11, 21, 22,  5, 16, 19,  0,  8,  7,  1, 10, 17, 14,  9,  3,\n",
    "         6, 15, 13, 12,  2,  4]]"
   ]
  },
  {
   "cell_type": "code",
   "execution_count": 158,
   "metadata": {},
   "outputs": [
    {
     "data": {
      "text/plain": [
       "array([-0.4494258 , -0.43551522, -0.42760629,  2.2644185 , -0.44843902,\n",
       "        2.2644185 , -0.42985967, -0.49631233, -0.42605249, -0.43468309,\n",
       "        2.2644185 ,  2.2644185 ,  2.2644185 ,  2.2644185 , -0.42846052,\n",
       "       -0.43330602, -0.43310719,  2.2644185 , -0.43680392,  2.2644185 ])"
      ]
     },
     "execution_count": 158,
     "metadata": {},
     "output_type": "execute_result"
    }
   ],
   "source": [
    "svc_matrix[0:20][:,7]"
   ]
  },
  {
   "cell_type": "code",
   "execution_count": 35,
   "metadata": {
    "collapsed": true
   },
   "outputs": [],
   "source": [
    "first_chi2cols = ['NAME_CONTRACT_TYPE','CODE_GENDER','FLAG_OWN_CAR','FLAG_OWN_REALTY','NAME_TYPE_SUITE','NAME_INCOME_TYPE'\n",
    "                 ,'NAME_EDUCATION_TYPE','NAME_FAMILY_STATUS','NAME_HOUSING_TYPE','OCCUPATION_TYPE','WEEKDAY_APPR_PROCESS_START'\n",
    "                 ,'ORGANIZATION_TYPE','FLAG_MOBIL','FLAG_EMP_PHONE','FLAG_WORK_PHONE','FLAG_CONT_MOBILE','FLAG_PHONE'\n",
    "                 ,'FLAG_EMAIL','REGION_RATING_CLIENT','REGION_RATING_CLIENT_W_CITY','REG_REGION_NOT_LIVE_REGION'\n",
    "                 ,'REG_REGION_NOT_WORK_REGION','LIVE_REGION_NOT_WORK_REGION','REG_CITY_NOT_LIVE_CITY'\n",
    "                 ,'REG_CITY_NOT_WORK_CITY','LIVE_CITY_NOT_WORK_CITY','FLAG_DOCUMENT_2','FLAG_DOCUMENT_3'\n",
    "                 ,'FLAG_DOCUMENT_4','FLAG_DOCUMENT_5','FLAG_DOCUMENT_6','FLAG_DOCUMENT_7'\n",
    "                 ,'FLAG_DOCUMENT_8','FLAG_DOCUMENT_9','FLAG_DOCUMENT_10','FLAG_DOCUMENT_11'\n",
    "                 ,'FLAG_DOCUMENT_12','FLAG_DOCUMENT_13','FLAG_DOCUMENT_14','FLAG_DOCUMENT_15'\n",
    "                 ,'FLAG_DOCUMENT_16','FLAG_DOCUMENT_17','FLAG_DOCUMENT_18','FLAG_DOCUMENT_19'\n",
    "                 ,'FLAG_DOCUMENT_20','FLAG_DOCUMENT_21']\n",
    "dummy_features = ['NAME_CONTRACT_TYPE','CODE_GENDER','FLAG_OWN_CAR','FLAG_OWN_REALTY','NAME_TYPE_SUITE',\n",
    "                  'NAME_INCOME_TYPE','NAME_EDUCATION_TYPE','NAME_FAMILY_STATUS','NAME_HOUSING_TYPE','OCCUPATION_TYPE',\n",
    "                 'WEEKDAY_APPR_PROCESS_START','ORGANIZATION_TYPE']\n",
    "def get_cat_dummy(origin_data, dummy_features):\n",
    "    return pd.get_dummies(origin_data, prefix=dummy_features, columns=dummy_features)\n",
    "def get_cat_features(origin_data, cat_features, dummy_features, k=15):\n",
    "    model_chi = SelectKBest(chi2, k=k)\n",
    "    chi_data = origin_data[cat_features]\n",
    "    chi_target = origin_data['TARGET']\n",
    "    chi_matrix = get_cat_dummy(chi_data, dummy_features)\n",
    "    model_chi.fit(chi_matrix, chi_target)\n",
    "    return chi_matrix.columns[model_chi.pvalues_.argsort()[0:k]]"
   ]
  },
  {
   "cell_type": "code",
   "execution_count": 67,
   "metadata": {},
   "outputs": [
    {
     "data": {
      "text/plain": [
       "Index(['NAME_EDUCATION_TYPE_Higher education', 'NAME_INCOME_TYPE_Pensioner',\n",
       "       'ORGANIZATION_TYPE_XNA', 'CODE_GENDER_M', 'REG_CITY_NOT_WORK_CITY',\n",
       "       'NAME_INCOME_TYPE_Working', 'REG_CITY_NOT_LIVE_CITY',\n",
       "       'OCCUPATION_TYPE_Laborers', 'CODE_GENDER_F',\n",
       "       'NAME_CONTRACT_TYPE_Revolving loans', 'LIVE_CITY_NOT_WORK_CITY',\n",
       "       'OCCUPATION_TYPE_Drivers', 'FLAG_DOCUMENT_6',\n",
       "       'NAME_EDUCATION_TYPE_Secondary / secondary special',\n",
       "       'NAME_HOUSING_TYPE_With parents', 'ORGANIZATION_TYPE_Self-employed',\n",
       "       'NAME_INCOME_TYPE_State servant', 'FLAG_WORK_PHONE',\n",
       "       'NAME_FAMILY_STATUS_Single / not married',\n",
       "       'OCCUPATION_TYPE_Low-skill Laborers', 'OCCUPATION_TYPE_Accountants',\n",
       "       'FLAG_DOCUMENT_3', 'REGION_RATING_CLIENT_W_CITY',\n",
       "       'ORGANIZATION_TYPE_Business Entity Type 3', 'REGION_RATING_CLIENT',\n",
       "       'FLAG_PHONE', 'NAME_FAMILY_STATUS_Civil marriage',\n",
       "       'ORGANIZATION_TYPE_Construction', 'FLAG_EMP_PHONE',\n",
       "       'NAME_FAMILY_STATUS_Widow'],\n",
       "      dtype='object')"
      ]
     },
     "execution_count": 67,
     "metadata": {},
     "output_type": "execute_result"
    }
   ],
   "source": [
    "get_cat_features(train_data, first_chi2cols, dummy_features, k=30)"
   ]
  },
  {
   "cell_type": "markdown",
   "metadata": {
    "collapsed": true
   },
   "source": [
    "# 空值处理、分类变量重定义"
   ]
  },
  {
   "cell_type": "code",
   "execution_count": 44,
   "metadata": {
    "collapsed": true
   },
   "outputs": [],
   "source": [
    "cnt_mid = train_data['CNT_FAM_MEMBERS'].quantile(0.5)\n",
    "train_data['CNT_FAM_MEMBERS'] = train_data['CNT_FAM_MEMBERS'].fillna(cnt_mid)\n",
    "source_mid = train_data['EXT_SOURCE_2'].quantile(0.5)\n",
    "train_data['EXT_SOURCE_2'] = train_data['EXT_SOURCE_2'].fillna(source_mid)\n",
    "obs30_mid = train_data['OBS_30_CNT_SOCIAL_CIRCLE'].quantile(0.5)\n",
    "train_data['OBS_30_CNT_SOCIAL_CIRCLE'] = train_data['OBS_30_CNT_SOCIAL_CIRCLE'].fillna(obs30_mid)\n",
    "phone_mid = train_data['DAYS_LAST_PHONE_CHANGE'].quantile(0.5)\n",
    "train_data['DAYS_LAST_PHONE_CHANGE'] = train_data['DAYS_LAST_PHONE_CHANGE'].fillna(phone_mid)\n",
    "train_data['AMT_REQ_CREDIT_BUREAU_HOUR'] = train_data['AMT_REQ_CREDIT_BUREAU_HOUR'].fillna(0)\n",
    "train_data['AMT_REQ_CREDIT_BUREAU_DAY'] = train_data['AMT_REQ_CREDIT_BUREAU_DAY'].fillna(0)\n",
    "train_data['AMT_REQ_CREDIT_BUREAU_WEEK'] = train_data['AMT_REQ_CREDIT_BUREAU_WEEK'].fillna(0)\n",
    "train_data['NAME_TYPE_SUITE'] = train_data['NAME_TYPE_SUITE'].fillna('Nodata')\n",
    "train_data['OCCUPATION_TYPE'] = train_data['OCCUPATION_TYPE'].fillna('Nodata')\n",
    "train_data['OWN_CAR_AGE'] = train_data['OWN_CAR_AGE'].fillna(-100)\n",
    "og_dict = {item:i for i, item in enumerate(sorted(train_data['ORGANIZATION_TYPE'].unique()))}"
   ]
  },
  {
   "cell_type": "code",
   "execution_count": 45,
   "metadata": {
    "collapsed": true
   },
   "outputs": [],
   "source": [
    "def contract_redefinition(contract_item):\n",
    "    if contract_item=='Cash loans':\n",
    "        return 0\n",
    "    else:\n",
    "        return 1\n",
    "train_data['NAME_CONTRACT_TYPE_NEW'] = train_data['NAME_CONTRACT_TYPE'].apply(contract_redefinition)\n",
    "def gender_redefinition(gender_item):\n",
    "    if gender_item=='M':\n",
    "        return 0\n",
    "    elif gender_item=='F':\n",
    "        return 1\n",
    "    else:\n",
    "        return 2\n",
    "train_data['CODE_GENDER_NEW'] = train_data['CODE_GENDER'].apply(gender_redefinition)\n",
    "def rea_redefinition(rea_item):\n",
    "    if rea_item=='N':\n",
    "        return 0\n",
    "    else:\n",
    "        return 1\n",
    "train_data['FLAG_OWN_REALTY_NEW'] = train_data['FLAG_OWN_REALTY'].apply(rea_redefinition)\n",
    "def children_redefinition(child_item):\n",
    "    if int(child_item)==0:\n",
    "        return 0\n",
    "    elif int(child_item)<=3:\n",
    "        return 1\n",
    "    elif int(child_item)<=5:\n",
    "        return 2\n",
    "    else:\n",
    "        return 3\n",
    "train_data['CNT_CHILDREN_NEW'] = train_data['CNT_CHILDREN'].apply(children_redefinition)\n",
    "def acm_redefinition(acm_item):\n",
    "    acm_dict = {\n",
    "        'Unaccompanied': 1,\n",
    "        'Family': 2,\n",
    "        'Spouse, partner': 3,\n",
    "        'Children': 4,\n",
    "        'Other_A': 5,\n",
    "        'Nodata': 6,\n",
    "        'Other_B': 7,\n",
    "        'Group of people': 8\n",
    "    }\n",
    "    if acm_item in acm_dict:\n",
    "        return acm_dict[acm_item]\n",
    "    else:\n",
    "        return 6\n",
    "train_data['NAME_TYPE_SUITE_NEW'] = train_data['NAME_TYPE_SUITE'].apply(acm_redefinition)\n",
    "def intype_redefinition(in_item):\n",
    "    in_dict = {\n",
    "        'Working': 1,\n",
    "        'State servant': 2,\n",
    "        'Commercial associate': 3,\n",
    "        'Pensioner': 4,\n",
    "        'Unemployed': 5,\n",
    "        'Student': 6,\n",
    "        'Businessman': 7,\n",
    "        'Maternity leave': 8\n",
    "    }\n",
    "    if in_item in in_dict:\n",
    "        return in_dict[in_item]\n",
    "    else:\n",
    "        return 1\n",
    "train_data['NAME_INCOME_TYPE_NEW'] = train_data['NAME_INCOME_TYPE'].apply(intype_redefinition)\n",
    "def edu_redefinition(edu_item):\n",
    "    edu_dict = {\n",
    "        'Secondary / secondary special': 1,\n",
    "        'Higher education': 2,\n",
    "        'Incomplete higher': 3,\n",
    "        'Lower secondary': 4,\n",
    "        'Academic degree': 5\n",
    "    }\n",
    "    if edu_item in edu_dict:\n",
    "        return edu_dict[edu_item]\n",
    "    else:\n",
    "        return 1\n",
    "train_data['NAME_EDUCATION_TYPE_NEW'] = train_data['NAME_EDUCATION_TYPE'].apply(edu_redefinition)\n",
    "def fms_redefinition(fms_item):\n",
    "    fms_dict = {\n",
    "        'Single / not married': 1,\n",
    "        'Married': 2,\n",
    "        'Civil marriage': 3,\n",
    "        'Widow': 4,\n",
    "        'Separated': 5,\n",
    "        'Unknown': 6\n",
    "    }\n",
    "    if fms_item in fms_dict:\n",
    "        return fms_dict[fms_item]\n",
    "    else:\n",
    "        return 1\n",
    "train_data['NAME_FAMILY_STATUS_NEW'] = train_data['NAME_FAMILY_STATUS'].apply(fms_redefinition)\n",
    "def house_redefinition(house_item):\n",
    "    house_dict = {\n",
    "        'House / apartment': 1,\n",
    "        'Rented apartment': 2,\n",
    "        'With parents': 3,\n",
    "        'Municipal apartment': 4,\n",
    "        'Office apartment': 5,\n",
    "        'Co-op apartment': 6\n",
    "    }\n",
    "    if house_item in house_dict:\n",
    "        return house_dict[house_item]\n",
    "    else:\n",
    "        return 1\n",
    "train_data['NAME_HOUSING_TYPE_NEW'] = train_data['NAME_HOUSING_TYPE'].apply(house_redefinition)\n",
    "def ocp_redefinition(ocp_item):\n",
    "    ocp_dict = {\n",
    "        'Laborers': 1,\n",
    "        'Core staff': 2,\n",
    "        'Accountants': 3,\n",
    "        'Managers': 4,\n",
    "        'Nodata': 5,\n",
    "        'Drivers': 6,\n",
    "        'Sales staff': 7,\n",
    "        'Cleaning staff': 8,\n",
    "        'Cooking staff': 9,\n",
    "        'Private service staff': 10,\n",
    "        'Medicine staff': 11,\n",
    "        'Security staff': 12,\n",
    "        'High skill tech staff': 13,\n",
    "        'Waiters/barmen staff': 14,\n",
    "        'Low-skill Laborers': 15,\n",
    "        'Realty agents': 16,\n",
    "        'Secretaries': 17,\n",
    "        'IT staff': 18,\n",
    "        'HR staff': 19,\n",
    "    }\n",
    "    if ocp_item in ocp_dict:\n",
    "        return ocp_dict[ocp_item]\n",
    "    else:\n",
    "        return 5\n",
    "train_data['OCCUPATION_TYPE_NEW'] = train_data['OCCUPATION_TYPE'].apply(ocp_redefinition)\n",
    "def mem_redefinition(mem_item):\n",
    "    if int(mem_item)==2:\n",
    "        return 2\n",
    "    else:\n",
    "        return 1\n",
    "train_data['CNT_FAM_MEMBERS_NEW'] = train_data['CNT_FAM_MEMBERS'].apply(mem_redefinition)\n",
    "def og_redefinition(og_item):\n",
    "    global og_dict\n",
    "    if og_item in og_dict:\n",
    "        return og_dict[og_item]\n",
    "    else:\n",
    "        return 57\n",
    "train_data['ORGANIZATION_TYPE_NEW'] = train_data['ORGANIZATION_TYPE'].apply(og_redefinition)"
   ]
  },
  {
   "cell_type": "code",
   "execution_count": 46,
   "metadata": {
    "collapsed": true
   },
   "outputs": [],
   "source": [
    "train_data = train_data[features+['TARGET']]"
   ]
  },
  {
   "cell_type": "markdown",
   "metadata": {},
   "source": [
    "# 数据不平衡，重采样"
   ]
  },
  {
   "cell_type": "code",
   "execution_count": 61,
   "metadata": {},
   "outputs": [
    {
     "name": "stdout",
     "output_type": "stream",
     "text": [
      "24825 282686\n"
     ]
    }
   ],
   "source": [
    "print (train_data['TARGET'].sum(), len(train_data)-train_data['TARGET'].sum())"
   ]
  },
  {
   "cell_type": "code",
   "execution_count": 62,
   "metadata": {
    "collapsed": true
   },
   "outputs": [],
   "source": [
    "np.random.seed(1)\n",
    "safe_data = train_data[train_data['TARGET']==0]\n",
    "bad_data = train_data[train_data['TARGET']==1]\n",
    "safe_part_index = np.random.randint(low=0, high=len(safe_data),size=94228)\n",
    "safe_data.reset_index(drop=True,inplace=True)\n",
    "safe_data = safe_data.loc[safe_part_index]\n",
    "bad_data = pd.concat([bad_data,bad_data])"
   ]
  },
  {
   "cell_type": "code",
   "execution_count": 63,
   "metadata": {},
   "outputs": [
    {
     "name": "stdout",
     "output_type": "stream",
     "text": [
      "94228 49650\n"
     ]
    }
   ],
   "source": [
    "print (len(safe_data),len(bad_data))"
   ]
  },
  {
   "cell_type": "code",
   "execution_count": 64,
   "metadata": {
    "collapsed": true
   },
   "outputs": [],
   "source": [
    "train_data = pd.concat([safe_data,bad_data])"
   ]
  },
  {
   "cell_type": "markdown",
   "metadata": {},
   "source": [
    "# 模型参数选择"
   ]
  },
  {
   "cell_type": "code",
   "execution_count": 11,
   "metadata": {
    "collapsed": true
   },
   "outputs": [],
   "source": [
    "import sklearn\n",
    "from sklearn.cross_validation import train_test_split"
   ]
  },
  {
   "cell_type": "code",
   "execution_count": 47,
   "metadata": {
    "collapsed": true
   },
   "outputs": [],
   "source": [
    "total_x = train_data[features].as_matrix()\n",
    "total_y = train_data['TARGET'].as_matrix()"
   ]
  },
  {
   "cell_type": "code",
   "execution_count": 48,
   "metadata": {
    "collapsed": true
   },
   "outputs": [],
   "source": [
    "X_train, X_test, y_train, y_test = train_test_split(total_x, total_y, test_size=0.2, random_state=1)"
   ]
  },
  {
   "cell_type": "code",
   "execution_count": 14,
   "metadata": {
    "collapsed": true
   },
   "outputs": [],
   "source": [
    "from sklearn.tree import DecisionTreeClassifier\n",
    "from sklearn.grid_search import GridSearchCV\n",
    "model_1 = DecisionTreeClassifier()\n",
    "tuned_parameters = [{'max_depth': [5,10,20,50,100], \n",
    "                     'min_samples_split': [2,7,10,50,100,300],\n",
    "                     'random_state': [1]\n",
    "                     }]\n",
    "clf = GridSearchCV(model_1, tuned_parameters, cv=5,\n",
    "                       scoring='roc_auc')"
   ]
  },
  {
   "cell_type": "code",
   "execution_count": 17,
   "metadata": {},
   "outputs": [
    {
     "data": {
      "text/plain": [
       "GridSearchCV(cv=5, error_score='raise',\n",
       "       estimator=DecisionTreeClassifier(class_weight=None, criterion='gini', max_depth=None,\n",
       "            max_features=None, max_leaf_nodes=None, min_samples_leaf=1,\n",
       "            min_samples_split=2, min_weight_fraction_leaf=0.0,\n",
       "            presort=False, random_state=None, splitter='best'),\n",
       "       fit_params={}, iid=True, n_jobs=1,\n",
       "       param_grid=[{'min_samples_split': [2, 7, 10, 50, 100, 300], 'random_state': [1], 'max_depth': [5, 10, 20, 50, 100]}],\n",
       "       pre_dispatch='2*n_jobs', refit=True, scoring='roc_auc', verbose=0)"
      ]
     },
     "execution_count": 17,
     "metadata": {},
     "output_type": "execute_result"
    }
   ],
   "source": [
    "clf.fit(X_train, y_train)"
   ]
  },
  {
   "cell_type": "code",
   "execution_count": 20,
   "metadata": {},
   "outputs": [
    {
     "data": {
      "text/plain": [
       "{'max_depth': 50, 'min_samples_split': 2, 'random_state': 1}"
      ]
     },
     "execution_count": 20,
     "metadata": {},
     "output_type": "execute_result"
    }
   ],
   "source": [
    "clf.best_params_"
   ]
  },
  {
   "cell_type": "code",
   "execution_count": 21,
   "metadata": {},
   "outputs": [
    {
     "data": {
      "text/plain": [
       "DecisionTreeClassifier(class_weight=None, criterion='gini', max_depth=50,\n",
       "            max_features=None, max_leaf_nodes=None, min_samples_leaf=1,\n",
       "            min_samples_split=2, min_weight_fraction_leaf=0.0,\n",
       "            presort=False, random_state=1, splitter='best')"
      ]
     },
     "execution_count": 21,
     "metadata": {},
     "output_type": "execute_result"
    }
   ],
   "source": [
    "model_2 = DecisionTreeClassifier(max_depth=50,min_samples_split=2,random_state=1)\n",
    "model_2.fit(X_train, y_train)"
   ]
  },
  {
   "cell_type": "code",
   "execution_count": 57,
   "metadata": {
    "collapsed": true
   },
   "outputs": [],
   "source": [
    "y_pred = model_2.predict(X_test)"
   ]
  },
  {
   "cell_type": "code",
   "execution_count": 53,
   "metadata": {
    "collapsed": true
   },
   "outputs": [],
   "source": [
    "y_pred = model_2.predict_proba(X_test)"
   ]
  },
  {
   "cell_type": "code",
   "execution_count": 23,
   "metadata": {
    "collapsed": true
   },
   "outputs": [],
   "source": [
    "from sklearn.metrics import accuracy_score\n",
    "from sklearn.metrics import precision_score\n",
    "from sklearn.metrics import recall_score\n",
    "from sklearn.metrics import roc_auc_score"
   ]
  },
  {
   "cell_type": "code",
   "execution_count": 62,
   "metadata": {},
   "outputs": [
    {
     "data": {
      "text/plain": [
       "0.89472312978573698"
      ]
     },
     "execution_count": 62,
     "metadata": {},
     "output_type": "execute_result"
    }
   ],
   "source": [
    "roc_auc_score(y_test,y_pred)"
   ]
  },
  {
   "cell_type": "code",
   "execution_count": 49,
   "metadata": {},
   "outputs": [
    {
     "name": "stdout",
     "output_type": "stream",
     "text": [
      "4970 61503\n"
     ]
    }
   ],
   "source": [
    "print y_test.sum(), len(y_test)"
   ]
  },
  {
   "cell_type": "code",
   "execution_count": 38,
   "metadata": {},
   "outputs": [
    {
     "data": {
      "text/plain": [
       "0.67399977817142742"
      ]
     },
     "execution_count": 38,
     "metadata": {},
     "output_type": "execute_result"
    }
   ],
   "source": [
    "clf.best_score_"
   ]
  },
  {
   "cell_type": "code",
   "execution_count": 41,
   "metadata": {
    "collapsed": true
   },
   "outputs": [],
   "source": [
    "from sklearn.tree import DecisionTreeClassifier\n",
    "from sklearn.grid_search import GridSearchCV\n",
    "model_1 = DecisionTreeClassifier()\n",
    "tuned_parameters2 = [{'max_depth': [5,8,15,20], \n",
    "                     'min_samples_split': [2,7,10,15,70,300]\n",
    "                     }]\n",
    "clf2 = GridSearchCV(model_1, tuned_parameters2, cv=10,\n",
    "                       scoring='roc_auc')"
   ]
  },
  {
   "cell_type": "code",
   "execution_count": 42,
   "metadata": {},
   "outputs": [
    {
     "data": {
      "text/plain": [
       "GridSearchCV(cv=10, error_score='raise',\n",
       "       estimator=DecisionTreeClassifier(class_weight=None, criterion='gini', max_depth=None,\n",
       "            max_features=None, max_leaf_nodes=None, min_samples_leaf=1,\n",
       "            min_samples_split=2, min_weight_fraction_leaf=0.0,\n",
       "            presort=False, random_state=None, splitter='best'),\n",
       "       fit_params={}, iid=True, n_jobs=1,\n",
       "       param_grid=[{'min_samples_split': [2, 7, 10, 15, 70, 300], 'max_depth': [5, 8, 15, 20]}],\n",
       "       pre_dispatch='2*n_jobs', refit=True, scoring='roc_auc', verbose=0)"
      ]
     },
     "execution_count": 42,
     "metadata": {},
     "output_type": "execute_result"
    }
   ],
   "source": [
    "clf2.fit(X_train, y_train)"
   ]
  },
  {
   "cell_type": "code",
   "execution_count": 44,
   "metadata": {},
   "outputs": [
    {
     "data": {
      "text/plain": [
       "{'max_depth': 8, 'min_samples_split': 300}"
      ]
     },
     "execution_count": 44,
     "metadata": {},
     "output_type": "execute_result"
    }
   ],
   "source": [
    "clf2.best_params_"
   ]
  },
  {
   "cell_type": "code",
   "execution_count": null,
   "metadata": {
    "collapsed": true
   },
   "outputs": [],
   "source": []
  }
 ],
 "metadata": {
  "kernelspec": {
   "display_name": "Python 3",
   "language": "python",
   "name": "python3"
  },
  "language_info": {
   "codemirror_mode": {
    "name": "ipython",
    "version": 3
   },
   "file_extension": ".py",
   "mimetype": "text/x-python",
   "name": "python",
   "nbconvert_exporter": "python",
   "pygments_lexer": "ipython3",
   "version": "3.6.2"
  }
 },
 "nbformat": 4,
 "nbformat_minor": 1
}
